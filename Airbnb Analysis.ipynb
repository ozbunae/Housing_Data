{
 "cells": [
  {
   "cell_type": "markdown",
   "metadata": {},
   "source": [
    "# Airbnb Data for Analysis"
   ]
  },
  {
   "cell_type": "code",
   "execution_count": 1,
   "metadata": {
    "ExecuteTime": {
     "end_time": "2021-05-02T12:39:12.584344Z",
     "start_time": "2021-05-02T12:39:11.913867Z"
    }
   },
   "outputs": [],
   "source": [
    "import pandas as pd\n",
    "import numpy as np\n",
    "import pylab\n",
    "import math\n",
    "import os"
   ]
  },
  {
   "cell_type": "code",
   "execution_count": 2,
   "metadata": {
    "ExecuteTime": {
     "end_time": "2021-05-02T12:39:13.153643Z",
     "start_time": "2021-05-02T12:39:12.585347Z"
    }
   },
   "outputs": [],
   "source": [
    "import matplotlib.pyplot as plt\n",
    "import seaborn as sns"
   ]
  },
  {
   "cell_type": "code",
   "execution_count": 3,
   "metadata": {
    "ExecuteTime": {
     "end_time": "2021-05-02T12:39:13.168846Z",
     "start_time": "2021-05-02T12:39:13.153643Z"
    }
   },
   "outputs": [],
   "source": [
    "from scipy import stats"
   ]
  },
  {
   "cell_type": "code",
   "execution_count": 4,
   "metadata": {
    "ExecuteTime": {
     "end_time": "2021-05-02T12:39:13.660885Z",
     "start_time": "2021-05-02T12:39:13.169847Z"
    }
   },
   "outputs": [],
   "source": [
    "import statsmodels.api as sm\n",
    "from statsmodels.formula.api import ols\n",
    "from statsmodels.stats import diagnostic as diag\n",
    "from statsmodels.stats.outliers_influence import variance_inflation_factor"
   ]
  },
  {
   "cell_type": "code",
   "execution_count": 5,
   "metadata": {
    "ExecuteTime": {
     "end_time": "2021-05-02T12:39:14.128938Z",
     "start_time": "2021-05-02T12:39:13.660885Z"
    }
   },
   "outputs": [],
   "source": [
    "from sklearn.model_selection import train_test_split\n",
    "from sklearn.linear_model import LinearRegression\n",
    "from sklearn.metrics import mean_squared_error, r2_score, mean_absolute_error\n",
    "from sklearn.model_selection import train_test_split\n",
    "%matplotlib inline"
   ]
  },
  {
   "cell_type": "markdown",
   "metadata": {},
   "source": [
    "## The Data\n",
    "This data set was pulled from kaggle.  It is titled the 'Seattle Airbnb' on kaggle.  It happend to be the same zip codes as the KC county data set.  "
   ]
  },
  {
   "cell_type": "code",
   "execution_count": 6,
   "metadata": {
    "ExecuteTime": {
     "end_time": "2021-05-02T12:39:14.149859Z",
     "start_time": "2021-05-02T12:39:14.128938Z"
    }
   },
   "outputs": [],
   "source": [
    "df1 = pd.read_csv('data/listings.csv')"
   ]
  },
  {
   "cell_type": "code",
   "execution_count": 7,
   "metadata": {
    "ExecuteTime": {
     "end_time": "2021-05-02T12:39:14.165970Z",
     "start_time": "2021-05-02T12:39:14.149859Z"
    }
   },
   "outputs": [
    {
     "data": {
      "text/plain": [
       "(3818, 20)"
      ]
     },
     "execution_count": 7,
     "metadata": {},
     "output_type": "execute_result"
    }
   ],
   "source": [
    "df1.shape"
   ]
  },
  {
   "cell_type": "markdown",
   "metadata": {},
   "source": [
    "### Data Cleaning\n",
    "Standard getting rid of null values.   The unique part about cleaning this data set is that it originally came with over 150 columns off of the kaggle website.  Most of those columns were also useless for traditional data analysis with paragraph long entries such as reviews.  I chopped off most of the excess columns when I saved it to an excel file on the local drive.  "
   ]
  },
  {
   "cell_type": "code",
   "execution_count": 8,
   "metadata": {
    "ExecuteTime": {
     "end_time": "2021-05-02T12:39:14.186038Z",
     "start_time": "2021-05-02T12:39:14.167971Z"
    }
   },
   "outputs": [],
   "source": [
    "df1.dropna(inplace = True)"
   ]
  },
  {
   "cell_type": "code",
   "execution_count": 9,
   "metadata": {
    "ExecuteTime": {
     "end_time": "2021-05-02T12:39:14.213988Z",
     "start_time": "2021-05-02T12:39:14.187040Z"
    }
   },
   "outputs": [
    {
     "data": {
      "text/html": [
       "<div>\n",
       "<style scoped>\n",
       "    .dataframe tbody tr th:only-of-type {\n",
       "        vertical-align: middle;\n",
       "    }\n",
       "\n",
       "    .dataframe tbody tr th {\n",
       "        vertical-align: top;\n",
       "    }\n",
       "\n",
       "    .dataframe thead th {\n",
       "        text-align: right;\n",
       "    }\n",
       "</style>\n",
       "<table border=\"1\" class=\"dataframe\">\n",
       "  <thead>\n",
       "    <tr style=\"text-align: right;\">\n",
       "      <th></th>\n",
       "      <th>id</th>\n",
       "      <th>host_is_superhost</th>\n",
       "      <th>zipcode</th>\n",
       "      <th>property_type</th>\n",
       "      <th>room_type</th>\n",
       "      <th>accommodates</th>\n",
       "      <th>bathrooms</th>\n",
       "      <th>bedrooms</th>\n",
       "      <th>beds</th>\n",
       "      <th>weekly_price</th>\n",
       "      <th>monthly_price</th>\n",
       "      <th>cleaning_fee</th>\n",
       "      <th>guests_included</th>\n",
       "      <th>review_scores_rating</th>\n",
       "      <th>review_scores_accuracy</th>\n",
       "      <th>review_scores_cleanliness</th>\n",
       "      <th>review_scores_checkin</th>\n",
       "      <th>review_scores_communication</th>\n",
       "      <th>review_scores_location</th>\n",
       "      <th>review_scores_value</th>\n",
       "    </tr>\n",
       "  </thead>\n",
       "  <tbody>\n",
       "    <tr>\n",
       "      <th>1</th>\n",
       "      <td>953595</td>\n",
       "      <td>t</td>\n",
       "      <td>98119</td>\n",
       "      <td>Apartment</td>\n",
       "      <td>Entire home/apt</td>\n",
       "      <td>4</td>\n",
       "      <td>1.0</td>\n",
       "      <td>1.0</td>\n",
       "      <td>1.0</td>\n",
       "      <td>$1,000.00</td>\n",
       "      <td>$3,000.00</td>\n",
       "      <td>$40.00</td>\n",
       "      <td>1</td>\n",
       "      <td>96.0</td>\n",
       "      <td>10.0</td>\n",
       "      <td>10.0</td>\n",
       "      <td>10.0</td>\n",
       "      <td>10.0</td>\n",
       "      <td>10.0</td>\n",
       "      <td>10.0</td>\n",
       "    </tr>\n",
       "    <tr>\n",
       "      <th>9</th>\n",
       "      <td>2493658</td>\n",
       "      <td>t</td>\n",
       "      <td>98119</td>\n",
       "      <td>Apartment</td>\n",
       "      <td>Entire home/apt</td>\n",
       "      <td>4</td>\n",
       "      <td>1.0</td>\n",
       "      <td>1.0</td>\n",
       "      <td>1.0</td>\n",
       "      <td>$1,000.00</td>\n",
       "      <td>$3,000.00</td>\n",
       "      <td>$40.00</td>\n",
       "      <td>1</td>\n",
       "      <td>97.0</td>\n",
       "      <td>10.0</td>\n",
       "      <td>10.0</td>\n",
       "      <td>10.0</td>\n",
       "      <td>10.0</td>\n",
       "      <td>10.0</td>\n",
       "      <td>9.0</td>\n",
       "    </tr>\n",
       "    <tr>\n",
       "      <th>11</th>\n",
       "      <td>4454295</td>\n",
       "      <td>f</td>\n",
       "      <td>98119</td>\n",
       "      <td>House</td>\n",
       "      <td>Entire home/apt</td>\n",
       "      <td>2</td>\n",
       "      <td>1.0</td>\n",
       "      <td>1.0</td>\n",
       "      <td>1.0</td>\n",
       "      <td>$800.00</td>\n",
       "      <td>$2,000.00</td>\n",
       "      <td>$150.00</td>\n",
       "      <td>1</td>\n",
       "      <td>97.0</td>\n",
       "      <td>10.0</td>\n",
       "      <td>10.0</td>\n",
       "      <td>9.0</td>\n",
       "      <td>10.0</td>\n",
       "      <td>10.0</td>\n",
       "      <td>9.0</td>\n",
       "    </tr>\n",
       "    <tr>\n",
       "      <th>12</th>\n",
       "      <td>3883392</td>\n",
       "      <td>t</td>\n",
       "      <td>98119</td>\n",
       "      <td>Apartment</td>\n",
       "      <td>Entire home/apt</td>\n",
       "      <td>4</td>\n",
       "      <td>1.0</td>\n",
       "      <td>2.0</td>\n",
       "      <td>3.0</td>\n",
       "      <td>$1,575.00</td>\n",
       "      <td>$5,800.00</td>\n",
       "      <td>$95.00</td>\n",
       "      <td>1</td>\n",
       "      <td>98.0</td>\n",
       "      <td>10.0</td>\n",
       "      <td>10.0</td>\n",
       "      <td>10.0</td>\n",
       "      <td>10.0</td>\n",
       "      <td>10.0</td>\n",
       "      <td>10.0</td>\n",
       "    </tr>\n",
       "    <tr>\n",
       "      <th>21</th>\n",
       "      <td>4125779</td>\n",
       "      <td>f</td>\n",
       "      <td>98119</td>\n",
       "      <td>House</td>\n",
       "      <td>Private room</td>\n",
       "      <td>3</td>\n",
       "      <td>1.5</td>\n",
       "      <td>1.0</td>\n",
       "      <td>2.0</td>\n",
       "      <td>$568.00</td>\n",
       "      <td>$2,029.00</td>\n",
       "      <td>$15.00</td>\n",
       "      <td>1</td>\n",
       "      <td>84.0</td>\n",
       "      <td>9.0</td>\n",
       "      <td>9.0</td>\n",
       "      <td>9.0</td>\n",
       "      <td>9.0</td>\n",
       "      <td>10.0</td>\n",
       "      <td>8.0</td>\n",
       "    </tr>\n",
       "  </tbody>\n",
       "</table>\n",
       "</div>"
      ],
      "text/plain": [
       "         id host_is_superhost zipcode property_type        room_type  \\\n",
       "1    953595                 t   98119     Apartment  Entire home/apt   \n",
       "9   2493658                 t   98119     Apartment  Entire home/apt   \n",
       "11  4454295                 f   98119         House  Entire home/apt   \n",
       "12  3883392                 t   98119     Apartment  Entire home/apt   \n",
       "21  4125779                 f   98119         House     Private room   \n",
       "\n",
       "    accommodates  bathrooms  bedrooms  beds weekly_price monthly_price  \\\n",
       "1              4        1.0       1.0   1.0   $1,000.00     $3,000.00    \n",
       "9              4        1.0       1.0   1.0   $1,000.00     $3,000.00    \n",
       "11             2        1.0       1.0   1.0     $800.00     $2,000.00    \n",
       "12             4        1.0       2.0   3.0   $1,575.00     $5,800.00    \n",
       "21             3        1.5       1.0   2.0     $568.00     $2,029.00    \n",
       "\n",
       "   cleaning_fee  guests_included  review_scores_rating  \\\n",
       "1       $40.00                 1                  96.0   \n",
       "9       $40.00                 1                  97.0   \n",
       "11     $150.00                 1                  97.0   \n",
       "12      $95.00                 1                  98.0   \n",
       "21      $15.00                 1                  84.0   \n",
       "\n",
       "    review_scores_accuracy  review_scores_cleanliness  review_scores_checkin  \\\n",
       "1                     10.0                       10.0                   10.0   \n",
       "9                     10.0                       10.0                   10.0   \n",
       "11                    10.0                       10.0                    9.0   \n",
       "12                    10.0                       10.0                   10.0   \n",
       "21                     9.0                        9.0                    9.0   \n",
       "\n",
       "    review_scores_communication  review_scores_location  review_scores_value  \n",
       "1                          10.0                    10.0                 10.0  \n",
       "9                          10.0                    10.0                  9.0  \n",
       "11                         10.0                    10.0                  9.0  \n",
       "12                         10.0                    10.0                 10.0  \n",
       "21                          9.0                    10.0                  8.0  "
      ]
     },
     "execution_count": 9,
     "metadata": {},
     "output_type": "execute_result"
    }
   ],
   "source": [
    "df1.head()"
   ]
  },
  {
   "cell_type": "code",
   "execution_count": 10,
   "metadata": {
    "ExecuteTime": {
     "end_time": "2021-05-02T12:39:14.230004Z",
     "start_time": "2021-05-02T12:39:14.214990Z"
    }
   },
   "outputs": [
    {
     "data": {
      "text/plain": [
       "id                             False\n",
       "host_is_superhost              False\n",
       "zipcode                        False\n",
       "property_type                  False\n",
       "room_type                      False\n",
       "accommodates                   False\n",
       "bathrooms                      False\n",
       "bedrooms                       False\n",
       "beds                           False\n",
       "weekly_price                   False\n",
       "monthly_price                  False\n",
       "cleaning_fee                   False\n",
       "guests_included                False\n",
       "review_scores_rating           False\n",
       "review_scores_accuracy         False\n",
       "review_scores_cleanliness      False\n",
       "review_scores_checkin          False\n",
       "review_scores_communication    False\n",
       "review_scores_location         False\n",
       "review_scores_value            False\n",
       "dtype: bool"
      ]
     },
     "metadata": {},
     "output_type": "display_data"
    },
    {
     "data": {
      "text/plain": [
       "(1032, 20)"
      ]
     },
     "execution_count": 10,
     "metadata": {},
     "output_type": "execute_result"
    }
   ],
   "source": [
    "display(df1.isnull().any())\n",
    "df1.shape"
   ]
  },
  {
   "cell_type": "markdown",
   "metadata": {},
   "source": [
    "After getting rid of all of the null values I am filtering the data down to the columns I think will be applicable along with the KC data set.  "
   ]
  },
  {
   "cell_type": "code",
   "execution_count": 11,
   "metadata": {
    "ExecuteTime": {
     "end_time": "2021-05-02T12:39:14.246019Z",
     "start_time": "2021-05-02T12:39:14.231005Z"
    }
   },
   "outputs": [],
   "source": [
    "df_abnb = df1.filter(['zipcode', 'property_type', 'room_type', 'bathrooms', 'bedrooms', 'monthly_price', 'review_scores_rating'], axis=1)"
   ]
  },
  {
   "cell_type": "code",
   "execution_count": 12,
   "metadata": {
    "ExecuteTime": {
     "end_time": "2021-05-02T12:39:14.262034Z",
     "start_time": "2021-05-02T12:39:14.247021Z"
    }
   },
   "outputs": [
    {
     "data": {
      "text/html": [
       "<div>\n",
       "<style scoped>\n",
       "    .dataframe tbody tr th:only-of-type {\n",
       "        vertical-align: middle;\n",
       "    }\n",
       "\n",
       "    .dataframe tbody tr th {\n",
       "        vertical-align: top;\n",
       "    }\n",
       "\n",
       "    .dataframe thead th {\n",
       "        text-align: right;\n",
       "    }\n",
       "</style>\n",
       "<table border=\"1\" class=\"dataframe\">\n",
       "  <thead>\n",
       "    <tr style=\"text-align: right;\">\n",
       "      <th></th>\n",
       "      <th>bathrooms</th>\n",
       "      <th>bedrooms</th>\n",
       "      <th>review_scores_rating</th>\n",
       "    </tr>\n",
       "  </thead>\n",
       "  <tbody>\n",
       "    <tr>\n",
       "      <th>count</th>\n",
       "      <td>1032.000000</td>\n",
       "      <td>1032.000000</td>\n",
       "      <td>1032.00000</td>\n",
       "    </tr>\n",
       "    <tr>\n",
       "      <th>mean</th>\n",
       "      <td>1.228198</td>\n",
       "      <td>1.298450</td>\n",
       "      <td>94.05814</td>\n",
       "    </tr>\n",
       "    <tr>\n",
       "      <th>std</th>\n",
       "      <td>0.549675</td>\n",
       "      <td>0.844953</td>\n",
       "      <td>7.32656</td>\n",
       "    </tr>\n",
       "    <tr>\n",
       "      <th>min</th>\n",
       "      <td>0.500000</td>\n",
       "      <td>0.000000</td>\n",
       "      <td>20.00000</td>\n",
       "    </tr>\n",
       "    <tr>\n",
       "      <th>25%</th>\n",
       "      <td>1.000000</td>\n",
       "      <td>1.000000</td>\n",
       "      <td>92.00000</td>\n",
       "    </tr>\n",
       "    <tr>\n",
       "      <th>50%</th>\n",
       "      <td>1.000000</td>\n",
       "      <td>1.000000</td>\n",
       "      <td>96.00000</td>\n",
       "    </tr>\n",
       "    <tr>\n",
       "      <th>75%</th>\n",
       "      <td>1.000000</td>\n",
       "      <td>2.000000</td>\n",
       "      <td>99.00000</td>\n",
       "    </tr>\n",
       "    <tr>\n",
       "      <th>max</th>\n",
       "      <td>4.500000</td>\n",
       "      <td>6.000000</td>\n",
       "      <td>100.00000</td>\n",
       "    </tr>\n",
       "  </tbody>\n",
       "</table>\n",
       "</div>"
      ],
      "text/plain": [
       "         bathrooms     bedrooms  review_scores_rating\n",
       "count  1032.000000  1032.000000            1032.00000\n",
       "mean      1.228198     1.298450              94.05814\n",
       "std       0.549675     0.844953               7.32656\n",
       "min       0.500000     0.000000              20.00000\n",
       "25%       1.000000     1.000000              92.00000\n",
       "50%       1.000000     1.000000              96.00000\n",
       "75%       1.000000     2.000000              99.00000\n",
       "max       4.500000     6.000000             100.00000"
      ]
     },
     "execution_count": 12,
     "metadata": {},
     "output_type": "execute_result"
    }
   ],
   "source": [
    "#I am doing a df.describe to discover what pandas thinks is continuous\n",
    "df_abnb.describe()"
   ]
  },
  {
   "cell_type": "code",
   "execution_count": 13,
   "metadata": {
    "ExecuteTime": {
     "end_time": "2021-05-02T12:39:14.278102Z",
     "start_time": "2021-05-02T12:39:14.263035Z"
    }
   },
   "outputs": [],
   "source": [
    "#Because of the extra characters like dollar sighns and commas I need to strip these numbers to get just plain integer values.\n",
    "\n",
    "def column_conversion(df, col):\n",
    "    df[col] = df[col].str.replace(\"$\",\"\").str.replace(\",\",\"\").str.replace(\".\",\"\").astype('int')\n",
    "    return df"
   ]
  },
  {
   "cell_type": "code",
   "execution_count": 14,
   "metadata": {
    "ExecuteTime": {
     "end_time": "2021-05-02T12:39:14.294117Z",
     "start_time": "2021-05-02T12:39:14.279103Z"
    }
   },
   "outputs": [],
   "source": [
    "column_to_convert = ['monthly_price']\n",
    "\n",
    "for col in column_to_convert:\n",
    "    df_abnb = column_conversion(df_abnb, col)"
   ]
  },
  {
   "cell_type": "code",
   "execution_count": 15,
   "metadata": {
    "ExecuteTime": {
     "end_time": "2021-05-02T12:39:14.310133Z",
     "start_time": "2021-05-02T12:39:14.295119Z"
    }
   },
   "outputs": [],
   "source": [
    "df_abnb['monthly_price'] = df_abnb['monthly_price'].div(100).round(2)"
   ]
  },
  {
   "cell_type": "code",
   "execution_count": 16,
   "metadata": {
    "ExecuteTime": {
     "end_time": "2021-05-02T12:39:14.326148Z",
     "start_time": "2021-05-02T12:39:14.311133Z"
    }
   },
   "outputs": [
    {
     "data": {
      "text/html": [
       "<div>\n",
       "<style scoped>\n",
       "    .dataframe tbody tr th:only-of-type {\n",
       "        vertical-align: middle;\n",
       "    }\n",
       "\n",
       "    .dataframe tbody tr th {\n",
       "        vertical-align: top;\n",
       "    }\n",
       "\n",
       "    .dataframe thead th {\n",
       "        text-align: right;\n",
       "    }\n",
       "</style>\n",
       "<table border=\"1\" class=\"dataframe\">\n",
       "  <thead>\n",
       "    <tr style=\"text-align: right;\">\n",
       "      <th></th>\n",
       "      <th>zipcode</th>\n",
       "      <th>property_type</th>\n",
       "      <th>room_type</th>\n",
       "      <th>bathrooms</th>\n",
       "      <th>bedrooms</th>\n",
       "      <th>monthly_price</th>\n",
       "      <th>review_scores_rating</th>\n",
       "    </tr>\n",
       "  </thead>\n",
       "  <tbody>\n",
       "    <tr>\n",
       "      <th>1</th>\n",
       "      <td>98119</td>\n",
       "      <td>Apartment</td>\n",
       "      <td>Entire home/apt</td>\n",
       "      <td>1.0</td>\n",
       "      <td>1.0</td>\n",
       "      <td>3000.0</td>\n",
       "      <td>96.0</td>\n",
       "    </tr>\n",
       "    <tr>\n",
       "      <th>9</th>\n",
       "      <td>98119</td>\n",
       "      <td>Apartment</td>\n",
       "      <td>Entire home/apt</td>\n",
       "      <td>1.0</td>\n",
       "      <td>1.0</td>\n",
       "      <td>3000.0</td>\n",
       "      <td>97.0</td>\n",
       "    </tr>\n",
       "    <tr>\n",
       "      <th>11</th>\n",
       "      <td>98119</td>\n",
       "      <td>House</td>\n",
       "      <td>Entire home/apt</td>\n",
       "      <td>1.0</td>\n",
       "      <td>1.0</td>\n",
       "      <td>2000.0</td>\n",
       "      <td>97.0</td>\n",
       "    </tr>\n",
       "    <tr>\n",
       "      <th>12</th>\n",
       "      <td>98119</td>\n",
       "      <td>Apartment</td>\n",
       "      <td>Entire home/apt</td>\n",
       "      <td>1.0</td>\n",
       "      <td>2.0</td>\n",
       "      <td>5800.0</td>\n",
       "      <td>98.0</td>\n",
       "    </tr>\n",
       "    <tr>\n",
       "      <th>21</th>\n",
       "      <td>98119</td>\n",
       "      <td>House</td>\n",
       "      <td>Private room</td>\n",
       "      <td>1.5</td>\n",
       "      <td>1.0</td>\n",
       "      <td>2029.0</td>\n",
       "      <td>84.0</td>\n",
       "    </tr>\n",
       "  </tbody>\n",
       "</table>\n",
       "</div>"
      ],
      "text/plain": [
       "   zipcode property_type        room_type  bathrooms  bedrooms  monthly_price  \\\n",
       "1    98119     Apartment  Entire home/apt        1.0       1.0         3000.0   \n",
       "9    98119     Apartment  Entire home/apt        1.0       1.0         3000.0   \n",
       "11   98119         House  Entire home/apt        1.0       1.0         2000.0   \n",
       "12   98119     Apartment  Entire home/apt        1.0       2.0         5800.0   \n",
       "21   98119         House     Private room        1.5       1.0         2029.0   \n",
       "\n",
       "    review_scores_rating  \n",
       "1                   96.0  \n",
       "9                   97.0  \n",
       "11                  97.0  \n",
       "12                  98.0  \n",
       "21                  84.0  "
      ]
     },
     "execution_count": 16,
     "metadata": {},
     "output_type": "execute_result"
    }
   ],
   "source": [
    "df_abnb.head()"
   ]
  },
  {
   "cell_type": "markdown",
   "metadata": {},
   "source": [
    "### Exploring the Data\n",
    "Taking a look at deeper at the categorical variables.  I first looked at some boxplot data associated with type of home and how much it rents for a month.  I was surprised to find that, excluding outliers, townhomes and condominiums tend to rent for the most.  After that I created new columns that transform the categorical columns into numeric columns making the data set easier to put into a regression model."
   ]
  },
  {
   "cell_type": "code",
   "execution_count": 17,
   "metadata": {
    "ExecuteTime": {
     "end_time": "2021-05-02T12:39:14.341162Z",
     "start_time": "2021-05-02T12:39:14.327149Z"
    }
   },
   "outputs": [
    {
     "name": "stdout",
     "output_type": "stream",
     "text": [
      "['Entire home/apt' 'Private room' 'Shared room']\n"
     ]
    }
   ],
   "source": [
    "#Looking at all the unique types of categories for my two categorical columns\n",
    "\n",
    "print(df_abnb['room_type'].unique())"
   ]
  },
  {
   "cell_type": "code",
   "execution_count": 18,
   "metadata": {
    "ExecuteTime": {
     "end_time": "2021-05-02T12:39:14.357178Z",
     "start_time": "2021-05-02T12:39:14.342164Z"
    }
   },
   "outputs": [
    {
     "name": "stdout",
     "output_type": "stream",
     "text": [
      "['Apartment' 'House' 'Condominium' 'Bungalow' 'Townhouse' 'Other' 'Cabin'\n",
      " 'Loft' 'Bed & Breakfast' 'Chalet' 'Camper/RV']\n"
     ]
    }
   ],
   "source": [
    "print(df_abnb['property_type'].unique())"
   ]
  },
  {
   "cell_type": "code",
   "execution_count": 19,
   "metadata": {
    "ExecuteTime": {
     "end_time": "2021-05-02T12:39:14.373193Z",
     "start_time": "2021-05-02T12:39:14.358178Z"
    }
   },
   "outputs": [],
   "source": [
    "sns.set(rc={'figure.figsize':(11,8)}, font_scale=1.5, style='whitegrid')"
   ]
  },
  {
   "cell_type": "code",
   "execution_count": 20,
   "metadata": {
    "ExecuteTime": {
     "end_time": "2021-05-02T12:39:14.676313Z",
     "start_time": "2021-05-02T12:39:14.374195Z"
    }
   },
   "outputs": [
    {
     "data": {
      "text/plain": [
       "[Text(0, 0, 'Apartment'),\n",
       " Text(1, 0, 'House'),\n",
       " Text(2, 0, 'Condominium'),\n",
       " Text(3, 0, 'Bungalow'),\n",
       " Text(4, 0, 'Townhouse'),\n",
       " Text(5, 0, 'Other'),\n",
       " Text(6, 0, 'Cabin'),\n",
       " Text(7, 0, 'Loft'),\n",
       " Text(8, 0, 'Bed & Breakfast'),\n",
       " Text(9, 0, 'Chalet'),\n",
       " Text(10, 0, 'Camper/RV')]"
      ]
     },
     "execution_count": 20,
     "metadata": {},
     "output_type": "execute_result"
    },
    {
     "data": {
      "image/png": "[encoded data removed]",
      "text/plain": [
       "<Figure size 792x576 with 1 Axes>"
      ]
     },
     "metadata": {},
     "output_type": "display_data"
    }
   ],
   "source": [
    "ax = sns.boxplot(x=\"property_type\", y=\"monthly_price\", data=df_abnb)\n",
    "ax.set_xticklabels(ax.get_xticklabels(), rotation=30)"
   ]
  },
  {
   "cell_type": "code",
   "execution_count": 21,
   "metadata": {
    "ExecuteTime": {
     "end_time": "2021-05-02T12:39:14.692329Z",
     "start_time": "2021-05-02T12:39:14.677315Z"
    }
   },
   "outputs": [
    {
     "data": {
      "text/plain": [
       "zipcode                   object\n",
       "property_type           category\n",
       "room_type                 object\n",
       "bathrooms                float64\n",
       "bedrooms                 float64\n",
       "monthly_price            float64\n",
       "review_scores_rating     float64\n",
       "dtype: object"
      ]
     },
     "execution_count": 21,
     "metadata": {},
     "output_type": "execute_result"
    }
   ],
   "source": [
    "#Below is all of the code for how I transformed the columns into numeric values.\n",
    "df_abnb['property_type'] = df_abnb['property_type'].astype('category')\n",
    "df_abnb.dtypes"
   ]
  },
  {
   "cell_type": "code",
   "execution_count": 22,
   "metadata": {
    "ExecuteTime": {
     "end_time": "2021-05-02T12:39:14.708345Z",
     "start_time": "2021-05-02T12:39:14.693330Z"
    }
   },
   "outputs": [
    {
     "data": {
      "text/html": [
       "<div>\n",
       "<style scoped>\n",
       "    .dataframe tbody tr th:only-of-type {\n",
       "        vertical-align: middle;\n",
       "    }\n",
       "\n",
       "    .dataframe tbody tr th {\n",
       "        vertical-align: top;\n",
       "    }\n",
       "\n",
       "    .dataframe thead th {\n",
       "        text-align: right;\n",
       "    }\n",
       "</style>\n",
       "<table border=\"1\" class=\"dataframe\">\n",
       "  <thead>\n",
       "    <tr style=\"text-align: right;\">\n",
       "      <th></th>\n",
       "      <th>zipcode</th>\n",
       "      <th>property_type</th>\n",
       "      <th>room_type</th>\n",
       "      <th>bathrooms</th>\n",
       "      <th>bedrooms</th>\n",
       "      <th>monthly_price</th>\n",
       "      <th>review_scores_rating</th>\n",
       "      <th>property_type_cat</th>\n",
       "    </tr>\n",
       "  </thead>\n",
       "  <tbody>\n",
       "    <tr>\n",
       "      <th>1</th>\n",
       "      <td>98119</td>\n",
       "      <td>Apartment</td>\n",
       "      <td>Entire home/apt</td>\n",
       "      <td>1.0</td>\n",
       "      <td>1.0</td>\n",
       "      <td>3000.0</td>\n",
       "      <td>96.0</td>\n",
       "      <td>0</td>\n",
       "    </tr>\n",
       "    <tr>\n",
       "      <th>9</th>\n",
       "      <td>98119</td>\n",
       "      <td>Apartment</td>\n",
       "      <td>Entire home/apt</td>\n",
       "      <td>1.0</td>\n",
       "      <td>1.0</td>\n",
       "      <td>3000.0</td>\n",
       "      <td>97.0</td>\n",
       "      <td>0</td>\n",
       "    </tr>\n",
       "    <tr>\n",
       "      <th>11</th>\n",
       "      <td>98119</td>\n",
       "      <td>House</td>\n",
       "      <td>Entire home/apt</td>\n",
       "      <td>1.0</td>\n",
       "      <td>1.0</td>\n",
       "      <td>2000.0</td>\n",
       "      <td>97.0</td>\n",
       "      <td>7</td>\n",
       "    </tr>\n",
       "    <tr>\n",
       "      <th>12</th>\n",
       "      <td>98119</td>\n",
       "      <td>Apartment</td>\n",
       "      <td>Entire home/apt</td>\n",
       "      <td>1.0</td>\n",
       "      <td>2.0</td>\n",
       "      <td>5800.0</td>\n",
       "      <td>98.0</td>\n",
       "      <td>0</td>\n",
       "    </tr>\n",
       "    <tr>\n",
       "      <th>21</th>\n",
       "      <td>98119</td>\n",
       "      <td>House</td>\n",
       "      <td>Private room</td>\n",
       "      <td>1.5</td>\n",
       "      <td>1.0</td>\n",
       "      <td>2029.0</td>\n",
       "      <td>84.0</td>\n",
       "      <td>7</td>\n",
       "    </tr>\n",
       "  </tbody>\n",
       "</table>\n",
       "</div>"
      ],
      "text/plain": [
       "   zipcode property_type        room_type  bathrooms  bedrooms  monthly_price  \\\n",
       "1    98119     Apartment  Entire home/apt        1.0       1.0         3000.0   \n",
       "9    98119     Apartment  Entire home/apt        1.0       1.0         3000.0   \n",
       "11   98119         House  Entire home/apt        1.0       1.0         2000.0   \n",
       "12   98119     Apartment  Entire home/apt        1.0       2.0         5800.0   \n",
       "21   98119         House     Private room        1.5       1.0         2029.0   \n",
       "\n",
       "    review_scores_rating  property_type_cat  \n",
       "1                   96.0                  0  \n",
       "9                   97.0                  0  \n",
       "11                  97.0                  7  \n",
       "12                  98.0                  0  \n",
       "21                  84.0                  7  "
      ]
     },
     "execution_count": 22,
     "metadata": {},
     "output_type": "execute_result"
    }
   ],
   "source": [
    "df_abnb['property_type_cat'] = df_abnb['property_type'].cat.codes\n",
    "df_abnb.head()"
   ]
  },
  {
   "cell_type": "code",
   "execution_count": 23,
   "metadata": {
    "ExecuteTime": {
     "end_time": "2021-05-02T12:39:14.724360Z",
     "start_time": "2021-05-02T12:39:14.711348Z"
    }
   },
   "outputs": [
    {
     "data": {
      "text/plain": [
       "zipcode                   object\n",
       "property_type           category\n",
       "room_type               category\n",
       "bathrooms                float64\n",
       "bedrooms                 float64\n",
       "monthly_price            float64\n",
       "review_scores_rating     float64\n",
       "property_type_cat           int8\n",
       "dtype: object"
      ]
     },
     "execution_count": 23,
     "metadata": {},
     "output_type": "execute_result"
    }
   ],
   "source": [
    "df_abnb['room_type'] = df_abnb['room_type'].astype('category')\n",
    "df_abnb.dtypes"
   ]
  },
  {
   "cell_type": "code",
   "execution_count": 24,
   "metadata": {
    "ExecuteTime": {
     "end_time": "2021-05-02T12:39:14.740375Z",
     "start_time": "2021-05-02T12:39:14.725360Z"
    }
   },
   "outputs": [
    {
     "data": {
      "text/html": [
       "<div>\n",
       "<style scoped>\n",
       "    .dataframe tbody tr th:only-of-type {\n",
       "        vertical-align: middle;\n",
       "    }\n",
       "\n",
       "    .dataframe tbody tr th {\n",
       "        vertical-align: top;\n",
       "    }\n",
       "\n",
       "    .dataframe thead th {\n",
       "        text-align: right;\n",
       "    }\n",
       "</style>\n",
       "<table border=\"1\" class=\"dataframe\">\n",
       "  <thead>\n",
       "    <tr style=\"text-align: right;\">\n",
       "      <th></th>\n",
       "      <th>zipcode</th>\n",
       "      <th>property_type</th>\n",
       "      <th>room_type</th>\n",
       "      <th>bathrooms</th>\n",
       "      <th>bedrooms</th>\n",
       "      <th>monthly_price</th>\n",
       "      <th>review_scores_rating</th>\n",
       "      <th>property_type_cat</th>\n",
       "      <th>room_type_cat</th>\n",
       "    </tr>\n",
       "  </thead>\n",
       "  <tbody>\n",
       "    <tr>\n",
       "      <th>1</th>\n",
       "      <td>98119</td>\n",
       "      <td>Apartment</td>\n",
       "      <td>Entire home/apt</td>\n",
       "      <td>1.0</td>\n",
       "      <td>1.0</td>\n",
       "      <td>3000.0</td>\n",
       "      <td>96.0</td>\n",
       "      <td>0</td>\n",
       "      <td>0</td>\n",
       "    </tr>\n",
       "    <tr>\n",
       "      <th>9</th>\n",
       "      <td>98119</td>\n",
       "      <td>Apartment</td>\n",
       "      <td>Entire home/apt</td>\n",
       "      <td>1.0</td>\n",
       "      <td>1.0</td>\n",
       "      <td>3000.0</td>\n",
       "      <td>97.0</td>\n",
       "      <td>0</td>\n",
       "      <td>0</td>\n",
       "    </tr>\n",
       "    <tr>\n",
       "      <th>11</th>\n",
       "      <td>98119</td>\n",
       "      <td>House</td>\n",
       "      <td>Entire home/apt</td>\n",
       "      <td>1.0</td>\n",
       "      <td>1.0</td>\n",
       "      <td>2000.0</td>\n",
       "      <td>97.0</td>\n",
       "      <td>7</td>\n",
       "      <td>0</td>\n",
       "    </tr>\n",
       "    <tr>\n",
       "      <th>12</th>\n",
       "      <td>98119</td>\n",
       "      <td>Apartment</td>\n",
       "      <td>Entire home/apt</td>\n",
       "      <td>1.0</td>\n",
       "      <td>2.0</td>\n",
       "      <td>5800.0</td>\n",
       "      <td>98.0</td>\n",
       "      <td>0</td>\n",
       "      <td>0</td>\n",
       "    </tr>\n",
       "    <tr>\n",
       "      <th>21</th>\n",
       "      <td>98119</td>\n",
       "      <td>House</td>\n",
       "      <td>Private room</td>\n",
       "      <td>1.5</td>\n",
       "      <td>1.0</td>\n",
       "      <td>2029.0</td>\n",
       "      <td>84.0</td>\n",
       "      <td>7</td>\n",
       "      <td>1</td>\n",
       "    </tr>\n",
       "  </tbody>\n",
       "</table>\n",
       "</div>"
      ],
      "text/plain": [
       "   zipcode property_type        room_type  bathrooms  bedrooms  monthly_price  \\\n",
       "1    98119     Apartment  Entire home/apt        1.0       1.0         3000.0   \n",
       "9    98119     Apartment  Entire home/apt        1.0       1.0         3000.0   \n",
       "11   98119         House  Entire home/apt        1.0       1.0         2000.0   \n",
       "12   98119     Apartment  Entire home/apt        1.0       2.0         5800.0   \n",
       "21   98119         House     Private room        1.5       1.0         2029.0   \n",
       "\n",
       "    review_scores_rating  property_type_cat  room_type_cat  \n",
       "1                   96.0                  0              0  \n",
       "9                   97.0                  0              0  \n",
       "11                  97.0                  7              0  \n",
       "12                  98.0                  0              0  \n",
       "21                  84.0                  7              1  "
      ]
     },
     "execution_count": 24,
     "metadata": {},
     "output_type": "execute_result"
    }
   ],
   "source": [
    "df_abnb['room_type_cat'] = df_abnb['room_type'].cat.codes\n",
    "df_abnb.head()"
   ]
  },
  {
   "cell_type": "code",
   "execution_count": 25,
   "metadata": {
    "ExecuteTime": {
     "end_time": "2021-05-02T12:39:14.756390Z",
     "start_time": "2021-05-02T12:39:14.741376Z"
    }
   },
   "outputs": [],
   "source": [
    "df_abnb = df_abnb[['zipcode', 'bathrooms', 'bedrooms', 'monthly_price', 'review_scores_rating', 'property_type_cat', 'room_type_cat']]"
   ]
  },
  {
   "cell_type": "code",
   "execution_count": 26,
   "metadata": {
    "ExecuteTime": {
     "end_time": "2021-05-02T12:39:14.772406Z",
     "start_time": "2021-05-02T12:39:14.757391Z"
    }
   },
   "outputs": [
    {
     "data": {
      "text/html": [
       "<div>\n",
       "<style scoped>\n",
       "    .dataframe tbody tr th:only-of-type {\n",
       "        vertical-align: middle;\n",
       "    }\n",
       "\n",
       "    .dataframe tbody tr th {\n",
       "        vertical-align: top;\n",
       "    }\n",
       "\n",
       "    .dataframe thead th {\n",
       "        text-align: right;\n",
       "    }\n",
       "</style>\n",
       "<table border=\"1\" class=\"dataframe\">\n",
       "  <thead>\n",
       "    <tr style=\"text-align: right;\">\n",
       "      <th></th>\n",
       "      <th>zipcode</th>\n",
       "      <th>bathrooms</th>\n",
       "      <th>bedrooms</th>\n",
       "      <th>monthly_price</th>\n",
       "      <th>review_scores_rating</th>\n",
       "      <th>property_type_cat</th>\n",
       "      <th>room_type_cat</th>\n",
       "    </tr>\n",
       "  </thead>\n",
       "  <tbody>\n",
       "    <tr>\n",
       "      <th>1</th>\n",
       "      <td>98119</td>\n",
       "      <td>1.0</td>\n",
       "      <td>1.0</td>\n",
       "      <td>3000.0</td>\n",
       "      <td>96.0</td>\n",
       "      <td>0</td>\n",
       "      <td>0</td>\n",
       "    </tr>\n",
       "    <tr>\n",
       "      <th>9</th>\n",
       "      <td>98119</td>\n",
       "      <td>1.0</td>\n",
       "      <td>1.0</td>\n",
       "      <td>3000.0</td>\n",
       "      <td>97.0</td>\n",
       "      <td>0</td>\n",
       "      <td>0</td>\n",
       "    </tr>\n",
       "    <tr>\n",
       "      <th>11</th>\n",
       "      <td>98119</td>\n",
       "      <td>1.0</td>\n",
       "      <td>1.0</td>\n",
       "      <td>2000.0</td>\n",
       "      <td>97.0</td>\n",
       "      <td>7</td>\n",
       "      <td>0</td>\n",
       "    </tr>\n",
       "    <tr>\n",
       "      <th>12</th>\n",
       "      <td>98119</td>\n",
       "      <td>1.0</td>\n",
       "      <td>2.0</td>\n",
       "      <td>5800.0</td>\n",
       "      <td>98.0</td>\n",
       "      <td>0</td>\n",
       "      <td>0</td>\n",
       "    </tr>\n",
       "    <tr>\n",
       "      <th>21</th>\n",
       "      <td>98119</td>\n",
       "      <td>1.5</td>\n",
       "      <td>1.0</td>\n",
       "      <td>2029.0</td>\n",
       "      <td>84.0</td>\n",
       "      <td>7</td>\n",
       "      <td>1</td>\n",
       "    </tr>\n",
       "  </tbody>\n",
       "</table>\n",
       "</div>"
      ],
      "text/plain": [
       "   zipcode  bathrooms  bedrooms  monthly_price  review_scores_rating  \\\n",
       "1    98119        1.0       1.0         3000.0                  96.0   \n",
       "9    98119        1.0       1.0         3000.0                  97.0   \n",
       "11   98119        1.0       1.0         2000.0                  97.0   \n",
       "12   98119        1.0       2.0         5800.0                  98.0   \n",
       "21   98119        1.5       1.0         2029.0                  84.0   \n",
       "\n",
       "    property_type_cat  room_type_cat  \n",
       "1                   0              0  \n",
       "9                   0              0  \n",
       "11                  7              0  \n",
       "12                  0              0  \n",
       "21                  7              1  "
      ]
     },
     "execution_count": 26,
     "metadata": {},
     "output_type": "execute_result"
    }
   ],
   "source": [
    "df_abnb.head()"
   ]
  },
  {
   "cell_type": "markdown",
   "metadata": {},
   "source": [
    "### Getting rid of outliers\n",
    "When I initially tried to get rid of outliers using a z score it was much too agressive of a technique.  I ended up using an interquartile range technique which had its drawbacks as well.  I could only do one column so I chose monthly price because I felt like it had the most extreme outliers."
   ]
  },
  {
   "cell_type": "code",
   "execution_count": 27,
   "metadata": {
    "ExecuteTime": {
     "end_time": "2021-05-02T12:39:14.803436Z",
     "start_time": "2021-05-02T12:39:14.773407Z"
    }
   },
   "outputs": [
    {
     "data": {
      "text/html": [
       "<div>\n",
       "<style scoped>\n",
       "    .dataframe tbody tr th:only-of-type {\n",
       "        vertical-align: middle;\n",
       "    }\n",
       "\n",
       "    .dataframe tbody tr th {\n",
       "        vertical-align: top;\n",
       "    }\n",
       "\n",
       "    .dataframe thead th {\n",
       "        text-align: right;\n",
       "    }\n",
       "</style>\n",
       "<table border=\"1\" class=\"dataframe\">\n",
       "  <thead>\n",
       "    <tr style=\"text-align: right;\">\n",
       "      <th></th>\n",
       "      <th>bathrooms</th>\n",
       "      <th>bedrooms</th>\n",
       "      <th>monthly_price</th>\n",
       "      <th>review_scores_rating</th>\n",
       "      <th>property_type_cat</th>\n",
       "      <th>room_type_cat</th>\n",
       "    </tr>\n",
       "  </thead>\n",
       "  <tbody>\n",
       "    <tr>\n",
       "      <th>count</th>\n",
       "      <td>1032.000000</td>\n",
       "      <td>1032.000000</td>\n",
       "      <td>1032.000000</td>\n",
       "      <td>1032.00000</td>\n",
       "      <td>1032.000000</td>\n",
       "      <td>1032.000000</td>\n",
       "    </tr>\n",
       "    <tr>\n",
       "      <th>mean</th>\n",
       "      <td>1.228198</td>\n",
       "      <td>1.298450</td>\n",
       "      <td>2708.527132</td>\n",
       "      <td>94.05814</td>\n",
       "      <td>3.795543</td>\n",
       "      <td>0.311047</td>\n",
       "    </tr>\n",
       "    <tr>\n",
       "      <th>std</th>\n",
       "      <td>0.549675</td>\n",
       "      <td>0.844953</td>\n",
       "      <td>1791.401138</td>\n",
       "      <td>7.32656</td>\n",
       "      <td>3.564272</td>\n",
       "      <td>0.524061</td>\n",
       "    </tr>\n",
       "    <tr>\n",
       "      <th>min</th>\n",
       "      <td>0.500000</td>\n",
       "      <td>0.000000</td>\n",
       "      <td>520.000000</td>\n",
       "      <td>20.00000</td>\n",
       "      <td>0.000000</td>\n",
       "      <td>0.000000</td>\n",
       "    </tr>\n",
       "    <tr>\n",
       "      <th>25%</th>\n",
       "      <td>1.000000</td>\n",
       "      <td>1.000000</td>\n",
       "      <td>1650.000000</td>\n",
       "      <td>92.00000</td>\n",
       "      <td>0.000000</td>\n",
       "      <td>0.000000</td>\n",
       "    </tr>\n",
       "    <tr>\n",
       "      <th>50%</th>\n",
       "      <td>1.000000</td>\n",
       "      <td>1.000000</td>\n",
       "      <td>2312.500000</td>\n",
       "      <td>96.00000</td>\n",
       "      <td>7.000000</td>\n",
       "      <td>0.000000</td>\n",
       "    </tr>\n",
       "    <tr>\n",
       "      <th>75%</th>\n",
       "      <td>1.000000</td>\n",
       "      <td>2.000000</td>\n",
       "      <td>3200.000000</td>\n",
       "      <td>99.00000</td>\n",
       "      <td>7.000000</td>\n",
       "      <td>1.000000</td>\n",
       "    </tr>\n",
       "    <tr>\n",
       "      <th>max</th>\n",
       "      <td>4.500000</td>\n",
       "      <td>6.000000</td>\n",
       "      <td>19500.000000</td>\n",
       "      <td>100.00000</td>\n",
       "      <td>10.000000</td>\n",
       "      <td>2.000000</td>\n",
       "    </tr>\n",
       "  </tbody>\n",
       "</table>\n",
       "</div>"
      ],
      "text/plain": [
       "         bathrooms     bedrooms  monthly_price  review_scores_rating  \\\n",
       "count  1032.000000  1032.000000    1032.000000            1032.00000   \n",
       "mean      1.228198     1.298450    2708.527132              94.05814   \n",
       "std       0.549675     0.844953    1791.401138               7.32656   \n",
       "min       0.500000     0.000000     520.000000              20.00000   \n",
       "25%       1.000000     1.000000    1650.000000              92.00000   \n",
       "50%       1.000000     1.000000    2312.500000              96.00000   \n",
       "75%       1.000000     2.000000    3200.000000              99.00000   \n",
       "max       4.500000     6.000000   19500.000000             100.00000   \n",
       "\n",
       "       property_type_cat  room_type_cat  \n",
       "count        1032.000000    1032.000000  \n",
       "mean            3.795543       0.311047  \n",
       "std             3.564272       0.524061  \n",
       "min             0.000000       0.000000  \n",
       "25%             0.000000       0.000000  \n",
       "50%             7.000000       0.000000  \n",
       "75%             7.000000       1.000000  \n",
       "max            10.000000       2.000000  "
      ]
     },
     "execution_count": 27,
     "metadata": {},
     "output_type": "execute_result"
    }
   ],
   "source": [
    "df_abnb.describe()"
   ]
  },
  {
   "cell_type": "code",
   "execution_count": 28,
   "metadata": {
    "ExecuteTime": {
     "end_time": "2021-05-02T12:39:14.819450Z",
     "start_time": "2021-05-02T12:39:14.804436Z"
    }
   },
   "outputs": [
    {
     "data": {
      "text/plain": [
       "(1650.0, 3200.0)"
      ]
     },
     "execution_count": 28,
     "metadata": {},
     "output_type": "execute_result"
    }
   ],
   "source": [
    "min_threshold, max_threshold = df_abnb.monthly_price.quantile([0.25, 0.75])\n",
    "min_threshold, max_threshold"
   ]
  },
  {
   "cell_type": "code",
   "execution_count": 29,
   "metadata": {
    "ExecuteTime": {
     "end_time": "2021-05-02T12:39:14.835466Z",
     "start_time": "2021-05-02T12:39:14.820451Z"
    }
   },
   "outputs": [],
   "source": [
    "df_1 = df_abnb[(df_abnb.monthly_price < max_threshold) & (df_abnb.monthly_price > min_threshold)]"
   ]
  },
  {
   "cell_type": "code",
   "execution_count": 30,
   "metadata": {
    "ExecuteTime": {
     "end_time": "2021-05-02T12:39:14.851481Z",
     "start_time": "2021-05-02T12:39:14.836467Z"
    }
   },
   "outputs": [
    {
     "data": {
      "text/plain": [
       "(492, 7)"
      ]
     },
     "execution_count": 30,
     "metadata": {},
     "output_type": "execute_result"
    }
   ],
   "source": [
    "df_1.shape"
   ]
  },
  {
   "cell_type": "code",
   "execution_count": 31,
   "metadata": {
    "ExecuteTime": {
     "end_time": "2021-05-02T12:39:14.867496Z",
     "start_time": "2021-05-02T12:39:14.852482Z"
    }
   },
   "outputs": [],
   "source": [
    "#The only other thing that looked like it might it cause problems was the review scores rating \n",
    "#column so I got rid of anyhing below the .25 quartile range."
   ]
  },
  {
   "cell_type": "code",
   "execution_count": 32,
   "metadata": {
    "ExecuteTime": {
     "end_time": "2021-05-02T12:39:14.883512Z",
     "start_time": "2021-05-02T12:39:14.868497Z"
    }
   },
   "outputs": [],
   "source": [
    "df_1 = df_1[df_1['review_scores_rating'] > 92]"
   ]
  },
  {
   "cell_type": "code",
   "execution_count": 33,
   "metadata": {
    "ExecuteTime": {
     "end_time": "2021-05-02T12:39:14.899527Z",
     "start_time": "2021-05-02T12:39:14.884513Z"
    }
   },
   "outputs": [
    {
     "data": {
      "text/plain": [
       "(366, 7)"
      ]
     },
     "execution_count": 33,
     "metadata": {},
     "output_type": "execute_result"
    }
   ],
   "source": [
    "df_1.shape"
   ]
  },
  {
   "cell_type": "code",
   "execution_count": 34,
   "metadata": {
    "ExecuteTime": {
     "end_time": "2021-05-02T12:39:15.443816Z",
     "start_time": "2021-05-02T12:39:14.900528Z"
    }
   },
   "outputs": [
    {
     "data": {
      "text/plain": [
       "array([[<AxesSubplot:title={'center':'bathrooms'}>,\n",
       "        <AxesSubplot:title={'center':'bedrooms'}>],\n",
       "       [<AxesSubplot:title={'center':'monthly_price'}>,\n",
       "        <AxesSubplot:title={'center':'review_scores_rating'}>],\n",
       "       [<AxesSubplot:title={'center':'property_type_cat'}>,\n",
       "        <AxesSubplot:title={'center':'room_type_cat'}>]], dtype=object)"
      ]
     },
     "execution_count": 34,
     "metadata": {},
     "output_type": "execute_result"
    },
    {
     "data": {
      "image/png": "[encoded data removed]",
      "text/plain": [
       "<Figure size 864x720 with 6 Axes>"
      ]
     },
     "metadata": {},
     "output_type": "display_data"
    }
   ],
   "source": [
    "#looking at the distribution of each column.\n",
    "\n",
    "df_1.hist(figsize = (12,10))"
   ]
  },
  {
   "cell_type": "code",
   "execution_count": 35,
   "metadata": {
    "ExecuteTime": {
     "end_time": "2021-05-02T12:39:15.459840Z",
     "start_time": "2021-05-02T12:39:15.443816Z"
    }
   },
   "outputs": [
    {
     "data": {
      "text/plain": [
       "zipcode                   int32\n",
       "bathrooms               float64\n",
       "bedrooms                float64\n",
       "monthly_price           float64\n",
       "review_scores_rating    float64\n",
       "property_type_cat          int8\n",
       "room_type_cat              int8\n",
       "dtype: object"
      ]
     },
     "execution_count": 35,
     "metadata": {},
     "output_type": "execute_result"
    }
   ],
   "source": [
    "df_abnb['zipcode'] = df_abnb['zipcode'].astype('int')\n",
    "df_abnb.dtypes"
   ]
  },
  {
   "cell_type": "code",
   "execution_count": 36,
   "metadata": {
    "ExecuteTime": {
     "end_time": "2021-05-02T12:39:15.475856Z",
     "start_time": "2021-05-02T12:39:15.460840Z"
    }
   },
   "outputs": [
    {
     "data": {
      "text/html": [
       "<div>\n",
       "<style scoped>\n",
       "    .dataframe tbody tr th:only-of-type {\n",
       "        vertical-align: middle;\n",
       "    }\n",
       "\n",
       "    .dataframe tbody tr th {\n",
       "        vertical-align: top;\n",
       "    }\n",
       "\n",
       "    .dataframe thead th {\n",
       "        text-align: right;\n",
       "    }\n",
       "</style>\n",
       "<table border=\"1\" class=\"dataframe\">\n",
       "  <thead>\n",
       "    <tr style=\"text-align: right;\">\n",
       "      <th></th>\n",
       "      <th>zipcode</th>\n",
       "      <th>bathrooms</th>\n",
       "      <th>bedrooms</th>\n",
       "      <th>monthly_price</th>\n",
       "      <th>review_scores_rating</th>\n",
       "      <th>property_type_cat</th>\n",
       "      <th>room_type_cat</th>\n",
       "    </tr>\n",
       "  </thead>\n",
       "  <tbody>\n",
       "    <tr>\n",
       "      <th>zipcode</th>\n",
       "      <td>1.000000</td>\n",
       "      <td>0.091660</td>\n",
       "      <td>0.079374</td>\n",
       "      <td>-0.041459</td>\n",
       "      <td>0.050569</td>\n",
       "      <td>0.126911</td>\n",
       "      <td>0.020218</td>\n",
       "    </tr>\n",
       "    <tr>\n",
       "      <th>bathrooms</th>\n",
       "      <td>0.091660</td>\n",
       "      <td>1.000000</td>\n",
       "      <td>0.618600</td>\n",
       "      <td>0.520524</td>\n",
       "      <td>0.035599</td>\n",
       "      <td>0.245875</td>\n",
       "      <td>-0.127112</td>\n",
       "    </tr>\n",
       "    <tr>\n",
       "      <th>bedrooms</th>\n",
       "      <td>0.079374</td>\n",
       "      <td>0.618600</td>\n",
       "      <td>1.000000</td>\n",
       "      <td>0.584791</td>\n",
       "      <td>0.026180</td>\n",
       "      <td>0.256996</td>\n",
       "      <td>-0.209847</td>\n",
       "    </tr>\n",
       "    <tr>\n",
       "      <th>monthly_price</th>\n",
       "      <td>-0.041459</td>\n",
       "      <td>0.520524</td>\n",
       "      <td>0.584791</td>\n",
       "      <td>1.000000</td>\n",
       "      <td>0.074633</td>\n",
       "      <td>-0.032328</td>\n",
       "      <td>-0.431006</td>\n",
       "    </tr>\n",
       "    <tr>\n",
       "      <th>review_scores_rating</th>\n",
       "      <td>0.050569</td>\n",
       "      <td>0.035599</td>\n",
       "      <td>0.026180</td>\n",
       "      <td>0.074633</td>\n",
       "      <td>1.000000</td>\n",
       "      <td>0.073849</td>\n",
       "      <td>-0.023408</td>\n",
       "    </tr>\n",
       "    <tr>\n",
       "      <th>property_type_cat</th>\n",
       "      <td>0.126911</td>\n",
       "      <td>0.245875</td>\n",
       "      <td>0.256996</td>\n",
       "      <td>-0.032328</td>\n",
       "      <td>0.073849</td>\n",
       "      <td>1.000000</td>\n",
       "      <td>0.354985</td>\n",
       "    </tr>\n",
       "    <tr>\n",
       "      <th>room_type_cat</th>\n",
       "      <td>0.020218</td>\n",
       "      <td>-0.127112</td>\n",
       "      <td>-0.209847</td>\n",
       "      <td>-0.431006</td>\n",
       "      <td>-0.023408</td>\n",
       "      <td>0.354985</td>\n",
       "      <td>1.000000</td>\n",
       "    </tr>\n",
       "  </tbody>\n",
       "</table>\n",
       "</div>"
      ],
      "text/plain": [
       "                       zipcode  bathrooms  bedrooms  monthly_price  \\\n",
       "zipcode               1.000000   0.091660  0.079374      -0.041459   \n",
       "bathrooms             0.091660   1.000000  0.618600       0.520524   \n",
       "bedrooms              0.079374   0.618600  1.000000       0.584791   \n",
       "monthly_price        -0.041459   0.520524  0.584791       1.000000   \n",
       "review_scores_rating  0.050569   0.035599  0.026180       0.074633   \n",
       "property_type_cat     0.126911   0.245875  0.256996      -0.032328   \n",
       "room_type_cat         0.020218  -0.127112 -0.209847      -0.431006   \n",
       "\n",
       "                      review_scores_rating  property_type_cat  room_type_cat  \n",
       "zipcode                           0.050569           0.126911       0.020218  \n",
       "bathrooms                         0.035599           0.245875      -0.127112  \n",
       "bedrooms                          0.026180           0.256996      -0.209847  \n",
       "monthly_price                     0.074633          -0.032328      -0.431006  \n",
       "review_scores_rating              1.000000           0.073849      -0.023408  \n",
       "property_type_cat                 0.073849           1.000000       0.354985  \n",
       "room_type_cat                    -0.023408           0.354985       1.000000  "
      ]
     },
     "execution_count": 36,
     "metadata": {},
     "output_type": "execute_result"
    }
   ],
   "source": [
    "#looking at the correlation between all of the columns.\n",
    "\n",
    "df_abnb.corr()"
   ]
  },
  {
   "cell_type": "code",
   "execution_count": 37,
   "metadata": {
    "ExecuteTime": {
     "end_time": "2021-05-02T12:39:15.682709Z",
     "start_time": "2021-05-02T12:39:15.476855Z"
    }
   },
   "outputs": [
    {
     "data": {
      "text/plain": [
       "<AxesSubplot:>"
      ]
     },
     "execution_count": 37,
     "metadata": {},
     "output_type": "execute_result"
    },
    {
     "data": {
      "image/png": "[encoded data removed]",
      "text/plain": [
       "<Figure size 576x504 with 2 Axes>"
      ]
     },
     "metadata": {},
     "output_type": "display_data"
    }
   ],
   "source": [
    "#Looking at the correlation between different columns to check for multicollinearity.\n",
    "\n",
    "plt.figure(figsize = (8,7))\n",
    "sns.heatmap(df_abnb.corr(), cmap = 'RdBu')"
   ]
  },
  {
   "cell_type": "code",
   "execution_count": null,
   "metadata": {},
   "outputs": [],
   "source": []
  }
 ],
 "metadata": {
  "kernelspec": {
   "display_name": "Python 3",
   "language": "python",
   "name": "python3"
  },
  "language_info": {
   "codemirror_mode": {
    "name": "ipython",
    "version": 3
   },
   "file_extension": ".py",
   "mimetype": "text/x-python",
   "name": "python",
   "nbconvert_exporter": "python",
   "pygments_lexer": "ipython3",
   "version": "3.8.5"
  },
  "toc": {
   "base_numbering": 1,
   "nav_menu": {},
   "number_sections": true,
   "sideBar": true,
   "skip_h1_title": false,
   "title_cell": "Table of Contents",
   "title_sidebar": "Contents",
   "toc_cell": false,
   "toc_position": {},
   "toc_section_display": true,
   "toc_window_display": true
  },
  "varInspector": {
   "cols": {
    "lenName": 16,
    "lenType": 16,
    "lenVar": 40
   },
   "kernels_config": {
    "python": {
     "delete_cmd_postfix": "",
     "delete_cmd_prefix": "del ",
     "library": "var_list.py",
     "varRefreshCmd": "print(var_dic_list())"
    },
    "r": {
     "delete_cmd_postfix": ") ",
     "delete_cmd_prefix": "rm(",
     "library": "var_list.r",
     "varRefreshCmd": "cat(var_dic_list()) "
    }
   },
   "types_to_exclude": [
    "module",
    "function",
    "builtin_function_or_method",
    "instance",
    "_Feature"
   ],
   "window_display": false
  }
 },
 "nbformat": 4,
 "nbformat_minor": 4
}
