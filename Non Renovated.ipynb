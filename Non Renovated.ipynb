{
 "cells": [
  {
   "cell_type": "code",
   "execution_count": 2,
   "metadata": {},
   "outputs": [],
   "source": [
    "#Import libraries\n",
    "\n",
    "import pandas as pd\n",
    "import numpy as np\n",
    "import pylab\n",
    "import math"
   ]
  },
  {
   "cell_type": "code",
   "execution_count": 3,
   "metadata": {},
   "outputs": [],
   "source": [
    "import matplotlib.pyplot as plt\n",
    "import seaborn as sns\n"
   ]
  },
  {
   "cell_type": "code",
   "execution_count": 4,
   "metadata": {},
   "outputs": [],
   "source": [
    "from scipy import stats"
   ]
  },
  {
   "cell_type": "code",
   "execution_count": 5,
   "metadata": {},
   "outputs": [],
   "source": [
    "import statsmodels.api as sm\n",
    "from statsmodels.formula.api import ols\n",
    "from statsmodels.stats import diagnostic as diag\n",
    "from statsmodels.stats.outliers_influence import variance_inflation_factor"
   ]
  },
  {
   "cell_type": "code",
   "execution_count": 6,
   "metadata": {},
   "outputs": [],
   "source": [
    "from sklearn.model_selection import train_test_split\n",
    "from sklearn.linear_model import LinearRegression\n",
    "from sklearn.metrics import mean_squared_error, r2_score, mean_absolute_error\n",
    "\n",
    "%matplotlib inline"
   ]
  },
  {
   "cell_type": "code",
   "execution_count": 7,
   "metadata": {},
   "outputs": [],
   "source": [
    "#load the data\n",
    "df = pd.read_csv('data/kc_house_data.csv')\n"
   ]
  },
  {
   "cell_type": "code",
   "execution_count": 8,
   "metadata": {},
   "outputs": [
    {
     "data": {
      "text/plain": [
       "(21597, 21)"
      ]
     },
     "execution_count": 8,
     "metadata": {},
     "output_type": "execute_result"
    }
   ],
   "source": [
    "df.shape"
   ]
  },
  {
   "cell_type": "code",
   "execution_count": 9,
   "metadata": {},
   "outputs": [
    {
     "name": "stdout",
     "output_type": "stream",
     "text": [
      "<class 'pandas.core.frame.DataFrame'>\n",
      "RangeIndex: 21597 entries, 0 to 21596\n",
      "Data columns (total 21 columns):\n",
      " #   Column         Non-Null Count  Dtype  \n",
      "---  ------         --------------  -----  \n",
      " 0   id             21597 non-null  int64  \n",
      " 1   date           21597 non-null  object \n",
      " 2   price          21597 non-null  float64\n",
      " 3   bedrooms       21597 non-null  int64  \n",
      " 4   bathrooms      21597 non-null  float64\n",
      " 5   sqft_living    21597 non-null  int64  \n",
      " 6   sqft_lot       21597 non-null  int64  \n",
      " 7   floors         21597 non-null  float64\n",
      " 8   waterfront     19221 non-null  float64\n",
      " 9   view           21534 non-null  float64\n",
      " 10  condition      21597 non-null  int64  \n",
      " 11  grade          21597 non-null  int64  \n",
      " 12  sqft_above     21597 non-null  int64  \n",
      " 13  sqft_basement  21597 non-null  object \n",
      " 14  yr_built       21597 non-null  int64  \n",
      " 15  yr_renovated   17755 non-null  float64\n",
      " 16  zipcode        21597 non-null  int64  \n",
      " 17  lat            21597 non-null  float64\n",
      " 18  long           21597 non-null  float64\n",
      " 19  sqft_living15  21597 non-null  int64  \n",
      " 20  sqft_lot15     21597 non-null  int64  \n",
      "dtypes: float64(8), int64(11), object(2)\n",
      "memory usage: 3.5+ MB\n"
     ]
    }
   ],
   "source": [
    "#checking data types to see if anything looks weird.\n",
    "df.info()"
   ]
  },
  {
   "cell_type": "code",
   "execution_count": 10,
   "metadata": {},
   "outputs": [
    {
     "data": {
      "text/html": [
       "<div>\n",
       "<style scoped>\n",
       "    .dataframe tbody tr th:only-of-type {\n",
       "        vertical-align: middle;\n",
       "    }\n",
       "\n",
       "    .dataframe tbody tr th {\n",
       "        vertical-align: top;\n",
       "    }\n",
       "\n",
       "    .dataframe thead th {\n",
       "        text-align: right;\n",
       "    }\n",
       "</style>\n",
       "<table border=\"1\" class=\"dataframe\">\n",
       "  <thead>\n",
       "    <tr style=\"text-align: right;\">\n",
       "      <th></th>\n",
       "      <th>id</th>\n",
       "      <th>price</th>\n",
       "      <th>bedrooms</th>\n",
       "      <th>bathrooms</th>\n",
       "      <th>sqft_living</th>\n",
       "      <th>sqft_lot</th>\n",
       "      <th>floors</th>\n",
       "      <th>waterfront</th>\n",
       "      <th>view</th>\n",
       "      <th>condition</th>\n",
       "      <th>grade</th>\n",
       "      <th>sqft_above</th>\n",
       "      <th>yr_built</th>\n",
       "      <th>yr_renovated</th>\n",
       "      <th>zipcode</th>\n",
       "      <th>lat</th>\n",
       "      <th>long</th>\n",
       "      <th>sqft_living15</th>\n",
       "      <th>sqft_lot15</th>\n",
       "    </tr>\n",
       "  </thead>\n",
       "  <tbody>\n",
       "    <tr>\n",
       "      <th>count</th>\n",
       "      <td>2.159700e+04</td>\n",
       "      <td>2.159700e+04</td>\n",
       "      <td>21597.000000</td>\n",
       "      <td>21597.000000</td>\n",
       "      <td>21597.000000</td>\n",
       "      <td>2.159700e+04</td>\n",
       "      <td>21597.000000</td>\n",
       "      <td>19221.000000</td>\n",
       "      <td>21534.000000</td>\n",
       "      <td>21597.000000</td>\n",
       "      <td>21597.000000</td>\n",
       "      <td>21597.000000</td>\n",
       "      <td>21597.000000</td>\n",
       "      <td>17755.000000</td>\n",
       "      <td>21597.000000</td>\n",
       "      <td>21597.000000</td>\n",
       "      <td>21597.000000</td>\n",
       "      <td>21597.000000</td>\n",
       "      <td>21597.000000</td>\n",
       "    </tr>\n",
       "    <tr>\n",
       "      <th>mean</th>\n",
       "      <td>4.580474e+09</td>\n",
       "      <td>5.402966e+05</td>\n",
       "      <td>3.373200</td>\n",
       "      <td>2.115826</td>\n",
       "      <td>2080.321850</td>\n",
       "      <td>1.509941e+04</td>\n",
       "      <td>1.494096</td>\n",
       "      <td>0.007596</td>\n",
       "      <td>0.233863</td>\n",
       "      <td>3.409825</td>\n",
       "      <td>7.657915</td>\n",
       "      <td>1788.596842</td>\n",
       "      <td>1970.999676</td>\n",
       "      <td>83.636778</td>\n",
       "      <td>98077.951845</td>\n",
       "      <td>47.560093</td>\n",
       "      <td>-122.213982</td>\n",
       "      <td>1986.620318</td>\n",
       "      <td>12758.283512</td>\n",
       "    </tr>\n",
       "    <tr>\n",
       "      <th>std</th>\n",
       "      <td>2.876736e+09</td>\n",
       "      <td>3.673681e+05</td>\n",
       "      <td>0.926299</td>\n",
       "      <td>0.768984</td>\n",
       "      <td>918.106125</td>\n",
       "      <td>4.141264e+04</td>\n",
       "      <td>0.539683</td>\n",
       "      <td>0.086825</td>\n",
       "      <td>0.765686</td>\n",
       "      <td>0.650546</td>\n",
       "      <td>1.173200</td>\n",
       "      <td>827.759761</td>\n",
       "      <td>29.375234</td>\n",
       "      <td>399.946414</td>\n",
       "      <td>53.513072</td>\n",
       "      <td>0.138552</td>\n",
       "      <td>0.140724</td>\n",
       "      <td>685.230472</td>\n",
       "      <td>27274.441950</td>\n",
       "    </tr>\n",
       "    <tr>\n",
       "      <th>min</th>\n",
       "      <td>1.000102e+06</td>\n",
       "      <td>7.800000e+04</td>\n",
       "      <td>1.000000</td>\n",
       "      <td>0.500000</td>\n",
       "      <td>370.000000</td>\n",
       "      <td>5.200000e+02</td>\n",
       "      <td>1.000000</td>\n",
       "      <td>0.000000</td>\n",
       "      <td>0.000000</td>\n",
       "      <td>1.000000</td>\n",
       "      <td>3.000000</td>\n",
       "      <td>370.000000</td>\n",
       "      <td>1900.000000</td>\n",
       "      <td>0.000000</td>\n",
       "      <td>98001.000000</td>\n",
       "      <td>47.155900</td>\n",
       "      <td>-122.519000</td>\n",
       "      <td>399.000000</td>\n",
       "      <td>651.000000</td>\n",
       "    </tr>\n",
       "    <tr>\n",
       "      <th>25%</th>\n",
       "      <td>2.123049e+09</td>\n",
       "      <td>3.220000e+05</td>\n",
       "      <td>3.000000</td>\n",
       "      <td>1.750000</td>\n",
       "      <td>1430.000000</td>\n",
       "      <td>5.040000e+03</td>\n",
       "      <td>1.000000</td>\n",
       "      <td>0.000000</td>\n",
       "      <td>0.000000</td>\n",
       "      <td>3.000000</td>\n",
       "      <td>7.000000</td>\n",
       "      <td>1190.000000</td>\n",
       "      <td>1951.000000</td>\n",
       "      <td>0.000000</td>\n",
       "      <td>98033.000000</td>\n",
       "      <td>47.471100</td>\n",
       "      <td>-122.328000</td>\n",
       "      <td>1490.000000</td>\n",
       "      <td>5100.000000</td>\n",
       "    </tr>\n",
       "    <tr>\n",
       "      <th>50%</th>\n",
       "      <td>3.904930e+09</td>\n",
       "      <td>4.500000e+05</td>\n",
       "      <td>3.000000</td>\n",
       "      <td>2.250000</td>\n",
       "      <td>1910.000000</td>\n",
       "      <td>7.618000e+03</td>\n",
       "      <td>1.500000</td>\n",
       "      <td>0.000000</td>\n",
       "      <td>0.000000</td>\n",
       "      <td>3.000000</td>\n",
       "      <td>7.000000</td>\n",
       "      <td>1560.000000</td>\n",
       "      <td>1975.000000</td>\n",
       "      <td>0.000000</td>\n",
       "      <td>98065.000000</td>\n",
       "      <td>47.571800</td>\n",
       "      <td>-122.231000</td>\n",
       "      <td>1840.000000</td>\n",
       "      <td>7620.000000</td>\n",
       "    </tr>\n",
       "    <tr>\n",
       "      <th>75%</th>\n",
       "      <td>7.308900e+09</td>\n",
       "      <td>6.450000e+05</td>\n",
       "      <td>4.000000</td>\n",
       "      <td>2.500000</td>\n",
       "      <td>2550.000000</td>\n",
       "      <td>1.068500e+04</td>\n",
       "      <td>2.000000</td>\n",
       "      <td>0.000000</td>\n",
       "      <td>0.000000</td>\n",
       "      <td>4.000000</td>\n",
       "      <td>8.000000</td>\n",
       "      <td>2210.000000</td>\n",
       "      <td>1997.000000</td>\n",
       "      <td>0.000000</td>\n",
       "      <td>98118.000000</td>\n",
       "      <td>47.678000</td>\n",
       "      <td>-122.125000</td>\n",
       "      <td>2360.000000</td>\n",
       "      <td>10083.000000</td>\n",
       "    </tr>\n",
       "    <tr>\n",
       "      <th>max</th>\n",
       "      <td>9.900000e+09</td>\n",
       "      <td>7.700000e+06</td>\n",
       "      <td>33.000000</td>\n",
       "      <td>8.000000</td>\n",
       "      <td>13540.000000</td>\n",
       "      <td>1.651359e+06</td>\n",
       "      <td>3.500000</td>\n",
       "      <td>1.000000</td>\n",
       "      <td>4.000000</td>\n",
       "      <td>5.000000</td>\n",
       "      <td>13.000000</td>\n",
       "      <td>9410.000000</td>\n",
       "      <td>2015.000000</td>\n",
       "      <td>2015.000000</td>\n",
       "      <td>98199.000000</td>\n",
       "      <td>47.777600</td>\n",
       "      <td>-121.315000</td>\n",
       "      <td>6210.000000</td>\n",
       "      <td>871200.000000</td>\n",
       "    </tr>\n",
       "  </tbody>\n",
       "</table>\n",
       "</div>"
      ],
      "text/plain": [
       "                 id         price      bedrooms     bathrooms   sqft_living  \\\n",
       "count  2.159700e+04  2.159700e+04  21597.000000  21597.000000  21597.000000   \n",
       "mean   4.580474e+09  5.402966e+05      3.373200      2.115826   2080.321850   \n",
       "std    2.876736e+09  3.673681e+05      0.926299      0.768984    918.106125   \n",
       "min    1.000102e+06  7.800000e+04      1.000000      0.500000    370.000000   \n",
       "25%    2.123049e+09  3.220000e+05      3.000000      1.750000   1430.000000   \n",
       "50%    3.904930e+09  4.500000e+05      3.000000      2.250000   1910.000000   \n",
       "75%    7.308900e+09  6.450000e+05      4.000000      2.500000   2550.000000   \n",
       "max    9.900000e+09  7.700000e+06     33.000000      8.000000  13540.000000   \n",
       "\n",
       "           sqft_lot        floors    waterfront          view     condition  \\\n",
       "count  2.159700e+04  21597.000000  19221.000000  21534.000000  21597.000000   \n",
       "mean   1.509941e+04      1.494096      0.007596      0.233863      3.409825   \n",
       "std    4.141264e+04      0.539683      0.086825      0.765686      0.650546   \n",
       "min    5.200000e+02      1.000000      0.000000      0.000000      1.000000   \n",
       "25%    5.040000e+03      1.000000      0.000000      0.000000      3.000000   \n",
       "50%    7.618000e+03      1.500000      0.000000      0.000000      3.000000   \n",
       "75%    1.068500e+04      2.000000      0.000000      0.000000      4.000000   \n",
       "max    1.651359e+06      3.500000      1.000000      4.000000      5.000000   \n",
       "\n",
       "              grade    sqft_above      yr_built  yr_renovated       zipcode  \\\n",
       "count  21597.000000  21597.000000  21597.000000  17755.000000  21597.000000   \n",
       "mean       7.657915   1788.596842   1970.999676     83.636778  98077.951845   \n",
       "std        1.173200    827.759761     29.375234    399.946414     53.513072   \n",
       "min        3.000000    370.000000   1900.000000      0.000000  98001.000000   \n",
       "25%        7.000000   1190.000000   1951.000000      0.000000  98033.000000   \n",
       "50%        7.000000   1560.000000   1975.000000      0.000000  98065.000000   \n",
       "75%        8.000000   2210.000000   1997.000000      0.000000  98118.000000   \n",
       "max       13.000000   9410.000000   2015.000000   2015.000000  98199.000000   \n",
       "\n",
       "                lat          long  sqft_living15     sqft_lot15  \n",
       "count  21597.000000  21597.000000   21597.000000   21597.000000  \n",
       "mean      47.560093   -122.213982    1986.620318   12758.283512  \n",
       "std        0.138552      0.140724     685.230472   27274.441950  \n",
       "min       47.155900   -122.519000     399.000000     651.000000  \n",
       "25%       47.471100   -122.328000    1490.000000    5100.000000  \n",
       "50%       47.571800   -122.231000    1840.000000    7620.000000  \n",
       "75%       47.678000   -122.125000    2360.000000   10083.000000  \n",
       "max       47.777600   -121.315000    6210.000000  871200.000000  "
      ]
     },
     "execution_count": 10,
     "metadata": {},
     "output_type": "execute_result"
    }
   ],
   "source": [
    "#looking at basic stats to see anything out of place.\n",
    "\n",
    "df.describe()"
   ]
  },
  {
   "cell_type": "code",
   "execution_count": 11,
   "metadata": {},
   "outputs": [
    {
     "data": {
      "text/html": [
       "<div>\n",
       "<style scoped>\n",
       "    .dataframe tbody tr th:only-of-type {\n",
       "        vertical-align: middle;\n",
       "    }\n",
       "\n",
       "    .dataframe tbody tr th {\n",
       "        vertical-align: top;\n",
       "    }\n",
       "\n",
       "    .dataframe thead th {\n",
       "        text-align: right;\n",
       "    }\n",
       "</style>\n",
       "<table border=\"1\" class=\"dataframe\">\n",
       "  <thead>\n",
       "    <tr style=\"text-align: right;\">\n",
       "      <th></th>\n",
       "      <th>id</th>\n",
       "      <th>date</th>\n",
       "      <th>price</th>\n",
       "      <th>bedrooms</th>\n",
       "      <th>bathrooms</th>\n",
       "      <th>sqft_living</th>\n",
       "      <th>sqft_lot</th>\n",
       "      <th>floors</th>\n",
       "      <th>waterfront</th>\n",
       "      <th>view</th>\n",
       "      <th>...</th>\n",
       "      <th>grade</th>\n",
       "      <th>sqft_above</th>\n",
       "      <th>sqft_basement</th>\n",
       "      <th>yr_built</th>\n",
       "      <th>yr_renovated</th>\n",
       "      <th>zipcode</th>\n",
       "      <th>lat</th>\n",
       "      <th>long</th>\n",
       "      <th>sqft_living15</th>\n",
       "      <th>sqft_lot15</th>\n",
       "    </tr>\n",
       "  </thead>\n",
       "  <tbody>\n",
       "    <tr>\n",
       "      <th>3</th>\n",
       "      <td>2487200875</td>\n",
       "      <td>12/9/2014</td>\n",
       "      <td>604000.0</td>\n",
       "      <td>4</td>\n",
       "      <td>3.00</td>\n",
       "      <td>1960</td>\n",
       "      <td>5000</td>\n",
       "      <td>1.0</td>\n",
       "      <td>0.0</td>\n",
       "      <td>0.0</td>\n",
       "      <td>...</td>\n",
       "      <td>7</td>\n",
       "      <td>1050</td>\n",
       "      <td>910.0</td>\n",
       "      <td>1965</td>\n",
       "      <td>0.0</td>\n",
       "      <td>98136</td>\n",
       "      <td>47.5208</td>\n",
       "      <td>-122.393</td>\n",
       "      <td>1360</td>\n",
       "      <td>5000</td>\n",
       "    </tr>\n",
       "    <tr>\n",
       "      <th>4</th>\n",
       "      <td>1954400510</td>\n",
       "      <td>2/18/2015</td>\n",
       "      <td>510000.0</td>\n",
       "      <td>3</td>\n",
       "      <td>2.00</td>\n",
       "      <td>1680</td>\n",
       "      <td>8080</td>\n",
       "      <td>1.0</td>\n",
       "      <td>0.0</td>\n",
       "      <td>0.0</td>\n",
       "      <td>...</td>\n",
       "      <td>8</td>\n",
       "      <td>1680</td>\n",
       "      <td>0.0</td>\n",
       "      <td>1987</td>\n",
       "      <td>0.0</td>\n",
       "      <td>98074</td>\n",
       "      <td>47.6168</td>\n",
       "      <td>-122.045</td>\n",
       "      <td>1800</td>\n",
       "      <td>7503</td>\n",
       "    </tr>\n",
       "    <tr>\n",
       "      <th>5</th>\n",
       "      <td>7237550310</td>\n",
       "      <td>5/12/2014</td>\n",
       "      <td>1230000.0</td>\n",
       "      <td>4</td>\n",
       "      <td>4.50</td>\n",
       "      <td>5420</td>\n",
       "      <td>101930</td>\n",
       "      <td>1.0</td>\n",
       "      <td>0.0</td>\n",
       "      <td>0.0</td>\n",
       "      <td>...</td>\n",
       "      <td>11</td>\n",
       "      <td>3890</td>\n",
       "      <td>1530.0</td>\n",
       "      <td>2001</td>\n",
       "      <td>0.0</td>\n",
       "      <td>98053</td>\n",
       "      <td>47.6561</td>\n",
       "      <td>-122.005</td>\n",
       "      <td>4760</td>\n",
       "      <td>101930</td>\n",
       "    </tr>\n",
       "    <tr>\n",
       "      <th>6</th>\n",
       "      <td>1321400060</td>\n",
       "      <td>6/27/2014</td>\n",
       "      <td>257500.0</td>\n",
       "      <td>3</td>\n",
       "      <td>2.25</td>\n",
       "      <td>1715</td>\n",
       "      <td>6819</td>\n",
       "      <td>2.0</td>\n",
       "      <td>0.0</td>\n",
       "      <td>0.0</td>\n",
       "      <td>...</td>\n",
       "      <td>7</td>\n",
       "      <td>1715</td>\n",
       "      <td>?</td>\n",
       "      <td>1995</td>\n",
       "      <td>0.0</td>\n",
       "      <td>98003</td>\n",
       "      <td>47.3097</td>\n",
       "      <td>-122.327</td>\n",
       "      <td>2238</td>\n",
       "      <td>6819</td>\n",
       "    </tr>\n",
       "    <tr>\n",
       "      <th>8</th>\n",
       "      <td>2414600126</td>\n",
       "      <td>4/15/2015</td>\n",
       "      <td>229500.0</td>\n",
       "      <td>3</td>\n",
       "      <td>1.00</td>\n",
       "      <td>1780</td>\n",
       "      <td>7470</td>\n",
       "      <td>1.0</td>\n",
       "      <td>0.0</td>\n",
       "      <td>0.0</td>\n",
       "      <td>...</td>\n",
       "      <td>7</td>\n",
       "      <td>1050</td>\n",
       "      <td>730.0</td>\n",
       "      <td>1960</td>\n",
       "      <td>0.0</td>\n",
       "      <td>98146</td>\n",
       "      <td>47.5123</td>\n",
       "      <td>-122.337</td>\n",
       "      <td>1780</td>\n",
       "      <td>8113</td>\n",
       "    </tr>\n",
       "    <tr>\n",
       "      <th>...</th>\n",
       "      <td>...</td>\n",
       "      <td>...</td>\n",
       "      <td>...</td>\n",
       "      <td>...</td>\n",
       "      <td>...</td>\n",
       "      <td>...</td>\n",
       "      <td>...</td>\n",
       "      <td>...</td>\n",
       "      <td>...</td>\n",
       "      <td>...</td>\n",
       "      <td>...</td>\n",
       "      <td>...</td>\n",
       "      <td>...</td>\n",
       "      <td>...</td>\n",
       "      <td>...</td>\n",
       "      <td>...</td>\n",
       "      <td>...</td>\n",
       "      <td>...</td>\n",
       "      <td>...</td>\n",
       "      <td>...</td>\n",
       "      <td>...</td>\n",
       "    </tr>\n",
       "    <tr>\n",
       "      <th>21591</th>\n",
       "      <td>2997800021</td>\n",
       "      <td>2/19/2015</td>\n",
       "      <td>475000.0</td>\n",
       "      <td>3</td>\n",
       "      <td>2.50</td>\n",
       "      <td>1310</td>\n",
       "      <td>1294</td>\n",
       "      <td>2.0</td>\n",
       "      <td>0.0</td>\n",
       "      <td>0.0</td>\n",
       "      <td>...</td>\n",
       "      <td>8</td>\n",
       "      <td>1180</td>\n",
       "      <td>130.0</td>\n",
       "      <td>2008</td>\n",
       "      <td>0.0</td>\n",
       "      <td>98116</td>\n",
       "      <td>47.5773</td>\n",
       "      <td>-122.409</td>\n",
       "      <td>1330</td>\n",
       "      <td>1265</td>\n",
       "    </tr>\n",
       "    <tr>\n",
       "      <th>21592</th>\n",
       "      <td>263000018</td>\n",
       "      <td>5/21/2014</td>\n",
       "      <td>360000.0</td>\n",
       "      <td>3</td>\n",
       "      <td>2.50</td>\n",
       "      <td>1530</td>\n",
       "      <td>1131</td>\n",
       "      <td>3.0</td>\n",
       "      <td>0.0</td>\n",
       "      <td>0.0</td>\n",
       "      <td>...</td>\n",
       "      <td>8</td>\n",
       "      <td>1530</td>\n",
       "      <td>0.0</td>\n",
       "      <td>2009</td>\n",
       "      <td>0.0</td>\n",
       "      <td>98103</td>\n",
       "      <td>47.6993</td>\n",
       "      <td>-122.346</td>\n",
       "      <td>1530</td>\n",
       "      <td>1509</td>\n",
       "    </tr>\n",
       "    <tr>\n",
       "      <th>21593</th>\n",
       "      <td>6600060120</td>\n",
       "      <td>2/23/2015</td>\n",
       "      <td>400000.0</td>\n",
       "      <td>4</td>\n",
       "      <td>2.50</td>\n",
       "      <td>2310</td>\n",
       "      <td>5813</td>\n",
       "      <td>2.0</td>\n",
       "      <td>0.0</td>\n",
       "      <td>0.0</td>\n",
       "      <td>...</td>\n",
       "      <td>8</td>\n",
       "      <td>2310</td>\n",
       "      <td>0.0</td>\n",
       "      <td>2014</td>\n",
       "      <td>0.0</td>\n",
       "      <td>98146</td>\n",
       "      <td>47.5107</td>\n",
       "      <td>-122.362</td>\n",
       "      <td>1830</td>\n",
       "      <td>7200</td>\n",
       "    </tr>\n",
       "    <tr>\n",
       "      <th>21594</th>\n",
       "      <td>1523300141</td>\n",
       "      <td>6/23/2014</td>\n",
       "      <td>402101.0</td>\n",
       "      <td>2</td>\n",
       "      <td>0.75</td>\n",
       "      <td>1020</td>\n",
       "      <td>1350</td>\n",
       "      <td>2.0</td>\n",
       "      <td>0.0</td>\n",
       "      <td>0.0</td>\n",
       "      <td>...</td>\n",
       "      <td>7</td>\n",
       "      <td>1020</td>\n",
       "      <td>0.0</td>\n",
       "      <td>2009</td>\n",
       "      <td>0.0</td>\n",
       "      <td>98144</td>\n",
       "      <td>47.5944</td>\n",
       "      <td>-122.299</td>\n",
       "      <td>1020</td>\n",
       "      <td>2007</td>\n",
       "    </tr>\n",
       "    <tr>\n",
       "      <th>21596</th>\n",
       "      <td>1523300157</td>\n",
       "      <td>10/15/2014</td>\n",
       "      <td>325000.0</td>\n",
       "      <td>2</td>\n",
       "      <td>0.75</td>\n",
       "      <td>1020</td>\n",
       "      <td>1076</td>\n",
       "      <td>2.0</td>\n",
       "      <td>0.0</td>\n",
       "      <td>0.0</td>\n",
       "      <td>...</td>\n",
       "      <td>7</td>\n",
       "      <td>1020</td>\n",
       "      <td>0.0</td>\n",
       "      <td>2008</td>\n",
       "      <td>0.0</td>\n",
       "      <td>98144</td>\n",
       "      <td>47.5941</td>\n",
       "      <td>-122.299</td>\n",
       "      <td>1020</td>\n",
       "      <td>1357</td>\n",
       "    </tr>\n",
       "  </tbody>\n",
       "</table>\n",
       "<p>15111 rows × 21 columns</p>\n",
       "</div>"
      ],
      "text/plain": [
       "               id        date      price  bedrooms  bathrooms  sqft_living  \\\n",
       "3      2487200875   12/9/2014   604000.0         4       3.00         1960   \n",
       "4      1954400510   2/18/2015   510000.0         3       2.00         1680   \n",
       "5      7237550310   5/12/2014  1230000.0         4       4.50         5420   \n",
       "6      1321400060   6/27/2014   257500.0         3       2.25         1715   \n",
       "8      2414600126   4/15/2015   229500.0         3       1.00         1780   \n",
       "...           ...         ...        ...       ...        ...          ...   \n",
       "21591  2997800021   2/19/2015   475000.0         3       2.50         1310   \n",
       "21592   263000018   5/21/2014   360000.0         3       2.50         1530   \n",
       "21593  6600060120   2/23/2015   400000.0         4       2.50         2310   \n",
       "21594  1523300141   6/23/2014   402101.0         2       0.75         1020   \n",
       "21596  1523300157  10/15/2014   325000.0         2       0.75         1020   \n",
       "\n",
       "       sqft_lot  floors  waterfront  view  ...  grade  sqft_above  \\\n",
       "3          5000     1.0         0.0   0.0  ...      7        1050   \n",
       "4          8080     1.0         0.0   0.0  ...      8        1680   \n",
       "5        101930     1.0         0.0   0.0  ...     11        3890   \n",
       "6          6819     2.0         0.0   0.0  ...      7        1715   \n",
       "8          7470     1.0         0.0   0.0  ...      7        1050   \n",
       "...         ...     ...         ...   ...  ...    ...         ...   \n",
       "21591      1294     2.0         0.0   0.0  ...      8        1180   \n",
       "21592      1131     3.0         0.0   0.0  ...      8        1530   \n",
       "21593      5813     2.0         0.0   0.0  ...      8        2310   \n",
       "21594      1350     2.0         0.0   0.0  ...      7        1020   \n",
       "21596      1076     2.0         0.0   0.0  ...      7        1020   \n",
       "\n",
       "       sqft_basement yr_built  yr_renovated  zipcode      lat     long  \\\n",
       "3              910.0     1965           0.0    98136  47.5208 -122.393   \n",
       "4                0.0     1987           0.0    98074  47.6168 -122.045   \n",
       "5             1530.0     2001           0.0    98053  47.6561 -122.005   \n",
       "6                  ?     1995           0.0    98003  47.3097 -122.327   \n",
       "8              730.0     1960           0.0    98146  47.5123 -122.337   \n",
       "...              ...      ...           ...      ...      ...      ...   \n",
       "21591          130.0     2008           0.0    98116  47.5773 -122.409   \n",
       "21592            0.0     2009           0.0    98103  47.6993 -122.346   \n",
       "21593            0.0     2014           0.0    98146  47.5107 -122.362   \n",
       "21594            0.0     2009           0.0    98144  47.5944 -122.299   \n",
       "21596            0.0     2008           0.0    98144  47.5941 -122.299   \n",
       "\n",
       "       sqft_living15  sqft_lot15  \n",
       "3               1360        5000  \n",
       "4               1800        7503  \n",
       "5               4760      101930  \n",
       "6               2238        6819  \n",
       "8               1780        8113  \n",
       "...              ...         ...  \n",
       "21591           1330        1265  \n",
       "21592           1530        1509  \n",
       "21593           1830        7200  \n",
       "21594           1020        2007  \n",
       "21596           1020        1357  \n",
       "\n",
       "[15111 rows x 21 columns]"
      ]
     },
     "execution_count": 11,
     "metadata": {},
     "output_type": "execute_result"
    }
   ],
   "source": [
    "#Creating a data frame that removes all renovated homes.\n",
    "df_nonreno = df[df.yr_renovated == 0]\n",
    "df_nonreno = df_nonreno.dropna()\n",
    "df_nonreno"
   ]
  },
  {
   "cell_type": "code",
   "execution_count": 12,
   "metadata": {},
   "outputs": [
    {
     "data": {
      "text/plain": [
       "id               False\n",
       "date             False\n",
       "price            False\n",
       "bedrooms         False\n",
       "bathrooms        False\n",
       "sqft_living      False\n",
       "sqft_lot         False\n",
       "floors           False\n",
       "waterfront       False\n",
       "view             False\n",
       "condition        False\n",
       "grade            False\n",
       "sqft_above       False\n",
       "sqft_basement    False\n",
       "yr_built         False\n",
       "yr_renovated     False\n",
       "zipcode          False\n",
       "lat              False\n",
       "long             False\n",
       "sqft_living15    False\n",
       "sqft_lot15       False\n",
       "dtype: bool"
      ]
     },
     "metadata": {},
     "output_type": "display_data"
    },
    {
     "data": {
      "text/plain": [
       "(15111, 21)"
      ]
     },
     "execution_count": 12,
     "metadata": {},
     "output_type": "execute_result"
    }
   ],
   "source": [
    "#check for nulls\n",
    "display(df_nonreno.isnull().any())\n",
    "df_nonreno.shape"
   ]
  },
  {
   "cell_type": "code",
   "execution_count": 73,
   "metadata": {},
   "outputs": [
    {
     "data": {
      "text/plain": [
       "(320000.0, 633000.0)"
      ]
     },
     "execution_count": 73,
     "metadata": {},
     "output_type": "execute_result"
    }
   ],
   "source": [
    "min_threshold, max_threshold = df_nonreno.price.quantile([0.25, 0.75])\n",
    "min_threshold, max_threshold\n",
    "\n",
    "#removing outliers with interquartile method\n"
   ]
  },
  {
   "cell_type": "code",
   "execution_count": 74,
   "metadata": {},
   "outputs": [],
   "source": [
    "df_1 = df_nonreno[(df_nonreno.price < max_threshold) & (df_nonreno.price > min_threshold)]"
   ]
  },
  {
   "cell_type": "code",
   "execution_count": 75,
   "metadata": {},
   "outputs": [
    {
     "data": {
      "text/plain": [
       "(7491, 21)"
      ]
     },
     "execution_count": 75,
     "metadata": {},
     "output_type": "execute_result"
    }
   ],
   "source": [
    "df_1.shape"
   ]
  },
  {
   "cell_type": "code",
   "execution_count": 87,
   "metadata": {},
   "outputs": [],
   "source": [
    "#Separating out continuous and categorical columns for future use\n",
    "conts= []\n",
    "cats= []"
   ]
  },
  {
   "cell_type": "code",
   "execution_count": 88,
   "metadata": {},
   "outputs": [],
   "source": [
    "for col in df_1.columns:\n",
    "    if (df_nonreno[col].nunique() < 25):\n",
    "        cats.append(col)\n",
    "    else: \n",
    "        conts.append(col)"
   ]
  },
  {
   "cell_type": "code",
   "execution_count": 89,
   "metadata": {},
   "outputs": [
    {
     "data": {
      "text/plain": [
       "['id',\n",
       " 'date',\n",
       " 'price',\n",
       " 'bathrooms',\n",
       " 'sqft_living',\n",
       " 'sqft_lot',\n",
       " 'sqft_above',\n",
       " 'sqft_basement',\n",
       " 'yr_built',\n",
       " 'zipcode',\n",
       " 'lat',\n",
       " 'long',\n",
       " 'sqft_living15',\n",
       " 'sqft_lot15']"
      ]
     },
     "execution_count": 89,
     "metadata": {},
     "output_type": "execute_result"
    }
   ],
   "source": [
    "conts"
   ]
  },
  {
   "cell_type": "code",
   "execution_count": 90,
   "metadata": {},
   "outputs": [
    {
     "data": {
      "text/plain": [
       "['bedrooms',\n",
       " 'floors',\n",
       " 'waterfront',\n",
       " 'view',\n",
       " 'condition',\n",
       " 'grade',\n",
       " 'yr_renovated']"
      ]
     },
     "execution_count": 90,
     "metadata": {},
     "output_type": "execute_result"
    }
   ],
   "source": [
    "cats"
   ]
  },
  {
   "cell_type": "code",
   "execution_count": 91,
   "metadata": {},
   "outputs": [],
   "source": [
    "df_conts = df_1.loc[:,conts]"
   ]
  },
  {
   "cell_type": "code",
   "execution_count": 92,
   "metadata": {},
   "outputs": [],
   "source": [
    "df_cats = df_1.loc[:,cats]"
   ]
  },
  {
   "cell_type": "code",
   "execution_count": 93,
   "metadata": {},
   "outputs": [
    {
     "data": {
      "text/plain": [
       "array([[<AxesSubplot:title={'center':'id'}>,\n",
       "        <AxesSubplot:title={'center':'price'}>,\n",
       "        <AxesSubplot:title={'center':'bathrooms'}>],\n",
       "       [<AxesSubplot:title={'center':'sqft_living'}>,\n",
       "        <AxesSubplot:title={'center':'sqft_lot'}>,\n",
       "        <AxesSubplot:title={'center':'sqft_above'}>],\n",
       "       [<AxesSubplot:title={'center':'yr_built'}>,\n",
       "        <AxesSubplot:title={'center':'zipcode'}>,\n",
       "        <AxesSubplot:title={'center':'lat'}>],\n",
       "       [<AxesSubplot:title={'center':'long'}>,\n",
       "        <AxesSubplot:title={'center':'sqft_living15'}>,\n",
       "        <AxesSubplot:title={'center':'sqft_lot15'}>]], dtype=object)"
      ]
     },
     "execution_count": 93,
     "metadata": {},
     "output_type": "execute_result"
    },
    {
     "data": {
      "image/png": "[encoded data removed]",
      "text/plain": [
       "<Figure size 864x720 with 12 Axes>"
      ]
     },
     "metadata": {
      "needs_background": "light"
     },
     "output_type": "display_data"
    }
   ],
   "source": [
    "df_conts.hist(figsize = (12,10))"
   ]
  },
  {
   "cell_type": "code",
   "execution_count": 100,
   "metadata": {},
   "outputs": [
    {
     "data": {
      "text/plain": [
       "<AxesSubplot:>"
      ]
     },
     "execution_count": 100,
     "metadata": {},
     "output_type": "execute_result"
    },
    {
     "data": {
      "image/png": "[encoded data removed]",
      "text/plain": [
       "<Figure size 432x288 with 1 Axes>"
      ]
     },
     "metadata": {
      "needs_background": "light"
     },
     "output_type": "display_data"
    }
   ],
   "source": [
    "df_1.bathrooms.hist()"
   ]
  },
  {
   "cell_type": "code",
   "execution_count": 104,
   "metadata": {},
   "outputs": [],
   "source": [
    "df_1 = df_1[df_1['bathrooms'] < 4]"
   ]
  },
  {
   "cell_type": "code",
   "execution_count": 105,
   "metadata": {},
   "outputs": [
    {
     "data": {
      "text/plain": [
       "<AxesSubplot:>"
      ]
     },
     "execution_count": 105,
     "metadata": {},
     "output_type": "execute_result"
    },
    {
     "data": {
      "image/png": "[encoded data removed]",
      "text/plain": [
       "<Figure size 432x288 with 1 Axes>"
      ]
     },
     "metadata": {
      "needs_background": "light"
     },
     "output_type": "display_data"
    }
   ],
   "source": [
    "df_1.bathrooms.hist()"
   ]
  },
  {
   "cell_type": "code",
   "execution_count": 106,
   "metadata": {},
   "outputs": [
    {
     "data": {
      "text/plain": [
       "array([[<AxesSubplot:title={'center':'bedrooms'}>,\n",
       "        <AxesSubplot:title={'center':'floors'}>,\n",
       "        <AxesSubplot:title={'center':'waterfront'}>],\n",
       "       [<AxesSubplot:title={'center':'view'}>,\n",
       "        <AxesSubplot:title={'center':'condition'}>,\n",
       "        <AxesSubplot:title={'center':'grade'}>],\n",
       "       [<AxesSubplot:title={'center':'yr_renovated'}>, <AxesSubplot:>,\n",
       "        <AxesSubplot:>]], dtype=object)"
      ]
     },
     "execution_count": 106,
     "metadata": {},
     "output_type": "execute_result"
    },
    {
     "data": {
      "image/png": "[encoded data removed]",
      "text/plain": [
       "<Figure size 864x720 with 9 Axes>"
      ]
     },
     "metadata": {
      "needs_background": "light"
     },
     "output_type": "display_data"
    }
   ],
   "source": [
    "df_cats.hist(figsize = (12,10))"
   ]
  },
  {
   "cell_type": "code",
   "execution_count": 149,
   "metadata": {},
   "outputs": [
    {
     "data": {
      "text/plain": [
       "<AxesSubplot:>"
      ]
     },
     "execution_count": 149,
     "metadata": {},
     "output_type": "execute_result"
    },
    {
     "data": {
      "image/png": "[encoded data removed]",
      "text/plain": [
       "<Figure size 432x288 with 1 Axes>"
      ]
     },
     "metadata": {
      "needs_background": "light"
     },
     "output_type": "display_data"
    }
   ],
   "source": [
    "df_1.bedrooms.hist()"
   ]
  },
  {
   "cell_type": "code",
   "execution_count": null,
   "metadata": {},
   "outputs": [],
   "source": []
  },
  {
   "cell_type": "code",
   "execution_count": null,
   "metadata": {},
   "outputs": [],
   "source": []
  },
  {
   "cell_type": "code",
   "execution_count": null,
   "metadata": {},
   "outputs": [],
   "source": []
  },
  {
   "cell_type": "code",
   "execution_count": 109,
   "metadata": {},
   "outputs": [
    {
     "data": {
      "text/plain": [
       "(7463, 21)"
      ]
     },
     "execution_count": 109,
     "metadata": {},
     "output_type": "execute_result"
    }
   ],
   "source": [
    "#checking to see that the shape is smaller due to outliers being removed\n",
    "df_1.shape"
   ]
  },
  {
   "cell_type": "code",
   "execution_count": 110,
   "metadata": {},
   "outputs": [
    {
     "data": {
      "text/html": [
       "<div>\n",
       "<style scoped>\n",
       "    .dataframe tbody tr th:only-of-type {\n",
       "        vertical-align: middle;\n",
       "    }\n",
       "\n",
       "    .dataframe tbody tr th {\n",
       "        vertical-align: top;\n",
       "    }\n",
       "\n",
       "    .dataframe thead th {\n",
       "        text-align: right;\n",
       "    }\n",
       "</style>\n",
       "<table border=\"1\" class=\"dataframe\">\n",
       "  <thead>\n",
       "    <tr style=\"text-align: right;\">\n",
       "      <th></th>\n",
       "      <th>id</th>\n",
       "      <th>date</th>\n",
       "      <th>price</th>\n",
       "      <th>bedrooms</th>\n",
       "      <th>bathrooms</th>\n",
       "      <th>sqft_living</th>\n",
       "      <th>sqft_lot</th>\n",
       "      <th>floors</th>\n",
       "      <th>waterfront</th>\n",
       "      <th>view</th>\n",
       "      <th>...</th>\n",
       "      <th>grade</th>\n",
       "      <th>sqft_above</th>\n",
       "      <th>sqft_basement</th>\n",
       "      <th>yr_built</th>\n",
       "      <th>yr_renovated</th>\n",
       "      <th>zipcode</th>\n",
       "      <th>lat</th>\n",
       "      <th>long</th>\n",
       "      <th>sqft_living15</th>\n",
       "      <th>sqft_lot15</th>\n",
       "    </tr>\n",
       "  </thead>\n",
       "  <tbody>\n",
       "    <tr>\n",
       "      <th>3</th>\n",
       "      <td>2487200875</td>\n",
       "      <td>12/9/2014</td>\n",
       "      <td>604000.0</td>\n",
       "      <td>4</td>\n",
       "      <td>3.00</td>\n",
       "      <td>1960</td>\n",
       "      <td>5000</td>\n",
       "      <td>1.0</td>\n",
       "      <td>0.0</td>\n",
       "      <td>0.0</td>\n",
       "      <td>...</td>\n",
       "      <td>7</td>\n",
       "      <td>1050</td>\n",
       "      <td>910.0</td>\n",
       "      <td>1965</td>\n",
       "      <td>0.0</td>\n",
       "      <td>98136</td>\n",
       "      <td>47.5208</td>\n",
       "      <td>-122.393</td>\n",
       "      <td>1360</td>\n",
       "      <td>5000</td>\n",
       "    </tr>\n",
       "    <tr>\n",
       "      <th>4</th>\n",
       "      <td>1954400510</td>\n",
       "      <td>2/18/2015</td>\n",
       "      <td>510000.0</td>\n",
       "      <td>3</td>\n",
       "      <td>2.00</td>\n",
       "      <td>1680</td>\n",
       "      <td>8080</td>\n",
       "      <td>1.0</td>\n",
       "      <td>0.0</td>\n",
       "      <td>0.0</td>\n",
       "      <td>...</td>\n",
       "      <td>8</td>\n",
       "      <td>1680</td>\n",
       "      <td>0.0</td>\n",
       "      <td>1987</td>\n",
       "      <td>0.0</td>\n",
       "      <td>98074</td>\n",
       "      <td>47.6168</td>\n",
       "      <td>-122.045</td>\n",
       "      <td>1800</td>\n",
       "      <td>7503</td>\n",
       "    </tr>\n",
       "    <tr>\n",
       "      <th>9</th>\n",
       "      <td>3793500160</td>\n",
       "      <td>3/12/2015</td>\n",
       "      <td>323000.0</td>\n",
       "      <td>3</td>\n",
       "      <td>2.50</td>\n",
       "      <td>1890</td>\n",
       "      <td>6560</td>\n",
       "      <td>2.0</td>\n",
       "      <td>0.0</td>\n",
       "      <td>0.0</td>\n",
       "      <td>...</td>\n",
       "      <td>7</td>\n",
       "      <td>1890</td>\n",
       "      <td>0.0</td>\n",
       "      <td>2003</td>\n",
       "      <td>0.0</td>\n",
       "      <td>98038</td>\n",
       "      <td>47.3684</td>\n",
       "      <td>-122.031</td>\n",
       "      <td>2390</td>\n",
       "      <td>7570</td>\n",
       "    </tr>\n",
       "    <tr>\n",
       "      <th>11</th>\n",
       "      <td>9212900260</td>\n",
       "      <td>5/27/2014</td>\n",
       "      <td>468000.0</td>\n",
       "      <td>2</td>\n",
       "      <td>1.00</td>\n",
       "      <td>1160</td>\n",
       "      <td>6000</td>\n",
       "      <td>1.0</td>\n",
       "      <td>0.0</td>\n",
       "      <td>0.0</td>\n",
       "      <td>...</td>\n",
       "      <td>7</td>\n",
       "      <td>860</td>\n",
       "      <td>300.0</td>\n",
       "      <td>1942</td>\n",
       "      <td>0.0</td>\n",
       "      <td>98115</td>\n",
       "      <td>47.6900</td>\n",
       "      <td>-122.292</td>\n",
       "      <td>1330</td>\n",
       "      <td>6000</td>\n",
       "    </tr>\n",
       "    <tr>\n",
       "      <th>13</th>\n",
       "      <td>6054650070</td>\n",
       "      <td>10/7/2014</td>\n",
       "      <td>400000.0</td>\n",
       "      <td>3</td>\n",
       "      <td>1.75</td>\n",
       "      <td>1370</td>\n",
       "      <td>9680</td>\n",
       "      <td>1.0</td>\n",
       "      <td>0.0</td>\n",
       "      <td>0.0</td>\n",
       "      <td>...</td>\n",
       "      <td>7</td>\n",
       "      <td>1370</td>\n",
       "      <td>0.0</td>\n",
       "      <td>1977</td>\n",
       "      <td>0.0</td>\n",
       "      <td>98074</td>\n",
       "      <td>47.6127</td>\n",
       "      <td>-122.045</td>\n",
       "      <td>1370</td>\n",
       "      <td>10208</td>\n",
       "    </tr>\n",
       "  </tbody>\n",
       "</table>\n",
       "<p>5 rows × 21 columns</p>\n",
       "</div>"
      ],
      "text/plain": [
       "            id       date     price  bedrooms  bathrooms  sqft_living  \\\n",
       "3   2487200875  12/9/2014  604000.0         4       3.00         1960   \n",
       "4   1954400510  2/18/2015  510000.0         3       2.00         1680   \n",
       "9   3793500160  3/12/2015  323000.0         3       2.50         1890   \n",
       "11  9212900260  5/27/2014  468000.0         2       1.00         1160   \n",
       "13  6054650070  10/7/2014  400000.0         3       1.75         1370   \n",
       "\n",
       "    sqft_lot  floors  waterfront  view  ...  grade  sqft_above  sqft_basement  \\\n",
       "3       5000     1.0         0.0   0.0  ...      7        1050          910.0   \n",
       "4       8080     1.0         0.0   0.0  ...      8        1680            0.0   \n",
       "9       6560     2.0         0.0   0.0  ...      7        1890            0.0   \n",
       "11      6000     1.0         0.0   0.0  ...      7         860          300.0   \n",
       "13      9680     1.0         0.0   0.0  ...      7        1370            0.0   \n",
       "\n",
       "   yr_built  yr_renovated  zipcode      lat     long  sqft_living15  \\\n",
       "3      1965           0.0    98136  47.5208 -122.393           1360   \n",
       "4      1987           0.0    98074  47.6168 -122.045           1800   \n",
       "9      2003           0.0    98038  47.3684 -122.031           2390   \n",
       "11     1942           0.0    98115  47.6900 -122.292           1330   \n",
       "13     1977           0.0    98074  47.6127 -122.045           1370   \n",
       "\n",
       "    sqft_lot15  \n",
       "3         5000  \n",
       "4         7503  \n",
       "9         7570  \n",
       "11        6000  \n",
       "13       10208  \n",
       "\n",
       "[5 rows x 21 columns]"
      ]
     },
     "execution_count": 110,
     "metadata": {},
     "output_type": "execute_result"
    }
   ],
   "source": [
    "df_1.head()"
   ]
  },
  {
   "cell_type": "code",
   "execution_count": 111,
   "metadata": {},
   "outputs": [
    {
     "name": "stdout",
     "output_type": "stream",
     "text": [
      "<class 'pandas.core.frame.DataFrame'>\n",
      "Int64Index: 7463 entries, 3 to 21596\n",
      "Data columns (total 21 columns):\n",
      " #   Column         Non-Null Count  Dtype  \n",
      "---  ------         --------------  -----  \n",
      " 0   id             7463 non-null   int64  \n",
      " 1   date           7463 non-null   object \n",
      " 2   price          7463 non-null   float64\n",
      " 3   bedrooms       7463 non-null   int64  \n",
      " 4   bathrooms      7463 non-null   float64\n",
      " 5   sqft_living    7463 non-null   int64  \n",
      " 6   sqft_lot       7463 non-null   int64  \n",
      " 7   floors         7463 non-null   float64\n",
      " 8   waterfront     7463 non-null   float64\n",
      " 9   view           7463 non-null   float64\n",
      " 10  condition      7463 non-null   int64  \n",
      " 11  grade          7463 non-null   int64  \n",
      " 12  sqft_above     7463 non-null   int64  \n",
      " 13  sqft_basement  7463 non-null   object \n",
      " 14  yr_built       7463 non-null   int64  \n",
      " 15  yr_renovated   7463 non-null   float64\n",
      " 16  zipcode        7463 non-null   int64  \n",
      " 17  lat            7463 non-null   float64\n",
      " 18  long           7463 non-null   float64\n",
      " 19  sqft_living15  7463 non-null   int64  \n",
      " 20  sqft_lot15     7463 non-null   int64  \n",
      "dtypes: float64(8), int64(11), object(2)\n",
      "memory usage: 1.3+ MB\n"
     ]
    }
   ],
   "source": [
    "df_1.info()"
   ]
  },
  {
   "cell_type": "code",
   "execution_count": 112,
   "metadata": {},
   "outputs": [],
   "source": [
    "#removed objects\n",
    "\n",
    "drop_these = ['date', 'sqft_basement']\n",
    "df_1 = df_1.drop(columns=drop_these)"
   ]
  },
  {
   "cell_type": "code",
   "execution_count": 113,
   "metadata": {},
   "outputs": [
    {
     "data": {
      "text/plain": [
       "<AxesSubplot:>"
      ]
     },
     "execution_count": 113,
     "metadata": {},
     "output_type": "execute_result"
    },
    {
     "data": {
      "image/png": "[encoded data removed]",
      "text/plain": [
       "<Figure size 576x504 with 2 Axes>"
      ]
     },
     "metadata": {
      "needs_background": "light"
     },
     "output_type": "display_data"
    }
   ],
   "source": [
    "#Looking at the correlation between different columns to check for multicollinearity.\n",
    "\n",
    "plt.figure(figsize = (8,7))\n",
    "sns.heatmap(df_1.corr(), cmap = 'RdBu')"
   ]
  },
  {
   "cell_type": "code",
   "execution_count": 114,
   "metadata": {},
   "outputs": [
    {
     "data": {
      "text/html": [
       "<div>\n",
       "<style scoped>\n",
       "    .dataframe tbody tr th:only-of-type {\n",
       "        vertical-align: middle;\n",
       "    }\n",
       "\n",
       "    .dataframe tbody tr th {\n",
       "        vertical-align: top;\n",
       "    }\n",
       "\n",
       "    .dataframe thead th {\n",
       "        text-align: right;\n",
       "    }\n",
       "</style>\n",
       "<table border=\"1\" class=\"dataframe\">\n",
       "  <thead>\n",
       "    <tr style=\"text-align: right;\">\n",
       "      <th></th>\n",
       "      <th>id</th>\n",
       "      <th>price</th>\n",
       "      <th>bedrooms</th>\n",
       "      <th>bathrooms</th>\n",
       "      <th>sqft_living</th>\n",
       "      <th>sqft_lot</th>\n",
       "      <th>floors</th>\n",
       "      <th>waterfront</th>\n",
       "      <th>view</th>\n",
       "      <th>condition</th>\n",
       "      <th>grade</th>\n",
       "      <th>sqft_above</th>\n",
       "      <th>yr_built</th>\n",
       "      <th>yr_renovated</th>\n",
       "      <th>zipcode</th>\n",
       "      <th>lat</th>\n",
       "      <th>long</th>\n",
       "      <th>sqft_living15</th>\n",
       "      <th>sqft_lot15</th>\n",
       "    </tr>\n",
       "  </thead>\n",
       "  <tbody>\n",
       "    <tr>\n",
       "      <th>id</th>\n",
       "      <td>1.000000</td>\n",
       "      <td>0.057410</td>\n",
       "      <td>0.008167</td>\n",
       "      <td>0.039582</td>\n",
       "      <td>0.028813</td>\n",
       "      <td>-0.166215</td>\n",
       "      <td>0.043157</td>\n",
       "      <td>-0.019462</td>\n",
       "      <td>0.021230</td>\n",
       "      <td>-0.042187</td>\n",
       "      <td>0.056489</td>\n",
       "      <td>0.040676</td>\n",
       "      <td>0.033303</td>\n",
       "      <td>NaN</td>\n",
       "      <td>0.015404</td>\n",
       "      <td>0.008384</td>\n",
       "      <td>0.029212</td>\n",
       "      <td>0.031312</td>\n",
       "      <td>-0.163285</td>\n",
       "    </tr>\n",
       "    <tr>\n",
       "      <th>price</th>\n",
       "      <td>0.057410</td>\n",
       "      <td>1.000000</td>\n",
       "      <td>0.103860</td>\n",
       "      <td>0.162901</td>\n",
       "      <td>0.250375</td>\n",
       "      <td>0.051550</td>\n",
       "      <td>0.071197</td>\n",
       "      <td>-0.000221</td>\n",
       "      <td>0.076655</td>\n",
       "      <td>0.045759</td>\n",
       "      <td>0.279945</td>\n",
       "      <td>0.173766</td>\n",
       "      <td>-0.043132</td>\n",
       "      <td>NaN</td>\n",
       "      <td>-0.049999</td>\n",
       "      <td>0.235994</td>\n",
       "      <td>0.045814</td>\n",
       "      <td>0.228798</td>\n",
       "      <td>0.049972</td>\n",
       "    </tr>\n",
       "    <tr>\n",
       "      <th>bedrooms</th>\n",
       "      <td>0.008167</td>\n",
       "      <td>0.103860</td>\n",
       "      <td>1.000000</td>\n",
       "      <td>0.442493</td>\n",
       "      <td>0.607144</td>\n",
       "      <td>0.021837</td>\n",
       "      <td>0.067009</td>\n",
       "      <td>-0.046290</td>\n",
       "      <td>0.010038</td>\n",
       "      <td>0.023191</td>\n",
       "      <td>0.216999</td>\n",
       "      <td>0.442826</td>\n",
       "      <td>0.156021</td>\n",
       "      <td>NaN</td>\n",
       "      <td>-0.200740</td>\n",
       "      <td>-0.186543</td>\n",
       "      <td>0.178658</td>\n",
       "      <td>0.369780</td>\n",
       "      <td>0.016265</td>\n",
       "    </tr>\n",
       "    <tr>\n",
       "      <th>bathrooms</th>\n",
       "      <td>0.039582</td>\n",
       "      <td>0.162901</td>\n",
       "      <td>0.442493</td>\n",
       "      <td>1.000000</td>\n",
       "      <td>0.624024</td>\n",
       "      <td>0.028575</td>\n",
       "      <td>0.477179</td>\n",
       "      <td>-0.045602</td>\n",
       "      <td>0.004866</td>\n",
       "      <td>-0.173052</td>\n",
       "      <td>0.525752</td>\n",
       "      <td>0.551551</td>\n",
       "      <td>0.631429</td>\n",
       "      <td>NaN</td>\n",
       "      <td>-0.254120</td>\n",
       "      <td>-0.246707</td>\n",
       "      <td>0.290045</td>\n",
       "      <td>0.442290</td>\n",
       "      <td>0.026945</td>\n",
       "    </tr>\n",
       "    <tr>\n",
       "      <th>sqft_living</th>\n",
       "      <td>0.028813</td>\n",
       "      <td>0.250375</td>\n",
       "      <td>0.607144</td>\n",
       "      <td>0.624024</td>\n",
       "      <td>1.000000</td>\n",
       "      <td>0.144037</td>\n",
       "      <td>0.210679</td>\n",
       "      <td>-0.027832</td>\n",
       "      <td>0.087357</td>\n",
       "      <td>-0.073777</td>\n",
       "      <td>0.544033</td>\n",
       "      <td>0.799772</td>\n",
       "      <td>0.371493</td>\n",
       "      <td>NaN</td>\n",
       "      <td>-0.298893</td>\n",
       "      <td>-0.370093</td>\n",
       "      <td>0.324726</td>\n",
       "      <td>0.683063</td>\n",
       "      <td>0.155227</td>\n",
       "    </tr>\n",
       "    <tr>\n",
       "      <th>sqft_lot</th>\n",
       "      <td>-0.166215</td>\n",
       "      <td>0.051550</td>\n",
       "      <td>0.021837</td>\n",
       "      <td>0.028575</td>\n",
       "      <td>0.144037</td>\n",
       "      <td>1.000000</td>\n",
       "      <td>-0.068475</td>\n",
       "      <td>0.011647</td>\n",
       "      <td>0.121325</td>\n",
       "      <td>0.014277</td>\n",
       "      <td>0.036305</td>\n",
       "      <td>0.137114</td>\n",
       "      <td>0.042560</td>\n",
       "      <td>NaN</td>\n",
       "      <td>-0.174860</td>\n",
       "      <td>-0.195286</td>\n",
       "      <td>0.255851</td>\n",
       "      <td>0.169830</td>\n",
       "      <td>0.796673</td>\n",
       "    </tr>\n",
       "    <tr>\n",
       "      <th>floors</th>\n",
       "      <td>0.043157</td>\n",
       "      <td>0.071197</td>\n",
       "      <td>0.067009</td>\n",
       "      <td>0.477179</td>\n",
       "      <td>0.210679</td>\n",
       "      <td>-0.068475</td>\n",
       "      <td>1.000000</td>\n",
       "      <td>-0.020389</td>\n",
       "      <td>-0.061586</td>\n",
       "      <td>-0.312920</td>\n",
       "      <td>0.426201</td>\n",
       "      <td>0.467361</td>\n",
       "      <td>0.568878</td>\n",
       "      <td>NaN</td>\n",
       "      <td>-0.070967</td>\n",
       "      <td>-0.158953</td>\n",
       "      <td>0.103716</td>\n",
       "      <td>0.149416</td>\n",
       "      <td>-0.062589</td>\n",
       "    </tr>\n",
       "    <tr>\n",
       "      <th>waterfront</th>\n",
       "      <td>-0.019462</td>\n",
       "      <td>-0.000221</td>\n",
       "      <td>-0.046290</td>\n",
       "      <td>-0.045602</td>\n",
       "      <td>-0.027832</td>\n",
       "      <td>0.011647</td>\n",
       "      <td>-0.020389</td>\n",
       "      <td>1.000000</td>\n",
       "      <td>0.264524</td>\n",
       "      <td>0.033920</td>\n",
       "      <td>-0.032906</td>\n",
       "      <td>-0.027240</td>\n",
       "      <td>-0.038119</td>\n",
       "      <td>NaN</td>\n",
       "      <td>0.025718</td>\n",
       "      <td>-0.055645</td>\n",
       "      <td>-0.052780</td>\n",
       "      <td>-0.012409</td>\n",
       "      <td>0.025641</td>\n",
       "    </tr>\n",
       "    <tr>\n",
       "      <th>view</th>\n",
       "      <td>0.021230</td>\n",
       "      <td>0.076655</td>\n",
       "      <td>0.010038</td>\n",
       "      <td>0.004866</td>\n",
       "      <td>0.087357</td>\n",
       "      <td>0.121325</td>\n",
       "      <td>-0.061586</td>\n",
       "      <td>0.264524</td>\n",
       "      <td>1.000000</td>\n",
       "      <td>0.034794</td>\n",
       "      <td>0.047882</td>\n",
       "      <td>0.006568</td>\n",
       "      <td>-0.069692</td>\n",
       "      <td>NaN</td>\n",
       "      <td>0.096088</td>\n",
       "      <td>-0.153777</td>\n",
       "      <td>-0.067724</td>\n",
       "      <td>0.118145</td>\n",
       "      <td>0.112953</td>\n",
       "    </tr>\n",
       "    <tr>\n",
       "      <th>condition</th>\n",
       "      <td>-0.042187</td>\n",
       "      <td>0.045759</td>\n",
       "      <td>0.023191</td>\n",
       "      <td>-0.173052</td>\n",
       "      <td>-0.073777</td>\n",
       "      <td>0.014277</td>\n",
       "      <td>-0.312920</td>\n",
       "      <td>0.033920</td>\n",
       "      <td>0.034794</td>\n",
       "      <td>1.000000</td>\n",
       "      <td>-0.231297</td>\n",
       "      <td>-0.196604</td>\n",
       "      <td>-0.396504</td>\n",
       "      <td>NaN</td>\n",
       "      <td>0.040916</td>\n",
       "      <td>0.026626</td>\n",
       "      <td>-0.123659</td>\n",
       "      <td>-0.139879</td>\n",
       "      <td>0.014933</td>\n",
       "    </tr>\n",
       "    <tr>\n",
       "      <th>grade</th>\n",
       "      <td>0.056489</td>\n",
       "      <td>0.279945</td>\n",
       "      <td>0.216999</td>\n",
       "      <td>0.525752</td>\n",
       "      <td>0.544033</td>\n",
       "      <td>0.036305</td>\n",
       "      <td>0.426201</td>\n",
       "      <td>-0.032906</td>\n",
       "      <td>0.047882</td>\n",
       "      <td>-0.231297</td>\n",
       "      <td>1.000000</td>\n",
       "      <td>0.584798</td>\n",
       "      <td>0.555394</td>\n",
       "      <td>NaN</td>\n",
       "      <td>-0.244223</td>\n",
       "      <td>-0.262716</td>\n",
       "      <td>0.219264</td>\n",
       "      <td>0.524308</td>\n",
       "      <td>0.044998</td>\n",
       "    </tr>\n",
       "    <tr>\n",
       "      <th>sqft_above</th>\n",
       "      <td>0.040676</td>\n",
       "      <td>0.173766</td>\n",
       "      <td>0.442826</td>\n",
       "      <td>0.551551</td>\n",
       "      <td>0.799772</td>\n",
       "      <td>0.137114</td>\n",
       "      <td>0.467361</td>\n",
       "      <td>-0.027240</td>\n",
       "      <td>0.006568</td>\n",
       "      <td>-0.196604</td>\n",
       "      <td>0.584798</td>\n",
       "      <td>1.000000</td>\n",
       "      <td>0.490536</td>\n",
       "      <td>NaN</td>\n",
       "      <td>-0.375136</td>\n",
       "      <td>-0.405205</td>\n",
       "      <td>0.419290</td>\n",
       "      <td>0.661994</td>\n",
       "      <td>0.145417</td>\n",
       "    </tr>\n",
       "    <tr>\n",
       "      <th>yr_built</th>\n",
       "      <td>0.033303</td>\n",
       "      <td>-0.043132</td>\n",
       "      <td>0.156021</td>\n",
       "      <td>0.631429</td>\n",
       "      <td>0.371493</td>\n",
       "      <td>0.042560</td>\n",
       "      <td>0.568878</td>\n",
       "      <td>-0.038119</td>\n",
       "      <td>-0.069692</td>\n",
       "      <td>-0.396504</td>\n",
       "      <td>0.555394</td>\n",
       "      <td>0.490536</td>\n",
       "      <td>1.000000</td>\n",
       "      <td>NaN</td>\n",
       "      <td>-0.340126</td>\n",
       "      <td>-0.243814</td>\n",
       "      <td>0.410203</td>\n",
       "      <td>0.362833</td>\n",
       "      <td>0.056904</td>\n",
       "    </tr>\n",
       "    <tr>\n",
       "      <th>yr_renovated</th>\n",
       "      <td>NaN</td>\n",
       "      <td>NaN</td>\n",
       "      <td>NaN</td>\n",
       "      <td>NaN</td>\n",
       "      <td>NaN</td>\n",
       "      <td>NaN</td>\n",
       "      <td>NaN</td>\n",
       "      <td>NaN</td>\n",
       "      <td>NaN</td>\n",
       "      <td>NaN</td>\n",
       "      <td>NaN</td>\n",
       "      <td>NaN</td>\n",
       "      <td>NaN</td>\n",
       "      <td>NaN</td>\n",
       "      <td>NaN</td>\n",
       "      <td>NaN</td>\n",
       "      <td>NaN</td>\n",
       "      <td>NaN</td>\n",
       "      <td>NaN</td>\n",
       "    </tr>\n",
       "    <tr>\n",
       "      <th>zipcode</th>\n",
       "      <td>0.015404</td>\n",
       "      <td>-0.049999</td>\n",
       "      <td>-0.200740</td>\n",
       "      <td>-0.254120</td>\n",
       "      <td>-0.298893</td>\n",
       "      <td>-0.174860</td>\n",
       "      <td>-0.070967</td>\n",
       "      <td>0.025718</td>\n",
       "      <td>0.096088</td>\n",
       "      <td>0.040916</td>\n",
       "      <td>-0.244223</td>\n",
       "      <td>-0.375136</td>\n",
       "      <td>-0.340126</td>\n",
       "      <td>NaN</td>\n",
       "      <td>1.000000</td>\n",
       "      <td>0.215187</td>\n",
       "      <td>-0.643078</td>\n",
       "      <td>-0.389876</td>\n",
       "      <td>-0.182976</td>\n",
       "    </tr>\n",
       "    <tr>\n",
       "      <th>lat</th>\n",
       "      <td>0.008384</td>\n",
       "      <td>0.235994</td>\n",
       "      <td>-0.186543</td>\n",
       "      <td>-0.246707</td>\n",
       "      <td>-0.370093</td>\n",
       "      <td>-0.195286</td>\n",
       "      <td>-0.158953</td>\n",
       "      <td>-0.055645</td>\n",
       "      <td>-0.153777</td>\n",
       "      <td>0.026626</td>\n",
       "      <td>-0.262716</td>\n",
       "      <td>-0.405205</td>\n",
       "      <td>-0.243814</td>\n",
       "      <td>NaN</td>\n",
       "      <td>0.215187</td>\n",
       "      <td>1.000000</td>\n",
       "      <td>-0.219111</td>\n",
       "      <td>-0.340539</td>\n",
       "      <td>-0.183876</td>\n",
       "    </tr>\n",
       "    <tr>\n",
       "      <th>long</th>\n",
       "      <td>0.029212</td>\n",
       "      <td>0.045814</td>\n",
       "      <td>0.178658</td>\n",
       "      <td>0.290045</td>\n",
       "      <td>0.324726</td>\n",
       "      <td>0.255851</td>\n",
       "      <td>0.103716</td>\n",
       "      <td>-0.052780</td>\n",
       "      <td>-0.067724</td>\n",
       "      <td>-0.123659</td>\n",
       "      <td>0.219264</td>\n",
       "      <td>0.419290</td>\n",
       "      <td>0.410203</td>\n",
       "      <td>NaN</td>\n",
       "      <td>-0.643078</td>\n",
       "      <td>-0.219111</td>\n",
       "      <td>1.000000</td>\n",
       "      <td>0.417059</td>\n",
       "      <td>0.265472</td>\n",
       "    </tr>\n",
       "    <tr>\n",
       "      <th>sqft_living15</th>\n",
       "      <td>0.031312</td>\n",
       "      <td>0.228798</td>\n",
       "      <td>0.369780</td>\n",
       "      <td>0.442290</td>\n",
       "      <td>0.683063</td>\n",
       "      <td>0.169830</td>\n",
       "      <td>0.149416</td>\n",
       "      <td>-0.012409</td>\n",
       "      <td>0.118145</td>\n",
       "      <td>-0.139879</td>\n",
       "      <td>0.524308</td>\n",
       "      <td>0.661994</td>\n",
       "      <td>0.362833</td>\n",
       "      <td>NaN</td>\n",
       "      <td>-0.389876</td>\n",
       "      <td>-0.340539</td>\n",
       "      <td>0.417059</td>\n",
       "      <td>1.000000</td>\n",
       "      <td>0.194306</td>\n",
       "    </tr>\n",
       "    <tr>\n",
       "      <th>sqft_lot15</th>\n",
       "      <td>-0.163285</td>\n",
       "      <td>0.049972</td>\n",
       "      <td>0.016265</td>\n",
       "      <td>0.026945</td>\n",
       "      <td>0.155227</td>\n",
       "      <td>0.796673</td>\n",
       "      <td>-0.062589</td>\n",
       "      <td>0.025641</td>\n",
       "      <td>0.112953</td>\n",
       "      <td>0.014933</td>\n",
       "      <td>0.044998</td>\n",
       "      <td>0.145417</td>\n",
       "      <td>0.056904</td>\n",
       "      <td>NaN</td>\n",
       "      <td>-0.182976</td>\n",
       "      <td>-0.183876</td>\n",
       "      <td>0.265472</td>\n",
       "      <td>0.194306</td>\n",
       "      <td>1.000000</td>\n",
       "    </tr>\n",
       "  </tbody>\n",
       "</table>\n",
       "</div>"
      ],
      "text/plain": [
       "                     id     price  bedrooms  bathrooms  sqft_living  sqft_lot  \\\n",
       "id             1.000000  0.057410  0.008167   0.039582     0.028813 -0.166215   \n",
       "price          0.057410  1.000000  0.103860   0.162901     0.250375  0.051550   \n",
       "bedrooms       0.008167  0.103860  1.000000   0.442493     0.607144  0.021837   \n",
       "bathrooms      0.039582  0.162901  0.442493   1.000000     0.624024  0.028575   \n",
       "sqft_living    0.028813  0.250375  0.607144   0.624024     1.000000  0.144037   \n",
       "sqft_lot      -0.166215  0.051550  0.021837   0.028575     0.144037  1.000000   \n",
       "floors         0.043157  0.071197  0.067009   0.477179     0.210679 -0.068475   \n",
       "waterfront    -0.019462 -0.000221 -0.046290  -0.045602    -0.027832  0.011647   \n",
       "view           0.021230  0.076655  0.010038   0.004866     0.087357  0.121325   \n",
       "condition     -0.042187  0.045759  0.023191  -0.173052    -0.073777  0.014277   \n",
       "grade          0.056489  0.279945  0.216999   0.525752     0.544033  0.036305   \n",
       "sqft_above     0.040676  0.173766  0.442826   0.551551     0.799772  0.137114   \n",
       "yr_built       0.033303 -0.043132  0.156021   0.631429     0.371493  0.042560   \n",
       "yr_renovated        NaN       NaN       NaN        NaN          NaN       NaN   \n",
       "zipcode        0.015404 -0.049999 -0.200740  -0.254120    -0.298893 -0.174860   \n",
       "lat            0.008384  0.235994 -0.186543  -0.246707    -0.370093 -0.195286   \n",
       "long           0.029212  0.045814  0.178658   0.290045     0.324726  0.255851   \n",
       "sqft_living15  0.031312  0.228798  0.369780   0.442290     0.683063  0.169830   \n",
       "sqft_lot15    -0.163285  0.049972  0.016265   0.026945     0.155227  0.796673   \n",
       "\n",
       "                 floors  waterfront      view  condition     grade  \\\n",
       "id             0.043157   -0.019462  0.021230  -0.042187  0.056489   \n",
       "price          0.071197   -0.000221  0.076655   0.045759  0.279945   \n",
       "bedrooms       0.067009   -0.046290  0.010038   0.023191  0.216999   \n",
       "bathrooms      0.477179   -0.045602  0.004866  -0.173052  0.525752   \n",
       "sqft_living    0.210679   -0.027832  0.087357  -0.073777  0.544033   \n",
       "sqft_lot      -0.068475    0.011647  0.121325   0.014277  0.036305   \n",
       "floors         1.000000   -0.020389 -0.061586  -0.312920  0.426201   \n",
       "waterfront    -0.020389    1.000000  0.264524   0.033920 -0.032906   \n",
       "view          -0.061586    0.264524  1.000000   0.034794  0.047882   \n",
       "condition     -0.312920    0.033920  0.034794   1.000000 -0.231297   \n",
       "grade          0.426201   -0.032906  0.047882  -0.231297  1.000000   \n",
       "sqft_above     0.467361   -0.027240  0.006568  -0.196604  0.584798   \n",
       "yr_built       0.568878   -0.038119 -0.069692  -0.396504  0.555394   \n",
       "yr_renovated        NaN         NaN       NaN        NaN       NaN   \n",
       "zipcode       -0.070967    0.025718  0.096088   0.040916 -0.244223   \n",
       "lat           -0.158953   -0.055645 -0.153777   0.026626 -0.262716   \n",
       "long           0.103716   -0.052780 -0.067724  -0.123659  0.219264   \n",
       "sqft_living15  0.149416   -0.012409  0.118145  -0.139879  0.524308   \n",
       "sqft_lot15    -0.062589    0.025641  0.112953   0.014933  0.044998   \n",
       "\n",
       "               sqft_above  yr_built  yr_renovated   zipcode       lat  \\\n",
       "id               0.040676  0.033303           NaN  0.015404  0.008384   \n",
       "price            0.173766 -0.043132           NaN -0.049999  0.235994   \n",
       "bedrooms         0.442826  0.156021           NaN -0.200740 -0.186543   \n",
       "bathrooms        0.551551  0.631429           NaN -0.254120 -0.246707   \n",
       "sqft_living      0.799772  0.371493           NaN -0.298893 -0.370093   \n",
       "sqft_lot         0.137114  0.042560           NaN -0.174860 -0.195286   \n",
       "floors           0.467361  0.568878           NaN -0.070967 -0.158953   \n",
       "waterfront      -0.027240 -0.038119           NaN  0.025718 -0.055645   \n",
       "view             0.006568 -0.069692           NaN  0.096088 -0.153777   \n",
       "condition       -0.196604 -0.396504           NaN  0.040916  0.026626   \n",
       "grade            0.584798  0.555394           NaN -0.244223 -0.262716   \n",
       "sqft_above       1.000000  0.490536           NaN -0.375136 -0.405205   \n",
       "yr_built         0.490536  1.000000           NaN -0.340126 -0.243814   \n",
       "yr_renovated          NaN       NaN           NaN       NaN       NaN   \n",
       "zipcode         -0.375136 -0.340126           NaN  1.000000  0.215187   \n",
       "lat             -0.405205 -0.243814           NaN  0.215187  1.000000   \n",
       "long             0.419290  0.410203           NaN -0.643078 -0.219111   \n",
       "sqft_living15    0.661994  0.362833           NaN -0.389876 -0.340539   \n",
       "sqft_lot15       0.145417  0.056904           NaN -0.182976 -0.183876   \n",
       "\n",
       "                   long  sqft_living15  sqft_lot15  \n",
       "id             0.029212       0.031312   -0.163285  \n",
       "price          0.045814       0.228798    0.049972  \n",
       "bedrooms       0.178658       0.369780    0.016265  \n",
       "bathrooms      0.290045       0.442290    0.026945  \n",
       "sqft_living    0.324726       0.683063    0.155227  \n",
       "sqft_lot       0.255851       0.169830    0.796673  \n",
       "floors         0.103716       0.149416   -0.062589  \n",
       "waterfront    -0.052780      -0.012409    0.025641  \n",
       "view          -0.067724       0.118145    0.112953  \n",
       "condition     -0.123659      -0.139879    0.014933  \n",
       "grade          0.219264       0.524308    0.044998  \n",
       "sqft_above     0.419290       0.661994    0.145417  \n",
       "yr_built       0.410203       0.362833    0.056904  \n",
       "yr_renovated        NaN            NaN         NaN  \n",
       "zipcode       -0.643078      -0.389876   -0.182976  \n",
       "lat           -0.219111      -0.340539   -0.183876  \n",
       "long           1.000000       0.417059    0.265472  \n",
       "sqft_living15  0.417059       1.000000    0.194306  \n",
       "sqft_lot15     0.265472       0.194306    1.000000  "
      ]
     },
     "execution_count": 114,
     "metadata": {},
     "output_type": "execute_result"
    }
   ],
   "source": [
    "df_1.corr()"
   ]
  },
  {
   "cell_type": "code",
   "execution_count": 131,
   "metadata": {},
   "outputs": [
    {
     "name": "stdout",
     "output_type": "stream",
     "text": [
      "DATA BEFORE\n",
      "----------------------------------------------------------------------------------------------------\n"
     ]
    },
    {
     "name": "stderr",
     "output_type": "stream",
     "text": [
      "/Users/andrewozbun/opt/anaconda3/envs/learn-env/lib/python3.8/site-packages/statsmodels/regression/linear_model.py:1715: RuntimeWarning: divide by zero encountered in double_scalars\n",
      "  return 1 - self.ssr/self.centered_tss\n",
      "/Users/andrewozbun/opt/anaconda3/envs/learn-env/lib/python3.8/site-packages/statsmodels/regression/linear_model.py:1715: RuntimeWarning: invalid value encountered in double_scalars\n",
      "  return 1 - self.ssr/self.centered_tss\n"
     ]
    },
    {
     "data": {
      "text/plain": [
       "const            0.000000\n",
       "id               1.050223\n",
       "price            1.467752\n",
       "bedrooms         1.738973\n",
       "bathrooms        2.747368\n",
       "sqft_living      5.350057\n",
       "sqft_lot         2.809206\n",
       "floors           2.259178\n",
       "waterfront       1.086952\n",
       "view             1.189195\n",
       "condition        1.260109\n",
       "grade            2.204575\n",
       "sqft_above       4.783382\n",
       "yr_built         2.943083\n",
       "yr_renovated          NaN\n",
       "zipcode          1.847844\n",
       "lat              1.529496\n",
       "long             2.101515\n",
       "sqft_living15    2.401203\n",
       "sqft_lot15       2.814863\n",
       "dtype: float64"
      ]
     },
     "metadata": {},
     "output_type": "display_data"
    },
    {
     "name": "stdout",
     "output_type": "stream",
     "text": [
      "DATA AFTER\n",
      "----------------------------------------------------------------------------------------------------\n"
     ]
    },
    {
     "data": {
      "text/plain": [
       "const         0.000000\n",
       "id            1.045137\n",
       "price         1.418608\n",
       "bathrooms     2.051191\n",
       "sqft_lot      1.178703\n",
       "floors        1.794416\n",
       "view          1.089857\n",
       "condition     1.248252\n",
       "grade         2.078945\n",
       "sqft_above    2.298791\n",
       "yr_built      2.896965\n",
       "zipcode       1.817409\n",
       "lat           1.499636\n",
       "long          2.055867\n",
       "dtype: float64"
      ]
     },
     "metadata": {},
     "output_type": "display_data"
    }
   ],
   "source": [
    "#eliminating multicolliniarity\n",
    "#variance inflation factor\n",
    "X1 = sm.tools.add_constant(df_1)\n",
    "#create a series for both\n",
    "series_before = pd.Series([variance_inflation_factor(X1.values, i ) for i in range(X1.shape[1])], index = X1.columns)\n",
    "\n",
    "print('DATA BEFORE')\n",
    "print('-'*100)\n",
    "display(series_before)\n",
    "\n",
    "df_1_after = df_1.drop(['sqft_living', 'yr_renovated', 'sqft_living15', 'sqft_lot15'], axis = 1)\n",
    "X2 = sm.tools.add_constant(df_1_after)\n",
    "series_after = pd.Series([variance_inflation_factor(X2.values, i ) for i in range(X2.shape[1])], index = X2.columns)\n",
    "\n",
    "print('DATA AFTER')\n",
    "print('-'*100)\n",
    "display(series_after)"
   ]
  },
  {
   "cell_type": "code",
   "execution_count": 132,
   "metadata": {},
   "outputs": [],
   "source": [
    "X = df_1_after.drop('price', axis = 1)\n",
    "y = df_1_after[['price']]\n",
    "\n",
    "#Split dataset into training and testing portion\n",
    "X_train, X_test, y_train, y_test = train_test_split(X, y, test_size = 0.20, random_state = 1)\n",
    "\n",
    "#create instance of our model\n",
    "regression_model = LinearRegression()\n"
   ]
  },
  {
   "cell_type": "code",
   "execution_count": 133,
   "metadata": {},
   "outputs": [
    {
     "data": {
      "text/plain": [
       "LinearRegression()"
      ]
     },
     "execution_count": 133,
     "metadata": {},
     "output_type": "execute_result"
    }
   ],
   "source": [
    "#fit the model\n",
    "regression_model.fit(X_train, y_train)"
   ]
  },
  {
   "cell_type": "code",
   "execution_count": 134,
   "metadata": {},
   "outputs": [
    {
     "name": "stdout",
     "output_type": "stream",
     "text": [
      "The intercept for our model is -6.65e+05\n",
      "----------------------------------------------------------------------------------------------------\n",
      "The Coefficient for id is 1.6e-06\n",
      "The Coefficient for bathrooms is 2.5e+04\n",
      "The Coefficient for sqft_lot is 0.26\n",
      "The Coefficient for floors is 1e+04\n",
      "The Coefficient for view is 1.5e+04\n",
      "The Coefficient for condition is 6.7e+03\n",
      "The Coefficient for grade is 4.1e+04\n",
      "The Coefficient for sqft_above is 2e+01\n",
      "The Coefficient for yr_built is -1.2e+03\n",
      "The Coefficient for zipcode is -5e+01\n",
      "The Coefficient for lat is 2.7e+05\n",
      "The Coefficient for long is 3.9e+04\n"
     ]
    }
   ],
   "source": [
    "#Exploring the intercept and coefficient\n",
    "\n",
    "intercept = regression_model.intercept_[0]\n",
    "coef = regression_model.coef_[0][0]\n",
    "\n",
    "print('The intercept for our model is {:.4}'.format(intercept))\n",
    "print('-'*100)\n",
    "\n",
    "#Loop through the dictionary and print the coeffcient data\n",
    "#so, for instance, for each unit in sqft_above, there is a 9.4% rise in price.\n",
    "for coef in zip(X.columns, regression_model.coef_[0]):\n",
    "    print('The Coefficient for {} is {:.2}'.format(coef[0], coef[1]))"
   ]
  },
  {
   "cell_type": "code",
   "execution_count": 135,
   "metadata": {},
   "outputs": [
    {
     "data": {
      "text/plain": [
       "array([[519935.93274921],\n",
       "       [396792.91377452],\n",
       "       [430136.21094284],\n",
       "       [507415.76821423],\n",
       "       [415940.94510986]])"
      ]
     },
     "execution_count": 135,
     "metadata": {},
     "output_type": "execute_result"
    }
   ],
   "source": [
    "#get predictions\n",
    "y_predict = regression_model.predict(X_test)\n",
    "#first five\n",
    "y_predict[:5]"
   ]
  },
  {
   "cell_type": "code",
   "execution_count": null,
   "metadata": {},
   "outputs": [],
   "source": []
  },
  {
   "cell_type": "code",
   "execution_count": 136,
   "metadata": {},
   "outputs": [],
   "source": [
    "import statsmodels.stats.diagnostic as sm_diagnostic"
   ]
  },
  {
   "cell_type": "code",
   "execution_count": 137,
   "metadata": {},
   "outputs": [],
   "source": [
    "X_1 = sm.add_constant(X)\n",
    "model = sm.OLS(y, X_1)\n",
    "est = model.fit()"
   ]
  },
  {
   "cell_type": "code",
   "execution_count": 138,
   "metadata": {},
   "outputs": [
    {
     "name": "stdout",
     "output_type": "stream",
     "text": [
      "6.494124124703454e-21 4.246721193630784e-21\n"
     ]
    }
   ],
   "source": [
    "#Heteroscedasticity checks\n",
    "\n",
    "_, pval, _, f_pval = diag.het_breuschpagan(est.resid, est.model.exog)\n",
    "print(pval, f_pval)\n"
   ]
  },
  {
   "cell_type": "code",
   "execution_count": 139,
   "metadata": {},
   "outputs": [
    {
     "data": {
      "image/png": "[encoded data removed]",
      "text/plain": [
       "<Figure size 432x288 with 1 Axes>"
      ]
     },
     "metadata": {
      "needs_background": "light"
     },
     "output_type": "display_data"
    },
    {
     "data": {
      "text/plain": [
       "1.1808467417671872e-05"
      ]
     },
     "execution_count": 139,
     "metadata": {},
     "output_type": "execute_result"
    }
   ],
   "source": [
    "#check for the normality of the residuals\n",
    "sm.qqplot(est.resid, line = 's')\n",
    "pylab.show()\n",
    "\n",
    "#check that the mean of the residuals is approx. 0\n",
    "mean_residuals = sum(est.resid) / len(est.resid)\n",
    "mean_residuals"
   ]
  },
  {
   "cell_type": "code",
   "execution_count": 140,
   "metadata": {},
   "outputs": [
    {
     "name": "stdout",
     "output_type": "stream",
     "text": [
      "MSE 5.35e+09\n",
      "MAE 6.01e+04\n",
      "RMSE 7.32e+04\n"
     ]
    }
   ],
   "source": [
    "#calculate the mean squared error\n",
    "model_mse = mean_squared_error(y_test, y_predict)\n",
    "#calculate the mean absolute error\n",
    "model_mae = mean_absolute_error(y_test, y_predict)\n",
    "\n",
    "#calculate the root mean squared error\n",
    "model_rmse = math.sqrt(model_mse)\n",
    "\n",
    "#display the output\n",
    "print(\"MSE {:.3}\".format(model_mse))\n",
    "print(\"MAE {:.3}\".format(model_mae))\n",
    "print(\"RMSE {:.3}\".format(model_rmse))"
   ]
  },
  {
   "cell_type": "code",
   "execution_count": 141,
   "metadata": {},
   "outputs": [
    {
     "data": {
      "text/plain": [
       "0.28985906730476074"
      ]
     },
     "execution_count": 141,
     "metadata": {},
     "output_type": "execute_result"
    }
   ],
   "source": [
    "#R2\n",
    "model_r2 = r2_score(y_test, y_predict)\n",
    "model_r2"
   ]
  },
  {
   "cell_type": "code",
   "execution_count": 142,
   "metadata": {},
   "outputs": [
    {
     "data": {
      "text/html": [
       "<div>\n",
       "<style scoped>\n",
       "    .dataframe tbody tr th:only-of-type {\n",
       "        vertical-align: middle;\n",
       "    }\n",
       "\n",
       "    .dataframe tbody tr th {\n",
       "        vertical-align: top;\n",
       "    }\n",
       "\n",
       "    .dataframe thead th {\n",
       "        text-align: right;\n",
       "    }\n",
       "</style>\n",
       "<table border=\"1\" class=\"dataframe\">\n",
       "  <thead>\n",
       "    <tr style=\"text-align: right;\">\n",
       "      <th></th>\n",
       "      <th>0</th>\n",
       "      <th>1</th>\n",
       "    </tr>\n",
       "  </thead>\n",
       "  <tbody>\n",
       "    <tr>\n",
       "      <th>const</th>\n",
       "      <td>-4.647899e+06</td>\n",
       "      <td>3.075146e+06</td>\n",
       "    </tr>\n",
       "    <tr>\n",
       "      <th>id</th>\n",
       "      <td>7.384394e-07</td>\n",
       "      <td>1.928257e-06</td>\n",
       "    </tr>\n",
       "    <tr>\n",
       "      <th>bathrooms</th>\n",
       "      <td>2.126943e+04</td>\n",
       "      <td>2.873228e+04</td>\n",
       "    </tr>\n",
       "    <tr>\n",
       "      <th>sqft_lot</th>\n",
       "      <td>1.696288e-01</td>\n",
       "      <td>2.744514e-01</td>\n",
       "    </tr>\n",
       "    <tr>\n",
       "      <th>floors</th>\n",
       "      <td>5.548513e+03</td>\n",
       "      <td>1.356120e+04</td>\n",
       "    </tr>\n",
       "    <tr>\n",
       "      <th>view</th>\n",
       "      <td>1.117990e+04</td>\n",
       "      <td>1.761568e+04</td>\n",
       "    </tr>\n",
       "    <tr>\n",
       "      <th>condition</th>\n",
       "      <td>4.488038e+03</td>\n",
       "      <td>1.039855e+04</td>\n",
       "    </tr>\n",
       "    <tr>\n",
       "      <th>grade</th>\n",
       "      <td>3.885306e+04</td>\n",
       "      <td>4.454048e+04</td>\n",
       "    </tr>\n",
       "    <tr>\n",
       "      <th>sqft_above</th>\n",
       "      <td>1.445168e+01</td>\n",
       "      <td>2.257603e+01</td>\n",
       "    </tr>\n",
       "    <tr>\n",
       "      <th>yr_built</th>\n",
       "      <td>-1.248152e+03</td>\n",
       "      <td>-1.060842e+03</td>\n",
       "    </tr>\n",
       "    <tr>\n",
       "      <th>zipcode</th>\n",
       "      <td>-9.546670e+01</td>\n",
       "      <td>-5.671802e+00</td>\n",
       "    </tr>\n",
       "    <tr>\n",
       "      <th>lat</th>\n",
       "      <td>2.520013e+05</td>\n",
       "      <td>2.807259e+05</td>\n",
       "    </tr>\n",
       "    <tr>\n",
       "      <th>long</th>\n",
       "      <td>2.179086e+04</td>\n",
       "      <td>5.412032e+04</td>\n",
       "    </tr>\n",
       "  </tbody>\n",
       "</table>\n",
       "</div>"
      ],
      "text/plain": [
       "                       0             1\n",
       "const      -4.647899e+06  3.075146e+06\n",
       "id          7.384394e-07  1.928257e-06\n",
       "bathrooms   2.126943e+04  2.873228e+04\n",
       "sqft_lot    1.696288e-01  2.744514e-01\n",
       "floors      5.548513e+03  1.356120e+04\n",
       "view        1.117990e+04  1.761568e+04\n",
       "condition   4.488038e+03  1.039855e+04\n",
       "grade       3.885306e+04  4.454048e+04\n",
       "sqft_above  1.445168e+01  2.257603e+01\n",
       "yr_built   -1.248152e+03 -1.060842e+03\n",
       "zipcode    -9.546670e+01 -5.671802e+00\n",
       "lat         2.520013e+05  2.807259e+05\n",
       "long        2.179086e+04  5.412032e+04"
      ]
     },
     "execution_count": 142,
     "metadata": {},
     "output_type": "execute_result"
    }
   ],
   "source": [
    "est.conf_int()"
   ]
  },
  {
   "cell_type": "code",
   "execution_count": 143,
   "metadata": {},
   "outputs": [
    {
     "data": {
      "text/plain": [
       "const          6.897571e-01\n",
       "id             1.130784e-05\n",
       "bathrooms      5.682406e-39\n",
       "sqft_lot       1.177861e-16\n",
       "floors         2.989202e-06\n",
       "view           2.170233e-18\n",
       "condition      8.093685e-07\n",
       "grade         2.150726e-172\n",
       "sqft_above     5.097352e-19\n",
       "yr_built      2.882151e-124\n",
       "zipcode        2.728014e-02\n",
       "lat           1.470054e-266\n",
       "long           4.236699e-06\n",
       "dtype: float64"
      ]
     },
     "execution_count": 143,
     "metadata": {},
     "output_type": "execute_result"
    }
   ],
   "source": [
    "est.pvalues"
   ]
  },
  {
   "cell_type": "code",
   "execution_count": 144,
   "metadata": {},
   "outputs": [
    {
     "name": "stdout",
     "output_type": "stream",
     "text": [
      "                            OLS Regression Results                            \n",
      "==============================================================================\n",
      "Dep. Variable:                  price   R-squared:                       0.295\n",
      "Model:                            OLS   Adj. R-squared:                  0.294\n",
      "Method:                 Least Squares   F-statistic:                     259.9\n",
      "Date:                Wed, 13 Jan 2021   Prob (F-statistic):               0.00\n",
      "Time:                        17:17:36   Log-Likelihood:                -94190.\n",
      "No. Observations:                7463   AIC:                         1.884e+05\n",
      "Df Residuals:                    7450   BIC:                         1.885e+05\n",
      "Df Model:                          12                                         \n",
      "Covariance Type:            nonrobust                                         \n",
      "==============================================================================\n",
      "                 coef    std err          t      P>|t|      [0.025      0.975]\n",
      "------------------------------------------------------------------------------\n",
      "const      -7.864e+05   1.97e+06     -0.399      0.690   -4.65e+06    3.08e+06\n",
      "id          1.333e-06   3.03e-07      4.394      0.000    7.38e-07    1.93e-06\n",
      "bathrooms     2.5e+04   1903.515     13.134      0.000    2.13e+04    2.87e+04\n",
      "sqft_lot       0.2220      0.027      8.305      0.000       0.170       0.274\n",
      "floors      9554.8552   2043.758      4.675      0.000    5548.513    1.36e+04\n",
      "view         1.44e+04   1641.544      8.771      0.000    1.12e+04    1.76e+04\n",
      "condition   7443.2923   1507.566      4.937      0.000    4488.038    1.04e+04\n",
      "grade        4.17e+04   1450.664     28.743      0.000    3.89e+04    4.45e+04\n",
      "sqft_above    18.5139      2.072      8.934      0.000      14.452      22.576\n",
      "yr_built   -1154.4970     47.776    -24.165      0.000   -1248.152   -1060.842\n",
      "zipcode      -50.5693     22.904     -2.208      0.027     -95.467      -5.672\n",
      "lat         2.664e+05   7326.636     36.356      0.000    2.52e+05    2.81e+05\n",
      "long        3.796e+04   8246.122      4.603      0.000    2.18e+04    5.41e+04\n",
      "==============================================================================\n",
      "Omnibus:                      190.608   Durbin-Watson:                   2.012\n",
      "Prob(Omnibus):                  0.000   Jarque-Bera (JB):              147.545\n",
      "Skew:                           0.259   Prob(JB):                     9.14e-33\n",
      "Kurtosis:                       2.545   Cond. No.                     1.26e+13\n",
      "==============================================================================\n",
      "\n",
      "Notes:\n",
      "[1] Standard Errors assume that the covariance matrix of the errors is correctly specified.\n",
      "[2] The condition number is large, 1.26e+13. This might indicate that there are\n",
      "strong multicollinearity or other numerical problems.\n"
     ]
    }
   ],
   "source": [
    "print(est.summary())"
   ]
  },
  {
   "cell_type": "code",
   "execution_count": null,
   "metadata": {},
   "outputs": [],
   "source": []
  },
  {
   "cell_type": "code",
   "execution_count": null,
   "metadata": {},
   "outputs": [],
   "source": []
  },
  {
   "cell_type": "code",
   "execution_count": 145,
   "metadata": {},
   "outputs": [],
   "source": [
    "#looking for relationships"
   ]
  },
  {
   "cell_type": "code",
   "execution_count": 146,
   "metadata": {},
   "outputs": [
    {
     "data": {
      "text/plain": [
       "[Text(0, 0, '98001'),\n",
       " Text(1, 0, '98002'),\n",
       " Text(2, 0, '98003'),\n",
       " Text(3, 0, '98004'),\n",
       " Text(4, 0, '98005'),\n",
       " Text(5, 0, '98006'),\n",
       " Text(6, 0, '98007'),\n",
       " Text(7, 0, '98008'),\n",
       " Text(8, 0, '98010'),\n",
       " Text(9, 0, '98011'),\n",
       " Text(10, 0, '98014'),\n",
       " Text(11, 0, '98019'),\n",
       " Text(12, 0, '98022'),\n",
       " Text(13, 0, '98023'),\n",
       " Text(14, 0, '98024'),\n",
       " Text(15, 0, '98027'),\n",
       " Text(16, 0, '98028'),\n",
       " Text(17, 0, '98029'),\n",
       " Text(18, 0, '98030'),\n",
       " Text(19, 0, '98031'),\n",
       " Text(20, 0, '98032'),\n",
       " Text(21, 0, '98033'),\n",
       " Text(22, 0, '98034'),\n",
       " Text(23, 0, '98038'),\n",
       " Text(24, 0, '98040'),\n",
       " Text(25, 0, '98042'),\n",
       " Text(26, 0, '98045'),\n",
       " Text(27, 0, '98052'),\n",
       " Text(28, 0, '98053'),\n",
       " Text(29, 0, '98055'),\n",
       " Text(30, 0, '98056'),\n",
       " Text(31, 0, '98058'),\n",
       " Text(32, 0, '98059'),\n",
       " Text(33, 0, '98065'),\n",
       " Text(34, 0, '98070'),\n",
       " Text(35, 0, '98072'),\n",
       " Text(36, 0, '98074'),\n",
       " Text(37, 0, '98075'),\n",
       " Text(38, 0, '98077'),\n",
       " Text(39, 0, '98092'),\n",
       " Text(40, 0, '98102'),\n",
       " Text(41, 0, '98103'),\n",
       " Text(42, 0, '98105'),\n",
       " Text(43, 0, '98106'),\n",
       " Text(44, 0, '98107'),\n",
       " Text(45, 0, '98108'),\n",
       " Text(46, 0, '98109'),\n",
       " Text(47, 0, '98112'),\n",
       " Text(48, 0, '98115'),\n",
       " Text(49, 0, '98116'),\n",
       " Text(50, 0, '98117'),\n",
       " Text(51, 0, '98118'),\n",
       " Text(52, 0, '98119'),\n",
       " Text(53, 0, '98122'),\n",
       " Text(54, 0, '98125'),\n",
       " Text(55, 0, '98126'),\n",
       " Text(56, 0, '98133'),\n",
       " Text(57, 0, '98136'),\n",
       " Text(58, 0, '98144'),\n",
       " Text(59, 0, '98146'),\n",
       " Text(60, 0, '98148'),\n",
       " Text(61, 0, '98155'),\n",
       " Text(62, 0, '98166'),\n",
       " Text(63, 0, '98168'),\n",
       " Text(64, 0, '98177'),\n",
       " Text(65, 0, '98178'),\n",
       " Text(66, 0, '98188'),\n",
       " Text(67, 0, '98198'),\n",
       " Text(68, 0, '98199')]"
      ]
     },
     "execution_count": 146,
     "metadata": {},
     "output_type": "execute_result"
    },
    {
     "data": {
      "image/png": "[encoded data removed]",
      "text/plain": [
       "<Figure size 1800x720 with 1 Axes>"
      ]
     },
     "metadata": {
      "needs_background": "light"
     },
     "output_type": "display_data"
    }
   ],
   "source": [
    "plt.figure(figsize=(25,10))\n",
    "g = sns.boxplot(x = 'zipcode', y = 'price', data = df_1)\n",
    "g.set_xticklabels(g.get_xticklabels(),rotation=30)"
   ]
  },
  {
   "cell_type": "code",
   "execution_count": 45,
   "metadata": {},
   "outputs": [
    {
     "data": {
      "text/plain": [
       "<AxesSubplot:xlabel='grade', ylabel='yr_built'>"
      ]
     },
     "execution_count": 45,
     "metadata": {},
     "output_type": "execute_result"
    },
    {
     "data": {
      "image/png": "[encoded data removed]",
      "text/plain": [
       "<Figure size 432x288 with 1 Axes>"
      ]
     },
     "metadata": {
      "needs_background": "light"
     },
     "output_type": "display_data"
    }
   ],
   "source": [
    "sns.boxplot(x = 'grade', y = 'yr_built', data = df_1)"
   ]
  },
  {
   "cell_type": "code",
   "execution_count": 46,
   "metadata": {},
   "outputs": [],
   "source": [
    "outcome = \"price\""
   ]
  },
  {
   "cell_type": "code",
   "execution_count": 47,
   "metadata": {},
   "outputs": [],
   "source": [
    "x_cols = df_1.dropna().drop([\"price\", \"id\",\"sqft_above\", \"sqft_living15\", \"lat\", \"long\", \"sqft_lot\"], axis = 1).columns"
   ]
  },
  {
   "cell_type": "code",
   "execution_count": 48,
   "metadata": {},
   "outputs": [
    {
     "data": {
      "text/plain": [
       "Index(['bedrooms', 'bathrooms', 'sqft_living', 'floors', 'waterfront', 'view',\n",
       "       'condition', 'grade', 'yr_built', 'yr_renovated', 'zipcode',\n",
       "       'sqft_lot15'],\n",
       "      dtype='object')"
      ]
     },
     "execution_count": 48,
     "metadata": {},
     "output_type": "execute_result"
    }
   ],
   "source": [
    "x_cols"
   ]
  },
  {
   "cell_type": "code",
   "execution_count": 49,
   "metadata": {},
   "outputs": [],
   "source": [
    "predictors = '+'.join(x_cols)"
   ]
  },
  {
   "cell_type": "code",
   "execution_count": 50,
   "metadata": {},
   "outputs": [
    {
     "data": {
      "text/plain": [
       "'bedrooms+bathrooms+sqft_living+floors+waterfront+view+condition+grade+yr_built+yr_renovated+zipcode+sqft_lot15'"
      ]
     },
     "execution_count": 50,
     "metadata": {},
     "output_type": "execute_result"
    }
   ],
   "source": [
    "predictors"
   ]
  },
  {
   "cell_type": "code",
   "execution_count": 51,
   "metadata": {},
   "outputs": [],
   "source": [
    "f = outcome + '~' + predictors"
   ]
  },
  {
   "cell_type": "code",
   "execution_count": 52,
   "metadata": {},
   "outputs": [
    {
     "data": {
      "text/plain": [
       "'price~bedrooms+bathrooms+sqft_living+floors+waterfront+view+condition+grade+yr_built+yr_renovated+zipcode+sqft_lot15'"
      ]
     },
     "execution_count": 52,
     "metadata": {},
     "output_type": "execute_result"
    }
   ],
   "source": [
    "f"
   ]
  },
  {
   "cell_type": "code",
   "execution_count": 53,
   "metadata": {},
   "outputs": [
    {
     "data": {
      "text/html": [
       "<table class=\"simpletable\">\n",
       "<caption>OLS Regression Results</caption>\n",
       "<tr>\n",
       "  <th>Dep. Variable:</th>          <td>price</td>      <th>  R-squared:         </th> <td>   0.174</td> \n",
       "</tr>\n",
       "<tr>\n",
       "  <th>Model:</th>                   <td>OLS</td>       <th>  Adj. R-squared:    </th> <td>   0.172</td> \n",
       "</tr>\n",
       "<tr>\n",
       "  <th>Method:</th>             <td>Least Squares</td>  <th>  F-statistic:       </th> <td>   142.8</td> \n",
       "</tr>\n",
       "<tr>\n",
       "  <th>Date:</th>             <td>Wed, 13 Jan 2021</td> <th>  Prob (F-statistic):</th> <td>2.06e-299</td>\n",
       "</tr>\n",
       "<tr>\n",
       "  <th>Time:</th>                 <td>16:58:45</td>     <th>  Log-Likelihood:    </th> <td> -95142.</td> \n",
       "</tr>\n",
       "<tr>\n",
       "  <th>No. Observations:</th>      <td>  7491</td>      <th>  AIC:               </th> <td>1.903e+05</td>\n",
       "</tr>\n",
       "<tr>\n",
       "  <th>Df Residuals:</th>          <td>  7479</td>      <th>  BIC:               </th> <td>1.904e+05</td>\n",
       "</tr>\n",
       "<tr>\n",
       "  <th>Df Model:</th>              <td>    11</td>      <th>                     </th>     <td> </td>    \n",
       "</tr>\n",
       "<tr>\n",
       "  <th>Covariance Type:</th>      <td>nonrobust</td>    <th>                     </th>     <td> </td>    \n",
       "</tr>\n",
       "</table>\n",
       "<table class=\"simpletable\">\n",
       "<tr>\n",
       "        <td></td>          <th>coef</th>     <th>std err</th>      <th>t</th>      <th>P>|t|</th>  <th>[0.025</th>    <th>0.975]</th>  \n",
       "</tr>\n",
       "<tr>\n",
       "  <th>Intercept</th>    <td> 8.324e+06</td> <td> 2.05e+06</td> <td>    4.054</td> <td> 0.000</td> <td>  4.3e+06</td> <td> 1.23e+07</td>\n",
       "</tr>\n",
       "<tr>\n",
       "  <th>bedrooms</th>     <td>-6964.4441</td> <td> 1422.425</td> <td>   -4.896</td> <td> 0.000</td> <td>-9752.797</td> <td>-4176.091</td>\n",
       "</tr>\n",
       "<tr>\n",
       "  <th>bathrooms</th>    <td> 1.977e+04</td> <td> 2289.673</td> <td>    8.635</td> <td> 0.000</td> <td> 1.53e+04</td> <td> 2.43e+04</td>\n",
       "</tr>\n",
       "<tr>\n",
       "  <th>sqft_living</th>  <td>   19.2645</td> <td>    2.343</td> <td>    8.222</td> <td> 0.000</td> <td>   14.671</td> <td>   23.858</td>\n",
       "</tr>\n",
       "<tr>\n",
       "  <th>floors</th>       <td> 1.169e+04</td> <td> 2137.174</td> <td>    5.468</td> <td> 0.000</td> <td> 7496.581</td> <td> 1.59e+04</td>\n",
       "</tr>\n",
       "<tr>\n",
       "  <th>waterfront</th>   <td>-6834.0603</td> <td> 2.39e+04</td> <td>   -0.286</td> <td> 0.775</td> <td>-5.36e+04</td> <td> 3.99e+04</td>\n",
       "</tr>\n",
       "<tr>\n",
       "  <th>view</th>         <td> 4064.9144</td> <td> 1816.421</td> <td>    2.238</td> <td> 0.025</td> <td>  504.219</td> <td> 7625.609</td>\n",
       "</tr>\n",
       "<tr>\n",
       "  <th>condition</th>    <td> 3096.6506</td> <td> 1624.599</td> <td>    1.906</td> <td> 0.057</td> <td>  -88.020</td> <td> 6281.321</td>\n",
       "</tr>\n",
       "<tr>\n",
       "  <th>grade</th>        <td> 3.584e+04</td> <td> 1577.302</td> <td>   22.722</td> <td> 0.000</td> <td> 3.27e+04</td> <td> 3.89e+04</td>\n",
       "</tr>\n",
       "<tr>\n",
       "  <th>yr_built</th>     <td>-1207.3666</td> <td>   50.463</td> <td>  -23.926</td> <td> 0.000</td> <td>-1306.288</td> <td>-1108.445</td>\n",
       "</tr>\n",
       "<tr>\n",
       "  <th>yr_renovated</th> <td> 7.262e-12</td> <td>  2.8e-12</td> <td>    2.595</td> <td> 0.009</td> <td> 1.78e-12</td> <td> 1.27e-11</td>\n",
       "</tr>\n",
       "<tr>\n",
       "  <th>zipcode</th>      <td>  -59.5115</td> <td>   20.626</td> <td>   -2.885</td> <td> 0.004</td> <td>  -99.945</td> <td>  -19.078</td>\n",
       "</tr>\n",
       "<tr>\n",
       "  <th>sqft_lot15</th>   <td>    0.0918</td> <td>    0.036</td> <td>    2.583</td> <td> 0.010</td> <td>    0.022</td> <td>    0.161</td>\n",
       "</tr>\n",
       "</table>\n",
       "<table class=\"simpletable\">\n",
       "<tr>\n",
       "  <th>Omnibus:</th>       <td>553.405</td> <th>  Durbin-Watson:     </th> <td>   1.996</td>\n",
       "</tr>\n",
       "<tr>\n",
       "  <th>Prob(Omnibus):</th> <td> 0.000</td>  <th>  Jarque-Bera (JB):  </th> <td> 211.370</td>\n",
       "</tr>\n",
       "<tr>\n",
       "  <th>Skew:</th>          <td> 0.159</td>  <th>  Prob(JB):          </th> <td>1.26e-46</td>\n",
       "</tr>\n",
       "<tr>\n",
       "  <th>Kurtosis:</th>      <td> 2.241</td>  <th>  Cond. No.          </th> <td>1.86e+21</td>\n",
       "</tr>\n",
       "</table><br/><br/>Notes:<br/>[1] Standard Errors assume that the covariance matrix of the errors is correctly specified.<br/>[2] The smallest eigenvalue is 2.12e-29. This might indicate that there are<br/>strong multicollinearity problems or that the design matrix is singular."
      ],
      "text/plain": [
       "<class 'statsmodels.iolib.summary.Summary'>\n",
       "\"\"\"\n",
       "                            OLS Regression Results                            \n",
       "==============================================================================\n",
       "Dep. Variable:                  price   R-squared:                       0.174\n",
       "Model:                            OLS   Adj. R-squared:                  0.172\n",
       "Method:                 Least Squares   F-statistic:                     142.8\n",
       "Date:                Wed, 13 Jan 2021   Prob (F-statistic):          2.06e-299\n",
       "Time:                        16:58:45   Log-Likelihood:                -95142.\n",
       "No. Observations:                7491   AIC:                         1.903e+05\n",
       "Df Residuals:                    7479   BIC:                         1.904e+05\n",
       "Df Model:                          11                                         \n",
       "Covariance Type:            nonrobust                                         \n",
       "================================================================================\n",
       "                   coef    std err          t      P>|t|      [0.025      0.975]\n",
       "--------------------------------------------------------------------------------\n",
       "Intercept     8.324e+06   2.05e+06      4.054      0.000     4.3e+06    1.23e+07\n",
       "bedrooms     -6964.4441   1422.425     -4.896      0.000   -9752.797   -4176.091\n",
       "bathrooms     1.977e+04   2289.673      8.635      0.000    1.53e+04    2.43e+04\n",
       "sqft_living     19.2645      2.343      8.222      0.000      14.671      23.858\n",
       "floors        1.169e+04   2137.174      5.468      0.000    7496.581    1.59e+04\n",
       "waterfront   -6834.0603   2.39e+04     -0.286      0.775   -5.36e+04    3.99e+04\n",
       "view          4064.9144   1816.421      2.238      0.025     504.219    7625.609\n",
       "condition     3096.6506   1624.599      1.906      0.057     -88.020    6281.321\n",
       "grade         3.584e+04   1577.302     22.722      0.000    3.27e+04    3.89e+04\n",
       "yr_built     -1207.3666     50.463    -23.926      0.000   -1306.288   -1108.445\n",
       "yr_renovated  7.262e-12    2.8e-12      2.595      0.009    1.78e-12    1.27e-11\n",
       "zipcode        -59.5115     20.626     -2.885      0.004     -99.945     -19.078\n",
       "sqft_lot15       0.0918      0.036      2.583      0.010       0.022       0.161\n",
       "==============================================================================\n",
       "Omnibus:                      553.405   Durbin-Watson:                   1.996\n",
       "Prob(Omnibus):                  0.000   Jarque-Bera (JB):              211.370\n",
       "Skew:                           0.159   Prob(JB):                     1.26e-46\n",
       "Kurtosis:                       2.241   Cond. No.                     1.86e+21\n",
       "==============================================================================\n",
       "\n",
       "Notes:\n",
       "[1] Standard Errors assume that the covariance matrix of the errors is correctly specified.\n",
       "[2] The smallest eigenvalue is 2.12e-29. This might indicate that there are\n",
       "strong multicollinearity problems or that the design matrix is singular.\n",
       "\"\"\""
      ]
     },
     "execution_count": 53,
     "metadata": {},
     "output_type": "execute_result"
    }
   ],
   "source": [
    "model = ols(formula = f, data= df_1).fit()\n",
    "model.summary()"
   ]
  },
  {
   "cell_type": "code",
   "execution_count": null,
   "metadata": {},
   "outputs": [],
   "source": []
  }
 ],
 "metadata": {
  "kernelspec": {
   "display_name": "Python 3",
   "language": "python",
   "name": "python3"
  },
  "language_info": {
   "codemirror_mode": {
    "name": "ipython",
    "version": 3
   },
   "file_extension": ".py",
   "mimetype": "text/x-python",
   "name": "python",
   "nbconvert_exporter": "python",
   "pygments_lexer": "ipython3",
   "version": "3.8.5"
  }
 },
 "nbformat": 4,
 "nbformat_minor": 4
}
