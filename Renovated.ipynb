{
 "cells": [
  {
   "cell_type": "code",
   "execution_count": 54,
   "metadata": {},
   "outputs": [],
   "source": [
    "import pandas as pd\n",
    "import numpy as np\n",
    "import pylab\n",
    "import math\n",
    "import os"
   ]
  },
  {
   "cell_type": "code",
   "execution_count": 55,
   "metadata": {},
   "outputs": [],
   "source": [
    "import matplotlib.pyplot as plt\n",
    "import seaborn as sns\n"
   ]
  },
  {
   "cell_type": "code",
   "execution_count": 56,
   "metadata": {},
   "outputs": [],
   "source": [
    "from scipy import stats"
   ]
  },
  {
   "cell_type": "code",
   "execution_count": 57,
   "metadata": {},
   "outputs": [],
   "source": [
    "import statsmodels.api as sm\n",
    "from statsmodels.formula.api import ols\n",
    "from statsmodels.stats import diagnostic as diag\n",
    "from statsmodels.stats.outliers_influence import variance_inflation_factor"
   ]
  },
  {
   "cell_type": "code",
   "execution_count": 58,
   "metadata": {},
   "outputs": [],
   "source": [
    "from sklearn.model_selection import train_test_split\n",
    "from sklearn.linear_model import LinearRegression\n",
    "from sklearn.metrics import mean_squared_error, r2_score, mean_absolute_error\n",
    "from sklearn.model_selection import train_test_split\n",
    "%matplotlib inline"
   ]
  },
  {
   "cell_type": "code",
   "execution_count": 59,
   "metadata": {},
   "outputs": [],
   "source": [
    "df = pd.read_csv('data/kc_house_data.csv')"
   ]
  },
  {
   "cell_type": "code",
   "execution_count": 60,
   "metadata": {},
   "outputs": [
    {
     "data": {
      "text/html": [
       "<div>\n",
       "<style scoped>\n",
       "    .dataframe tbody tr th:only-of-type {\n",
       "        vertical-align: middle;\n",
       "    }\n",
       "\n",
       "    .dataframe tbody tr th {\n",
       "        vertical-align: top;\n",
       "    }\n",
       "\n",
       "    .dataframe thead th {\n",
       "        text-align: right;\n",
       "    }\n",
       "</style>\n",
       "<table border=\"1\" class=\"dataframe\">\n",
       "  <thead>\n",
       "    <tr style=\"text-align: right;\">\n",
       "      <th></th>\n",
       "      <th>id</th>\n",
       "      <th>date</th>\n",
       "      <th>price</th>\n",
       "      <th>bedrooms</th>\n",
       "      <th>bathrooms</th>\n",
       "      <th>sqft_living</th>\n",
       "      <th>sqft_lot</th>\n",
       "      <th>floors</th>\n",
       "      <th>waterfront</th>\n",
       "      <th>view</th>\n",
       "      <th>...</th>\n",
       "      <th>grade</th>\n",
       "      <th>sqft_above</th>\n",
       "      <th>sqft_basement</th>\n",
       "      <th>yr_built</th>\n",
       "      <th>yr_renovated</th>\n",
       "      <th>zipcode</th>\n",
       "      <th>lat</th>\n",
       "      <th>long</th>\n",
       "      <th>sqft_living15</th>\n",
       "      <th>sqft_lot15</th>\n",
       "    </tr>\n",
       "  </thead>\n",
       "  <tbody>\n",
       "    <tr>\n",
       "      <th>0</th>\n",
       "      <td>7129300520</td>\n",
       "      <td>10/13/2014</td>\n",
       "      <td>221900.0</td>\n",
       "      <td>3</td>\n",
       "      <td>1.00</td>\n",
       "      <td>1180</td>\n",
       "      <td>5650</td>\n",
       "      <td>1.0</td>\n",
       "      <td>NaN</td>\n",
       "      <td>0.0</td>\n",
       "      <td>...</td>\n",
       "      <td>7</td>\n",
       "      <td>1180</td>\n",
       "      <td>0.0</td>\n",
       "      <td>1955</td>\n",
       "      <td>0.0</td>\n",
       "      <td>98178</td>\n",
       "      <td>47.5112</td>\n",
       "      <td>-122.257</td>\n",
       "      <td>1340</td>\n",
       "      <td>5650</td>\n",
       "    </tr>\n",
       "    <tr>\n",
       "      <th>1</th>\n",
       "      <td>6414100192</td>\n",
       "      <td>12/9/2014</td>\n",
       "      <td>538000.0</td>\n",
       "      <td>3</td>\n",
       "      <td>2.25</td>\n",
       "      <td>2570</td>\n",
       "      <td>7242</td>\n",
       "      <td>2.0</td>\n",
       "      <td>0.0</td>\n",
       "      <td>0.0</td>\n",
       "      <td>...</td>\n",
       "      <td>7</td>\n",
       "      <td>2170</td>\n",
       "      <td>400.0</td>\n",
       "      <td>1951</td>\n",
       "      <td>1991.0</td>\n",
       "      <td>98125</td>\n",
       "      <td>47.7210</td>\n",
       "      <td>-122.319</td>\n",
       "      <td>1690</td>\n",
       "      <td>7639</td>\n",
       "    </tr>\n",
       "    <tr>\n",
       "      <th>2</th>\n",
       "      <td>5631500400</td>\n",
       "      <td>2/25/2015</td>\n",
       "      <td>180000.0</td>\n",
       "      <td>2</td>\n",
       "      <td>1.00</td>\n",
       "      <td>770</td>\n",
       "      <td>10000</td>\n",
       "      <td>1.0</td>\n",
       "      <td>0.0</td>\n",
       "      <td>0.0</td>\n",
       "      <td>...</td>\n",
       "      <td>6</td>\n",
       "      <td>770</td>\n",
       "      <td>0.0</td>\n",
       "      <td>1933</td>\n",
       "      <td>NaN</td>\n",
       "      <td>98028</td>\n",
       "      <td>47.7379</td>\n",
       "      <td>-122.233</td>\n",
       "      <td>2720</td>\n",
       "      <td>8062</td>\n",
       "    </tr>\n",
       "    <tr>\n",
       "      <th>3</th>\n",
       "      <td>2487200875</td>\n",
       "      <td>12/9/2014</td>\n",
       "      <td>604000.0</td>\n",
       "      <td>4</td>\n",
       "      <td>3.00</td>\n",
       "      <td>1960</td>\n",
       "      <td>5000</td>\n",
       "      <td>1.0</td>\n",
       "      <td>0.0</td>\n",
       "      <td>0.0</td>\n",
       "      <td>...</td>\n",
       "      <td>7</td>\n",
       "      <td>1050</td>\n",
       "      <td>910.0</td>\n",
       "      <td>1965</td>\n",
       "      <td>0.0</td>\n",
       "      <td>98136</td>\n",
       "      <td>47.5208</td>\n",
       "      <td>-122.393</td>\n",
       "      <td>1360</td>\n",
       "      <td>5000</td>\n",
       "    </tr>\n",
       "    <tr>\n",
       "      <th>4</th>\n",
       "      <td>1954400510</td>\n",
       "      <td>2/18/2015</td>\n",
       "      <td>510000.0</td>\n",
       "      <td>3</td>\n",
       "      <td>2.00</td>\n",
       "      <td>1680</td>\n",
       "      <td>8080</td>\n",
       "      <td>1.0</td>\n",
       "      <td>0.0</td>\n",
       "      <td>0.0</td>\n",
       "      <td>...</td>\n",
       "      <td>8</td>\n",
       "      <td>1680</td>\n",
       "      <td>0.0</td>\n",
       "      <td>1987</td>\n",
       "      <td>0.0</td>\n",
       "      <td>98074</td>\n",
       "      <td>47.6168</td>\n",
       "      <td>-122.045</td>\n",
       "      <td>1800</td>\n",
       "      <td>7503</td>\n",
       "    </tr>\n",
       "    <tr>\n",
       "      <th>...</th>\n",
       "      <td>...</td>\n",
       "      <td>...</td>\n",
       "      <td>...</td>\n",
       "      <td>...</td>\n",
       "      <td>...</td>\n",
       "      <td>...</td>\n",
       "      <td>...</td>\n",
       "      <td>...</td>\n",
       "      <td>...</td>\n",
       "      <td>...</td>\n",
       "      <td>...</td>\n",
       "      <td>...</td>\n",
       "      <td>...</td>\n",
       "      <td>...</td>\n",
       "      <td>...</td>\n",
       "      <td>...</td>\n",
       "      <td>...</td>\n",
       "      <td>...</td>\n",
       "      <td>...</td>\n",
       "      <td>...</td>\n",
       "      <td>...</td>\n",
       "    </tr>\n",
       "    <tr>\n",
       "      <th>21592</th>\n",
       "      <td>263000018</td>\n",
       "      <td>5/21/2014</td>\n",
       "      <td>360000.0</td>\n",
       "      <td>3</td>\n",
       "      <td>2.50</td>\n",
       "      <td>1530</td>\n",
       "      <td>1131</td>\n",
       "      <td>3.0</td>\n",
       "      <td>0.0</td>\n",
       "      <td>0.0</td>\n",
       "      <td>...</td>\n",
       "      <td>8</td>\n",
       "      <td>1530</td>\n",
       "      <td>0.0</td>\n",
       "      <td>2009</td>\n",
       "      <td>0.0</td>\n",
       "      <td>98103</td>\n",
       "      <td>47.6993</td>\n",
       "      <td>-122.346</td>\n",
       "      <td>1530</td>\n",
       "      <td>1509</td>\n",
       "    </tr>\n",
       "    <tr>\n",
       "      <th>21593</th>\n",
       "      <td>6600060120</td>\n",
       "      <td>2/23/2015</td>\n",
       "      <td>400000.0</td>\n",
       "      <td>4</td>\n",
       "      <td>2.50</td>\n",
       "      <td>2310</td>\n",
       "      <td>5813</td>\n",
       "      <td>2.0</td>\n",
       "      <td>0.0</td>\n",
       "      <td>0.0</td>\n",
       "      <td>...</td>\n",
       "      <td>8</td>\n",
       "      <td>2310</td>\n",
       "      <td>0.0</td>\n",
       "      <td>2014</td>\n",
       "      <td>0.0</td>\n",
       "      <td>98146</td>\n",
       "      <td>47.5107</td>\n",
       "      <td>-122.362</td>\n",
       "      <td>1830</td>\n",
       "      <td>7200</td>\n",
       "    </tr>\n",
       "    <tr>\n",
       "      <th>21594</th>\n",
       "      <td>1523300141</td>\n",
       "      <td>6/23/2014</td>\n",
       "      <td>402101.0</td>\n",
       "      <td>2</td>\n",
       "      <td>0.75</td>\n",
       "      <td>1020</td>\n",
       "      <td>1350</td>\n",
       "      <td>2.0</td>\n",
       "      <td>0.0</td>\n",
       "      <td>0.0</td>\n",
       "      <td>...</td>\n",
       "      <td>7</td>\n",
       "      <td>1020</td>\n",
       "      <td>0.0</td>\n",
       "      <td>2009</td>\n",
       "      <td>0.0</td>\n",
       "      <td>98144</td>\n",
       "      <td>47.5944</td>\n",
       "      <td>-122.299</td>\n",
       "      <td>1020</td>\n",
       "      <td>2007</td>\n",
       "    </tr>\n",
       "    <tr>\n",
       "      <th>21595</th>\n",
       "      <td>291310100</td>\n",
       "      <td>1/16/2015</td>\n",
       "      <td>400000.0</td>\n",
       "      <td>3</td>\n",
       "      <td>2.50</td>\n",
       "      <td>1600</td>\n",
       "      <td>2388</td>\n",
       "      <td>2.0</td>\n",
       "      <td>NaN</td>\n",
       "      <td>0.0</td>\n",
       "      <td>...</td>\n",
       "      <td>8</td>\n",
       "      <td>1600</td>\n",
       "      <td>0.0</td>\n",
       "      <td>2004</td>\n",
       "      <td>0.0</td>\n",
       "      <td>98027</td>\n",
       "      <td>47.5345</td>\n",
       "      <td>-122.069</td>\n",
       "      <td>1410</td>\n",
       "      <td>1287</td>\n",
       "    </tr>\n",
       "    <tr>\n",
       "      <th>21596</th>\n",
       "      <td>1523300157</td>\n",
       "      <td>10/15/2014</td>\n",
       "      <td>325000.0</td>\n",
       "      <td>2</td>\n",
       "      <td>0.75</td>\n",
       "      <td>1020</td>\n",
       "      <td>1076</td>\n",
       "      <td>2.0</td>\n",
       "      <td>0.0</td>\n",
       "      <td>0.0</td>\n",
       "      <td>...</td>\n",
       "      <td>7</td>\n",
       "      <td>1020</td>\n",
       "      <td>0.0</td>\n",
       "      <td>2008</td>\n",
       "      <td>0.0</td>\n",
       "      <td>98144</td>\n",
       "      <td>47.5941</td>\n",
       "      <td>-122.299</td>\n",
       "      <td>1020</td>\n",
       "      <td>1357</td>\n",
       "    </tr>\n",
       "  </tbody>\n",
       "</table>\n",
       "<p>21597 rows × 21 columns</p>\n",
       "</div>"
      ],
      "text/plain": [
       "               id        date     price  bedrooms  bathrooms  sqft_living  \\\n",
       "0      7129300520  10/13/2014  221900.0         3       1.00         1180   \n",
       "1      6414100192   12/9/2014  538000.0         3       2.25         2570   \n",
       "2      5631500400   2/25/2015  180000.0         2       1.00          770   \n",
       "3      2487200875   12/9/2014  604000.0         4       3.00         1960   \n",
       "4      1954400510   2/18/2015  510000.0         3       2.00         1680   \n",
       "...           ...         ...       ...       ...        ...          ...   \n",
       "21592   263000018   5/21/2014  360000.0         3       2.50         1530   \n",
       "21593  6600060120   2/23/2015  400000.0         4       2.50         2310   \n",
       "21594  1523300141   6/23/2014  402101.0         2       0.75         1020   \n",
       "21595   291310100   1/16/2015  400000.0         3       2.50         1600   \n",
       "21596  1523300157  10/15/2014  325000.0         2       0.75         1020   \n",
       "\n",
       "       sqft_lot  floors  waterfront  view  ...  grade  sqft_above  \\\n",
       "0          5650     1.0         NaN   0.0  ...      7        1180   \n",
       "1          7242     2.0         0.0   0.0  ...      7        2170   \n",
       "2         10000     1.0         0.0   0.0  ...      6         770   \n",
       "3          5000     1.0         0.0   0.0  ...      7        1050   \n",
       "4          8080     1.0         0.0   0.0  ...      8        1680   \n",
       "...         ...     ...         ...   ...  ...    ...         ...   \n",
       "21592      1131     3.0         0.0   0.0  ...      8        1530   \n",
       "21593      5813     2.0         0.0   0.0  ...      8        2310   \n",
       "21594      1350     2.0         0.0   0.0  ...      7        1020   \n",
       "21595      2388     2.0         NaN   0.0  ...      8        1600   \n",
       "21596      1076     2.0         0.0   0.0  ...      7        1020   \n",
       "\n",
       "       sqft_basement yr_built  yr_renovated  zipcode      lat     long  \\\n",
       "0                0.0     1955           0.0    98178  47.5112 -122.257   \n",
       "1              400.0     1951        1991.0    98125  47.7210 -122.319   \n",
       "2                0.0     1933           NaN    98028  47.7379 -122.233   \n",
       "3              910.0     1965           0.0    98136  47.5208 -122.393   \n",
       "4                0.0     1987           0.0    98074  47.6168 -122.045   \n",
       "...              ...      ...           ...      ...      ...      ...   \n",
       "21592            0.0     2009           0.0    98103  47.6993 -122.346   \n",
       "21593            0.0     2014           0.0    98146  47.5107 -122.362   \n",
       "21594            0.0     2009           0.0    98144  47.5944 -122.299   \n",
       "21595            0.0     2004           0.0    98027  47.5345 -122.069   \n",
       "21596            0.0     2008           0.0    98144  47.5941 -122.299   \n",
       "\n",
       "       sqft_living15  sqft_lot15  \n",
       "0               1340        5650  \n",
       "1               1690        7639  \n",
       "2               2720        8062  \n",
       "3               1360        5000  \n",
       "4               1800        7503  \n",
       "...              ...         ...  \n",
       "21592           1530        1509  \n",
       "21593           1830        7200  \n",
       "21594           1020        2007  \n",
       "21595           1410        1287  \n",
       "21596           1020        1357  \n",
       "\n",
       "[21597 rows x 21 columns]"
      ]
     },
     "execution_count": 60,
     "metadata": {},
     "output_type": "execute_result"
    }
   ],
   "source": [
    "df"
   ]
  },
  {
   "cell_type": "markdown",
   "metadata": {},
   "source": [
    "# Column Names and descriptions for Kings County Data Set\n",
    "* **id** - unique identified for a house\n",
    "* **dateDate** - house was sold\n",
    "* **pricePrice** -  is prediction target\n",
    "* **bedroomsNumber** -  of Bedrooms/House\n",
    "* **bathroomsNumber** -  of bathrooms/bedrooms\n",
    "* **sqft_livingsquare** -  footage of the home\n",
    "* **sqft_lotsquare** -  footage of the lot\n",
    "* **floorsTotal** -  floors (levels) in house\n",
    "* **waterfront** - House which has a view to a waterfront\n",
    "* **view** - Has been viewed\n",
    "* **condition** - How good the condition is ( Overall )\n",
    "* **grade** - overall grade given to the housing unit, based on King County grading system\n",
    "* **sqft_above** - square footage of house apart from basement\n",
    "* **sqft_basement** - square footage of the basement\n",
    "* **yr_built** - Built Year\n",
    "* **yr_renovated** - Year when house was renovated\n",
    "* **zipcode** - zip\n",
    "* **lat** - Latitude coordinate\n",
    "* **long** - Longitude coordinate\n",
    "* **sqft_living15** - The square footage of interior housing living space for the nearest 15 neighbors\n",
    "* **sqft_lot15** - The square footage of the land lots of the nearest 15 neighbors\n"
   ]
  },
  {
   "cell_type": "code",
   "execution_count": 61,
   "metadata": {},
   "outputs": [
    {
     "name": "stdout",
     "output_type": "stream",
     "text": [
      "<class 'pandas.core.frame.DataFrame'>\n",
      "RangeIndex: 21597 entries, 0 to 21596\n",
      "Data columns (total 21 columns):\n",
      " #   Column         Non-Null Count  Dtype  \n",
      "---  ------         --------------  -----  \n",
      " 0   id             21597 non-null  int64  \n",
      " 1   date           21597 non-null  object \n",
      " 2   price          21597 non-null  float64\n",
      " 3   bedrooms       21597 non-null  int64  \n",
      " 4   bathrooms      21597 non-null  float64\n",
      " 5   sqft_living    21597 non-null  int64  \n",
      " 6   sqft_lot       21597 non-null  int64  \n",
      " 7   floors         21597 non-null  float64\n",
      " 8   waterfront     19221 non-null  float64\n",
      " 9   view           21534 non-null  float64\n",
      " 10  condition      21597 non-null  int64  \n",
      " 11  grade          21597 non-null  int64  \n",
      " 12  sqft_above     21597 non-null  int64  \n",
      " 13  sqft_basement  21597 non-null  object \n",
      " 14  yr_built       21597 non-null  int64  \n",
      " 15  yr_renovated   17755 non-null  float64\n",
      " 16  zipcode        21597 non-null  int64  \n",
      " 17  lat            21597 non-null  float64\n",
      " 18  long           21597 non-null  float64\n",
      " 19  sqft_living15  21597 non-null  int64  \n",
      " 20  sqft_lot15     21597 non-null  int64  \n",
      "dtypes: float64(8), int64(11), object(2)\n",
      "memory usage: 3.5+ MB\n"
     ]
    }
   ],
   "source": [
    "df.info()"
   ]
  },
  {
   "cell_type": "code",
   "execution_count": 62,
   "metadata": {},
   "outputs": [
    {
     "data": {
      "text/plain": [
       "array([ 0., nan,  3.,  4.,  2.,  1.])"
      ]
     },
     "execution_count": 62,
     "metadata": {},
     "output_type": "execute_result"
    }
   ],
   "source": [
    "df.view.unique()"
   ]
  },
  {
   "cell_type": "code",
   "execution_count": 63,
   "metadata": {},
   "outputs": [
    {
     "data": {
      "text/html": [
       "<div>\n",
       "<style scoped>\n",
       "    .dataframe tbody tr th:only-of-type {\n",
       "        vertical-align: middle;\n",
       "    }\n",
       "\n",
       "    .dataframe tbody tr th {\n",
       "        vertical-align: top;\n",
       "    }\n",
       "\n",
       "    .dataframe thead th {\n",
       "        text-align: right;\n",
       "    }\n",
       "</style>\n",
       "<table border=\"1\" class=\"dataframe\">\n",
       "  <thead>\n",
       "    <tr style=\"text-align: right;\">\n",
       "      <th></th>\n",
       "      <th>id</th>\n",
       "      <th>price</th>\n",
       "      <th>bedrooms</th>\n",
       "      <th>bathrooms</th>\n",
       "      <th>sqft_living</th>\n",
       "      <th>sqft_lot</th>\n",
       "      <th>floors</th>\n",
       "      <th>waterfront</th>\n",
       "      <th>view</th>\n",
       "      <th>condition</th>\n",
       "      <th>grade</th>\n",
       "      <th>sqft_above</th>\n",
       "      <th>yr_built</th>\n",
       "      <th>yr_renovated</th>\n",
       "      <th>zipcode</th>\n",
       "      <th>lat</th>\n",
       "      <th>long</th>\n",
       "      <th>sqft_living15</th>\n",
       "      <th>sqft_lot15</th>\n",
       "    </tr>\n",
       "  </thead>\n",
       "  <tbody>\n",
       "    <tr>\n",
       "      <th>count</th>\n",
       "      <td>2.159700e+04</td>\n",
       "      <td>2.159700e+04</td>\n",
       "      <td>21597.000000</td>\n",
       "      <td>21597.000000</td>\n",
       "      <td>21597.000000</td>\n",
       "      <td>2.159700e+04</td>\n",
       "      <td>21597.000000</td>\n",
       "      <td>19221.000000</td>\n",
       "      <td>21534.000000</td>\n",
       "      <td>21597.000000</td>\n",
       "      <td>21597.000000</td>\n",
       "      <td>21597.000000</td>\n",
       "      <td>21597.000000</td>\n",
       "      <td>17755.000000</td>\n",
       "      <td>21597.000000</td>\n",
       "      <td>21597.000000</td>\n",
       "      <td>21597.000000</td>\n",
       "      <td>21597.000000</td>\n",
       "      <td>21597.000000</td>\n",
       "    </tr>\n",
       "    <tr>\n",
       "      <th>mean</th>\n",
       "      <td>4.580474e+09</td>\n",
       "      <td>5.402966e+05</td>\n",
       "      <td>3.373200</td>\n",
       "      <td>2.115826</td>\n",
       "      <td>2080.321850</td>\n",
       "      <td>1.509941e+04</td>\n",
       "      <td>1.494096</td>\n",
       "      <td>0.007596</td>\n",
       "      <td>0.233863</td>\n",
       "      <td>3.409825</td>\n",
       "      <td>7.657915</td>\n",
       "      <td>1788.596842</td>\n",
       "      <td>1970.999676</td>\n",
       "      <td>83.636778</td>\n",
       "      <td>98077.951845</td>\n",
       "      <td>47.560093</td>\n",
       "      <td>-122.213982</td>\n",
       "      <td>1986.620318</td>\n",
       "      <td>12758.283512</td>\n",
       "    </tr>\n",
       "    <tr>\n",
       "      <th>std</th>\n",
       "      <td>2.876736e+09</td>\n",
       "      <td>3.673681e+05</td>\n",
       "      <td>0.926299</td>\n",
       "      <td>0.768984</td>\n",
       "      <td>918.106125</td>\n",
       "      <td>4.141264e+04</td>\n",
       "      <td>0.539683</td>\n",
       "      <td>0.086825</td>\n",
       "      <td>0.765686</td>\n",
       "      <td>0.650546</td>\n",
       "      <td>1.173200</td>\n",
       "      <td>827.759761</td>\n",
       "      <td>29.375234</td>\n",
       "      <td>399.946414</td>\n",
       "      <td>53.513072</td>\n",
       "      <td>0.138552</td>\n",
       "      <td>0.140724</td>\n",
       "      <td>685.230472</td>\n",
       "      <td>27274.441950</td>\n",
       "    </tr>\n",
       "    <tr>\n",
       "      <th>min</th>\n",
       "      <td>1.000102e+06</td>\n",
       "      <td>7.800000e+04</td>\n",
       "      <td>1.000000</td>\n",
       "      <td>0.500000</td>\n",
       "      <td>370.000000</td>\n",
       "      <td>5.200000e+02</td>\n",
       "      <td>1.000000</td>\n",
       "      <td>0.000000</td>\n",
       "      <td>0.000000</td>\n",
       "      <td>1.000000</td>\n",
       "      <td>3.000000</td>\n",
       "      <td>370.000000</td>\n",
       "      <td>1900.000000</td>\n",
       "      <td>0.000000</td>\n",
       "      <td>98001.000000</td>\n",
       "      <td>47.155900</td>\n",
       "      <td>-122.519000</td>\n",
       "      <td>399.000000</td>\n",
       "      <td>651.000000</td>\n",
       "    </tr>\n",
       "    <tr>\n",
       "      <th>25%</th>\n",
       "      <td>2.123049e+09</td>\n",
       "      <td>3.220000e+05</td>\n",
       "      <td>3.000000</td>\n",
       "      <td>1.750000</td>\n",
       "      <td>1430.000000</td>\n",
       "      <td>5.040000e+03</td>\n",
       "      <td>1.000000</td>\n",
       "      <td>0.000000</td>\n",
       "      <td>0.000000</td>\n",
       "      <td>3.000000</td>\n",
       "      <td>7.000000</td>\n",
       "      <td>1190.000000</td>\n",
       "      <td>1951.000000</td>\n",
       "      <td>0.000000</td>\n",
       "      <td>98033.000000</td>\n",
       "      <td>47.471100</td>\n",
       "      <td>-122.328000</td>\n",
       "      <td>1490.000000</td>\n",
       "      <td>5100.000000</td>\n",
       "    </tr>\n",
       "    <tr>\n",
       "      <th>50%</th>\n",
       "      <td>3.904930e+09</td>\n",
       "      <td>4.500000e+05</td>\n",
       "      <td>3.000000</td>\n",
       "      <td>2.250000</td>\n",
       "      <td>1910.000000</td>\n",
       "      <td>7.618000e+03</td>\n",
       "      <td>1.500000</td>\n",
       "      <td>0.000000</td>\n",
       "      <td>0.000000</td>\n",
       "      <td>3.000000</td>\n",
       "      <td>7.000000</td>\n",
       "      <td>1560.000000</td>\n",
       "      <td>1975.000000</td>\n",
       "      <td>0.000000</td>\n",
       "      <td>98065.000000</td>\n",
       "      <td>47.571800</td>\n",
       "      <td>-122.231000</td>\n",
       "      <td>1840.000000</td>\n",
       "      <td>7620.000000</td>\n",
       "    </tr>\n",
       "    <tr>\n",
       "      <th>75%</th>\n",
       "      <td>7.308900e+09</td>\n",
       "      <td>6.450000e+05</td>\n",
       "      <td>4.000000</td>\n",
       "      <td>2.500000</td>\n",
       "      <td>2550.000000</td>\n",
       "      <td>1.068500e+04</td>\n",
       "      <td>2.000000</td>\n",
       "      <td>0.000000</td>\n",
       "      <td>0.000000</td>\n",
       "      <td>4.000000</td>\n",
       "      <td>8.000000</td>\n",
       "      <td>2210.000000</td>\n",
       "      <td>1997.000000</td>\n",
       "      <td>0.000000</td>\n",
       "      <td>98118.000000</td>\n",
       "      <td>47.678000</td>\n",
       "      <td>-122.125000</td>\n",
       "      <td>2360.000000</td>\n",
       "      <td>10083.000000</td>\n",
       "    </tr>\n",
       "    <tr>\n",
       "      <th>max</th>\n",
       "      <td>9.900000e+09</td>\n",
       "      <td>7.700000e+06</td>\n",
       "      <td>33.000000</td>\n",
       "      <td>8.000000</td>\n",
       "      <td>13540.000000</td>\n",
       "      <td>1.651359e+06</td>\n",
       "      <td>3.500000</td>\n",
       "      <td>1.000000</td>\n",
       "      <td>4.000000</td>\n",
       "      <td>5.000000</td>\n",
       "      <td>13.000000</td>\n",
       "      <td>9410.000000</td>\n",
       "      <td>2015.000000</td>\n",
       "      <td>2015.000000</td>\n",
       "      <td>98199.000000</td>\n",
       "      <td>47.777600</td>\n",
       "      <td>-121.315000</td>\n",
       "      <td>6210.000000</td>\n",
       "      <td>871200.000000</td>\n",
       "    </tr>\n",
       "  </tbody>\n",
       "</table>\n",
       "</div>"
      ],
      "text/plain": [
       "                 id         price      bedrooms     bathrooms   sqft_living  \\\n",
       "count  2.159700e+04  2.159700e+04  21597.000000  21597.000000  21597.000000   \n",
       "mean   4.580474e+09  5.402966e+05      3.373200      2.115826   2080.321850   \n",
       "std    2.876736e+09  3.673681e+05      0.926299      0.768984    918.106125   \n",
       "min    1.000102e+06  7.800000e+04      1.000000      0.500000    370.000000   \n",
       "25%    2.123049e+09  3.220000e+05      3.000000      1.750000   1430.000000   \n",
       "50%    3.904930e+09  4.500000e+05      3.000000      2.250000   1910.000000   \n",
       "75%    7.308900e+09  6.450000e+05      4.000000      2.500000   2550.000000   \n",
       "max    9.900000e+09  7.700000e+06     33.000000      8.000000  13540.000000   \n",
       "\n",
       "           sqft_lot        floors    waterfront          view     condition  \\\n",
       "count  2.159700e+04  21597.000000  19221.000000  21534.000000  21597.000000   \n",
       "mean   1.509941e+04      1.494096      0.007596      0.233863      3.409825   \n",
       "std    4.141264e+04      0.539683      0.086825      0.765686      0.650546   \n",
       "min    5.200000e+02      1.000000      0.000000      0.000000      1.000000   \n",
       "25%    5.040000e+03      1.000000      0.000000      0.000000      3.000000   \n",
       "50%    7.618000e+03      1.500000      0.000000      0.000000      3.000000   \n",
       "75%    1.068500e+04      2.000000      0.000000      0.000000      4.000000   \n",
       "max    1.651359e+06      3.500000      1.000000      4.000000      5.000000   \n",
       "\n",
       "              grade    sqft_above      yr_built  yr_renovated       zipcode  \\\n",
       "count  21597.000000  21597.000000  21597.000000  17755.000000  21597.000000   \n",
       "mean       7.657915   1788.596842   1970.999676     83.636778  98077.951845   \n",
       "std        1.173200    827.759761     29.375234    399.946414     53.513072   \n",
       "min        3.000000    370.000000   1900.000000      0.000000  98001.000000   \n",
       "25%        7.000000   1190.000000   1951.000000      0.000000  98033.000000   \n",
       "50%        7.000000   1560.000000   1975.000000      0.000000  98065.000000   \n",
       "75%        8.000000   2210.000000   1997.000000      0.000000  98118.000000   \n",
       "max       13.000000   9410.000000   2015.000000   2015.000000  98199.000000   \n",
       "\n",
       "                lat          long  sqft_living15     sqft_lot15  \n",
       "count  21597.000000  21597.000000   21597.000000   21597.000000  \n",
       "mean      47.560093   -122.213982    1986.620318   12758.283512  \n",
       "std        0.138552      0.140724     685.230472   27274.441950  \n",
       "min       47.155900   -122.519000     399.000000     651.000000  \n",
       "25%       47.471100   -122.328000    1490.000000    5100.000000  \n",
       "50%       47.571800   -122.231000    1840.000000    7620.000000  \n",
       "75%       47.678000   -122.125000    2360.000000   10083.000000  \n",
       "max       47.777600   -121.315000    6210.000000  871200.000000  "
      ]
     },
     "execution_count": 63,
     "metadata": {},
     "output_type": "execute_result"
    }
   ],
   "source": [
    "df.describe()"
   ]
  },
  {
   "cell_type": "code",
   "execution_count": 64,
   "metadata": {},
   "outputs": [
    {
     "data": {
      "text/html": [
       "<div>\n",
       "<style scoped>\n",
       "    .dataframe tbody tr th:only-of-type {\n",
       "        vertical-align: middle;\n",
       "    }\n",
       "\n",
       "    .dataframe tbody tr th {\n",
       "        vertical-align: top;\n",
       "    }\n",
       "\n",
       "    .dataframe thead th {\n",
       "        text-align: right;\n",
       "    }\n",
       "</style>\n",
       "<table border=\"1\" class=\"dataframe\">\n",
       "  <thead>\n",
       "    <tr style=\"text-align: right;\">\n",
       "      <th></th>\n",
       "      <th>id</th>\n",
       "      <th>date</th>\n",
       "      <th>price</th>\n",
       "      <th>bedrooms</th>\n",
       "      <th>bathrooms</th>\n",
       "      <th>sqft_living</th>\n",
       "      <th>sqft_lot</th>\n",
       "      <th>floors</th>\n",
       "      <th>waterfront</th>\n",
       "      <th>view</th>\n",
       "      <th>...</th>\n",
       "      <th>grade</th>\n",
       "      <th>sqft_above</th>\n",
       "      <th>sqft_basement</th>\n",
       "      <th>yr_built</th>\n",
       "      <th>yr_renovated</th>\n",
       "      <th>zipcode</th>\n",
       "      <th>lat</th>\n",
       "      <th>long</th>\n",
       "      <th>sqft_living15</th>\n",
       "      <th>sqft_lot15</th>\n",
       "    </tr>\n",
       "  </thead>\n",
       "  <tbody>\n",
       "    <tr>\n",
       "      <th>1</th>\n",
       "      <td>6414100192</td>\n",
       "      <td>12/9/2014</td>\n",
       "      <td>538000.0</td>\n",
       "      <td>3</td>\n",
       "      <td>2.25</td>\n",
       "      <td>2570</td>\n",
       "      <td>7242</td>\n",
       "      <td>2.0</td>\n",
       "      <td>0.0</td>\n",
       "      <td>0.0</td>\n",
       "      <td>...</td>\n",
       "      <td>7</td>\n",
       "      <td>2170</td>\n",
       "      <td>400.0</td>\n",
       "      <td>1951</td>\n",
       "      <td>1991.0</td>\n",
       "      <td>98125</td>\n",
       "      <td>47.7210</td>\n",
       "      <td>-122.319</td>\n",
       "      <td>1690</td>\n",
       "      <td>7639</td>\n",
       "    </tr>\n",
       "    <tr>\n",
       "      <th>3</th>\n",
       "      <td>2487200875</td>\n",
       "      <td>12/9/2014</td>\n",
       "      <td>604000.0</td>\n",
       "      <td>4</td>\n",
       "      <td>3.00</td>\n",
       "      <td>1960</td>\n",
       "      <td>5000</td>\n",
       "      <td>1.0</td>\n",
       "      <td>0.0</td>\n",
       "      <td>0.0</td>\n",
       "      <td>...</td>\n",
       "      <td>7</td>\n",
       "      <td>1050</td>\n",
       "      <td>910.0</td>\n",
       "      <td>1965</td>\n",
       "      <td>0.0</td>\n",
       "      <td>98136</td>\n",
       "      <td>47.5208</td>\n",
       "      <td>-122.393</td>\n",
       "      <td>1360</td>\n",
       "      <td>5000</td>\n",
       "    </tr>\n",
       "    <tr>\n",
       "      <th>4</th>\n",
       "      <td>1954400510</td>\n",
       "      <td>2/18/2015</td>\n",
       "      <td>510000.0</td>\n",
       "      <td>3</td>\n",
       "      <td>2.00</td>\n",
       "      <td>1680</td>\n",
       "      <td>8080</td>\n",
       "      <td>1.0</td>\n",
       "      <td>0.0</td>\n",
       "      <td>0.0</td>\n",
       "      <td>...</td>\n",
       "      <td>8</td>\n",
       "      <td>1680</td>\n",
       "      <td>0.0</td>\n",
       "      <td>1987</td>\n",
       "      <td>0.0</td>\n",
       "      <td>98074</td>\n",
       "      <td>47.6168</td>\n",
       "      <td>-122.045</td>\n",
       "      <td>1800</td>\n",
       "      <td>7503</td>\n",
       "    </tr>\n",
       "    <tr>\n",
       "      <th>5</th>\n",
       "      <td>7237550310</td>\n",
       "      <td>5/12/2014</td>\n",
       "      <td>1230000.0</td>\n",
       "      <td>4</td>\n",
       "      <td>4.50</td>\n",
       "      <td>5420</td>\n",
       "      <td>101930</td>\n",
       "      <td>1.0</td>\n",
       "      <td>0.0</td>\n",
       "      <td>0.0</td>\n",
       "      <td>...</td>\n",
       "      <td>11</td>\n",
       "      <td>3890</td>\n",
       "      <td>1530.0</td>\n",
       "      <td>2001</td>\n",
       "      <td>0.0</td>\n",
       "      <td>98053</td>\n",
       "      <td>47.6561</td>\n",
       "      <td>-122.005</td>\n",
       "      <td>4760</td>\n",
       "      <td>101930</td>\n",
       "    </tr>\n",
       "    <tr>\n",
       "      <th>6</th>\n",
       "      <td>1321400060</td>\n",
       "      <td>6/27/2014</td>\n",
       "      <td>257500.0</td>\n",
       "      <td>3</td>\n",
       "      <td>2.25</td>\n",
       "      <td>1715</td>\n",
       "      <td>6819</td>\n",
       "      <td>2.0</td>\n",
       "      <td>0.0</td>\n",
       "      <td>0.0</td>\n",
       "      <td>...</td>\n",
       "      <td>7</td>\n",
       "      <td>1715</td>\n",
       "      <td>?</td>\n",
       "      <td>1995</td>\n",
       "      <td>0.0</td>\n",
       "      <td>98003</td>\n",
       "      <td>47.3097</td>\n",
       "      <td>-122.327</td>\n",
       "      <td>2238</td>\n",
       "      <td>6819</td>\n",
       "    </tr>\n",
       "    <tr>\n",
       "      <th>...</th>\n",
       "      <td>...</td>\n",
       "      <td>...</td>\n",
       "      <td>...</td>\n",
       "      <td>...</td>\n",
       "      <td>...</td>\n",
       "      <td>...</td>\n",
       "      <td>...</td>\n",
       "      <td>...</td>\n",
       "      <td>...</td>\n",
       "      <td>...</td>\n",
       "      <td>...</td>\n",
       "      <td>...</td>\n",
       "      <td>...</td>\n",
       "      <td>...</td>\n",
       "      <td>...</td>\n",
       "      <td>...</td>\n",
       "      <td>...</td>\n",
       "      <td>...</td>\n",
       "      <td>...</td>\n",
       "      <td>...</td>\n",
       "      <td>...</td>\n",
       "    </tr>\n",
       "    <tr>\n",
       "      <th>21591</th>\n",
       "      <td>2997800021</td>\n",
       "      <td>2/19/2015</td>\n",
       "      <td>475000.0</td>\n",
       "      <td>3</td>\n",
       "      <td>2.50</td>\n",
       "      <td>1310</td>\n",
       "      <td>1294</td>\n",
       "      <td>2.0</td>\n",
       "      <td>0.0</td>\n",
       "      <td>0.0</td>\n",
       "      <td>...</td>\n",
       "      <td>8</td>\n",
       "      <td>1180</td>\n",
       "      <td>130.0</td>\n",
       "      <td>2008</td>\n",
       "      <td>0.0</td>\n",
       "      <td>98116</td>\n",
       "      <td>47.5773</td>\n",
       "      <td>-122.409</td>\n",
       "      <td>1330</td>\n",
       "      <td>1265</td>\n",
       "    </tr>\n",
       "    <tr>\n",
       "      <th>21592</th>\n",
       "      <td>263000018</td>\n",
       "      <td>5/21/2014</td>\n",
       "      <td>360000.0</td>\n",
       "      <td>3</td>\n",
       "      <td>2.50</td>\n",
       "      <td>1530</td>\n",
       "      <td>1131</td>\n",
       "      <td>3.0</td>\n",
       "      <td>0.0</td>\n",
       "      <td>0.0</td>\n",
       "      <td>...</td>\n",
       "      <td>8</td>\n",
       "      <td>1530</td>\n",
       "      <td>0.0</td>\n",
       "      <td>2009</td>\n",
       "      <td>0.0</td>\n",
       "      <td>98103</td>\n",
       "      <td>47.6993</td>\n",
       "      <td>-122.346</td>\n",
       "      <td>1530</td>\n",
       "      <td>1509</td>\n",
       "    </tr>\n",
       "    <tr>\n",
       "      <th>21593</th>\n",
       "      <td>6600060120</td>\n",
       "      <td>2/23/2015</td>\n",
       "      <td>400000.0</td>\n",
       "      <td>4</td>\n",
       "      <td>2.50</td>\n",
       "      <td>2310</td>\n",
       "      <td>5813</td>\n",
       "      <td>2.0</td>\n",
       "      <td>0.0</td>\n",
       "      <td>0.0</td>\n",
       "      <td>...</td>\n",
       "      <td>8</td>\n",
       "      <td>2310</td>\n",
       "      <td>0.0</td>\n",
       "      <td>2014</td>\n",
       "      <td>0.0</td>\n",
       "      <td>98146</td>\n",
       "      <td>47.5107</td>\n",
       "      <td>-122.362</td>\n",
       "      <td>1830</td>\n",
       "      <td>7200</td>\n",
       "    </tr>\n",
       "    <tr>\n",
       "      <th>21594</th>\n",
       "      <td>1523300141</td>\n",
       "      <td>6/23/2014</td>\n",
       "      <td>402101.0</td>\n",
       "      <td>2</td>\n",
       "      <td>0.75</td>\n",
       "      <td>1020</td>\n",
       "      <td>1350</td>\n",
       "      <td>2.0</td>\n",
       "      <td>0.0</td>\n",
       "      <td>0.0</td>\n",
       "      <td>...</td>\n",
       "      <td>7</td>\n",
       "      <td>1020</td>\n",
       "      <td>0.0</td>\n",
       "      <td>2009</td>\n",
       "      <td>0.0</td>\n",
       "      <td>98144</td>\n",
       "      <td>47.5944</td>\n",
       "      <td>-122.299</td>\n",
       "      <td>1020</td>\n",
       "      <td>2007</td>\n",
       "    </tr>\n",
       "    <tr>\n",
       "      <th>21596</th>\n",
       "      <td>1523300157</td>\n",
       "      <td>10/15/2014</td>\n",
       "      <td>325000.0</td>\n",
       "      <td>2</td>\n",
       "      <td>0.75</td>\n",
       "      <td>1020</td>\n",
       "      <td>1076</td>\n",
       "      <td>2.0</td>\n",
       "      <td>0.0</td>\n",
       "      <td>0.0</td>\n",
       "      <td>...</td>\n",
       "      <td>7</td>\n",
       "      <td>1020</td>\n",
       "      <td>0.0</td>\n",
       "      <td>2008</td>\n",
       "      <td>0.0</td>\n",
       "      <td>98144</td>\n",
       "      <td>47.5941</td>\n",
       "      <td>-122.299</td>\n",
       "      <td>1020</td>\n",
       "      <td>1357</td>\n",
       "    </tr>\n",
       "  </tbody>\n",
       "</table>\n",
       "<p>15762 rows × 21 columns</p>\n",
       "</div>"
      ],
      "text/plain": [
       "               id        date      price  bedrooms  bathrooms  sqft_living  \\\n",
       "1      6414100192   12/9/2014   538000.0         3       2.25         2570   \n",
       "3      2487200875   12/9/2014   604000.0         4       3.00         1960   \n",
       "4      1954400510   2/18/2015   510000.0         3       2.00         1680   \n",
       "5      7237550310   5/12/2014  1230000.0         4       4.50         5420   \n",
       "6      1321400060   6/27/2014   257500.0         3       2.25         1715   \n",
       "...           ...         ...        ...       ...        ...          ...   \n",
       "21591  2997800021   2/19/2015   475000.0         3       2.50         1310   \n",
       "21592   263000018   5/21/2014   360000.0         3       2.50         1530   \n",
       "21593  6600060120   2/23/2015   400000.0         4       2.50         2310   \n",
       "21594  1523300141   6/23/2014   402101.0         2       0.75         1020   \n",
       "21596  1523300157  10/15/2014   325000.0         2       0.75         1020   \n",
       "\n",
       "       sqft_lot  floors  waterfront  view  ...  grade  sqft_above  \\\n",
       "1          7242     2.0         0.0   0.0  ...      7        2170   \n",
       "3          5000     1.0         0.0   0.0  ...      7        1050   \n",
       "4          8080     1.0         0.0   0.0  ...      8        1680   \n",
       "5        101930     1.0         0.0   0.0  ...     11        3890   \n",
       "6          6819     2.0         0.0   0.0  ...      7        1715   \n",
       "...         ...     ...         ...   ...  ...    ...         ...   \n",
       "21591      1294     2.0         0.0   0.0  ...      8        1180   \n",
       "21592      1131     3.0         0.0   0.0  ...      8        1530   \n",
       "21593      5813     2.0         0.0   0.0  ...      8        2310   \n",
       "21594      1350     2.0         0.0   0.0  ...      7        1020   \n",
       "21596      1076     2.0         0.0   0.0  ...      7        1020   \n",
       "\n",
       "       sqft_basement yr_built  yr_renovated  zipcode      lat     long  \\\n",
       "1              400.0     1951        1991.0    98125  47.7210 -122.319   \n",
       "3              910.0     1965           0.0    98136  47.5208 -122.393   \n",
       "4                0.0     1987           0.0    98074  47.6168 -122.045   \n",
       "5             1530.0     2001           0.0    98053  47.6561 -122.005   \n",
       "6                  ?     1995           0.0    98003  47.3097 -122.327   \n",
       "...              ...      ...           ...      ...      ...      ...   \n",
       "21591          130.0     2008           0.0    98116  47.5773 -122.409   \n",
       "21592            0.0     2009           0.0    98103  47.6993 -122.346   \n",
       "21593            0.0     2014           0.0    98146  47.5107 -122.362   \n",
       "21594            0.0     2009           0.0    98144  47.5944 -122.299   \n",
       "21596            0.0     2008           0.0    98144  47.5941 -122.299   \n",
       "\n",
       "       sqft_living15  sqft_lot15  \n",
       "1               1690        7639  \n",
       "3               1360        5000  \n",
       "4               1800        7503  \n",
       "5               4760      101930  \n",
       "6               2238        6819  \n",
       "...              ...         ...  \n",
       "21591           1330        1265  \n",
       "21592           1530        1509  \n",
       "21593           1830        7200  \n",
       "21594           1020        2007  \n",
       "21596           1020        1357  \n",
       "\n",
       "[15762 rows x 21 columns]"
      ]
     },
     "execution_count": 64,
     "metadata": {},
     "output_type": "execute_result"
    }
   ],
   "source": [
    "df.dropna()"
   ]
  },
  {
   "cell_type": "code",
   "execution_count": 65,
   "metadata": {},
   "outputs": [],
   "source": [
    "df_reno = df[df.yr_renovated != 0]"
   ]
  },
  {
   "cell_type": "code",
   "execution_count": 66,
   "metadata": {},
   "outputs": [],
   "source": [
    "df_reno = df_reno.dropna()"
   ]
  },
  {
   "cell_type": "code",
   "execution_count": 67,
   "metadata": {},
   "outputs": [
    {
     "data": {
      "text/html": [
       "<div>\n",
       "<style scoped>\n",
       "    .dataframe tbody tr th:only-of-type {\n",
       "        vertical-align: middle;\n",
       "    }\n",
       "\n",
       "    .dataframe tbody tr th {\n",
       "        vertical-align: top;\n",
       "    }\n",
       "\n",
       "    .dataframe thead th {\n",
       "        text-align: right;\n",
       "    }\n",
       "</style>\n",
       "<table border=\"1\" class=\"dataframe\">\n",
       "  <thead>\n",
       "    <tr style=\"text-align: right;\">\n",
       "      <th></th>\n",
       "      <th>id</th>\n",
       "      <th>date</th>\n",
       "      <th>price</th>\n",
       "      <th>bedrooms</th>\n",
       "      <th>bathrooms</th>\n",
       "      <th>sqft_living</th>\n",
       "      <th>sqft_lot</th>\n",
       "      <th>floors</th>\n",
       "      <th>waterfront</th>\n",
       "      <th>view</th>\n",
       "      <th>...</th>\n",
       "      <th>grade</th>\n",
       "      <th>sqft_above</th>\n",
       "      <th>sqft_basement</th>\n",
       "      <th>yr_built</th>\n",
       "      <th>yr_renovated</th>\n",
       "      <th>zipcode</th>\n",
       "      <th>lat</th>\n",
       "      <th>long</th>\n",
       "      <th>sqft_living15</th>\n",
       "      <th>sqft_lot15</th>\n",
       "    </tr>\n",
       "  </thead>\n",
       "  <tbody>\n",
       "    <tr>\n",
       "      <th>1</th>\n",
       "      <td>6414100192</td>\n",
       "      <td>12/9/2014</td>\n",
       "      <td>538000.0</td>\n",
       "      <td>3</td>\n",
       "      <td>2.25</td>\n",
       "      <td>2570</td>\n",
       "      <td>7242</td>\n",
       "      <td>2.0</td>\n",
       "      <td>0.0</td>\n",
       "      <td>0.0</td>\n",
       "      <td>...</td>\n",
       "      <td>7</td>\n",
       "      <td>2170</td>\n",
       "      <td>400.0</td>\n",
       "      <td>1951</td>\n",
       "      <td>1991.0</td>\n",
       "      <td>98125</td>\n",
       "      <td>47.7210</td>\n",
       "      <td>-122.319</td>\n",
       "      <td>1690</td>\n",
       "      <td>7639</td>\n",
       "    </tr>\n",
       "    <tr>\n",
       "      <th>35</th>\n",
       "      <td>9547205180</td>\n",
       "      <td>6/13/2014</td>\n",
       "      <td>696000.0</td>\n",
       "      <td>3</td>\n",
       "      <td>2.50</td>\n",
       "      <td>2300</td>\n",
       "      <td>3060</td>\n",
       "      <td>1.5</td>\n",
       "      <td>0.0</td>\n",
       "      <td>0.0</td>\n",
       "      <td>...</td>\n",
       "      <td>8</td>\n",
       "      <td>1510</td>\n",
       "      <td>790.0</td>\n",
       "      <td>1930</td>\n",
       "      <td>2002.0</td>\n",
       "      <td>98115</td>\n",
       "      <td>47.6827</td>\n",
       "      <td>-122.310</td>\n",
       "      <td>1590</td>\n",
       "      <td>3264</td>\n",
       "    </tr>\n",
       "    <tr>\n",
       "      <th>95</th>\n",
       "      <td>1483300570</td>\n",
       "      <td>9/8/2014</td>\n",
       "      <td>905000.0</td>\n",
       "      <td>4</td>\n",
       "      <td>2.50</td>\n",
       "      <td>3300</td>\n",
       "      <td>10250</td>\n",
       "      <td>1.0</td>\n",
       "      <td>0.0</td>\n",
       "      <td>0.0</td>\n",
       "      <td>...</td>\n",
       "      <td>7</td>\n",
       "      <td>2390</td>\n",
       "      <td>910.0</td>\n",
       "      <td>1946</td>\n",
       "      <td>1991.0</td>\n",
       "      <td>98040</td>\n",
       "      <td>47.5873</td>\n",
       "      <td>-122.249</td>\n",
       "      <td>1950</td>\n",
       "      <td>6045</td>\n",
       "    </tr>\n",
       "    <tr>\n",
       "      <th>103</th>\n",
       "      <td>2450000295</td>\n",
       "      <td>10/7/2014</td>\n",
       "      <td>1090000.0</td>\n",
       "      <td>3</td>\n",
       "      <td>2.50</td>\n",
       "      <td>2920</td>\n",
       "      <td>8113</td>\n",
       "      <td>2.0</td>\n",
       "      <td>0.0</td>\n",
       "      <td>0.0</td>\n",
       "      <td>...</td>\n",
       "      <td>8</td>\n",
       "      <td>2920</td>\n",
       "      <td>0.0</td>\n",
       "      <td>1950</td>\n",
       "      <td>2010.0</td>\n",
       "      <td>98004</td>\n",
       "      <td>47.5814</td>\n",
       "      <td>-122.196</td>\n",
       "      <td>2370</td>\n",
       "      <td>8113</td>\n",
       "    </tr>\n",
       "    <tr>\n",
       "      <th>125</th>\n",
       "      <td>4389200955</td>\n",
       "      <td>3/2/2015</td>\n",
       "      <td>1450000.0</td>\n",
       "      <td>4</td>\n",
       "      <td>2.75</td>\n",
       "      <td>2750</td>\n",
       "      <td>17789</td>\n",
       "      <td>1.5</td>\n",
       "      <td>0.0</td>\n",
       "      <td>0.0</td>\n",
       "      <td>...</td>\n",
       "      <td>8</td>\n",
       "      <td>1980</td>\n",
       "      <td>770.0</td>\n",
       "      <td>1914</td>\n",
       "      <td>1992.0</td>\n",
       "      <td>98004</td>\n",
       "      <td>47.6141</td>\n",
       "      <td>-122.212</td>\n",
       "      <td>3060</td>\n",
       "      <td>11275</td>\n",
       "    </tr>\n",
       "    <tr>\n",
       "      <th>...</th>\n",
       "      <td>...</td>\n",
       "      <td>...</td>\n",
       "      <td>...</td>\n",
       "      <td>...</td>\n",
       "      <td>...</td>\n",
       "      <td>...</td>\n",
       "      <td>...</td>\n",
       "      <td>...</td>\n",
       "      <td>...</td>\n",
       "      <td>...</td>\n",
       "      <td>...</td>\n",
       "      <td>...</td>\n",
       "      <td>...</td>\n",
       "      <td>...</td>\n",
       "      <td>...</td>\n",
       "      <td>...</td>\n",
       "      <td>...</td>\n",
       "      <td>...</td>\n",
       "      <td>...</td>\n",
       "      <td>...</td>\n",
       "      <td>...</td>\n",
       "    </tr>\n",
       "    <tr>\n",
       "      <th>19577</th>\n",
       "      <td>421059018</td>\n",
       "      <td>11/4/2014</td>\n",
       "      <td>257000.0</td>\n",
       "      <td>3</td>\n",
       "      <td>1.75</td>\n",
       "      <td>1397</td>\n",
       "      <td>18000</td>\n",
       "      <td>1.0</td>\n",
       "      <td>0.0</td>\n",
       "      <td>0.0</td>\n",
       "      <td>...</td>\n",
       "      <td>7</td>\n",
       "      <td>1397</td>\n",
       "      <td>0.0</td>\n",
       "      <td>1965</td>\n",
       "      <td>2014.0</td>\n",
       "      <td>98092</td>\n",
       "      <td>47.3388</td>\n",
       "      <td>-122.166</td>\n",
       "      <td>1950</td>\n",
       "      <td>31294</td>\n",
       "    </tr>\n",
       "    <tr>\n",
       "      <th>19602</th>\n",
       "      <td>6392000625</td>\n",
       "      <td>7/12/2014</td>\n",
       "      <td>451000.0</td>\n",
       "      <td>2</td>\n",
       "      <td>1.00</td>\n",
       "      <td>900</td>\n",
       "      <td>6000</td>\n",
       "      <td>1.0</td>\n",
       "      <td>0.0</td>\n",
       "      <td>0.0</td>\n",
       "      <td>...</td>\n",
       "      <td>7</td>\n",
       "      <td>900</td>\n",
       "      <td>0.0</td>\n",
       "      <td>1944</td>\n",
       "      <td>2004.0</td>\n",
       "      <td>98115</td>\n",
       "      <td>47.6855</td>\n",
       "      <td>-122.289</td>\n",
       "      <td>1460</td>\n",
       "      <td>4800</td>\n",
       "    </tr>\n",
       "    <tr>\n",
       "      <th>20041</th>\n",
       "      <td>126039256</td>\n",
       "      <td>9/4/2014</td>\n",
       "      <td>434900.0</td>\n",
       "      <td>3</td>\n",
       "      <td>2.00</td>\n",
       "      <td>1520</td>\n",
       "      <td>5040</td>\n",
       "      <td>2.0</td>\n",
       "      <td>0.0</td>\n",
       "      <td>0.0</td>\n",
       "      <td>...</td>\n",
       "      <td>7</td>\n",
       "      <td>1520</td>\n",
       "      <td>0.0</td>\n",
       "      <td>1977</td>\n",
       "      <td>2006.0</td>\n",
       "      <td>98177</td>\n",
       "      <td>47.7770</td>\n",
       "      <td>-122.362</td>\n",
       "      <td>1860</td>\n",
       "      <td>8710</td>\n",
       "    </tr>\n",
       "    <tr>\n",
       "      <th>20428</th>\n",
       "      <td>4305600360</td>\n",
       "      <td>2/25/2015</td>\n",
       "      <td>500012.0</td>\n",
       "      <td>4</td>\n",
       "      <td>2.50</td>\n",
       "      <td>2400</td>\n",
       "      <td>9612</td>\n",
       "      <td>1.0</td>\n",
       "      <td>0.0</td>\n",
       "      <td>0.0</td>\n",
       "      <td>...</td>\n",
       "      <td>8</td>\n",
       "      <td>1230</td>\n",
       "      <td>1170.0</td>\n",
       "      <td>1962</td>\n",
       "      <td>2009.0</td>\n",
       "      <td>98059</td>\n",
       "      <td>47.4799</td>\n",
       "      <td>-122.127</td>\n",
       "      <td>2430</td>\n",
       "      <td>5539</td>\n",
       "    </tr>\n",
       "    <tr>\n",
       "      <th>20946</th>\n",
       "      <td>1278000210</td>\n",
       "      <td>3/11/2015</td>\n",
       "      <td>110000.0</td>\n",
       "      <td>2</td>\n",
       "      <td>1.00</td>\n",
       "      <td>828</td>\n",
       "      <td>4524</td>\n",
       "      <td>1.0</td>\n",
       "      <td>0.0</td>\n",
       "      <td>0.0</td>\n",
       "      <td>...</td>\n",
       "      <td>6</td>\n",
       "      <td>828</td>\n",
       "      <td>0.0</td>\n",
       "      <td>1968</td>\n",
       "      <td>2007.0</td>\n",
       "      <td>98001</td>\n",
       "      <td>47.2655</td>\n",
       "      <td>-122.244</td>\n",
       "      <td>828</td>\n",
       "      <td>5402</td>\n",
       "    </tr>\n",
       "  </tbody>\n",
       "</table>\n",
       "<p>651 rows × 21 columns</p>\n",
       "</div>"
      ],
      "text/plain": [
       "               id       date      price  bedrooms  bathrooms  sqft_living  \\\n",
       "1      6414100192  12/9/2014   538000.0         3       2.25         2570   \n",
       "35     9547205180  6/13/2014   696000.0         3       2.50         2300   \n",
       "95     1483300570   9/8/2014   905000.0         4       2.50         3300   \n",
       "103    2450000295  10/7/2014  1090000.0         3       2.50         2920   \n",
       "125    4389200955   3/2/2015  1450000.0         4       2.75         2750   \n",
       "...           ...        ...        ...       ...        ...          ...   \n",
       "19577   421059018  11/4/2014   257000.0         3       1.75         1397   \n",
       "19602  6392000625  7/12/2014   451000.0         2       1.00          900   \n",
       "20041   126039256   9/4/2014   434900.0         3       2.00         1520   \n",
       "20428  4305600360  2/25/2015   500012.0         4       2.50         2400   \n",
       "20946  1278000210  3/11/2015   110000.0         2       1.00          828   \n",
       "\n",
       "       sqft_lot  floors  waterfront  view  ...  grade  sqft_above  \\\n",
       "1          7242     2.0         0.0   0.0  ...      7        2170   \n",
       "35         3060     1.5         0.0   0.0  ...      8        1510   \n",
       "95        10250     1.0         0.0   0.0  ...      7        2390   \n",
       "103        8113     2.0         0.0   0.0  ...      8        2920   \n",
       "125       17789     1.5         0.0   0.0  ...      8        1980   \n",
       "...         ...     ...         ...   ...  ...    ...         ...   \n",
       "19577     18000     1.0         0.0   0.0  ...      7        1397   \n",
       "19602      6000     1.0         0.0   0.0  ...      7         900   \n",
       "20041      5040     2.0         0.0   0.0  ...      7        1520   \n",
       "20428      9612     1.0         0.0   0.0  ...      8        1230   \n",
       "20946      4524     1.0         0.0   0.0  ...      6         828   \n",
       "\n",
       "       sqft_basement yr_built  yr_renovated  zipcode      lat     long  \\\n",
       "1              400.0     1951        1991.0    98125  47.7210 -122.319   \n",
       "35             790.0     1930        2002.0    98115  47.6827 -122.310   \n",
       "95             910.0     1946        1991.0    98040  47.5873 -122.249   \n",
       "103              0.0     1950        2010.0    98004  47.5814 -122.196   \n",
       "125            770.0     1914        1992.0    98004  47.6141 -122.212   \n",
       "...              ...      ...           ...      ...      ...      ...   \n",
       "19577            0.0     1965        2014.0    98092  47.3388 -122.166   \n",
       "19602            0.0     1944        2004.0    98115  47.6855 -122.289   \n",
       "20041            0.0     1977        2006.0    98177  47.7770 -122.362   \n",
       "20428         1170.0     1962        2009.0    98059  47.4799 -122.127   \n",
       "20946            0.0     1968        2007.0    98001  47.2655 -122.244   \n",
       "\n",
       "       sqft_living15  sqft_lot15  \n",
       "1               1690        7639  \n",
       "35              1590        3264  \n",
       "95              1950        6045  \n",
       "103             2370        8113  \n",
       "125             3060       11275  \n",
       "...              ...         ...  \n",
       "19577           1950       31294  \n",
       "19602           1460        4800  \n",
       "20041           1860        8710  \n",
       "20428           2430        5539  \n",
       "20946            828        5402  \n",
       "\n",
       "[651 rows x 21 columns]"
      ]
     },
     "execution_count": 67,
     "metadata": {},
     "output_type": "execute_result"
    }
   ],
   "source": [
    "df_reno"
   ]
  },
  {
   "cell_type": "code",
   "execution_count": 68,
   "metadata": {},
   "outputs": [
    {
     "data": {
      "text/plain": [
       "id               False\n",
       "date             False\n",
       "price            False\n",
       "bedrooms         False\n",
       "bathrooms        False\n",
       "sqft_living      False\n",
       "sqft_lot         False\n",
       "floors           False\n",
       "waterfront       False\n",
       "view             False\n",
       "condition        False\n",
       "grade            False\n",
       "sqft_above       False\n",
       "sqft_basement    False\n",
       "yr_built         False\n",
       "yr_renovated     False\n",
       "zipcode          False\n",
       "lat              False\n",
       "long             False\n",
       "sqft_living15    False\n",
       "sqft_lot15       False\n",
       "dtype: bool"
      ]
     },
     "metadata": {},
     "output_type": "display_data"
    },
    {
     "data": {
      "text/plain": [
       "(651, 21)"
      ]
     },
     "execution_count": 68,
     "metadata": {},
     "output_type": "execute_result"
    }
   ],
   "source": [
    "#check for nulls\n",
    "display(df_reno.isnull().any())\n",
    "df_reno.shape"
   ]
  },
  {
   "cell_type": "code",
   "execution_count": 69,
   "metadata": {},
   "outputs": [
    {
     "data": {
      "text/plain": [
       "(410000.0, 886250.0)"
      ]
     },
     "execution_count": 69,
     "metadata": {},
     "output_type": "execute_result"
    }
   ],
   "source": [
    "min_threshold, max_threshold = df_reno.price.quantile([0.25, 0.75])\n",
    "min_threshold, max_threshold\n",
    "\n",
    "#removing outliers with interquartile method\n"
   ]
  },
  {
   "cell_type": "code",
   "execution_count": 70,
   "metadata": {},
   "outputs": [],
   "source": [
    "df_1 = df_reno[(df_reno.price < max_threshold) & (df_reno.price > min_threshold)]"
   ]
  },
  {
   "cell_type": "code",
   "execution_count": 71,
   "metadata": {},
   "outputs": [
    {
     "data": {
      "text/plain": [
       "(323, 21)"
      ]
     },
     "execution_count": 71,
     "metadata": {},
     "output_type": "execute_result"
    }
   ],
   "source": [
    "#checking to see that the shape is smaller due to outliers being removed\n",
    "df_1.shape"
   ]
  },
  {
   "cell_type": "code",
   "execution_count": 72,
   "metadata": {},
   "outputs": [
    {
     "data": {
      "text/html": [
       "<div>\n",
       "<style scoped>\n",
       "    .dataframe tbody tr th:only-of-type {\n",
       "        vertical-align: middle;\n",
       "    }\n",
       "\n",
       "    .dataframe tbody tr th {\n",
       "        vertical-align: top;\n",
       "    }\n",
       "\n",
       "    .dataframe thead th {\n",
       "        text-align: right;\n",
       "    }\n",
       "</style>\n",
       "<table border=\"1\" class=\"dataframe\">\n",
       "  <thead>\n",
       "    <tr style=\"text-align: right;\">\n",
       "      <th></th>\n",
       "      <th>id</th>\n",
       "      <th>date</th>\n",
       "      <th>price</th>\n",
       "      <th>bedrooms</th>\n",
       "      <th>bathrooms</th>\n",
       "      <th>sqft_living</th>\n",
       "      <th>sqft_lot</th>\n",
       "      <th>floors</th>\n",
       "      <th>waterfront</th>\n",
       "      <th>view</th>\n",
       "      <th>...</th>\n",
       "      <th>grade</th>\n",
       "      <th>sqft_above</th>\n",
       "      <th>sqft_basement</th>\n",
       "      <th>yr_built</th>\n",
       "      <th>yr_renovated</th>\n",
       "      <th>zipcode</th>\n",
       "      <th>lat</th>\n",
       "      <th>long</th>\n",
       "      <th>sqft_living15</th>\n",
       "      <th>sqft_lot15</th>\n",
       "    </tr>\n",
       "  </thead>\n",
       "  <tbody>\n",
       "    <tr>\n",
       "      <th>1</th>\n",
       "      <td>6414100192</td>\n",
       "      <td>12/9/2014</td>\n",
       "      <td>538000.0</td>\n",
       "      <td>3</td>\n",
       "      <td>2.25</td>\n",
       "      <td>2570</td>\n",
       "      <td>7242</td>\n",
       "      <td>2.0</td>\n",
       "      <td>0.0</td>\n",
       "      <td>0.0</td>\n",
       "      <td>...</td>\n",
       "      <td>7</td>\n",
       "      <td>2170</td>\n",
       "      <td>400.0</td>\n",
       "      <td>1951</td>\n",
       "      <td>1991.0</td>\n",
       "      <td>98125</td>\n",
       "      <td>47.7210</td>\n",
       "      <td>-122.319</td>\n",
       "      <td>1690</td>\n",
       "      <td>7639</td>\n",
       "    </tr>\n",
       "    <tr>\n",
       "      <th>35</th>\n",
       "      <td>9547205180</td>\n",
       "      <td>6/13/2014</td>\n",
       "      <td>696000.0</td>\n",
       "      <td>3</td>\n",
       "      <td>2.50</td>\n",
       "      <td>2300</td>\n",
       "      <td>3060</td>\n",
       "      <td>1.5</td>\n",
       "      <td>0.0</td>\n",
       "      <td>0.0</td>\n",
       "      <td>...</td>\n",
       "      <td>8</td>\n",
       "      <td>1510</td>\n",
       "      <td>790.0</td>\n",
       "      <td>1930</td>\n",
       "      <td>2002.0</td>\n",
       "      <td>98115</td>\n",
       "      <td>47.6827</td>\n",
       "      <td>-122.310</td>\n",
       "      <td>1590</td>\n",
       "      <td>3264</td>\n",
       "    </tr>\n",
       "    <tr>\n",
       "      <th>209</th>\n",
       "      <td>6300000550</td>\n",
       "      <td>7/17/2014</td>\n",
       "      <td>464000.0</td>\n",
       "      <td>6</td>\n",
       "      <td>3.00</td>\n",
       "      <td>2300</td>\n",
       "      <td>3404</td>\n",
       "      <td>2.0</td>\n",
       "      <td>0.0</td>\n",
       "      <td>0.0</td>\n",
       "      <td>...</td>\n",
       "      <td>7</td>\n",
       "      <td>1600</td>\n",
       "      <td>700.0</td>\n",
       "      <td>1920</td>\n",
       "      <td>1994.0</td>\n",
       "      <td>98133</td>\n",
       "      <td>47.7067</td>\n",
       "      <td>-122.343</td>\n",
       "      <td>1560</td>\n",
       "      <td>1312</td>\n",
       "    </tr>\n",
       "    <tr>\n",
       "      <th>230</th>\n",
       "      <td>8096000060</td>\n",
       "      <td>4/13/2015</td>\n",
       "      <td>655000.0</td>\n",
       "      <td>2</td>\n",
       "      <td>1.75</td>\n",
       "      <td>1450</td>\n",
       "      <td>15798</td>\n",
       "      <td>2.0</td>\n",
       "      <td>1.0</td>\n",
       "      <td>4.0</td>\n",
       "      <td>...</td>\n",
       "      <td>7</td>\n",
       "      <td>1230</td>\n",
       "      <td>220.0</td>\n",
       "      <td>1915</td>\n",
       "      <td>1978.0</td>\n",
       "      <td>98166</td>\n",
       "      <td>47.4497</td>\n",
       "      <td>-122.375</td>\n",
       "      <td>2030</td>\n",
       "      <td>13193</td>\n",
       "    </tr>\n",
       "    <tr>\n",
       "      <th>379</th>\n",
       "      <td>7132300695</td>\n",
       "      <td>4/21/2015</td>\n",
       "      <td>435000.0</td>\n",
       "      <td>3</td>\n",
       "      <td>1.50</td>\n",
       "      <td>1300</td>\n",
       "      <td>3348</td>\n",
       "      <td>1.5</td>\n",
       "      <td>0.0</td>\n",
       "      <td>0.0</td>\n",
       "      <td>...</td>\n",
       "      <td>7</td>\n",
       "      <td>1300</td>\n",
       "      <td>0.0</td>\n",
       "      <td>1904</td>\n",
       "      <td>2014.0</td>\n",
       "      <td>98144</td>\n",
       "      <td>47.5920</td>\n",
       "      <td>-122.307</td>\n",
       "      <td>1590</td>\n",
       "      <td>2577</td>\n",
       "    </tr>\n",
       "  </tbody>\n",
       "</table>\n",
       "<p>5 rows × 21 columns</p>\n",
       "</div>"
      ],
      "text/plain": [
       "             id       date     price  bedrooms  bathrooms  sqft_living  \\\n",
       "1    6414100192  12/9/2014  538000.0         3       2.25         2570   \n",
       "35   9547205180  6/13/2014  696000.0         3       2.50         2300   \n",
       "209  6300000550  7/17/2014  464000.0         6       3.00         2300   \n",
       "230  8096000060  4/13/2015  655000.0         2       1.75         1450   \n",
       "379  7132300695  4/21/2015  435000.0         3       1.50         1300   \n",
       "\n",
       "     sqft_lot  floors  waterfront  view  ...  grade  sqft_above  \\\n",
       "1        7242     2.0         0.0   0.0  ...      7        2170   \n",
       "35       3060     1.5         0.0   0.0  ...      8        1510   \n",
       "209      3404     2.0         0.0   0.0  ...      7        1600   \n",
       "230     15798     2.0         1.0   4.0  ...      7        1230   \n",
       "379      3348     1.5         0.0   0.0  ...      7        1300   \n",
       "\n",
       "     sqft_basement yr_built  yr_renovated  zipcode      lat     long  \\\n",
       "1            400.0     1951        1991.0    98125  47.7210 -122.319   \n",
       "35           790.0     1930        2002.0    98115  47.6827 -122.310   \n",
       "209          700.0     1920        1994.0    98133  47.7067 -122.343   \n",
       "230          220.0     1915        1978.0    98166  47.4497 -122.375   \n",
       "379            0.0     1904        2014.0    98144  47.5920 -122.307   \n",
       "\n",
       "     sqft_living15  sqft_lot15  \n",
       "1             1690        7639  \n",
       "35            1590        3264  \n",
       "209           1560        1312  \n",
       "230           2030       13193  \n",
       "379           1590        2577  \n",
       "\n",
       "[5 rows x 21 columns]"
      ]
     },
     "execution_count": 72,
     "metadata": {},
     "output_type": "execute_result"
    }
   ],
   "source": [
    "df_1.head()"
   ]
  },
  {
   "cell_type": "code",
   "execution_count": 73,
   "metadata": {},
   "outputs": [
    {
     "name": "stdout",
     "output_type": "stream",
     "text": [
      "<class 'pandas.core.frame.DataFrame'>\n",
      "Int64Index: 323 entries, 1 to 20428\n",
      "Data columns (total 21 columns):\n",
      " #   Column         Non-Null Count  Dtype  \n",
      "---  ------         --------------  -----  \n",
      " 0   id             323 non-null    int64  \n",
      " 1   date           323 non-null    object \n",
      " 2   price          323 non-null    float64\n",
      " 3   bedrooms       323 non-null    int64  \n",
      " 4   bathrooms      323 non-null    float64\n",
      " 5   sqft_living    323 non-null    int64  \n",
      " 6   sqft_lot       323 non-null    int64  \n",
      " 7   floors         323 non-null    float64\n",
      " 8   waterfront     323 non-null    float64\n",
      " 9   view           323 non-null    float64\n",
      " 10  condition      323 non-null    int64  \n",
      " 11  grade          323 non-null    int64  \n",
      " 12  sqft_above     323 non-null    int64  \n",
      " 13  sqft_basement  323 non-null    object \n",
      " 14  yr_built       323 non-null    int64  \n",
      " 15  yr_renovated   323 non-null    float64\n",
      " 16  zipcode        323 non-null    int64  \n",
      " 17  lat            323 non-null    float64\n",
      " 18  long           323 non-null    float64\n",
      " 19  sqft_living15  323 non-null    int64  \n",
      " 20  sqft_lot15     323 non-null    int64  \n",
      "dtypes: float64(8), int64(11), object(2)\n",
      "memory usage: 55.5+ KB\n"
     ]
    }
   ],
   "source": [
    "df_1.info()"
   ]
  },
  {
   "cell_type": "code",
   "execution_count": 74,
   "metadata": {},
   "outputs": [],
   "source": [
    "#removed objects\n",
    "drop_these = ['date', 'sqft_basement']\n",
    "df_1 = df_1.drop(columns=drop_these)"
   ]
  },
  {
   "cell_type": "code",
   "execution_count": 75,
   "metadata": {},
   "outputs": [
    {
     "data": {
      "text/html": [
       "<div>\n",
       "<style scoped>\n",
       "    .dataframe tbody tr th:only-of-type {\n",
       "        vertical-align: middle;\n",
       "    }\n",
       "\n",
       "    .dataframe tbody tr th {\n",
       "        vertical-align: top;\n",
       "    }\n",
       "\n",
       "    .dataframe thead th {\n",
       "        text-align: right;\n",
       "    }\n",
       "</style>\n",
       "<table border=\"1\" class=\"dataframe\">\n",
       "  <thead>\n",
       "    <tr style=\"text-align: right;\">\n",
       "      <th></th>\n",
       "      <th>id</th>\n",
       "      <th>price</th>\n",
       "      <th>bedrooms</th>\n",
       "      <th>bathrooms</th>\n",
       "      <th>sqft_living</th>\n",
       "      <th>sqft_lot</th>\n",
       "      <th>floors</th>\n",
       "      <th>waterfront</th>\n",
       "      <th>view</th>\n",
       "      <th>condition</th>\n",
       "      <th>grade</th>\n",
       "      <th>sqft_above</th>\n",
       "      <th>yr_built</th>\n",
       "      <th>yr_renovated</th>\n",
       "      <th>zipcode</th>\n",
       "      <th>lat</th>\n",
       "      <th>long</th>\n",
       "      <th>sqft_living15</th>\n",
       "      <th>sqft_lot15</th>\n",
       "    </tr>\n",
       "  </thead>\n",
       "  <tbody>\n",
       "    <tr>\n",
       "      <th>count</th>\n",
       "      <td>3.230000e+02</td>\n",
       "      <td>323.000000</td>\n",
       "      <td>323.000000</td>\n",
       "      <td>323.000000</td>\n",
       "      <td>323.000000</td>\n",
       "      <td>323.000000</td>\n",
       "      <td>323.000000</td>\n",
       "      <td>323.000000</td>\n",
       "      <td>323.000000</td>\n",
       "      <td>323.000000</td>\n",
       "      <td>323.000000</td>\n",
       "      <td>323.000000</td>\n",
       "      <td>323.000000</td>\n",
       "      <td>323.000000</td>\n",
       "      <td>323.000000</td>\n",
       "      <td>323.000000</td>\n",
       "      <td>323.000000</td>\n",
       "      <td>323.000000</td>\n",
       "      <td>323.000000</td>\n",
       "    </tr>\n",
       "    <tr>\n",
       "      <th>mean</th>\n",
       "      <td>4.661972e+09</td>\n",
       "      <td>626192.681115</td>\n",
       "      <td>3.436533</td>\n",
       "      <td>2.267028</td>\n",
       "      <td>2157.832817</td>\n",
       "      <td>16022.287926</td>\n",
       "      <td>1.510836</td>\n",
       "      <td>0.024768</td>\n",
       "      <td>0.414861</td>\n",
       "      <td>3.216718</td>\n",
       "      <td>7.594427</td>\n",
       "      <td>1779.009288</td>\n",
       "      <td>1937.956656</td>\n",
       "      <td>1996.798762</td>\n",
       "      <td>98099.752322</td>\n",
       "      <td>47.600809</td>\n",
       "      <td>-122.271043</td>\n",
       "      <td>1869.139319</td>\n",
       "      <td>13810.071207</td>\n",
       "    </tr>\n",
       "    <tr>\n",
       "      <th>std</th>\n",
       "      <td>2.984808e+09</td>\n",
       "      <td>140811.528151</td>\n",
       "      <td>1.068244</td>\n",
       "      <td>0.739116</td>\n",
       "      <td>691.072227</td>\n",
       "      <td>42844.609403</td>\n",
       "      <td>0.486501</td>\n",
       "      <td>0.155658</td>\n",
       "      <td>1.009902</td>\n",
       "      <td>0.494786</td>\n",
       "      <td>0.759760</td>\n",
       "      <td>655.407571</td>\n",
       "      <td>22.813815</td>\n",
       "      <td>15.150582</td>\n",
       "      <td>50.359767</td>\n",
       "      <td>0.106457</td>\n",
       "      <td>0.126773</td>\n",
       "      <td>520.255541</td>\n",
       "      <td>31466.329486</td>\n",
       "    </tr>\n",
       "    <tr>\n",
       "      <th>min</th>\n",
       "      <td>9.000025e+06</td>\n",
       "      <td>411500.000000</td>\n",
       "      <td>1.000000</td>\n",
       "      <td>0.750000</td>\n",
       "      <td>880.000000</td>\n",
       "      <td>1024.000000</td>\n",
       "      <td>1.000000</td>\n",
       "      <td>0.000000</td>\n",
       "      <td>0.000000</td>\n",
       "      <td>2.000000</td>\n",
       "      <td>6.000000</td>\n",
       "      <td>600.000000</td>\n",
       "      <td>1900.000000</td>\n",
       "      <td>1934.000000</td>\n",
       "      <td>98001.000000</td>\n",
       "      <td>47.204600</td>\n",
       "      <td>-122.497000</td>\n",
       "      <td>860.000000</td>\n",
       "      <td>1281.000000</td>\n",
       "    </tr>\n",
       "    <tr>\n",
       "      <th>25%</th>\n",
       "      <td>2.026875e+09</td>\n",
       "      <td>500000.000000</td>\n",
       "      <td>3.000000</td>\n",
       "      <td>1.750000</td>\n",
       "      <td>1665.000000</td>\n",
       "      <td>4308.000000</td>\n",
       "      <td>1.000000</td>\n",
       "      <td>0.000000</td>\n",
       "      <td>0.000000</td>\n",
       "      <td>3.000000</td>\n",
       "      <td>7.000000</td>\n",
       "      <td>1300.000000</td>\n",
       "      <td>1919.000000</td>\n",
       "      <td>1988.000000</td>\n",
       "      <td>98058.500000</td>\n",
       "      <td>47.550150</td>\n",
       "      <td>-122.363500</td>\n",
       "      <td>1497.000000</td>\n",
       "      <td>4560.000000</td>\n",
       "    </tr>\n",
       "    <tr>\n",
       "      <th>50%</th>\n",
       "      <td>4.083801e+09</td>\n",
       "      <td>600000.000000</td>\n",
       "      <td>3.000000</td>\n",
       "      <td>2.000000</td>\n",
       "      <td>2090.000000</td>\n",
       "      <td>6600.000000</td>\n",
       "      <td>1.500000</td>\n",
       "      <td>0.000000</td>\n",
       "      <td>0.000000</td>\n",
       "      <td>3.000000</td>\n",
       "      <td>8.000000</td>\n",
       "      <td>1670.000000</td>\n",
       "      <td>1938.000000</td>\n",
       "      <td>2000.000000</td>\n",
       "      <td>98115.000000</td>\n",
       "      <td>47.615800</td>\n",
       "      <td>-122.305000</td>\n",
       "      <td>1800.000000</td>\n",
       "      <td>6380.000000</td>\n",
       "    </tr>\n",
       "    <tr>\n",
       "      <th>75%</th>\n",
       "      <td>7.210501e+09</td>\n",
       "      <td>757500.000000</td>\n",
       "      <td>4.000000</td>\n",
       "      <td>2.750000</td>\n",
       "      <td>2645.000000</td>\n",
       "      <td>10800.000000</td>\n",
       "      <td>2.000000</td>\n",
       "      <td>0.000000</td>\n",
       "      <td>0.000000</td>\n",
       "      <td>3.000000</td>\n",
       "      <td>8.000000</td>\n",
       "      <td>2105.000000</td>\n",
       "      <td>1955.000000</td>\n",
       "      <td>2009.000000</td>\n",
       "      <td>98125.000000</td>\n",
       "      <td>47.680250</td>\n",
       "      <td>-122.201500</td>\n",
       "      <td>2125.000000</td>\n",
       "      <td>10307.000000</td>\n",
       "    </tr>\n",
       "    <tr>\n",
       "      <th>max</th>\n",
       "      <td>9.828702e+09</td>\n",
       "      <td>885000.000000</td>\n",
       "      <td>11.000000</td>\n",
       "      <td>5.750000</td>\n",
       "      <td>4600.000000</td>\n",
       "      <td>478288.000000</td>\n",
       "      <td>3.000000</td>\n",
       "      <td>1.000000</td>\n",
       "      <td>4.000000</td>\n",
       "      <td>5.000000</td>\n",
       "      <td>11.000000</td>\n",
       "      <td>4180.000000</td>\n",
       "      <td>2003.000000</td>\n",
       "      <td>2015.000000</td>\n",
       "      <td>98199.000000</td>\n",
       "      <td>47.777000</td>\n",
       "      <td>-121.723000</td>\n",
       "      <td>3520.000000</td>\n",
       "      <td>310582.000000</td>\n",
       "    </tr>\n",
       "  </tbody>\n",
       "</table>\n",
       "</div>"
      ],
      "text/plain": [
       "                 id          price    bedrooms   bathrooms  sqft_living  \\\n",
       "count  3.230000e+02     323.000000  323.000000  323.000000   323.000000   \n",
       "mean   4.661972e+09  626192.681115    3.436533    2.267028  2157.832817   \n",
       "std    2.984808e+09  140811.528151    1.068244    0.739116   691.072227   \n",
       "min    9.000025e+06  411500.000000    1.000000    0.750000   880.000000   \n",
       "25%    2.026875e+09  500000.000000    3.000000    1.750000  1665.000000   \n",
       "50%    4.083801e+09  600000.000000    3.000000    2.000000  2090.000000   \n",
       "75%    7.210501e+09  757500.000000    4.000000    2.750000  2645.000000   \n",
       "max    9.828702e+09  885000.000000   11.000000    5.750000  4600.000000   \n",
       "\n",
       "            sqft_lot      floors  waterfront        view   condition  \\\n",
       "count     323.000000  323.000000  323.000000  323.000000  323.000000   \n",
       "mean    16022.287926    1.510836    0.024768    0.414861    3.216718   \n",
       "std     42844.609403    0.486501    0.155658    1.009902    0.494786   \n",
       "min      1024.000000    1.000000    0.000000    0.000000    2.000000   \n",
       "25%      4308.000000    1.000000    0.000000    0.000000    3.000000   \n",
       "50%      6600.000000    1.500000    0.000000    0.000000    3.000000   \n",
       "75%     10800.000000    2.000000    0.000000    0.000000    3.000000   \n",
       "max    478288.000000    3.000000    1.000000    4.000000    5.000000   \n",
       "\n",
       "            grade   sqft_above     yr_built  yr_renovated       zipcode  \\\n",
       "count  323.000000   323.000000   323.000000    323.000000    323.000000   \n",
       "mean     7.594427  1779.009288  1937.956656   1996.798762  98099.752322   \n",
       "std      0.759760   655.407571    22.813815     15.150582     50.359767   \n",
       "min      6.000000   600.000000  1900.000000   1934.000000  98001.000000   \n",
       "25%      7.000000  1300.000000  1919.000000   1988.000000  98058.500000   \n",
       "50%      8.000000  1670.000000  1938.000000   2000.000000  98115.000000   \n",
       "75%      8.000000  2105.000000  1955.000000   2009.000000  98125.000000   \n",
       "max     11.000000  4180.000000  2003.000000   2015.000000  98199.000000   \n",
       "\n",
       "              lat        long  sqft_living15     sqft_lot15  \n",
       "count  323.000000  323.000000     323.000000     323.000000  \n",
       "mean    47.600809 -122.271043    1869.139319   13810.071207  \n",
       "std      0.106457    0.126773     520.255541   31466.329486  \n",
       "min     47.204600 -122.497000     860.000000    1281.000000  \n",
       "25%     47.550150 -122.363500    1497.000000    4560.000000  \n",
       "50%     47.615800 -122.305000    1800.000000    6380.000000  \n",
       "75%     47.680250 -122.201500    2125.000000   10307.000000  \n",
       "max     47.777000 -121.723000    3520.000000  310582.000000  "
      ]
     },
     "execution_count": 75,
     "metadata": {},
     "output_type": "execute_result"
    }
   ],
   "source": [
    "df_1.describe()"
   ]
  },
  {
   "cell_type": "code",
   "execution_count": 76,
   "metadata": {},
   "outputs": [],
   "source": [
    "conts= []\n",
    "cats= []\n",
    "for col in df_1.columns:\n",
    "    if (df_1[col].nunique() < 25):\n",
    "        cats.append(col)\n",
    "    else: \n",
    "        conts.append(col)"
   ]
  },
  {
   "cell_type": "code",
   "execution_count": 77,
   "metadata": {},
   "outputs": [],
   "source": [
    "df_conts = df_1.loc[:,conts]"
   ]
  },
  {
   "cell_type": "code",
   "execution_count": 78,
   "metadata": {},
   "outputs": [],
   "source": [
    "df_cats = df_1.loc[:,cats]"
   ]
  },
  {
   "cell_type": "code",
   "execution_count": 79,
   "metadata": {},
   "outputs": [
    {
     "data": {
      "text/plain": [
       "array([[<AxesSubplot:title={'center':'bedrooms'}>,\n",
       "        <AxesSubplot:title={'center':'bathrooms'}>,\n",
       "        <AxesSubplot:title={'center':'floors'}>],\n",
       "       [<AxesSubplot:title={'center':'waterfront'}>,\n",
       "        <AxesSubplot:title={'center':'view'}>,\n",
       "        <AxesSubplot:title={'center':'condition'}>],\n",
       "       [<AxesSubplot:title={'center':'grade'}>, <AxesSubplot:>,\n",
       "        <AxesSubplot:>]], dtype=object)"
      ]
     },
     "execution_count": 79,
     "metadata": {},
     "output_type": "execute_result"
    },
    {
     "data": {
      "image/png": "[encoded data removed]",
      "text/plain": [
       "<Figure size 648x504 with 9 Axes>"
      ]
     },
     "metadata": {
      "needs_background": "light"
     },
     "output_type": "display_data"
    }
   ],
   "source": [
    "df_cats.hist(figsize = (9,7))"
   ]
  },
  {
   "cell_type": "code",
   "execution_count": 80,
   "metadata": {},
   "outputs": [
    {
     "data": {
      "text/plain": [
       "<AxesSubplot:>"
      ]
     },
     "execution_count": 80,
     "metadata": {},
     "output_type": "execute_result"
    },
    {
     "data": {
      "image/png": "[encoded data removed]",
      "text/plain": [
       "<Figure size 432x288 with 1 Axes>"
      ]
     },
     "metadata": {
      "needs_background": "light"
     },
     "output_type": "display_data"
    }
   ],
   "source": [
    "df_cats.bedrooms.hist()"
   ]
  },
  {
   "cell_type": "code",
   "execution_count": 81,
   "metadata": {},
   "outputs": [],
   "source": [
    "df_1 = df_1[df_1['bedrooms'] < 9]"
   ]
  },
  {
   "cell_type": "code",
   "execution_count": 82,
   "metadata": {},
   "outputs": [
    {
     "data": {
      "text/plain": [
       "<AxesSubplot:>"
      ]
     },
     "execution_count": 82,
     "metadata": {},
     "output_type": "execute_result"
    },
    {
     "data": {
      "image/png": "[encoded data removed]",
      "text/plain": [
       "<Figure size 432x288 with 1 Axes>"
      ]
     },
     "metadata": {
      "needs_background": "light"
     },
     "output_type": "display_data"
    }
   ],
   "source": [
    "df_1.bedrooms.hist()"
   ]
  },
  {
   "cell_type": "code",
   "execution_count": 83,
   "metadata": {},
   "outputs": [
    {
     "data": {
      "text/plain": [
       "(322, 19)"
      ]
     },
     "execution_count": 83,
     "metadata": {},
     "output_type": "execute_result"
    }
   ],
   "source": [
    "df_1.shape"
   ]
  },
  {
   "cell_type": "code",
   "execution_count": 84,
   "metadata": {},
   "outputs": [
    {
     "data": {
      "text/plain": [
       "array([[<AxesSubplot:title={'center':'id'}>,\n",
       "        <AxesSubplot:title={'center':'price'}>,\n",
       "        <AxesSubplot:title={'center':'sqft_living'}>],\n",
       "       [<AxesSubplot:title={'center':'sqft_lot'}>,\n",
       "        <AxesSubplot:title={'center':'sqft_above'}>,\n",
       "        <AxesSubplot:title={'center':'yr_built'}>],\n",
       "       [<AxesSubplot:title={'center':'yr_renovated'}>,\n",
       "        <AxesSubplot:title={'center':'zipcode'}>,\n",
       "        <AxesSubplot:title={'center':'lat'}>],\n",
       "       [<AxesSubplot:title={'center':'long'}>,\n",
       "        <AxesSubplot:title={'center':'sqft_living15'}>,\n",
       "        <AxesSubplot:title={'center':'sqft_lot15'}>]], dtype=object)"
      ]
     },
     "execution_count": 84,
     "metadata": {},
     "output_type": "execute_result"
    },
    {
     "data": {
      "image/png": "[encoded data removed]",
      "text/plain": [
       "<Figure size 864x720 with 12 Axes>"
      ]
     },
     "metadata": {
      "needs_background": "light"
     },
     "output_type": "display_data"
    }
   ],
   "source": [
    "df_conts.hist(figsize = (12,10))"
   ]
  },
  {
   "cell_type": "code",
   "execution_count": 85,
   "metadata": {},
   "outputs": [
    {
     "data": {
      "text/plain": [
       "<AxesSubplot:>"
      ]
     },
     "execution_count": 85,
     "metadata": {},
     "output_type": "execute_result"
    },
    {
     "data": {
      "image/png": "[encoded data removed]",
      "text/plain": [
       "<Figure size 432x288 with 1 Axes>"
      ]
     },
     "metadata": {
      "needs_background": "light"
     },
     "output_type": "display_data"
    }
   ],
   "source": [
    "df.price.hist()"
   ]
  },
  {
   "cell_type": "code",
   "execution_count": 86,
   "metadata": {},
   "outputs": [],
   "source": [
    "df_1 = df_1[df_1['price'] < 4000000]"
   ]
  },
  {
   "cell_type": "code",
   "execution_count": 87,
   "metadata": {},
   "outputs": [
    {
     "data": {
      "text/plain": [
       "<AxesSubplot:>"
      ]
     },
     "execution_count": 87,
     "metadata": {},
     "output_type": "execute_result"
    },
    {
     "data": {
      "image/png": "[encoded data removed]",
      "text/plain": [
       "<Figure size 432x288 with 1 Axes>"
      ]
     },
     "metadata": {
      "needs_background": "light"
     },
     "output_type": "display_data"
    }
   ],
   "source": [
    "df_1.price.hist()"
   ]
  },
  {
   "cell_type": "code",
   "execution_count": 88,
   "metadata": {},
   "outputs": [
    {
     "data": {
      "text/plain": [
       "(322, 19)"
      ]
     },
     "execution_count": 88,
     "metadata": {},
     "output_type": "execute_result"
    }
   ],
   "source": [
    "df_1.shape"
   ]
  },
  {
   "cell_type": "code",
   "execution_count": null,
   "metadata": {},
   "outputs": [],
   "source": []
  },
  {
   "cell_type": "code",
   "execution_count": 89,
   "metadata": {},
   "outputs": [
    {
     "data": {
      "text/plain": [
       "<AxesSubplot:>"
      ]
     },
     "execution_count": 89,
     "metadata": {},
     "output_type": "execute_result"
    },
    {
     "data": {
      "image/png": "[encoded data removed]",
      "text/plain": [
       "<Figure size 576x504 with 2 Axes>"
      ]
     },
     "metadata": {
      "needs_background": "light"
     },
     "output_type": "display_data"
    }
   ],
   "source": [
    "#Looking at the correlation between different columns to check for multicollinearity.\n",
    "\n",
    "plt.figure(figsize = (8,7))\n",
    "sns.heatmap(df_1.corr(), cmap = 'RdBu')"
   ]
  },
  {
   "cell_type": "code",
   "execution_count": 90,
   "metadata": {},
   "outputs": [
    {
     "data": {
      "text/html": [
       "<div>\n",
       "<style scoped>\n",
       "    .dataframe tbody tr th:only-of-type {\n",
       "        vertical-align: middle;\n",
       "    }\n",
       "\n",
       "    .dataframe tbody tr th {\n",
       "        vertical-align: top;\n",
       "    }\n",
       "\n",
       "    .dataframe thead th {\n",
       "        text-align: right;\n",
       "    }\n",
       "</style>\n",
       "<table border=\"1\" class=\"dataframe\">\n",
       "  <thead>\n",
       "    <tr style=\"text-align: right;\">\n",
       "      <th></th>\n",
       "      <th>id</th>\n",
       "      <th>price</th>\n",
       "      <th>bedrooms</th>\n",
       "      <th>bathrooms</th>\n",
       "      <th>sqft_living</th>\n",
       "      <th>sqft_lot</th>\n",
       "      <th>floors</th>\n",
       "      <th>waterfront</th>\n",
       "      <th>view</th>\n",
       "      <th>condition</th>\n",
       "      <th>grade</th>\n",
       "      <th>sqft_above</th>\n",
       "      <th>yr_built</th>\n",
       "      <th>yr_renovated</th>\n",
       "      <th>zipcode</th>\n",
       "      <th>lat</th>\n",
       "      <th>long</th>\n",
       "      <th>sqft_living15</th>\n",
       "      <th>sqft_lot15</th>\n",
       "    </tr>\n",
       "  </thead>\n",
       "  <tbody>\n",
       "    <tr>\n",
       "      <th>id</th>\n",
       "      <td>1.000000</td>\n",
       "      <td>-0.045623</td>\n",
       "      <td>-0.053007</td>\n",
       "      <td>-0.155473</td>\n",
       "      <td>-0.135423</td>\n",
       "      <td>-0.212064</td>\n",
       "      <td>-0.092382</td>\n",
       "      <td>-0.006647</td>\n",
       "      <td>0.018863</td>\n",
       "      <td>-0.037811</td>\n",
       "      <td>-0.175970</td>\n",
       "      <td>-0.163383</td>\n",
       "      <td>-0.174664</td>\n",
       "      <td>-0.027123</td>\n",
       "      <td>0.055728</td>\n",
       "      <td>0.032352</td>\n",
       "      <td>-0.148582</td>\n",
       "      <td>-0.148171</td>\n",
       "      <td>-0.216891</td>\n",
       "    </tr>\n",
       "    <tr>\n",
       "      <th>price</th>\n",
       "      <td>-0.045623</td>\n",
       "      <td>1.000000</td>\n",
       "      <td>0.185182</td>\n",
       "      <td>0.293457</td>\n",
       "      <td>0.341211</td>\n",
       "      <td>-0.001161</td>\n",
       "      <td>0.137421</td>\n",
       "      <td>-0.008109</td>\n",
       "      <td>0.194329</td>\n",
       "      <td>-0.028878</td>\n",
       "      <td>0.480652</td>\n",
       "      <td>0.223212</td>\n",
       "      <td>0.009667</td>\n",
       "      <td>0.192836</td>\n",
       "      <td>0.031611</td>\n",
       "      <td>0.220481</td>\n",
       "      <td>-0.117264</td>\n",
       "      <td>0.300047</td>\n",
       "      <td>-0.036492</td>\n",
       "    </tr>\n",
       "    <tr>\n",
       "      <th>bedrooms</th>\n",
       "      <td>-0.053007</td>\n",
       "      <td>0.185182</td>\n",
       "      <td>1.000000</td>\n",
       "      <td>0.608049</td>\n",
       "      <td>0.588314</td>\n",
       "      <td>0.080469</td>\n",
       "      <td>0.197164</td>\n",
       "      <td>-0.168848</td>\n",
       "      <td>-0.070051</td>\n",
       "      <td>-0.050629</td>\n",
       "      <td>0.228053</td>\n",
       "      <td>0.397915</td>\n",
       "      <td>0.077711</td>\n",
       "      <td>0.073881</td>\n",
       "      <td>0.004369</td>\n",
       "      <td>0.009187</td>\n",
       "      <td>0.089190</td>\n",
       "      <td>0.131993</td>\n",
       "      <td>0.017149</td>\n",
       "    </tr>\n",
       "    <tr>\n",
       "      <th>bathrooms</th>\n",
       "      <td>-0.155473</td>\n",
       "      <td>0.293457</td>\n",
       "      <td>0.608049</td>\n",
       "      <td>1.000000</td>\n",
       "      <td>0.643258</td>\n",
       "      <td>0.126382</td>\n",
       "      <td>0.338580</td>\n",
       "      <td>-0.104576</td>\n",
       "      <td>0.053240</td>\n",
       "      <td>-0.055577</td>\n",
       "      <td>0.383476</td>\n",
       "      <td>0.546142</td>\n",
       "      <td>0.178476</td>\n",
       "      <td>0.187004</td>\n",
       "      <td>-0.032839</td>\n",
       "      <td>-0.062519</td>\n",
       "      <td>0.088391</td>\n",
       "      <td>0.241571</td>\n",
       "      <td>0.102490</td>\n",
       "    </tr>\n",
       "    <tr>\n",
       "      <th>sqft_living</th>\n",
       "      <td>-0.135423</td>\n",
       "      <td>0.341211</td>\n",
       "      <td>0.588314</td>\n",
       "      <td>0.643258</td>\n",
       "      <td>1.000000</td>\n",
       "      <td>0.212289</td>\n",
       "      <td>0.320674</td>\n",
       "      <td>-0.087386</td>\n",
       "      <td>0.123323</td>\n",
       "      <td>0.031979</td>\n",
       "      <td>0.448476</td>\n",
       "      <td>0.771713</td>\n",
       "      <td>0.180876</td>\n",
       "      <td>0.043190</td>\n",
       "      <td>-0.017412</td>\n",
       "      <td>-0.111113</td>\n",
       "      <td>0.162255</td>\n",
       "      <td>0.389271</td>\n",
       "      <td>0.171970</td>\n",
       "    </tr>\n",
       "    <tr>\n",
       "      <th>sqft_lot</th>\n",
       "      <td>-0.212064</td>\n",
       "      <td>-0.001161</td>\n",
       "      <td>0.080469</td>\n",
       "      <td>0.126382</td>\n",
       "      <td>0.212289</td>\n",
       "      <td>1.000000</td>\n",
       "      <td>-0.008696</td>\n",
       "      <td>0.009286</td>\n",
       "      <td>0.043621</td>\n",
       "      <td>0.064729</td>\n",
       "      <td>0.060428</td>\n",
       "      <td>0.231630</td>\n",
       "      <td>0.151231</td>\n",
       "      <td>-0.079653</td>\n",
       "      <td>-0.244862</td>\n",
       "      <td>-0.304246</td>\n",
       "      <td>0.383213</td>\n",
       "      <td>0.316392</td>\n",
       "      <td>0.833323</td>\n",
       "    </tr>\n",
       "    <tr>\n",
       "      <th>floors</th>\n",
       "      <td>-0.092382</td>\n",
       "      <td>0.137421</td>\n",
       "      <td>0.197164</td>\n",
       "      <td>0.338580</td>\n",
       "      <td>0.320674</td>\n",
       "      <td>-0.008696</td>\n",
       "      <td>1.000000</td>\n",
       "      <td>-0.023600</td>\n",
       "      <td>0.112413</td>\n",
       "      <td>-0.014893</td>\n",
       "      <td>0.224997</td>\n",
       "      <td>0.526297</td>\n",
       "      <td>-0.074511</td>\n",
       "      <td>-0.043626</td>\n",
       "      <td>0.188195</td>\n",
       "      <td>0.054143</td>\n",
       "      <td>-0.098134</td>\n",
       "      <td>0.021302</td>\n",
       "      <td>-0.037985</td>\n",
       "    </tr>\n",
       "    <tr>\n",
       "      <th>waterfront</th>\n",
       "      <td>-0.006647</td>\n",
       "      <td>-0.008109</td>\n",
       "      <td>-0.168848</td>\n",
       "      <td>-0.104576</td>\n",
       "      <td>-0.087386</td>\n",
       "      <td>0.009286</td>\n",
       "      <td>-0.023600</td>\n",
       "      <td>1.000000</td>\n",
       "      <td>0.507300</td>\n",
       "      <td>0.131533</td>\n",
       "      <td>-0.072818</td>\n",
       "      <td>-0.069648</td>\n",
       "      <td>0.023511</td>\n",
       "      <td>-0.074192</td>\n",
       "      <td>0.045221</td>\n",
       "      <td>-0.309101</td>\n",
       "      <td>-0.190425</td>\n",
       "      <td>-0.014140</td>\n",
       "      <td>0.031192</td>\n",
       "    </tr>\n",
       "    <tr>\n",
       "      <th>view</th>\n",
       "      <td>0.018863</td>\n",
       "      <td>0.194329</td>\n",
       "      <td>-0.070051</td>\n",
       "      <td>0.053240</td>\n",
       "      <td>0.123323</td>\n",
       "      <td>0.043621</td>\n",
       "      <td>0.112413</td>\n",
       "      <td>0.507300</td>\n",
       "      <td>1.000000</td>\n",
       "      <td>0.123561</td>\n",
       "      <td>0.101714</td>\n",
       "      <td>0.067597</td>\n",
       "      <td>-0.044074</td>\n",
       "      <td>-0.127731</td>\n",
       "      <td>0.218474</td>\n",
       "      <td>-0.177328</td>\n",
       "      <td>-0.215526</td>\n",
       "      <td>0.186116</td>\n",
       "      <td>0.031399</td>\n",
       "    </tr>\n",
       "    <tr>\n",
       "      <th>condition</th>\n",
       "      <td>-0.037811</td>\n",
       "      <td>-0.028878</td>\n",
       "      <td>-0.050629</td>\n",
       "      <td>-0.055577</td>\n",
       "      <td>0.031979</td>\n",
       "      <td>0.064729</td>\n",
       "      <td>-0.014893</td>\n",
       "      <td>0.131533</td>\n",
       "      <td>0.123561</td>\n",
       "      <td>1.000000</td>\n",
       "      <td>-0.064016</td>\n",
       "      <td>0.001836</td>\n",
       "      <td>-0.103685</td>\n",
       "      <td>-0.411700</td>\n",
       "      <td>-0.027467</td>\n",
       "      <td>-0.193725</td>\n",
       "      <td>0.005901</td>\n",
       "      <td>-0.017343</td>\n",
       "      <td>0.099357</td>\n",
       "    </tr>\n",
       "    <tr>\n",
       "      <th>grade</th>\n",
       "      <td>-0.175970</td>\n",
       "      <td>0.480652</td>\n",
       "      <td>0.228053</td>\n",
       "      <td>0.383476</td>\n",
       "      <td>0.448476</td>\n",
       "      <td>0.060428</td>\n",
       "      <td>0.224997</td>\n",
       "      <td>-0.072818</td>\n",
       "      <td>0.101714</td>\n",
       "      <td>-0.064016</td>\n",
       "      <td>1.000000</td>\n",
       "      <td>0.414760</td>\n",
       "      <td>0.237809</td>\n",
       "      <td>0.225490</td>\n",
       "      <td>0.004654</td>\n",
       "      <td>0.025451</td>\n",
       "      <td>0.129154</td>\n",
       "      <td>0.412002</td>\n",
       "      <td>0.030218</td>\n",
       "    </tr>\n",
       "    <tr>\n",
       "      <th>sqft_above</th>\n",
       "      <td>-0.163383</td>\n",
       "      <td>0.223212</td>\n",
       "      <td>0.397915</td>\n",
       "      <td>0.546142</td>\n",
       "      <td>0.771713</td>\n",
       "      <td>0.231630</td>\n",
       "      <td>0.526297</td>\n",
       "      <td>-0.069648</td>\n",
       "      <td>0.067597</td>\n",
       "      <td>0.001836</td>\n",
       "      <td>0.414760</td>\n",
       "      <td>1.000000</td>\n",
       "      <td>0.278894</td>\n",
       "      <td>-0.019324</td>\n",
       "      <td>-0.094703</td>\n",
       "      <td>-0.131177</td>\n",
       "      <td>0.266275</td>\n",
       "      <td>0.352894</td>\n",
       "      <td>0.207463</td>\n",
       "    </tr>\n",
       "    <tr>\n",
       "      <th>yr_built</th>\n",
       "      <td>-0.174664</td>\n",
       "      <td>0.009667</td>\n",
       "      <td>0.077711</td>\n",
       "      <td>0.178476</td>\n",
       "      <td>0.180876</td>\n",
       "      <td>0.151231</td>\n",
       "      <td>-0.074511</td>\n",
       "      <td>0.023511</td>\n",
       "      <td>-0.044074</td>\n",
       "      <td>-0.103685</td>\n",
       "      <td>0.237809</td>\n",
       "      <td>0.278894</td>\n",
       "      <td>1.000000</td>\n",
       "      <td>0.220152</td>\n",
       "      <td>-0.362877</td>\n",
       "      <td>-0.073978</td>\n",
       "      <td>0.457328</td>\n",
       "      <td>0.362029</td>\n",
       "      <td>0.110002</td>\n",
       "    </tr>\n",
       "    <tr>\n",
       "      <th>yr_renovated</th>\n",
       "      <td>-0.027123</td>\n",
       "      <td>0.192836</td>\n",
       "      <td>0.073881</td>\n",
       "      <td>0.187004</td>\n",
       "      <td>0.043190</td>\n",
       "      <td>-0.079653</td>\n",
       "      <td>-0.043626</td>\n",
       "      <td>-0.074192</td>\n",
       "      <td>-0.127731</td>\n",
       "      <td>-0.411700</td>\n",
       "      <td>0.225490</td>\n",
       "      <td>-0.019324</td>\n",
       "      <td>0.220152</td>\n",
       "      <td>1.000000</td>\n",
       "      <td>-0.061376</td>\n",
       "      <td>0.086750</td>\n",
       "      <td>0.031253</td>\n",
       "      <td>-0.030898</td>\n",
       "      <td>-0.088033</td>\n",
       "    </tr>\n",
       "    <tr>\n",
       "      <th>zipcode</th>\n",
       "      <td>0.055728</td>\n",
       "      <td>0.031611</td>\n",
       "      <td>0.004369</td>\n",
       "      <td>-0.032839</td>\n",
       "      <td>-0.017412</td>\n",
       "      <td>-0.244862</td>\n",
       "      <td>0.188195</td>\n",
       "      <td>0.045221</td>\n",
       "      <td>0.218474</td>\n",
       "      <td>-0.027467</td>\n",
       "      <td>0.004654</td>\n",
       "      <td>-0.094703</td>\n",
       "      <td>-0.362877</td>\n",
       "      <td>-0.061376</td>\n",
       "      <td>1.000000</td>\n",
       "      <td>0.186632</td>\n",
       "      <td>-0.717790</td>\n",
       "      <td>-0.185737</td>\n",
       "      <td>-0.233867</td>\n",
       "    </tr>\n",
       "    <tr>\n",
       "      <th>lat</th>\n",
       "      <td>0.032352</td>\n",
       "      <td>0.220481</td>\n",
       "      <td>0.009187</td>\n",
       "      <td>-0.062519</td>\n",
       "      <td>-0.111113</td>\n",
       "      <td>-0.304246</td>\n",
       "      <td>0.054143</td>\n",
       "      <td>-0.309101</td>\n",
       "      <td>-0.177328</td>\n",
       "      <td>-0.193725</td>\n",
       "      <td>0.025451</td>\n",
       "      <td>-0.131177</td>\n",
       "      <td>-0.073978</td>\n",
       "      <td>0.086750</td>\n",
       "      <td>0.186632</td>\n",
       "      <td>1.000000</td>\n",
       "      <td>-0.216109</td>\n",
       "      <td>-0.012523</td>\n",
       "      <td>-0.261297</td>\n",
       "    </tr>\n",
       "    <tr>\n",
       "      <th>long</th>\n",
       "      <td>-0.148582</td>\n",
       "      <td>-0.117264</td>\n",
       "      <td>0.089190</td>\n",
       "      <td>0.088391</td>\n",
       "      <td>0.162255</td>\n",
       "      <td>0.383213</td>\n",
       "      <td>-0.098134</td>\n",
       "      <td>-0.190425</td>\n",
       "      <td>-0.215526</td>\n",
       "      <td>0.005901</td>\n",
       "      <td>0.129154</td>\n",
       "      <td>0.266275</td>\n",
       "      <td>0.457328</td>\n",
       "      <td>0.031253</td>\n",
       "      <td>-0.717790</td>\n",
       "      <td>-0.216109</td>\n",
       "      <td>1.000000</td>\n",
       "      <td>0.330987</td>\n",
       "      <td>0.400315</td>\n",
       "    </tr>\n",
       "    <tr>\n",
       "      <th>sqft_living15</th>\n",
       "      <td>-0.148171</td>\n",
       "      <td>0.300047</td>\n",
       "      <td>0.131993</td>\n",
       "      <td>0.241571</td>\n",
       "      <td>0.389271</td>\n",
       "      <td>0.316392</td>\n",
       "      <td>0.021302</td>\n",
       "      <td>-0.014140</td>\n",
       "      <td>0.186116</td>\n",
       "      <td>-0.017343</td>\n",
       "      <td>0.412002</td>\n",
       "      <td>0.352894</td>\n",
       "      <td>0.362029</td>\n",
       "      <td>-0.030898</td>\n",
       "      <td>-0.185737</td>\n",
       "      <td>-0.012523</td>\n",
       "      <td>0.330987</td>\n",
       "      <td>1.000000</td>\n",
       "      <td>0.295884</td>\n",
       "    </tr>\n",
       "    <tr>\n",
       "      <th>sqft_lot15</th>\n",
       "      <td>-0.216891</td>\n",
       "      <td>-0.036492</td>\n",
       "      <td>0.017149</td>\n",
       "      <td>0.102490</td>\n",
       "      <td>0.171970</td>\n",
       "      <td>0.833323</td>\n",
       "      <td>-0.037985</td>\n",
       "      <td>0.031192</td>\n",
       "      <td>0.031399</td>\n",
       "      <td>0.099357</td>\n",
       "      <td>0.030218</td>\n",
       "      <td>0.207463</td>\n",
       "      <td>0.110002</td>\n",
       "      <td>-0.088033</td>\n",
       "      <td>-0.233867</td>\n",
       "      <td>-0.261297</td>\n",
       "      <td>0.400315</td>\n",
       "      <td>0.295884</td>\n",
       "      <td>1.000000</td>\n",
       "    </tr>\n",
       "  </tbody>\n",
       "</table>\n",
       "</div>"
      ],
      "text/plain": [
       "                     id     price  bedrooms  bathrooms  sqft_living  sqft_lot  \\\n",
       "id             1.000000 -0.045623 -0.053007  -0.155473    -0.135423 -0.212064   \n",
       "price         -0.045623  1.000000  0.185182   0.293457     0.341211 -0.001161   \n",
       "bedrooms      -0.053007  0.185182  1.000000   0.608049     0.588314  0.080469   \n",
       "bathrooms     -0.155473  0.293457  0.608049   1.000000     0.643258  0.126382   \n",
       "sqft_living   -0.135423  0.341211  0.588314   0.643258     1.000000  0.212289   \n",
       "sqft_lot      -0.212064 -0.001161  0.080469   0.126382     0.212289  1.000000   \n",
       "floors        -0.092382  0.137421  0.197164   0.338580     0.320674 -0.008696   \n",
       "waterfront    -0.006647 -0.008109 -0.168848  -0.104576    -0.087386  0.009286   \n",
       "view           0.018863  0.194329 -0.070051   0.053240     0.123323  0.043621   \n",
       "condition     -0.037811 -0.028878 -0.050629  -0.055577     0.031979  0.064729   \n",
       "grade         -0.175970  0.480652  0.228053   0.383476     0.448476  0.060428   \n",
       "sqft_above    -0.163383  0.223212  0.397915   0.546142     0.771713  0.231630   \n",
       "yr_built      -0.174664  0.009667  0.077711   0.178476     0.180876  0.151231   \n",
       "yr_renovated  -0.027123  0.192836  0.073881   0.187004     0.043190 -0.079653   \n",
       "zipcode        0.055728  0.031611  0.004369  -0.032839    -0.017412 -0.244862   \n",
       "lat            0.032352  0.220481  0.009187  -0.062519    -0.111113 -0.304246   \n",
       "long          -0.148582 -0.117264  0.089190   0.088391     0.162255  0.383213   \n",
       "sqft_living15 -0.148171  0.300047  0.131993   0.241571     0.389271  0.316392   \n",
       "sqft_lot15    -0.216891 -0.036492  0.017149   0.102490     0.171970  0.833323   \n",
       "\n",
       "                 floors  waterfront      view  condition     grade  \\\n",
       "id            -0.092382   -0.006647  0.018863  -0.037811 -0.175970   \n",
       "price          0.137421   -0.008109  0.194329  -0.028878  0.480652   \n",
       "bedrooms       0.197164   -0.168848 -0.070051  -0.050629  0.228053   \n",
       "bathrooms      0.338580   -0.104576  0.053240  -0.055577  0.383476   \n",
       "sqft_living    0.320674   -0.087386  0.123323   0.031979  0.448476   \n",
       "sqft_lot      -0.008696    0.009286  0.043621   0.064729  0.060428   \n",
       "floors         1.000000   -0.023600  0.112413  -0.014893  0.224997   \n",
       "waterfront    -0.023600    1.000000  0.507300   0.131533 -0.072818   \n",
       "view           0.112413    0.507300  1.000000   0.123561  0.101714   \n",
       "condition     -0.014893    0.131533  0.123561   1.000000 -0.064016   \n",
       "grade          0.224997   -0.072818  0.101714  -0.064016  1.000000   \n",
       "sqft_above     0.526297   -0.069648  0.067597   0.001836  0.414760   \n",
       "yr_built      -0.074511    0.023511 -0.044074  -0.103685  0.237809   \n",
       "yr_renovated  -0.043626   -0.074192 -0.127731  -0.411700  0.225490   \n",
       "zipcode        0.188195    0.045221  0.218474  -0.027467  0.004654   \n",
       "lat            0.054143   -0.309101 -0.177328  -0.193725  0.025451   \n",
       "long          -0.098134   -0.190425 -0.215526   0.005901  0.129154   \n",
       "sqft_living15  0.021302   -0.014140  0.186116  -0.017343  0.412002   \n",
       "sqft_lot15    -0.037985    0.031192  0.031399   0.099357  0.030218   \n",
       "\n",
       "               sqft_above  yr_built  yr_renovated   zipcode       lat  \\\n",
       "id              -0.163383 -0.174664     -0.027123  0.055728  0.032352   \n",
       "price            0.223212  0.009667      0.192836  0.031611  0.220481   \n",
       "bedrooms         0.397915  0.077711      0.073881  0.004369  0.009187   \n",
       "bathrooms        0.546142  0.178476      0.187004 -0.032839 -0.062519   \n",
       "sqft_living      0.771713  0.180876      0.043190 -0.017412 -0.111113   \n",
       "sqft_lot         0.231630  0.151231     -0.079653 -0.244862 -0.304246   \n",
       "floors           0.526297 -0.074511     -0.043626  0.188195  0.054143   \n",
       "waterfront      -0.069648  0.023511     -0.074192  0.045221 -0.309101   \n",
       "view             0.067597 -0.044074     -0.127731  0.218474 -0.177328   \n",
       "condition        0.001836 -0.103685     -0.411700 -0.027467 -0.193725   \n",
       "grade            0.414760  0.237809      0.225490  0.004654  0.025451   \n",
       "sqft_above       1.000000  0.278894     -0.019324 -0.094703 -0.131177   \n",
       "yr_built         0.278894  1.000000      0.220152 -0.362877 -0.073978   \n",
       "yr_renovated    -0.019324  0.220152      1.000000 -0.061376  0.086750   \n",
       "zipcode         -0.094703 -0.362877     -0.061376  1.000000  0.186632   \n",
       "lat             -0.131177 -0.073978      0.086750  0.186632  1.000000   \n",
       "long             0.266275  0.457328      0.031253 -0.717790 -0.216109   \n",
       "sqft_living15    0.352894  0.362029     -0.030898 -0.185737 -0.012523   \n",
       "sqft_lot15       0.207463  0.110002     -0.088033 -0.233867 -0.261297   \n",
       "\n",
       "                   long  sqft_living15  sqft_lot15  \n",
       "id            -0.148582      -0.148171   -0.216891  \n",
       "price         -0.117264       0.300047   -0.036492  \n",
       "bedrooms       0.089190       0.131993    0.017149  \n",
       "bathrooms      0.088391       0.241571    0.102490  \n",
       "sqft_living    0.162255       0.389271    0.171970  \n",
       "sqft_lot       0.383213       0.316392    0.833323  \n",
       "floors        -0.098134       0.021302   -0.037985  \n",
       "waterfront    -0.190425      -0.014140    0.031192  \n",
       "view          -0.215526       0.186116    0.031399  \n",
       "condition      0.005901      -0.017343    0.099357  \n",
       "grade          0.129154       0.412002    0.030218  \n",
       "sqft_above     0.266275       0.352894    0.207463  \n",
       "yr_built       0.457328       0.362029    0.110002  \n",
       "yr_renovated   0.031253      -0.030898   -0.088033  \n",
       "zipcode       -0.717790      -0.185737   -0.233867  \n",
       "lat           -0.216109      -0.012523   -0.261297  \n",
       "long           1.000000       0.330987    0.400315  \n",
       "sqft_living15  0.330987       1.000000    0.295884  \n",
       "sqft_lot15     0.400315       0.295884    1.000000  "
      ]
     },
     "execution_count": 90,
     "metadata": {},
     "output_type": "execute_result"
    }
   ],
   "source": [
    "df_1.corr()"
   ]
  },
  {
   "cell_type": "code",
   "execution_count": 91,
   "metadata": {},
   "outputs": [
    {
     "name": "stdout",
     "output_type": "stream",
     "text": [
      "DATA BEFORE\n",
      "----------------------------------------------------------------------------------------------------\n"
     ]
    },
    {
     "data": {
      "text/plain": [
       "const            5.449336e+06\n",
       "id               1.125462e+00\n",
       "price            1.717068e+00\n",
       "bedrooms         1.978762e+00\n",
       "bathrooms        2.295491e+00\n",
       "sqft_living      4.091660e+00\n",
       "sqft_lot         3.568218e+00\n",
       "floors           1.762091e+00\n",
       "waterfront       1.665583e+00\n",
       "view             1.679208e+00\n",
       "condition        1.294026e+00\n",
       "grade            1.794624e+00\n",
       "sqft_above       3.970212e+00\n",
       "yr_built         1.661552e+00\n",
       "yr_renovated     1.497634e+00\n",
       "zipcode          2.434543e+00\n",
       "lat              1.498547e+00\n",
       "long             3.251306e+00\n",
       "sqft_living15    1.771897e+00\n",
       "sqft_lot15       3.614839e+00\n",
       "dtype: float64"
      ]
     },
     "metadata": {},
     "output_type": "display_data"
    },
    {
     "name": "stdout",
     "output_type": "stream",
     "text": [
      "DATA AFTER\n",
      "----------------------------------------------------------------------------------------------------\n"
     ]
    },
    {
     "data": {
      "text/plain": [
       "const         1.564490e+06\n",
       "price         1.531043e+00\n",
       "bedrooms      1.661138e+00\n",
       "bathrooms     2.092258e+00\n",
       "floors        1.612685e+00\n",
       "waterfront    1.588605e+00\n",
       "view          1.500929e+00\n",
       "condition     1.073146e+00\n",
       "grade         1.592112e+00\n",
       "sqft_above    2.267866e+00\n",
       "yr_built      1.469245e+00\n",
       "lat           1.388480e+00\n",
       "long          1.588229e+00\n",
       "dtype: float64"
      ]
     },
     "metadata": {},
     "output_type": "display_data"
    }
   ],
   "source": [
    "\n",
    "#variance inflation factor\n",
    "X1 = sm.tools.add_constant(df_1)\n",
    "#create a series for both\n",
    "series_before = pd.Series([variance_inflation_factor(X1.values, i ) for i in range(X1.shape[1])], index = X1.columns)\n",
    "\n",
    "print('DATA BEFORE')\n",
    "print('-'*100)\n",
    "display(series_before)\n",
    "#dropping columns i think will cause problems\n",
    "df_1_after = df_1.drop(['id', 'sqft_living', 'yr_renovated', 'sqft_living15', 'sqft_lot15', 'sqft_lot', 'zipcode'], axis = 1)\n",
    "X2 = sm.tools.add_constant(df_1_after)\n",
    "series_after = pd.Series([variance_inflation_factor(X2.values, i ) for i in range(X2.shape[1])], index = X2.columns)\n",
    "\n",
    "print('DATA AFTER')\n",
    "print('-'*100)\n",
    "display(series_after)"
   ]
  },
  {
   "cell_type": "code",
   "execution_count": 92,
   "metadata": {},
   "outputs": [
    {
     "data": {
      "text/plain": [
       "LinearRegression()"
      ]
     },
     "execution_count": 92,
     "metadata": {},
     "output_type": "execute_result"
    }
   ],
   "source": [
    "X = df_1_after.drop('price', axis = 1)\n",
    "y = df_1_after[['price']]\n",
    "\n",
    "#Split dataset into training and testing portion\n",
    "X_train, X_test, y_train, y_test = train_test_split(X, y, test_size = 0.20)\n",
    "\n",
    "#create instance of our model\n",
    "regression_model = LinearRegression()\n",
    "#fit the model\n",
    "regression_model.fit(X_train, y_train)"
   ]
  },
  {
   "cell_type": "code",
   "execution_count": 93,
   "metadata": {},
   "outputs": [
    {
     "data": {
      "text/plain": [
       "65"
      ]
     },
     "execution_count": 93,
     "metadata": {},
     "output_type": "execute_result"
    }
   ],
   "source": [
    "len(X_test)"
   ]
  },
  {
   "cell_type": "code",
   "execution_count": 94,
   "metadata": {},
   "outputs": [],
   "source": [
    "y_hat_train = regression_model.predict(X_train)\n",
    "y_hat_test = regression_model.predict(X_test)"
   ]
  },
  {
   "cell_type": "code",
   "execution_count": 95,
   "metadata": {},
   "outputs": [],
   "source": [
    "mse_train = mean_squared_error(y_train, y_hat_train)\n",
    "mse_test = mean_squared_error(y_test, y_hat_test)"
   ]
  },
  {
   "cell_type": "code",
   "execution_count": 96,
   "metadata": {},
   "outputs": [
    {
     "name": "stdout",
     "output_type": "stream",
     "text": [
      "Train MSE: 12422462624.74195\n",
      "Test MSE: 16045856799.566864\n"
     ]
    }
   ],
   "source": [
    "print('Train MSE:', mse_train)\n",
    "print('Test MSE:', mse_test)"
   ]
  },
  {
   "cell_type": "code",
   "execution_count": 97,
   "metadata": {},
   "outputs": [
    {
     "name": "stdout",
     "output_type": "stream",
     "text": [
      "RMSE Train: 111456.10178335661\n",
      "RMSE Test: 126672.24162999116\n"
     ]
    }
   ],
   "source": [
    "print('RMSE Train:', np.sqrt(mse_train))\n",
    "print('RMSE Test:', np.sqrt(mse_test))"
   ]
  },
  {
   "cell_type": "code",
   "execution_count": 98,
   "metadata": {},
   "outputs": [
    {
     "data": {
      "text/plain": [
       "0.28151498102309214"
      ]
     },
     "execution_count": 98,
     "metadata": {},
     "output_type": "execute_result"
    }
   ],
   "source": [
    "r2_score(y_test, y_hat_test)"
   ]
  },
  {
   "cell_type": "code",
   "execution_count": 99,
   "metadata": {},
   "outputs": [
    {
     "data": {
      "text/plain": [
       "array([[582506.73534974],\n",
       "       [632782.38617299],\n",
       "       [561679.87263293],\n",
       "       [609934.62806033],\n",
       "       [538908.51446496]])"
      ]
     },
     "execution_count": 99,
     "metadata": {},
     "output_type": "execute_result"
    }
   ],
   "source": [
    "#get predictions\n",
    "y_predict = regression_model.predict(X_test)\n",
    "#first five\n",
    "y_predict[:5]"
   ]
  },
  {
   "cell_type": "code",
   "execution_count": 100,
   "metadata": {},
   "outputs": [
    {
     "name": "stdout",
     "output_type": "stream",
     "text": [
      "The intercept for our model is -2.86e+07\n",
      "----------------------------------------------------------------------------------------------------\n",
      "The Coefficient for bedrooms is 1.1e+04\n",
      "The Coefficient for bathrooms is 2.8e+04\n",
      "The Coefficient for floors is -3e+04\n",
      "The Coefficient for waterfront is -5.3e+04\n",
      "The Coefficient for view is 2.6e+04\n",
      "The Coefficient for condition is 1.4e+03\n",
      "The Coefficient for grade is 7.3e+04\n",
      "The Coefficient for sqft_above is 1.3e+01\n",
      "The Coefficient for yr_built is -6.3e+02\n",
      "The Coefficient for lat is 2.8e+05\n",
      "The Coefficient for long is -1.3e+05\n"
     ]
    }
   ],
   "source": [
    "#Exploring the intercept and coefficient\n",
    "\n",
    "intercept = regression_model.intercept_[0]\n",
    "coef = regression_model.coef_[0][0]\n",
    "\n",
    "print('The intercept for our model is {:.4}'.format(intercept))\n",
    "print('-'*100)\n",
    "\n",
    "#Loop through the dictionary and print the coeffcient data\n",
    "#so, for instance, for each unit in sqft_above, there is a 9.4% rise in price.\n",
    "for coef in zip(X.columns, regression_model.coef_[0]):\n",
    "    print('The Coefficient for {} is {:.2}'.format(coef[0], coef[1]))"
   ]
  },
  {
   "cell_type": "code",
   "execution_count": 101,
   "metadata": {},
   "outputs": [],
   "source": [
    "X_1 = sm.add_constant(X)\n",
    "model = sm.OLS(y, X_1)\n",
    "est = model.fit()"
   ]
  },
  {
   "cell_type": "code",
   "execution_count": 102,
   "metadata": {},
   "outputs": [
    {
     "name": "stdout",
     "output_type": "stream",
     "text": [
      "0.17977956940483966 0.17965717998019723\n"
     ]
    }
   ],
   "source": [
    "#Heteroscedasticity checks\n",
    "_, pval, _, f_pval = diag.het_breuschpagan(est.resid, est.model.exog)\n",
    "print(pval, f_pval)"
   ]
  },
  {
   "cell_type": "code",
   "execution_count": 103,
   "metadata": {},
   "outputs": [
    {
     "data": {
      "image/png": "[encoded data removed]",
      "text/plain": [
       "<Figure size 432x288 with 1 Axes>"
      ]
     },
     "metadata": {
      "needs_background": "light"
     },
     "output_type": "display_data"
    },
    {
     "name": "stdout",
     "output_type": "stream",
     "text": [
      "Mean: -3.094767561610441e-09\n"
     ]
    }
   ],
   "source": [
    "#check for the normality of the residuals\n",
    "sm.qqplot(est.resid, line = 's')\n",
    "pylab.show()\n",
    "\n",
    "#check that the mean of the residuals is approx. 0\n",
    "mean_residuals = sum(est.resid) / len(est.resid)\n",
    "print(\"Mean:\", mean_residuals)"
   ]
  },
  {
   "cell_type": "code",
   "execution_count": 104,
   "metadata": {},
   "outputs": [
    {
     "name": "stdout",
     "output_type": "stream",
     "text": [
      "                            OLS Regression Results                            \n",
      "==============================================================================\n",
      "Dep. Variable:                  price   R-squared:                       0.347\n",
      "Model:                            OLS   Adj. R-squared:                  0.324\n",
      "Method:                 Least Squares   F-statistic:                     14.97\n",
      "Date:                Tue, 19 Jan 2021   Prob (F-statistic):           2.84e-23\n",
      "Time:                        09:13:58   Log-Likelihood:                -4205.4\n",
      "No. Observations:                 322   AIC:                             8435.\n",
      "Df Residuals:                     310   BIC:                             8480.\n",
      "Df Model:                          11                                         \n",
      "Covariance Type:            nonrobust                                         \n",
      "==============================================================================\n",
      "                 coef    std err          t      P>|t|      [0.025      0.975]\n",
      "------------------------------------------------------------------------------\n",
      "const      -2.698e+07   7.93e+06     -3.402      0.001   -4.26e+07   -1.14e+07\n",
      "bedrooms    2302.0348   8480.692      0.271      0.786   -1.44e+04     1.9e+04\n",
      "bathrooms   2.699e+04   1.26e+04      2.148      0.032    2268.950    5.17e+04\n",
      "floors     -2.877e+04   1.68e+04     -1.712      0.088   -6.18e+04    4294.838\n",
      "waterfront  2.057e+04   5.23e+04      0.394      0.694   -8.23e+04    1.23e+05\n",
      "view        2.193e+04   7736.389      2.834      0.005    6704.447    3.71e+04\n",
      "condition   6586.5867   1.35e+04      0.487      0.626      -2e+04    3.32e+04\n",
      "grade        7.79e+04   9780.935      7.964      0.000    5.87e+04    9.71e+04\n",
      "sqft_above    18.7819     14.820      1.267      0.206     -10.380      47.943\n",
      "yr_built    -495.4576    342.361     -1.447      0.149   -1169.102     178.187\n",
      "lat         3.297e+05    6.9e+04      4.778      0.000    1.94e+05    4.65e+05\n",
      "long       -9.973e+04    6.4e+04     -1.558      0.120   -2.26e+05    2.62e+04\n",
      "==============================================================================\n",
      "Omnibus:                        5.604   Durbin-Watson:                   1.950\n",
      "Prob(Omnibus):                  0.061   Jarque-Bera (JB):                5.350\n",
      "Skew:                           0.268   Prob(JB):                       0.0689\n",
      "Kurtosis:                       2.665   Cond. No.                     3.28e+06\n",
      "==============================================================================\n",
      "\n",
      "Notes:\n",
      "[1] Standard Errors assume that the covariance matrix of the errors is correctly specified.\n",
      "[2] The condition number is large, 3.28e+06. This might indicate that there are\n",
      "strong multicollinearity or other numerical problems.\n"
     ]
    }
   ],
   "source": [
    "print(est.summary())"
   ]
  },
  {
   "cell_type": "code",
   "execution_count": 107,
   "metadata": {},
   "outputs": [
    {
     "data": {
      "application/vnd.plotly.v1+json": {
       "config": {
        "plotlyServerURL": "https://plot.ly"
       },
       "data": [
        {
         "alignmentgroup": "True",
         "hovertemplate": "grade=%{x}<br>price=%{y}<extra></extra>",
         "legendgroup": "",
         "marker": {
          "color": "#636efa"
         },
         "name": "",
         "notched": false,
         "offsetgroup": "",
         "orientation": "v",
         "showlegend": false,
         "type": "box",
         "x": [
          7,
          8,
          7,
          7,
          7,
          9,
          9,
          8,
          7,
          7,
          7,
          7,
          7,
          8,
          8,
          8,
          8,
          8,
          7,
          8,
          9,
          7,
          7,
          8,
          7,
          7,
          7,
          8,
          7,
          6,
          7,
          8,
          8,
          8,
          8,
          7,
          6,
          8,
          8,
          9,
          7,
          8,
          9,
          8,
          8,
          8,
          7,
          8,
          7,
          8,
          7,
          8,
          7,
          9,
          8,
          7,
          8,
          7,
          7,
          7,
          7,
          8,
          7,
          8,
          8,
          9,
          7,
          6,
          8,
          9,
          8,
          7,
          7,
          8,
          7,
          7,
          7,
          8,
          7,
          8,
          8,
          8,
          6,
          8,
          7,
          8,
          9,
          8,
          7,
          8,
          8,
          7,
          8,
          8,
          7,
          7,
          8,
          8,
          7,
          9,
          8,
          8,
          8,
          7,
          8,
          8,
          10,
          7,
          7,
          8,
          8,
          7,
          8,
          7,
          9,
          8,
          8,
          7,
          8,
          8,
          8,
          7,
          8,
          7,
          7,
          7,
          7,
          7,
          7,
          8,
          6,
          7,
          8,
          8,
          8,
          7,
          7,
          8,
          7,
          8,
          7,
          9,
          8,
          9,
          9,
          7,
          8,
          7,
          9,
          7,
          7,
          8,
          8,
          8,
          6,
          7,
          9,
          7,
          8,
          9,
          7,
          8,
          8,
          8,
          7,
          8,
          7,
          7,
          8,
          7,
          8,
          7,
          7,
          8,
          8,
          7,
          7,
          7,
          7,
          7,
          7,
          8,
          7,
          8,
          8,
          7,
          8,
          9,
          8,
          7,
          7,
          8,
          7,
          8,
          8,
          8,
          8,
          8,
          8,
          8,
          7,
          8,
          7,
          7,
          8,
          7,
          8,
          8,
          7,
          8,
          8,
          7,
          7,
          7,
          8,
          7,
          6,
          8,
          7,
          8,
          8,
          9,
          7,
          7,
          8,
          9,
          7,
          8,
          8,
          7,
          8,
          6,
          8,
          7,
          8,
          9,
          6,
          8,
          8,
          7,
          7,
          7,
          8,
          7,
          8,
          7,
          7,
          7,
          8,
          8,
          7,
          7,
          8,
          7,
          8,
          7,
          7,
          7,
          7,
          7,
          8,
          7,
          6,
          8,
          8,
          9,
          8,
          9,
          7,
          7,
          8,
          7,
          8,
          7,
          8,
          8,
          7,
          8,
          7,
          7,
          7,
          7,
          7,
          7,
          8,
          9,
          9,
          6,
          8,
          7,
          11,
          10,
          8,
          9,
          8,
          7,
          8,
          7,
          6,
          9,
          7,
          8,
          7,
          7,
          7,
          9,
          7,
          8,
          7,
          7,
          7,
          8,
          7,
          6,
          8,
          9,
          8,
          8,
          8,
          7,
          7,
          8
         ],
         "x0": " ",
         "xaxis": "x",
         "y": [
          538000,
          696000,
          464000,
          655000,
          435000,
          749000,
          725000,
          640000,
          452000,
          730000,
          850000,
          450000,
          428750,
          420000,
          601000,
          515000,
          675000,
          659000,
          600000,
          614000,
          831000,
          430000,
          450000,
          520000,
          490000,
          776500,
          425000,
          830000,
          600000,
          451555,
          480000,
          850000,
          625000,
          835000,
          599000,
          577000,
          480000,
          550000,
          550000,
          767500,
          700000,
          688000,
          870000,
          460000,
          775000,
          610000,
          569000,
          585000,
          445000,
          703000,
          499000,
          478000,
          499000,
          765000,
          830000,
          691500,
          855000,
          700000,
          476500,
          865000,
          542000,
          665000,
          805000,
          525000,
          775000,
          876650,
          540000,
          515000,
          550000,
          825050,
          560000,
          462500,
          550000,
          815000,
          599000,
          562000,
          468000,
          500000,
          535000,
          800000,
          765000,
          849000,
          455000,
          620000,
          832500,
          749000,
          692500,
          519000,
          415000,
          731100,
          465000,
          420000,
          611900,
          835000,
          772650,
          449950,
          720000,
          530000,
          629000,
          800000,
          860000,
          724800,
          599000,
          500000,
          750000,
          863500,
          699000,
          543000,
          430000,
          733000,
          750000,
          775000,
          870000,
          425000,
          790000,
          499000,
          665000,
          411500,
          765000,
          738950,
          713400,
          443500,
          460000,
          510000,
          555000,
          459000,
          550000,
          775000,
          660000,
          712500,
          420000,
          477500,
          577500,
          582000,
          799990,
          415000,
          509250,
          775000,
          496000,
          690000,
          540000,
          811000,
          510000,
          770000,
          667000,
          581000,
          685000,
          450000,
          580000,
          510000,
          612500,
          780000,
          840000,
          808000,
          417000,
          785950,
          853800,
          499000,
          616500,
          755000,
          650000,
          840000,
          690000,
          880000,
          433000,
          850000,
          595000,
          456700,
          605000,
          750000,
          440000,
          675000,
          595000,
          742500,
          450000,
          446000,
          450000,
          492000,
          524950,
          470000,
          565000,
          525000,
          464000,
          570000,
          850000,
          475000,
          808250,
          850000,
          717000,
          617000,
          495000,
          575000,
          590000,
          552775,
          601500,
          600000,
          800000,
          780000,
          705000,
          725000,
          458500,
          850000,
          538000,
          498000,
          787500,
          565000,
          875000,
          420000,
          488000,
          760000,
          744000,
          800000,
          594950,
          450000,
          780000,
          495000,
          459950,
          531500,
          550000,
          838000,
          810000,
          600000,
          426000,
          667000,
          622500,
          585000,
          438000,
          825000,
          600000,
          485000,
          569950,
          515000,
          797000,
          465000,
          865000,
          805000,
          521000,
          750000,
          875000,
          805000,
          475000,
          645000,
          745000,
          450000,
          699000,
          492000,
          599000,
          520000,
          679000,
          424900,
          839000,
          525000,
          825000,
          500000,
          540000,
          517000,
          596000,
          865000,
          765000,
          570000,
          865000,
          550000,
          664000,
          540000,
          460000,
          675000,
          420000,
          685000,
          800000,
          825000,
          457000,
          465000,
          667000,
          636100,
          700000,
          660000,
          485000,
          750000,
          485000,
          650500,
          447500,
          512500,
          770000,
          535000,
          630000,
          605004,
          820000,
          498000,
          718000,
          623500,
          550000,
          826000,
          550000,
          825000,
          770000,
          818000,
          625000,
          539950,
          545000,
          825000,
          529000,
          672600,
          625000,
          476000,
          520000,
          863000,
          460000,
          424000,
          571500,
          615000,
          635500,
          675000,
          478000,
          509000,
          850000,
          550000,
          885000,
          819000,
          588000,
          451000,
          434900,
          500012
         ],
         "y0": " ",
         "yaxis": "y"
        }
       ],
       "layout": {
        "boxmode": "group",
        "legend": {
         "tracegroupgap": 0
        },
        "margin": {
         "t": 60
        },
        "template": {
         "data": {
          "bar": [
           {
            "error_x": {
             "color": "#2a3f5f"
            },
            "error_y": {
             "color": "#2a3f5f"
            },
            "marker": {
             "line": {
              "color": "#E5ECF6",
              "width": 0.5
             }
            },
            "type": "bar"
           }
          ],
          "barpolar": [
           {
            "marker": {
             "line": {
              "color": "#E5ECF6",
              "width": 0.5
             }
            },
            "type": "barpolar"
           }
          ],
          "carpet": [
           {
            "aaxis": {
             "endlinecolor": "#2a3f5f",
             "gridcolor": "white",
             "linecolor": "white",
             "minorgridcolor": "white",
             "startlinecolor": "#2a3f5f"
            },
            "baxis": {
             "endlinecolor": "#2a3f5f",
             "gridcolor": "white",
             "linecolor": "white",
             "minorgridcolor": "white",
             "startlinecolor": "#2a3f5f"
            },
            "type": "carpet"
           }
          ],
          "choropleth": [
           {
            "colorbar": {
             "outlinewidth": 0,
             "ticks": ""
            },
            "type": "choropleth"
           }
          ],
          "contour": [
           {
            "colorbar": {
             "outlinewidth": 0,
             "ticks": ""
            },
            "colorscale": [
             [
              0,
              "#0d0887"
             ],
             [
              0.1111111111111111,
              "#46039f"
             ],
             [
              0.2222222222222222,
              "#7201a8"
             ],
             [
              0.3333333333333333,
              "#9c179e"
             ],
             [
              0.4444444444444444,
              "#bd3786"
             ],
             [
              0.5555555555555556,
              "#d8576b"
             ],
             [
              0.6666666666666666,
              "#ed7953"
             ],
             [
              0.7777777777777778,
              "#fb9f3a"
             ],
             [
              0.8888888888888888,
              "#fdca26"
             ],
             [
              1,
              "#f0f921"
             ]
            ],
            "type": "contour"
           }
          ],
          "contourcarpet": [
           {
            "colorbar": {
             "outlinewidth": 0,
             "ticks": ""
            },
            "type": "contourcarpet"
           }
          ],
          "heatmap": [
           {
            "colorbar": {
             "outlinewidth": 0,
             "ticks": ""
            },
            "colorscale": [
             [
              0,
              "#0d0887"
             ],
             [
              0.1111111111111111,
              "#46039f"
             ],
             [
              0.2222222222222222,
              "#7201a8"
             ],
             [
              0.3333333333333333,
              "#9c179e"
             ],
             [
              0.4444444444444444,
              "#bd3786"
             ],
             [
              0.5555555555555556,
              "#d8576b"
             ],
             [
              0.6666666666666666,
              "#ed7953"
             ],
             [
              0.7777777777777778,
              "#fb9f3a"
             ],
             [
              0.8888888888888888,
              "#fdca26"
             ],
             [
              1,
              "#f0f921"
             ]
            ],
            "type": "heatmap"
           }
          ],
          "heatmapgl": [
           {
            "colorbar": {
             "outlinewidth": 0,
             "ticks": ""
            },
            "colorscale": [
             [
              0,
              "#0d0887"
             ],
             [
              0.1111111111111111,
              "#46039f"
             ],
             [
              0.2222222222222222,
              "#7201a8"
             ],
             [
              0.3333333333333333,
              "#9c179e"
             ],
             [
              0.4444444444444444,
              "#bd3786"
             ],
             [
              0.5555555555555556,
              "#d8576b"
             ],
             [
              0.6666666666666666,
              "#ed7953"
             ],
             [
              0.7777777777777778,
              "#fb9f3a"
             ],
             [
              0.8888888888888888,
              "#fdca26"
             ],
             [
              1,
              "#f0f921"
             ]
            ],
            "type": "heatmapgl"
           }
          ],
          "histogram": [
           {
            "marker": {
             "colorbar": {
              "outlinewidth": 0,
              "ticks": ""
             }
            },
            "type": "histogram"
           }
          ],
          "histogram2d": [
           {
            "colorbar": {
             "outlinewidth": 0,
             "ticks": ""
            },
            "colorscale": [
             [
              0,
              "#0d0887"
             ],
             [
              0.1111111111111111,
              "#46039f"
             ],
             [
              0.2222222222222222,
              "#7201a8"
             ],
             [
              0.3333333333333333,
              "#9c179e"
             ],
             [
              0.4444444444444444,
              "#bd3786"
             ],
             [
              0.5555555555555556,
              "#d8576b"
             ],
             [
              0.6666666666666666,
              "#ed7953"
             ],
             [
              0.7777777777777778,
              "#fb9f3a"
             ],
             [
              0.8888888888888888,
              "#fdca26"
             ],
             [
              1,
              "#f0f921"
             ]
            ],
            "type": "histogram2d"
           }
          ],
          "histogram2dcontour": [
           {
            "colorbar": {
             "outlinewidth": 0,
             "ticks": ""
            },
            "colorscale": [
             [
              0,
              "#0d0887"
             ],
             [
              0.1111111111111111,
              "#46039f"
             ],
             [
              0.2222222222222222,
              "#7201a8"
             ],
             [
              0.3333333333333333,
              "#9c179e"
             ],
             [
              0.4444444444444444,
              "#bd3786"
             ],
             [
              0.5555555555555556,
              "#d8576b"
             ],
             [
              0.6666666666666666,
              "#ed7953"
             ],
             [
              0.7777777777777778,
              "#fb9f3a"
             ],
             [
              0.8888888888888888,
              "#fdca26"
             ],
             [
              1,
              "#f0f921"
             ]
            ],
            "type": "histogram2dcontour"
           }
          ],
          "mesh3d": [
           {
            "colorbar": {
             "outlinewidth": 0,
             "ticks": ""
            },
            "type": "mesh3d"
           }
          ],
          "parcoords": [
           {
            "line": {
             "colorbar": {
              "outlinewidth": 0,
              "ticks": ""
             }
            },
            "type": "parcoords"
           }
          ],
          "pie": [
           {
            "automargin": true,
            "type": "pie"
           }
          ],
          "scatter": [
           {
            "marker": {
             "colorbar": {
              "outlinewidth": 0,
              "ticks": ""
             }
            },
            "type": "scatter"
           }
          ],
          "scatter3d": [
           {
            "line": {
             "colorbar": {
              "outlinewidth": 0,
              "ticks": ""
             }
            },
            "marker": {
             "colorbar": {
              "outlinewidth": 0,
              "ticks": ""
             }
            },
            "type": "scatter3d"
           }
          ],
          "scattercarpet": [
           {
            "marker": {
             "colorbar": {
              "outlinewidth": 0,
              "ticks": ""
             }
            },
            "type": "scattercarpet"
           }
          ],
          "scattergeo": [
           {
            "marker": {
             "colorbar": {
              "outlinewidth": 0,
              "ticks": ""
             }
            },
            "type": "scattergeo"
           }
          ],
          "scattergl": [
           {
            "marker": {
             "colorbar": {
              "outlinewidth": 0,
              "ticks": ""
             }
            },
            "type": "scattergl"
           }
          ],
          "scattermapbox": [
           {
            "marker": {
             "colorbar": {
              "outlinewidth": 0,
              "ticks": ""
             }
            },
            "type": "scattermapbox"
           }
          ],
          "scatterpolar": [
           {
            "marker": {
             "colorbar": {
              "outlinewidth": 0,
              "ticks": ""
             }
            },
            "type": "scatterpolar"
           }
          ],
          "scatterpolargl": [
           {
            "marker": {
             "colorbar": {
              "outlinewidth": 0,
              "ticks": ""
             }
            },
            "type": "scatterpolargl"
           }
          ],
          "scatterternary": [
           {
            "marker": {
             "colorbar": {
              "outlinewidth": 0,
              "ticks": ""
             }
            },
            "type": "scatterternary"
           }
          ],
          "surface": [
           {
            "colorbar": {
             "outlinewidth": 0,
             "ticks": ""
            },
            "colorscale": [
             [
              0,
              "#0d0887"
             ],
             [
              0.1111111111111111,
              "#46039f"
             ],
             [
              0.2222222222222222,
              "#7201a8"
             ],
             [
              0.3333333333333333,
              "#9c179e"
             ],
             [
              0.4444444444444444,
              "#bd3786"
             ],
             [
              0.5555555555555556,
              "#d8576b"
             ],
             [
              0.6666666666666666,
              "#ed7953"
             ],
             [
              0.7777777777777778,
              "#fb9f3a"
             ],
             [
              0.8888888888888888,
              "#fdca26"
             ],
             [
              1,
              "#f0f921"
             ]
            ],
            "type": "surface"
           }
          ],
          "table": [
           {
            "cells": {
             "fill": {
              "color": "#EBF0F8"
             },
             "line": {
              "color": "white"
             }
            },
            "header": {
             "fill": {
              "color": "#C8D4E3"
             },
             "line": {
              "color": "white"
             }
            },
            "type": "table"
           }
          ]
         },
         "layout": {
          "annotationdefaults": {
           "arrowcolor": "#2a3f5f",
           "arrowhead": 0,
           "arrowwidth": 1
          },
          "coloraxis": {
           "colorbar": {
            "outlinewidth": 0,
            "ticks": ""
           }
          },
          "colorscale": {
           "diverging": [
            [
             0,
             "#8e0152"
            ],
            [
             0.1,
             "#c51b7d"
            ],
            [
             0.2,
             "#de77ae"
            ],
            [
             0.3,
             "#f1b6da"
            ],
            [
             0.4,
             "#fde0ef"
            ],
            [
             0.5,
             "#f7f7f7"
            ],
            [
             0.6,
             "#e6f5d0"
            ],
            [
             0.7,
             "#b8e186"
            ],
            [
             0.8,
             "#7fbc41"
            ],
            [
             0.9,
             "#4d9221"
            ],
            [
             1,
             "#276419"
            ]
           ],
           "sequential": [
            [
             0,
             "#0d0887"
            ],
            [
             0.1111111111111111,
             "#46039f"
            ],
            [
             0.2222222222222222,
             "#7201a8"
            ],
            [
             0.3333333333333333,
             "#9c179e"
            ],
            [
             0.4444444444444444,
             "#bd3786"
            ],
            [
             0.5555555555555556,
             "#d8576b"
            ],
            [
             0.6666666666666666,
             "#ed7953"
            ],
            [
             0.7777777777777778,
             "#fb9f3a"
            ],
            [
             0.8888888888888888,
             "#fdca26"
            ],
            [
             1,
             "#f0f921"
            ]
           ],
           "sequentialminus": [
            [
             0,
             "#0d0887"
            ],
            [
             0.1111111111111111,
             "#46039f"
            ],
            [
             0.2222222222222222,
             "#7201a8"
            ],
            [
             0.3333333333333333,
             "#9c179e"
            ],
            [
             0.4444444444444444,
             "#bd3786"
            ],
            [
             0.5555555555555556,
             "#d8576b"
            ],
            [
             0.6666666666666666,
             "#ed7953"
            ],
            [
             0.7777777777777778,
             "#fb9f3a"
            ],
            [
             0.8888888888888888,
             "#fdca26"
            ],
            [
             1,
             "#f0f921"
            ]
           ]
          },
          "colorway": [
           "#636efa",
           "#EF553B",
           "#00cc96",
           "#ab63fa",
           "#FFA15A",
           "#19d3f3",
           "#FF6692",
           "#B6E880",
           "#FF97FF",
           "#FECB52"
          ],
          "font": {
           "color": "#2a3f5f"
          },
          "geo": {
           "bgcolor": "white",
           "lakecolor": "white",
           "landcolor": "#E5ECF6",
           "showlakes": true,
           "showland": true,
           "subunitcolor": "white"
          },
          "hoverlabel": {
           "align": "left"
          },
          "hovermode": "closest",
          "mapbox": {
           "style": "light"
          },
          "paper_bgcolor": "white",
          "plot_bgcolor": "#E5ECF6",
          "polar": {
           "angularaxis": {
            "gridcolor": "white",
            "linecolor": "white",
            "ticks": ""
           },
           "bgcolor": "#E5ECF6",
           "radialaxis": {
            "gridcolor": "white",
            "linecolor": "white",
            "ticks": ""
           }
          },
          "scene": {
           "xaxis": {
            "backgroundcolor": "#E5ECF6",
            "gridcolor": "white",
            "gridwidth": 2,
            "linecolor": "white",
            "showbackground": true,
            "ticks": "",
            "zerolinecolor": "white"
           },
           "yaxis": {
            "backgroundcolor": "#E5ECF6",
            "gridcolor": "white",
            "gridwidth": 2,
            "linecolor": "white",
            "showbackground": true,
            "ticks": "",
            "zerolinecolor": "white"
           },
           "zaxis": {
            "backgroundcolor": "#E5ECF6",
            "gridcolor": "white",
            "gridwidth": 2,
            "linecolor": "white",
            "showbackground": true,
            "ticks": "",
            "zerolinecolor": "white"
           }
          },
          "shapedefaults": {
           "line": {
            "color": "#2a3f5f"
           }
          },
          "ternary": {
           "aaxis": {
            "gridcolor": "white",
            "linecolor": "white",
            "ticks": ""
           },
           "baxis": {
            "gridcolor": "white",
            "linecolor": "white",
            "ticks": ""
           },
           "bgcolor": "#E5ECF6",
           "caxis": {
            "gridcolor": "white",
            "linecolor": "white",
            "ticks": ""
           }
          },
          "title": {
           "x": 0.05
          },
          "xaxis": {
           "automargin": true,
           "gridcolor": "white",
           "linecolor": "white",
           "ticks": "",
           "title": {
            "standoff": 15
           },
           "zerolinecolor": "white",
           "zerolinewidth": 2
          },
          "yaxis": {
           "automargin": true,
           "gridcolor": "white",
           "linecolor": "white",
           "ticks": "",
           "title": {
            "standoff": 15
           },
           "zerolinecolor": "white",
           "zerolinewidth": 2
          }
         }
        },
        "xaxis": {
         "anchor": "y",
         "domain": [
          0,
          1
         ],
         "title": {
          "text": "grade"
         }
        },
        "yaxis": {
         "anchor": "x",
         "domain": [
          0,
          1
         ],
         "title": {
          "text": "price"
         }
        }
       }
      },
      "text/html": [
       "<div>                            <div id=\"9e8bf0df-062e-412c-bd93-940531708ada\" class=\"plotly-graph-div\" style=\"height:525px; width:100%;\"></div>            <script type=\"text/javascript\">                require([\"plotly\"], function(Plotly) {                    window.PLOTLYENV=window.PLOTLYENV || {};                                    if (document.getElementById(\"9e8bf0df-062e-412c-bd93-940531708ada\")) {                    Plotly.newPlot(                        \"9e8bf0df-062e-412c-bd93-940531708ada\",                        [{\"alignmentgroup\": \"True\", \"hovertemplate\": \"grade=%{x}<br>price=%{y}<extra></extra>\", \"legendgroup\": \"\", \"marker\": {\"color\": \"#636efa\"}, \"name\": \"\", \"notched\": false, \"offsetgroup\": \"\", \"orientation\": \"v\", \"showlegend\": false, \"type\": \"box\", \"x\": [7, 8, 7, 7, 7, 9, 9, 8, 7, 7, 7, 7, 7, 8, 8, 8, 8, 8, 7, 8, 9, 7, 7, 8, 7, 7, 7, 8, 7, 6, 7, 8, 8, 8, 8, 7, 6, 8, 8, 9, 7, 8, 9, 8, 8, 8, 7, 8, 7, 8, 7, 8, 7, 9, 8, 7, 8, 7, 7, 7, 7, 8, 7, 8, 8, 9, 7, 6, 8, 9, 8, 7, 7, 8, 7, 7, 7, 8, 7, 8, 8, 8, 6, 8, 7, 8, 9, 8, 7, 8, 8, 7, 8, 8, 7, 7, 8, 8, 7, 9, 8, 8, 8, 7, 8, 8, 10, 7, 7, 8, 8, 7, 8, 7, 9, 8, 8, 7, 8, 8, 8, 7, 8, 7, 7, 7, 7, 7, 7, 8, 6, 7, 8, 8, 8, 7, 7, 8, 7, 8, 7, 9, 8, 9, 9, 7, 8, 7, 9, 7, 7, 8, 8, 8, 6, 7, 9, 7, 8, 9, 7, 8, 8, 8, 7, 8, 7, 7, 8, 7, 8, 7, 7, 8, 8, 7, 7, 7, 7, 7, 7, 8, 7, 8, 8, 7, 8, 9, 8, 7, 7, 8, 7, 8, 8, 8, 8, 8, 8, 8, 7, 8, 7, 7, 8, 7, 8, 8, 7, 8, 8, 7, 7, 7, 8, 7, 6, 8, 7, 8, 8, 9, 7, 7, 8, 9, 7, 8, 8, 7, 8, 6, 8, 7, 8, 9, 6, 8, 8, 7, 7, 7, 8, 7, 8, 7, 7, 7, 8, 8, 7, 7, 8, 7, 8, 7, 7, 7, 7, 7, 8, 7, 6, 8, 8, 9, 8, 9, 7, 7, 8, 7, 8, 7, 8, 8, 7, 8, 7, 7, 7, 7, 7, 7, 8, 9, 9, 6, 8, 7, 11, 10, 8, 9, 8, 7, 8, 7, 6, 9, 7, 8, 7, 7, 7, 9, 7, 8, 7, 7, 7, 8, 7, 6, 8, 9, 8, 8, 8, 7, 7, 8], \"x0\": \" \", \"xaxis\": \"x\", \"y\": [538000.0, 696000.0, 464000.0, 655000.0, 435000.0, 749000.0, 725000.0, 640000.0, 452000.0, 730000.0, 850000.0, 450000.0, 428750.0, 420000.0, 601000.0, 515000.0, 675000.0, 659000.0, 600000.0, 614000.0, 831000.0, 430000.0, 450000.0, 520000.0, 490000.0, 776500.0, 425000.0, 830000.0, 600000.0, 451555.0, 480000.0, 850000.0, 625000.0, 835000.0, 599000.0, 577000.0, 480000.0, 550000.0, 550000.0, 767500.0, 700000.0, 688000.0, 870000.0, 460000.0, 775000.0, 610000.0, 569000.0, 585000.0, 445000.0, 703000.0, 499000.0, 478000.0, 499000.0, 765000.0, 830000.0, 691500.0, 855000.0, 700000.0, 476500.0, 865000.0, 542000.0, 665000.0, 805000.0, 525000.0, 775000.0, 876650.0, 540000.0, 515000.0, 550000.0, 825050.0, 560000.0, 462500.0, 550000.0, 815000.0, 599000.0, 562000.0, 468000.0, 500000.0, 535000.0, 800000.0, 765000.0, 849000.0, 455000.0, 620000.0, 832500.0, 749000.0, 692500.0, 519000.0, 415000.0, 731100.0, 465000.0, 420000.0, 611900.0, 835000.0, 772650.0, 449950.0, 720000.0, 530000.0, 629000.0, 800000.0, 860000.0, 724800.0, 599000.0, 500000.0, 750000.0, 863500.0, 699000.0, 543000.0, 430000.0, 733000.0, 750000.0, 775000.0, 870000.0, 425000.0, 790000.0, 499000.0, 665000.0, 411500.0, 765000.0, 738950.0, 713400.0, 443500.0, 460000.0, 510000.0, 555000.0, 459000.0, 550000.0, 775000.0, 660000.0, 712500.0, 420000.0, 477500.0, 577500.0, 582000.0, 799990.0, 415000.0, 509250.0, 775000.0, 496000.0, 690000.0, 540000.0, 811000.0, 510000.0, 770000.0, 667000.0, 581000.0, 685000.0, 450000.0, 580000.0, 510000.0, 612500.0, 780000.0, 840000.0, 808000.0, 417000.0, 785950.0, 853800.0, 499000.0, 616500.0, 755000.0, 650000.0, 840000.0, 690000.0, 880000.0, 433000.0, 850000.0, 595000.0, 456700.0, 605000.0, 750000.0, 440000.0, 675000.0, 595000.0, 742500.0, 450000.0, 446000.0, 450000.0, 492000.0, 524950.0, 470000.0, 565000.0, 525000.0, 464000.0, 570000.0, 850000.0, 475000.0, 808250.0, 850000.0, 717000.0, 617000.0, 495000.0, 575000.0, 590000.0, 552775.0, 601500.0, 600000.0, 800000.0, 780000.0, 705000.0, 725000.0, 458500.0, 850000.0, 538000.0, 498000.0, 787500.0, 565000.0, 875000.0, 420000.0, 488000.0, 760000.0, 744000.0, 800000.0, 594950.0, 450000.0, 780000.0, 495000.0, 459950.0, 531500.0, 550000.0, 838000.0, 810000.0, 600000.0, 426000.0, 667000.0, 622500.0, 585000.0, 438000.0, 825000.0, 600000.0, 485000.0, 569950.0, 515000.0, 797000.0, 465000.0, 865000.0, 805000.0, 521000.0, 750000.0, 875000.0, 805000.0, 475000.0, 645000.0, 745000.0, 450000.0, 699000.0, 492000.0, 599000.0, 520000.0, 679000.0, 424900.0, 839000.0, 525000.0, 825000.0, 500000.0, 540000.0, 517000.0, 596000.0, 865000.0, 765000.0, 570000.0, 865000.0, 550000.0, 664000.0, 540000.0, 460000.0, 675000.0, 420000.0, 685000.0, 800000.0, 825000.0, 457000.0, 465000.0, 667000.0, 636100.0, 700000.0, 660000.0, 485000.0, 750000.0, 485000.0, 650500.0, 447500.0, 512500.0, 770000.0, 535000.0, 630000.0, 605004.0, 820000.0, 498000.0, 718000.0, 623500.0, 550000.0, 826000.0, 550000.0, 825000.0, 770000.0, 818000.0, 625000.0, 539950.0, 545000.0, 825000.0, 529000.0, 672600.0, 625000.0, 476000.0, 520000.0, 863000.0, 460000.0, 424000.0, 571500.0, 615000.0, 635500.0, 675000.0, 478000.0, 509000.0, 850000.0, 550000.0, 885000.0, 819000.0, 588000.0, 451000.0, 434900.0, 500012.0], \"y0\": \" \", \"yaxis\": \"y\"}],                        {\"boxmode\": \"group\", \"legend\": {\"tracegroupgap\": 0}, \"margin\": {\"t\": 60}, \"template\": {\"data\": {\"bar\": [{\"error_x\": {\"color\": \"#2a3f5f\"}, \"error_y\": {\"color\": \"#2a3f5f\"}, \"marker\": {\"line\": {\"color\": \"#E5ECF6\", \"width\": 0.5}}, \"type\": \"bar\"}], \"barpolar\": [{\"marker\": {\"line\": {\"color\": \"#E5ECF6\", \"width\": 0.5}}, \"type\": \"barpolar\"}], \"carpet\": [{\"aaxis\": {\"endlinecolor\": \"#2a3f5f\", \"gridcolor\": \"white\", \"linecolor\": \"white\", \"minorgridcolor\": \"white\", \"startlinecolor\": \"#2a3f5f\"}, \"baxis\": {\"endlinecolor\": \"#2a3f5f\", \"gridcolor\": \"white\", \"linecolor\": \"white\", \"minorgridcolor\": \"white\", \"startlinecolor\": \"#2a3f5f\"}, \"type\": \"carpet\"}], \"choropleth\": [{\"colorbar\": {\"outlinewidth\": 0, \"ticks\": \"\"}, \"type\": \"choropleth\"}], \"contour\": [{\"colorbar\": {\"outlinewidth\": 0, \"ticks\": \"\"}, \"colorscale\": [[0.0, \"#0d0887\"], [0.1111111111111111, \"#46039f\"], [0.2222222222222222, \"#7201a8\"], [0.3333333333333333, \"#9c179e\"], [0.4444444444444444, \"#bd3786\"], [0.5555555555555556, \"#d8576b\"], [0.6666666666666666, \"#ed7953\"], [0.7777777777777778, \"#fb9f3a\"], [0.8888888888888888, \"#fdca26\"], [1.0, \"#f0f921\"]], \"type\": \"contour\"}], \"contourcarpet\": [{\"colorbar\": {\"outlinewidth\": 0, \"ticks\": \"\"}, \"type\": \"contourcarpet\"}], \"heatmap\": [{\"colorbar\": {\"outlinewidth\": 0, \"ticks\": \"\"}, \"colorscale\": [[0.0, \"#0d0887\"], [0.1111111111111111, \"#46039f\"], [0.2222222222222222, \"#7201a8\"], [0.3333333333333333, \"#9c179e\"], [0.4444444444444444, \"#bd3786\"], [0.5555555555555556, \"#d8576b\"], [0.6666666666666666, \"#ed7953\"], [0.7777777777777778, \"#fb9f3a\"], [0.8888888888888888, \"#fdca26\"], [1.0, \"#f0f921\"]], \"type\": \"heatmap\"}], \"heatmapgl\": [{\"colorbar\": {\"outlinewidth\": 0, \"ticks\": \"\"}, \"colorscale\": [[0.0, \"#0d0887\"], [0.1111111111111111, \"#46039f\"], [0.2222222222222222, \"#7201a8\"], [0.3333333333333333, \"#9c179e\"], [0.4444444444444444, \"#bd3786\"], [0.5555555555555556, \"#d8576b\"], [0.6666666666666666, \"#ed7953\"], [0.7777777777777778, \"#fb9f3a\"], [0.8888888888888888, \"#fdca26\"], [1.0, \"#f0f921\"]], \"type\": \"heatmapgl\"}], \"histogram\": [{\"marker\": {\"colorbar\": {\"outlinewidth\": 0, \"ticks\": \"\"}}, \"type\": \"histogram\"}], \"histogram2d\": [{\"colorbar\": {\"outlinewidth\": 0, \"ticks\": \"\"}, \"colorscale\": [[0.0, \"#0d0887\"], [0.1111111111111111, \"#46039f\"], [0.2222222222222222, \"#7201a8\"], [0.3333333333333333, \"#9c179e\"], [0.4444444444444444, \"#bd3786\"], [0.5555555555555556, \"#d8576b\"], [0.6666666666666666, \"#ed7953\"], [0.7777777777777778, \"#fb9f3a\"], [0.8888888888888888, \"#fdca26\"], [1.0, \"#f0f921\"]], \"type\": \"histogram2d\"}], \"histogram2dcontour\": [{\"colorbar\": {\"outlinewidth\": 0, \"ticks\": \"\"}, \"colorscale\": [[0.0, \"#0d0887\"], [0.1111111111111111, \"#46039f\"], [0.2222222222222222, \"#7201a8\"], [0.3333333333333333, \"#9c179e\"], [0.4444444444444444, \"#bd3786\"], [0.5555555555555556, \"#d8576b\"], [0.6666666666666666, \"#ed7953\"], [0.7777777777777778, \"#fb9f3a\"], [0.8888888888888888, \"#fdca26\"], [1.0, \"#f0f921\"]], \"type\": \"histogram2dcontour\"}], \"mesh3d\": [{\"colorbar\": {\"outlinewidth\": 0, \"ticks\": \"\"}, \"type\": \"mesh3d\"}], \"parcoords\": [{\"line\": {\"colorbar\": {\"outlinewidth\": 0, \"ticks\": \"\"}}, \"type\": \"parcoords\"}], \"pie\": [{\"automargin\": true, \"type\": \"pie\"}], \"scatter\": [{\"marker\": {\"colorbar\": {\"outlinewidth\": 0, \"ticks\": \"\"}}, \"type\": \"scatter\"}], \"scatter3d\": [{\"line\": {\"colorbar\": {\"outlinewidth\": 0, \"ticks\": \"\"}}, \"marker\": {\"colorbar\": {\"outlinewidth\": 0, \"ticks\": \"\"}}, \"type\": \"scatter3d\"}], \"scattercarpet\": [{\"marker\": {\"colorbar\": {\"outlinewidth\": 0, \"ticks\": \"\"}}, \"type\": \"scattercarpet\"}], \"scattergeo\": [{\"marker\": {\"colorbar\": {\"outlinewidth\": 0, \"ticks\": \"\"}}, \"type\": \"scattergeo\"}], \"scattergl\": [{\"marker\": {\"colorbar\": {\"outlinewidth\": 0, \"ticks\": \"\"}}, \"type\": \"scattergl\"}], \"scattermapbox\": [{\"marker\": {\"colorbar\": {\"outlinewidth\": 0, \"ticks\": \"\"}}, \"type\": \"scattermapbox\"}], \"scatterpolar\": [{\"marker\": {\"colorbar\": {\"outlinewidth\": 0, \"ticks\": \"\"}}, \"type\": \"scatterpolar\"}], \"scatterpolargl\": [{\"marker\": {\"colorbar\": {\"outlinewidth\": 0, \"ticks\": \"\"}}, \"type\": \"scatterpolargl\"}], \"scatterternary\": [{\"marker\": {\"colorbar\": {\"outlinewidth\": 0, \"ticks\": \"\"}}, \"type\": \"scatterternary\"}], \"surface\": [{\"colorbar\": {\"outlinewidth\": 0, \"ticks\": \"\"}, \"colorscale\": [[0.0, \"#0d0887\"], [0.1111111111111111, \"#46039f\"], [0.2222222222222222, \"#7201a8\"], [0.3333333333333333, \"#9c179e\"], [0.4444444444444444, \"#bd3786\"], [0.5555555555555556, \"#d8576b\"], [0.6666666666666666, \"#ed7953\"], [0.7777777777777778, \"#fb9f3a\"], [0.8888888888888888, \"#fdca26\"], [1.0, \"#f0f921\"]], \"type\": \"surface\"}], \"table\": [{\"cells\": {\"fill\": {\"color\": \"#EBF0F8\"}, \"line\": {\"color\": \"white\"}}, \"header\": {\"fill\": {\"color\": \"#C8D4E3\"}, \"line\": {\"color\": \"white\"}}, \"type\": \"table\"}]}, \"layout\": {\"annotationdefaults\": {\"arrowcolor\": \"#2a3f5f\", \"arrowhead\": 0, \"arrowwidth\": 1}, \"coloraxis\": {\"colorbar\": {\"outlinewidth\": 0, \"ticks\": \"\"}}, \"colorscale\": {\"diverging\": [[0, \"#8e0152\"], [0.1, \"#c51b7d\"], [0.2, \"#de77ae\"], [0.3, \"#f1b6da\"], [0.4, \"#fde0ef\"], [0.5, \"#f7f7f7\"], [0.6, \"#e6f5d0\"], [0.7, \"#b8e186\"], [0.8, \"#7fbc41\"], [0.9, \"#4d9221\"], [1, \"#276419\"]], \"sequential\": [[0.0, \"#0d0887\"], [0.1111111111111111, \"#46039f\"], [0.2222222222222222, \"#7201a8\"], [0.3333333333333333, \"#9c179e\"], [0.4444444444444444, \"#bd3786\"], [0.5555555555555556, \"#d8576b\"], [0.6666666666666666, \"#ed7953\"], [0.7777777777777778, \"#fb9f3a\"], [0.8888888888888888, \"#fdca26\"], [1.0, \"#f0f921\"]], \"sequentialminus\": [[0.0, \"#0d0887\"], [0.1111111111111111, \"#46039f\"], [0.2222222222222222, \"#7201a8\"], [0.3333333333333333, \"#9c179e\"], [0.4444444444444444, \"#bd3786\"], [0.5555555555555556, \"#d8576b\"], [0.6666666666666666, \"#ed7953\"], [0.7777777777777778, \"#fb9f3a\"], [0.8888888888888888, \"#fdca26\"], [1.0, \"#f0f921\"]]}, \"colorway\": [\"#636efa\", \"#EF553B\", \"#00cc96\", \"#ab63fa\", \"#FFA15A\", \"#19d3f3\", \"#FF6692\", \"#B6E880\", \"#FF97FF\", \"#FECB52\"], \"font\": {\"color\": \"#2a3f5f\"}, \"geo\": {\"bgcolor\": \"white\", \"lakecolor\": \"white\", \"landcolor\": \"#E5ECF6\", \"showlakes\": true, \"showland\": true, \"subunitcolor\": \"white\"}, \"hoverlabel\": {\"align\": \"left\"}, \"hovermode\": \"closest\", \"mapbox\": {\"style\": \"light\"}, \"paper_bgcolor\": \"white\", \"plot_bgcolor\": \"#E5ECF6\", \"polar\": {\"angularaxis\": {\"gridcolor\": \"white\", \"linecolor\": \"white\", \"ticks\": \"\"}, \"bgcolor\": \"#E5ECF6\", \"radialaxis\": {\"gridcolor\": \"white\", \"linecolor\": \"white\", \"ticks\": \"\"}}, \"scene\": {\"xaxis\": {\"backgroundcolor\": \"#E5ECF6\", \"gridcolor\": \"white\", \"gridwidth\": 2, \"linecolor\": \"white\", \"showbackground\": true, \"ticks\": \"\", \"zerolinecolor\": \"white\"}, \"yaxis\": {\"backgroundcolor\": \"#E5ECF6\", \"gridcolor\": \"white\", \"gridwidth\": 2, \"linecolor\": \"white\", \"showbackground\": true, \"ticks\": \"\", \"zerolinecolor\": \"white\"}, \"zaxis\": {\"backgroundcolor\": \"#E5ECF6\", \"gridcolor\": \"white\", \"gridwidth\": 2, \"linecolor\": \"white\", \"showbackground\": true, \"ticks\": \"\", \"zerolinecolor\": \"white\"}}, \"shapedefaults\": {\"line\": {\"color\": \"#2a3f5f\"}}, \"ternary\": {\"aaxis\": {\"gridcolor\": \"white\", \"linecolor\": \"white\", \"ticks\": \"\"}, \"baxis\": {\"gridcolor\": \"white\", \"linecolor\": \"white\", \"ticks\": \"\"}, \"bgcolor\": \"#E5ECF6\", \"caxis\": {\"gridcolor\": \"white\", \"linecolor\": \"white\", \"ticks\": \"\"}}, \"title\": {\"x\": 0.05}, \"xaxis\": {\"automargin\": true, \"gridcolor\": \"white\", \"linecolor\": \"white\", \"ticks\": \"\", \"title\": {\"standoff\": 15}, \"zerolinecolor\": \"white\", \"zerolinewidth\": 2}, \"yaxis\": {\"automargin\": true, \"gridcolor\": \"white\", \"linecolor\": \"white\", \"ticks\": \"\", \"title\": {\"standoff\": 15}, \"zerolinecolor\": \"white\", \"zerolinewidth\": 2}}}, \"xaxis\": {\"anchor\": \"y\", \"domain\": [0.0, 1.0], \"title\": {\"text\": \"grade\"}}, \"yaxis\": {\"anchor\": \"x\", \"domain\": [0.0, 1.0], \"title\": {\"text\": \"price\"}}},                        {\"responsive\": true}                    ).then(function(){\n",
       "                            \n",
       "var gd = document.getElementById('9e8bf0df-062e-412c-bd93-940531708ada');\n",
       "var x = new MutationObserver(function (mutations, observer) {{\n",
       "        var display = window.getComputedStyle(gd).display;\n",
       "        if (!display || display === 'none') {{\n",
       "            console.log([gd, 'removed!']);\n",
       "            Plotly.purge(gd);\n",
       "            observer.disconnect();\n",
       "        }}\n",
       "}});\n",
       "\n",
       "// Listen for the removal of the full notebook cells\n",
       "var notebookContainer = gd.closest('#notebook-container');\n",
       "if (notebookContainer) {{\n",
       "    x.observe(notebookContainer, {childList: true});\n",
       "}}\n",
       "\n",
       "// Listen for the clearing of the current output cell\n",
       "var outputEl = gd.closest('.output');\n",
       "if (outputEl) {{\n",
       "    x.observe(outputEl, {childList: true});\n",
       "}}\n",
       "\n",
       "                        })                };                });            </script>        </div>"
      ]
     },
     "metadata": {},
     "output_type": "display_data"
    }
   ],
   "source": [
    "import plotly.express as px\n",
    "fig = px.box(df_1_after, x=\"grade\", y=\"price\")\n",
    "fig.show()"
   ]
  },
  {
   "cell_type": "code",
   "execution_count": null,
   "metadata": {},
   "outputs": [],
   "source": []
  },
  {
   "cell_type": "code",
   "execution_count": null,
   "metadata": {},
   "outputs": [],
   "source": []
  }
 ],
 "metadata": {
  "kernelspec": {
   "display_name": "Python 3",
   "language": "python",
   "name": "python3"
  },
  "language_info": {
   "codemirror_mode": {
    "name": "ipython",
    "version": 3
   },
   "file_extension": ".py",
   "mimetype": "text/x-python",
   "name": "python",
   "nbconvert_exporter": "python",
   "pygments_lexer": "ipython3",
   "version": "3.8.5"
  }
 },
 "nbformat": 4,
 "nbformat_minor": 4
}
