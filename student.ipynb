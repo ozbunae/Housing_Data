{
 "cells": [
  {
   "cell_type": "markdown",
   "metadata": {},
   "source": [
    "## Final Project Submission\n",
    "\n",
    "Please fill out:\n",
    "* Student name: Andrew Ozbun\n",
    "* Student pace: full time\n",
    "* Scheduled project review date/time: 01/22/2021, 3 p.m.\n",
    "* Instructor name: Abhineet Kulkarni\n",
    "* Blog post URL: https://normallydistributedmillennial.com/lamentations/a-statistical-glossary\n"
   ]
  },
  {
   "cell_type": "markdown",
   "metadata": {},
   "source": [
    "In this project I have three folders.  They are titled:\n",
    "\n",
    "Airbnb\n",
    "<br>\n",
    "Non Renovated\n",
    "<br>\n",
    "Renovated\n",
    "\n",
    "In the Airbnb is a jupyter Notebook containing all of the code and technical details associated with the regression model for this project.  \n",
    "\n",
    "The Renovated and Non Renovated folders provide insight on Exploratory Data that is comparative between the two categories.  Both data sets could be used for further analysis.  \n",
    "\n",
    "The README contains a comprehensive description of the project and its findings."
   ]
  },
  {
   "cell_type": "code",
   "execution_count": null,
   "metadata": {},
   "outputs": [],
   "source": []
  }
 ],
 "metadata": {
  "kernelspec": {
   "display_name": "Python 3",
   "language": "python",
   "name": "python3"
  },
  "language_info": {
   "codemirror_mode": {
    "name": "ipython",
    "version": 3
   },
   "file_extension": ".py",
   "mimetype": "text/x-python",
   "name": "python",
   "nbconvert_exporter": "python",
   "pygments_lexer": "ipython3",
   "version": "3.8.5"
  }
 },
 "nbformat": 4,
 "nbformat_minor": 2
}
