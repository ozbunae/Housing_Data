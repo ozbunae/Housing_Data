{
 "cells": [
  {
   "cell_type": "markdown",
   "metadata": {},
   "source": [
    "# KC County Housing v. Airbnb data sets.\n",
    "First importing the libraries."
   ]
  },
  {
   "cell_type": "code",
<<<<<<< HEAD
   "execution_count": 1,
=======
<<<<<<< HEAD
   "execution_count": 1,
=======
   "execution_count": 660,
>>>>>>> a111dda47325c356f7c89042190a97afe170c3fb
>>>>>>> 17c301b8b565049214a01aea658af63c76cab4af
   "metadata": {},
   "outputs": [],
   "source": [
    "import pandas as pd\n",
    "import numpy as np\n",
    "import pylab\n",
    "import math\n",
    "import os"
   ]
  },
  {
   "cell_type": "code",
<<<<<<< HEAD
   "execution_count": 2,
=======
<<<<<<< HEAD
   "execution_count": 2,
=======
   "execution_count": 661,
>>>>>>> a111dda47325c356f7c89042190a97afe170c3fb
>>>>>>> 17c301b8b565049214a01aea658af63c76cab4af
   "metadata": {},
   "outputs": [],
   "source": [
    "import matplotlib.pyplot as plt\n",
    "import seaborn as sns"
   ]
  },
  {
   "cell_type": "code",
<<<<<<< HEAD
   "execution_count": 3,
=======
<<<<<<< HEAD
   "execution_count": 3,
=======
   "execution_count": 662,
>>>>>>> a111dda47325c356f7c89042190a97afe170c3fb
>>>>>>> 17c301b8b565049214a01aea658af63c76cab4af
   "metadata": {},
   "outputs": [],
   "source": [
    "from scipy import stats"
   ]
  },
  {
   "cell_type": "code",
<<<<<<< HEAD
   "execution_count": 4,
=======
<<<<<<< HEAD
   "execution_count": 4,
=======
   "execution_count": 663,
>>>>>>> a111dda47325c356f7c89042190a97afe170c3fb
>>>>>>> 17c301b8b565049214a01aea658af63c76cab4af
   "metadata": {},
   "outputs": [],
   "source": [
    "import statsmodels.api as sm\n",
    "from statsmodels.formula.api import ols\n",
    "from statsmodels.stats import diagnostic as diag\n",
    "from statsmodels.stats.outliers_influence import variance_inflation_factor"
   ]
  },
  {
   "cell_type": "code",
<<<<<<< HEAD
   "execution_count": 5,
=======
<<<<<<< HEAD
   "execution_count": 5,
=======
   "execution_count": 664,
>>>>>>> a111dda47325c356f7c89042190a97afe170c3fb
>>>>>>> 17c301b8b565049214a01aea658af63c76cab4af
   "metadata": {},
   "outputs": [],
   "source": [
    "from sklearn.model_selection import train_test_split\n",
    "from sklearn.linear_model import LinearRegression\n",
    "from sklearn.metrics import mean_squared_error, r2_score, mean_absolute_error\n",
    "from sklearn.model_selection import train_test_split\n",
    "%matplotlib inline"
   ]
  },
  {
   "cell_type": "markdown",
   "metadata": {},
   "source": [
    "## Airbnb data set\n",
    "This data set was pulled from kaggle.  It is titled the 'Seattle Airbnb' on kaggle.  It happend to be the same zip codes as the KC county data set.  "
   ]
  },
  {
   "cell_type": "code",
<<<<<<< HEAD
   "execution_count": 6,
=======
<<<<<<< HEAD
   "execution_count": 6,
=======
   "execution_count": 665,
>>>>>>> a111dda47325c356f7c89042190a97afe170c3fb
>>>>>>> 17c301b8b565049214a01aea658af63c76cab4af
   "metadata": {},
   "outputs": [],
   "source": [
    "df1 = pd.read_csv('data/listings.csv')"
   ]
  },
  {
   "cell_type": "code",
<<<<<<< HEAD
   "execution_count": 7,
=======
<<<<<<< HEAD
   "execution_count": 7,
=======
   "execution_count": 666,
>>>>>>> a111dda47325c356f7c89042190a97afe170c3fb
>>>>>>> 17c301b8b565049214a01aea658af63c76cab4af
   "metadata": {},
   "outputs": [
    {
     "data": {
      "text/plain": [
       "(3818, 20)"
      ]
     },
<<<<<<< HEAD
     "execution_count": 7,
=======
<<<<<<< HEAD
     "execution_count": 7,
=======
     "execution_count": 666,
>>>>>>> a111dda47325c356f7c89042190a97afe170c3fb
>>>>>>> 17c301b8b565049214a01aea658af63c76cab4af
     "metadata": {},
     "output_type": "execute_result"
    }
   ],
   "source": [
    "df1.shape"
   ]
  },
  {
   "cell_type": "markdown",
   "metadata": {},
   "source": [
    "### Data Cleaning\n",
    "Standard getting rid of null values.   The unique part about cleaning this data set is that it originally came with over 150 columns off of the kaggle website.  Most of those columns were also useless for traditional data analysis with paragraph long entries such as reviews.  I chopped off most of the excess columns when I saved it to an excel file on the local drive.  "
   ]
  },
  {
   "cell_type": "code",
<<<<<<< HEAD
   "execution_count": 8,
=======
<<<<<<< HEAD
   "execution_count": 8,
=======
   "execution_count": 667,
>>>>>>> a111dda47325c356f7c89042190a97afe170c3fb
>>>>>>> 17c301b8b565049214a01aea658af63c76cab4af
   "metadata": {},
   "outputs": [],
   "source": [
    "df1.dropna(inplace = True)"
   ]
  },
  {
   "cell_type": "code",
<<<<<<< HEAD
   "execution_count": 9,
=======
<<<<<<< HEAD
   "execution_count": 9,
=======
   "execution_count": 668,
>>>>>>> a111dda47325c356f7c89042190a97afe170c3fb
>>>>>>> 17c301b8b565049214a01aea658af63c76cab4af
   "metadata": {},
   "outputs": [
    {
     "data": {
      "text/html": [
       "<div>\n",
       "<style scoped>\n",
       "    .dataframe tbody tr th:only-of-type {\n",
       "        vertical-align: middle;\n",
       "    }\n",
       "\n",
       "    .dataframe tbody tr th {\n",
       "        vertical-align: top;\n",
       "    }\n",
       "\n",
       "    .dataframe thead th {\n",
       "        text-align: right;\n",
       "    }\n",
       "</style>\n",
       "<table border=\"1\" class=\"dataframe\">\n",
       "  <thead>\n",
       "    <tr style=\"text-align: right;\">\n",
       "      <th></th>\n",
       "      <th>id</th>\n",
       "      <th>host_is_superhost</th>\n",
       "      <th>zipcode</th>\n",
       "      <th>property_type</th>\n",
       "      <th>room_type</th>\n",
       "      <th>accommodates</th>\n",
       "      <th>bathrooms</th>\n",
       "      <th>bedrooms</th>\n",
       "      <th>beds</th>\n",
       "      <th>weekly_price</th>\n",
       "      <th>monthly_price</th>\n",
       "      <th>cleaning_fee</th>\n",
       "      <th>guests_included</th>\n",
       "      <th>review_scores_rating</th>\n",
       "      <th>review_scores_accuracy</th>\n",
       "      <th>review_scores_cleanliness</th>\n",
       "      <th>review_scores_checkin</th>\n",
       "      <th>review_scores_communication</th>\n",
       "      <th>review_scores_location</th>\n",
       "      <th>review_scores_value</th>\n",
       "    </tr>\n",
       "  </thead>\n",
       "  <tbody>\n",
       "    <tr>\n",
       "      <th>1</th>\n",
       "      <td>953595</td>\n",
       "      <td>t</td>\n",
       "      <td>98119</td>\n",
       "      <td>Apartment</td>\n",
       "      <td>Entire home/apt</td>\n",
       "      <td>4</td>\n",
       "      <td>1.0</td>\n",
       "      <td>1.0</td>\n",
       "      <td>1.0</td>\n",
       "      <td>$1,000.00</td>\n",
       "      <td>$3,000.00</td>\n",
       "      <td>$40.00</td>\n",
       "      <td>1</td>\n",
       "      <td>96.0</td>\n",
       "      <td>10.0</td>\n",
       "      <td>10.0</td>\n",
       "      <td>10.0</td>\n",
       "      <td>10.0</td>\n",
       "      <td>10.0</td>\n",
       "      <td>10.0</td>\n",
       "    </tr>\n",
       "    <tr>\n",
       "      <th>9</th>\n",
       "      <td>2493658</td>\n",
       "      <td>t</td>\n",
       "      <td>98119</td>\n",
       "      <td>Apartment</td>\n",
       "      <td>Entire home/apt</td>\n",
       "      <td>4</td>\n",
       "      <td>1.0</td>\n",
       "      <td>1.0</td>\n",
       "      <td>1.0</td>\n",
       "      <td>$1,000.00</td>\n",
       "      <td>$3,000.00</td>\n",
       "      <td>$40.00</td>\n",
       "      <td>1</td>\n",
       "      <td>97.0</td>\n",
       "      <td>10.0</td>\n",
       "      <td>10.0</td>\n",
       "      <td>10.0</td>\n",
       "      <td>10.0</td>\n",
       "      <td>10.0</td>\n",
       "      <td>9.0</td>\n",
       "    </tr>\n",
       "    <tr>\n",
       "      <th>11</th>\n",
       "      <td>4454295</td>\n",
       "      <td>f</td>\n",
       "      <td>98119</td>\n",
       "      <td>House</td>\n",
       "      <td>Entire home/apt</td>\n",
       "      <td>2</td>\n",
       "      <td>1.0</td>\n",
       "      <td>1.0</td>\n",
       "      <td>1.0</td>\n",
       "      <td>$800.00</td>\n",
       "      <td>$2,000.00</td>\n",
       "      <td>$150.00</td>\n",
       "      <td>1</td>\n",
       "      <td>97.0</td>\n",
       "      <td>10.0</td>\n",
       "      <td>10.0</td>\n",
       "      <td>9.0</td>\n",
       "      <td>10.0</td>\n",
       "      <td>10.0</td>\n",
       "      <td>9.0</td>\n",
       "    </tr>\n",
       "    <tr>\n",
       "      <th>12</th>\n",
       "      <td>3883392</td>\n",
       "      <td>t</td>\n",
       "      <td>98119</td>\n",
       "      <td>Apartment</td>\n",
       "      <td>Entire home/apt</td>\n",
       "      <td>4</td>\n",
       "      <td>1.0</td>\n",
       "      <td>2.0</td>\n",
       "      <td>3.0</td>\n",
       "      <td>$1,575.00</td>\n",
       "      <td>$5,800.00</td>\n",
       "      <td>$95.00</td>\n",
       "      <td>1</td>\n",
       "      <td>98.0</td>\n",
       "      <td>10.0</td>\n",
       "      <td>10.0</td>\n",
       "      <td>10.0</td>\n",
       "      <td>10.0</td>\n",
       "      <td>10.0</td>\n",
       "      <td>10.0</td>\n",
       "    </tr>\n",
       "    <tr>\n",
       "      <th>21</th>\n",
       "      <td>4125779</td>\n",
       "      <td>f</td>\n",
       "      <td>98119</td>\n",
       "      <td>House</td>\n",
       "      <td>Private room</td>\n",
       "      <td>3</td>\n",
       "      <td>1.5</td>\n",
       "      <td>1.0</td>\n",
       "      <td>2.0</td>\n",
       "      <td>$568.00</td>\n",
       "      <td>$2,029.00</td>\n",
       "      <td>$15.00</td>\n",
       "      <td>1</td>\n",
       "      <td>84.0</td>\n",
       "      <td>9.0</td>\n",
       "      <td>9.0</td>\n",
       "      <td>9.0</td>\n",
       "      <td>9.0</td>\n",
       "      <td>10.0</td>\n",
       "      <td>8.0</td>\n",
       "    </tr>\n",
       "  </tbody>\n",
       "</table>\n",
       "</div>"
      ],
      "text/plain": [
       "         id host_is_superhost zipcode property_type        room_type  \\\n",
       "1    953595                 t   98119     Apartment  Entire home/apt   \n",
       "9   2493658                 t   98119     Apartment  Entire home/apt   \n",
       "11  4454295                 f   98119         House  Entire home/apt   \n",
       "12  3883392                 t   98119     Apartment  Entire home/apt   \n",
       "21  4125779                 f   98119         House     Private room   \n",
       "\n",
       "    accommodates  bathrooms  bedrooms  beds weekly_price monthly_price  \\\n",
       "1              4        1.0       1.0   1.0   $1,000.00     $3,000.00    \n",
       "9              4        1.0       1.0   1.0   $1,000.00     $3,000.00    \n",
       "11             2        1.0       1.0   1.0     $800.00     $2,000.00    \n",
       "12             4        1.0       2.0   3.0   $1,575.00     $5,800.00    \n",
       "21             3        1.5       1.0   2.0     $568.00     $2,029.00    \n",
       "\n",
       "   cleaning_fee  guests_included  review_scores_rating  \\\n",
       "1       $40.00                 1                  96.0   \n",
       "9       $40.00                 1                  97.0   \n",
       "11     $150.00                 1                  97.0   \n",
       "12      $95.00                 1                  98.0   \n",
       "21      $15.00                 1                  84.0   \n",
       "\n",
       "    review_scores_accuracy  review_scores_cleanliness  review_scores_checkin  \\\n",
       "1                     10.0                       10.0                   10.0   \n",
       "9                     10.0                       10.0                   10.0   \n",
       "11                    10.0                       10.0                    9.0   \n",
       "12                    10.0                       10.0                   10.0   \n",
       "21                     9.0                        9.0                    9.0   \n",
       "\n",
       "    review_scores_communication  review_scores_location  review_scores_value  \n",
       "1                          10.0                    10.0                 10.0  \n",
       "9                          10.0                    10.0                  9.0  \n",
       "11                         10.0                    10.0                  9.0  \n",
       "12                         10.0                    10.0                 10.0  \n",
       "21                          9.0                    10.0                  8.0  "
      ]
     },
<<<<<<< HEAD
     "execution_count": 9,
=======
<<<<<<< HEAD
     "execution_count": 9,
=======
     "execution_count": 668,
>>>>>>> a111dda47325c356f7c89042190a97afe170c3fb
>>>>>>> 17c301b8b565049214a01aea658af63c76cab4af
     "metadata": {},
     "output_type": "execute_result"
    }
   ],
   "source": [
    "df1.head()"
   ]
  },
  {
   "cell_type": "code",
<<<<<<< HEAD
   "execution_count": 10,
=======
<<<<<<< HEAD
   "execution_count": 10,
=======
   "execution_count": 669,
>>>>>>> a111dda47325c356f7c89042190a97afe170c3fb
>>>>>>> 17c301b8b565049214a01aea658af63c76cab4af
   "metadata": {},
   "outputs": [
    {
     "data": {
      "text/plain": [
       "id                             False\n",
       "host_is_superhost              False\n",
       "zipcode                        False\n",
       "property_type                  False\n",
       "room_type                      False\n",
       "accommodates                   False\n",
       "bathrooms                      False\n",
       "bedrooms                       False\n",
       "beds                           False\n",
       "weekly_price                   False\n",
       "monthly_price                  False\n",
       "cleaning_fee                   False\n",
       "guests_included                False\n",
       "review_scores_rating           False\n",
       "review_scores_accuracy         False\n",
       "review_scores_cleanliness      False\n",
       "review_scores_checkin          False\n",
       "review_scores_communication    False\n",
       "review_scores_location         False\n",
       "review_scores_value            False\n",
       "dtype: bool"
      ]
     },
     "metadata": {},
     "output_type": "display_data"
    },
    {
     "data": {
      "text/plain": [
       "(1032, 20)"
      ]
     },
<<<<<<< HEAD
     "execution_count": 10,
=======
<<<<<<< HEAD
     "execution_count": 10,
=======
     "execution_count": 669,
>>>>>>> a111dda47325c356f7c89042190a97afe170c3fb
>>>>>>> 17c301b8b565049214a01aea658af63c76cab4af
     "metadata": {},
     "output_type": "execute_result"
    }
   ],
   "source": [
    "display(df1.isnull().any())\n",
    "df1.shape"
   ]
  },
  {
   "cell_type": "markdown",
   "metadata": {},
   "source": [
    "After getting rid of all of the null values I am filtering the data down to the columns I think will be applicable along with the KC data set.  "
   ]
  },
  {
   "cell_type": "code",
<<<<<<< HEAD
   "execution_count": 11,
=======
<<<<<<< HEAD
   "execution_count": 11,
=======
   "execution_count": 670,
>>>>>>> a111dda47325c356f7c89042190a97afe170c3fb
>>>>>>> 17c301b8b565049214a01aea658af63c76cab4af
   "metadata": {},
   "outputs": [],
   "source": [
    "df_abnb = df1.filter(['zipcode', 'property_type', 'room_type', 'bathrooms', 'bedrooms', 'monthly_price', 'review_scores_rating'], axis=1)"
   ]
  },
  {
   "cell_type": "code",
<<<<<<< HEAD
   "execution_count": 12,
=======
<<<<<<< HEAD
   "execution_count": 12,
=======
   "execution_count": 671,
>>>>>>> a111dda47325c356f7c89042190a97afe170c3fb
>>>>>>> 17c301b8b565049214a01aea658af63c76cab4af
   "metadata": {},
   "outputs": [
    {
     "data": {
      "text/html": [
       "<div>\n",
       "<style scoped>\n",
       "    .dataframe tbody tr th:only-of-type {\n",
       "        vertical-align: middle;\n",
       "    }\n",
       "\n",
       "    .dataframe tbody tr th {\n",
       "        vertical-align: top;\n",
       "    }\n",
       "\n",
       "    .dataframe thead th {\n",
       "        text-align: right;\n",
       "    }\n",
       "</style>\n",
       "<table border=\"1\" class=\"dataframe\">\n",
       "  <thead>\n",
       "    <tr style=\"text-align: right;\">\n",
       "      <th></th>\n",
       "      <th>bathrooms</th>\n",
       "      <th>bedrooms</th>\n",
       "      <th>review_scores_rating</th>\n",
       "    </tr>\n",
       "  </thead>\n",
       "  <tbody>\n",
       "    <tr>\n",
       "      <th>count</th>\n",
       "      <td>1032.000000</td>\n",
       "      <td>1032.000000</td>\n",
       "      <td>1032.00000</td>\n",
       "    </tr>\n",
       "    <tr>\n",
       "      <th>mean</th>\n",
       "      <td>1.228198</td>\n",
       "      <td>1.298450</td>\n",
       "      <td>94.05814</td>\n",
       "    </tr>\n",
       "    <tr>\n",
       "      <th>std</th>\n",
       "      <td>0.549675</td>\n",
       "      <td>0.844953</td>\n",
       "      <td>7.32656</td>\n",
       "    </tr>\n",
       "    <tr>\n",
       "      <th>min</th>\n",
       "      <td>0.500000</td>\n",
       "      <td>0.000000</td>\n",
       "      <td>20.00000</td>\n",
       "    </tr>\n",
       "    <tr>\n",
       "      <th>25%</th>\n",
       "      <td>1.000000</td>\n",
       "      <td>1.000000</td>\n",
       "      <td>92.00000</td>\n",
       "    </tr>\n",
       "    <tr>\n",
       "      <th>50%</th>\n",
       "      <td>1.000000</td>\n",
       "      <td>1.000000</td>\n",
       "      <td>96.00000</td>\n",
       "    </tr>\n",
       "    <tr>\n",
       "      <th>75%</th>\n",
       "      <td>1.000000</td>\n",
       "      <td>2.000000</td>\n",
       "      <td>99.00000</td>\n",
       "    </tr>\n",
       "    <tr>\n",
       "      <th>max</th>\n",
       "      <td>4.500000</td>\n",
       "      <td>6.000000</td>\n",
       "      <td>100.00000</td>\n",
       "    </tr>\n",
       "  </tbody>\n",
       "</table>\n",
       "</div>"
      ],
      "text/plain": [
       "         bathrooms     bedrooms  review_scores_rating\n",
       "count  1032.000000  1032.000000            1032.00000\n",
       "mean      1.228198     1.298450              94.05814\n",
       "std       0.549675     0.844953               7.32656\n",
       "min       0.500000     0.000000              20.00000\n",
       "25%       1.000000     1.000000              92.00000\n",
       "50%       1.000000     1.000000              96.00000\n",
       "75%       1.000000     2.000000              99.00000\n",
       "max       4.500000     6.000000             100.00000"
      ]
     },
<<<<<<< HEAD
     "execution_count": 12,
=======
<<<<<<< HEAD
     "execution_count": 12,
=======
     "execution_count": 671,
>>>>>>> a111dda47325c356f7c89042190a97afe170c3fb
>>>>>>> 17c301b8b565049214a01aea658af63c76cab4af
     "metadata": {},
     "output_type": "execute_result"
    }
   ],
   "source": [
    "#I am doing a df.describe to discover what pandas thinks is continuous\n",
    "df_abnb.describe()"
   ]
  },
  {
   "cell_type": "code",
<<<<<<< HEAD
   "execution_count": 13,
=======
<<<<<<< HEAD
   "execution_count": 13,
=======
   "execution_count": 672,
>>>>>>> a111dda47325c356f7c89042190a97afe170c3fb
>>>>>>> 17c301b8b565049214a01aea658af63c76cab4af
   "metadata": {},
   "outputs": [],
   "source": [
    "#Because of the extra characters like dollar sighns and commas I need to strip these numbers to get just plain integer values.\n",
    "\n",
    "def column_conversion(df, col):\n",
    "    df[col] = df[col].str.replace(\"$\",\"\").str.replace(\",\",\"\").str.replace(\".\",\"\").astype('int')\n",
    "    return df"
   ]
  },
  {
   "cell_type": "code",
<<<<<<< HEAD
   "execution_count": 14,
=======
<<<<<<< HEAD
   "execution_count": 14,
=======
   "execution_count": 673,
>>>>>>> a111dda47325c356f7c89042190a97afe170c3fb
>>>>>>> 17c301b8b565049214a01aea658af63c76cab4af
   "metadata": {},
   "outputs": [],
   "source": [
    "column_to_convert = ['monthly_price']\n",
    "\n",
    "for col in column_to_convert:\n",
    "    df_abnb = column_conversion(df_abnb, col)"
   ]
  },
  {
   "cell_type": "code",
<<<<<<< HEAD
   "execution_count": 15,
=======
<<<<<<< HEAD
   "execution_count": 15,
=======
   "execution_count": 674,
>>>>>>> a111dda47325c356f7c89042190a97afe170c3fb
>>>>>>> 17c301b8b565049214a01aea658af63c76cab4af
   "metadata": {},
   "outputs": [],
   "source": [
    "df_abnb['monthly_price'] = df_abnb['monthly_price'].div(100).round(2)"
   ]
  },
  {
   "cell_type": "code",
<<<<<<< HEAD
   "execution_count": 16,
=======
<<<<<<< HEAD
   "execution_count": 16,
=======
   "execution_count": 675,
>>>>>>> a111dda47325c356f7c89042190a97afe170c3fb
>>>>>>> 17c301b8b565049214a01aea658af63c76cab4af
   "metadata": {},
   "outputs": [
    {
     "data": {
      "text/html": [
       "<div>\n",
       "<style scoped>\n",
       "    .dataframe tbody tr th:only-of-type {\n",
       "        vertical-align: middle;\n",
       "    }\n",
       "\n",
       "    .dataframe tbody tr th {\n",
       "        vertical-align: top;\n",
       "    }\n",
       "\n",
       "    .dataframe thead th {\n",
       "        text-align: right;\n",
       "    }\n",
       "</style>\n",
       "<table border=\"1\" class=\"dataframe\">\n",
       "  <thead>\n",
       "    <tr style=\"text-align: right;\">\n",
       "      <th></th>\n",
       "      <th>zipcode</th>\n",
       "      <th>property_type</th>\n",
       "      <th>room_type</th>\n",
       "      <th>bathrooms</th>\n",
       "      <th>bedrooms</th>\n",
       "      <th>monthly_price</th>\n",
       "      <th>review_scores_rating</th>\n",
       "    </tr>\n",
       "  </thead>\n",
       "  <tbody>\n",
       "    <tr>\n",
       "      <th>1</th>\n",
       "      <td>98119</td>\n",
       "      <td>Apartment</td>\n",
       "      <td>Entire home/apt</td>\n",
       "      <td>1.0</td>\n",
       "      <td>1.0</td>\n",
       "      <td>3000.0</td>\n",
       "      <td>96.0</td>\n",
       "    </tr>\n",
       "    <tr>\n",
       "      <th>9</th>\n",
       "      <td>98119</td>\n",
       "      <td>Apartment</td>\n",
       "      <td>Entire home/apt</td>\n",
       "      <td>1.0</td>\n",
       "      <td>1.0</td>\n",
       "      <td>3000.0</td>\n",
       "      <td>97.0</td>\n",
       "    </tr>\n",
       "    <tr>\n",
       "      <th>11</th>\n",
       "      <td>98119</td>\n",
       "      <td>House</td>\n",
       "      <td>Entire home/apt</td>\n",
       "      <td>1.0</td>\n",
       "      <td>1.0</td>\n",
       "      <td>2000.0</td>\n",
       "      <td>97.0</td>\n",
       "    </tr>\n",
       "    <tr>\n",
       "      <th>12</th>\n",
       "      <td>98119</td>\n",
       "      <td>Apartment</td>\n",
       "      <td>Entire home/apt</td>\n",
       "      <td>1.0</td>\n",
       "      <td>2.0</td>\n",
       "      <td>5800.0</td>\n",
       "      <td>98.0</td>\n",
       "    </tr>\n",
       "    <tr>\n",
       "      <th>21</th>\n",
       "      <td>98119</td>\n",
       "      <td>House</td>\n",
       "      <td>Private room</td>\n",
       "      <td>1.5</td>\n",
       "      <td>1.0</td>\n",
       "      <td>2029.0</td>\n",
       "      <td>84.0</td>\n",
       "    </tr>\n",
       "  </tbody>\n",
       "</table>\n",
       "</div>"
      ],
      "text/plain": [
       "   zipcode property_type        room_type  bathrooms  bedrooms  monthly_price  \\\n",
       "1    98119     Apartment  Entire home/apt        1.0       1.0         3000.0   \n",
       "9    98119     Apartment  Entire home/apt        1.0       1.0         3000.0   \n",
       "11   98119         House  Entire home/apt        1.0       1.0         2000.0   \n",
       "12   98119     Apartment  Entire home/apt        1.0       2.0         5800.0   \n",
       "21   98119         House     Private room        1.5       1.0         2029.0   \n",
       "\n",
       "    review_scores_rating  \n",
       "1                   96.0  \n",
       "9                   97.0  \n",
       "11                  97.0  \n",
       "12                  98.0  \n",
       "21                  84.0  "
      ]
     },
<<<<<<< HEAD
     "execution_count": 16,
=======
<<<<<<< HEAD
     "execution_count": 16,
=======
     "execution_count": 675,
>>>>>>> a111dda47325c356f7c89042190a97afe170c3fb
>>>>>>> 17c301b8b565049214a01aea658af63c76cab4af
     "metadata": {},
     "output_type": "execute_result"
    }
   ],
   "source": [
    "df_abnb.head()"
   ]
  },
  {
   "cell_type": "markdown",
   "metadata": {},
   "source": [
    "### Exploring the Data\n",
    "Taking a look at deeper at the categorical variables.  I first looked at some boxplot data associated with type of home and how much it rents for a month.  I was surprised to find that, excluding outliers, townhomes and condominiums tend to rent for the most.  After that I created new columns that transform the categorical columns into numeric columns making the data set easier to put into a regression model."
   ]
  },
  {
   "cell_type": "code",
<<<<<<< HEAD
   "execution_count": 17,
=======
<<<<<<< HEAD
   "execution_count": 17,
=======
   "execution_count": 676,
>>>>>>> a111dda47325c356f7c89042190a97afe170c3fb
>>>>>>> 17c301b8b565049214a01aea658af63c76cab4af
   "metadata": {},
   "outputs": [
    {
     "name": "stdout",
     "output_type": "stream",
     "text": [
      "['Entire home/apt' 'Private room' 'Shared room']\n"
     ]
    }
   ],
   "source": [
    "#Looking at all the unique types of categories for my two categorical columns\n",
    "\n",
    "print(df_abnb['room_type'].unique())"
   ]
  },
  {
   "cell_type": "code",
<<<<<<< HEAD
   "execution_count": 18,
=======
<<<<<<< HEAD
   "execution_count": 18,
=======
   "execution_count": 677,
>>>>>>> a111dda47325c356f7c89042190a97afe170c3fb
>>>>>>> 17c301b8b565049214a01aea658af63c76cab4af
   "metadata": {},
   "outputs": [
    {
     "name": "stdout",
     "output_type": "stream",
     "text": [
      "['Apartment' 'House' 'Condominium' 'Bungalow' 'Townhouse' 'Other' 'Cabin'\n",
      " 'Loft' 'Bed & Breakfast' 'Chalet' 'Camper/RV']\n"
     ]
    }
   ],
   "source": [
    "print(df_abnb['property_type'].unique())"
   ]
  },
  {
   "cell_type": "code",
<<<<<<< HEAD
   "execution_count": 19,
=======
<<<<<<< HEAD
   "execution_count": 19,
=======
   "execution_count": 678,
>>>>>>> a111dda47325c356f7c89042190a97afe170c3fb
>>>>>>> 17c301b8b565049214a01aea658af63c76cab4af
   "metadata": {},
   "outputs": [],
   "source": [
    "sns.set(rc={'figure.figsize':(11,8)}, font_scale=1.5, style='whitegrid')"
   ]
  },
  {
   "cell_type": "code",
<<<<<<< HEAD
   "execution_count": 20,
=======
<<<<<<< HEAD
   "execution_count": 20,
=======
   "execution_count": 679,
>>>>>>> a111dda47325c356f7c89042190a97afe170c3fb
>>>>>>> 17c301b8b565049214a01aea658af63c76cab4af
   "metadata": {},
   "outputs": [
    {
     "data": {
      "text/plain": [
       "[Text(0, 0, 'Apartment'),\n",
       " Text(1, 0, 'House'),\n",
       " Text(2, 0, 'Condominium'),\n",
       " Text(3, 0, 'Bungalow'),\n",
       " Text(4, 0, 'Townhouse'),\n",
       " Text(5, 0, 'Other'),\n",
       " Text(6, 0, 'Cabin'),\n",
       " Text(7, 0, 'Loft'),\n",
       " Text(8, 0, 'Bed & Breakfast'),\n",
       " Text(9, 0, 'Chalet'),\n",
       " Text(10, 0, 'Camper/RV')]"
      ]
     },
<<<<<<< HEAD
     "execution_count": 20,
=======
<<<<<<< HEAD
     "execution_count": 20,
=======
     "execution_count": 679,
>>>>>>> a111dda47325c356f7c89042190a97afe170c3fb
>>>>>>> 17c301b8b565049214a01aea658af63c76cab4af
     "metadata": {},
     "output_type": "execute_result"
    },
    {
     "data": {
      "image/png": "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\n",
      "text/plain": [
       "<Figure size 792x576 with 1 Axes>"
      ]
     },
     "metadata": {},
     "output_type": "display_data"
    }
   ],
   "source": [
    "ax = sns.boxplot(x=\"property_type\", y=\"monthly_price\", data=df_abnb)\n",
    "ax.set_xticklabels(ax.get_xticklabels(), rotation=30)"
   ]
  },
  {
   "cell_type": "code",
<<<<<<< HEAD
   "execution_count": 21,
=======
<<<<<<< HEAD
   "execution_count": 21,
=======
   "execution_count": 680,
>>>>>>> a111dda47325c356f7c89042190a97afe170c3fb
>>>>>>> 17c301b8b565049214a01aea658af63c76cab4af
   "metadata": {},
   "outputs": [
    {
     "data": {
      "text/plain": [
       "zipcode                   object\n",
       "property_type           category\n",
       "room_type                 object\n",
       "bathrooms                float64\n",
       "bedrooms                 float64\n",
       "monthly_price            float64\n",
       "review_scores_rating     float64\n",
       "dtype: object"
      ]
     },
<<<<<<< HEAD
     "execution_count": 21,
=======
<<<<<<< HEAD
     "execution_count": 21,
=======
     "execution_count": 680,
>>>>>>> a111dda47325c356f7c89042190a97afe170c3fb
>>>>>>> 17c301b8b565049214a01aea658af63c76cab4af
     "metadata": {},
     "output_type": "execute_result"
    }
   ],
   "source": [
    "#Below is all of the code for how I transformed the columns into numeric values.\n",
    "df_abnb['property_type'] = df_abnb['property_type'].astype('category')\n",
    "df_abnb.dtypes"
   ]
  },
  {
   "cell_type": "code",
<<<<<<< HEAD
   "execution_count": 22,
=======
<<<<<<< HEAD
   "execution_count": 22,
=======
   "execution_count": 681,
>>>>>>> a111dda47325c356f7c89042190a97afe170c3fb
>>>>>>> 17c301b8b565049214a01aea658af63c76cab4af
   "metadata": {},
   "outputs": [
    {
     "data": {
      "text/html": [
       "<div>\n",
       "<style scoped>\n",
       "    .dataframe tbody tr th:only-of-type {\n",
       "        vertical-align: middle;\n",
       "    }\n",
       "\n",
       "    .dataframe tbody tr th {\n",
       "        vertical-align: top;\n",
       "    }\n",
       "\n",
       "    .dataframe thead th {\n",
       "        text-align: right;\n",
       "    }\n",
       "</style>\n",
       "<table border=\"1\" class=\"dataframe\">\n",
       "  <thead>\n",
       "    <tr style=\"text-align: right;\">\n",
       "      <th></th>\n",
       "      <th>zipcode</th>\n",
       "      <th>property_type</th>\n",
       "      <th>room_type</th>\n",
       "      <th>bathrooms</th>\n",
       "      <th>bedrooms</th>\n",
       "      <th>monthly_price</th>\n",
       "      <th>review_scores_rating</th>\n",
       "      <th>property_type_cat</th>\n",
       "    </tr>\n",
       "  </thead>\n",
       "  <tbody>\n",
       "    <tr>\n",
       "      <th>1</th>\n",
       "      <td>98119</td>\n",
       "      <td>Apartment</td>\n",
       "      <td>Entire home/apt</td>\n",
       "      <td>1.0</td>\n",
       "      <td>1.0</td>\n",
       "      <td>3000.0</td>\n",
       "      <td>96.0</td>\n",
       "      <td>0</td>\n",
       "    </tr>\n",
       "    <tr>\n",
       "      <th>9</th>\n",
       "      <td>98119</td>\n",
       "      <td>Apartment</td>\n",
       "      <td>Entire home/apt</td>\n",
       "      <td>1.0</td>\n",
       "      <td>1.0</td>\n",
       "      <td>3000.0</td>\n",
       "      <td>97.0</td>\n",
       "      <td>0</td>\n",
       "    </tr>\n",
       "    <tr>\n",
       "      <th>11</th>\n",
       "      <td>98119</td>\n",
       "      <td>House</td>\n",
       "      <td>Entire home/apt</td>\n",
       "      <td>1.0</td>\n",
       "      <td>1.0</td>\n",
       "      <td>2000.0</td>\n",
       "      <td>97.0</td>\n",
       "      <td>7</td>\n",
       "    </tr>\n",
       "    <tr>\n",
       "      <th>12</th>\n",
       "      <td>98119</td>\n",
       "      <td>Apartment</td>\n",
       "      <td>Entire home/apt</td>\n",
       "      <td>1.0</td>\n",
       "      <td>2.0</td>\n",
       "      <td>5800.0</td>\n",
       "      <td>98.0</td>\n",
       "      <td>0</td>\n",
       "    </tr>\n",
       "    <tr>\n",
       "      <th>21</th>\n",
       "      <td>98119</td>\n",
       "      <td>House</td>\n",
       "      <td>Private room</td>\n",
       "      <td>1.5</td>\n",
       "      <td>1.0</td>\n",
       "      <td>2029.0</td>\n",
       "      <td>84.0</td>\n",
       "      <td>7</td>\n",
       "    </tr>\n",
       "  </tbody>\n",
       "</table>\n",
       "</div>"
      ],
      "text/plain": [
       "   zipcode property_type        room_type  bathrooms  bedrooms  monthly_price  \\\n",
       "1    98119     Apartment  Entire home/apt        1.0       1.0         3000.0   \n",
       "9    98119     Apartment  Entire home/apt        1.0       1.0         3000.0   \n",
       "11   98119         House  Entire home/apt        1.0       1.0         2000.0   \n",
       "12   98119     Apartment  Entire home/apt        1.0       2.0         5800.0   \n",
       "21   98119         House     Private room        1.5       1.0         2029.0   \n",
       "\n",
       "    review_scores_rating  property_type_cat  \n",
       "1                   96.0                  0  \n",
       "9                   97.0                  0  \n",
       "11                  97.0                  7  \n",
       "12                  98.0                  0  \n",
       "21                  84.0                  7  "
      ]
     },
<<<<<<< HEAD
     "execution_count": 22,
=======
<<<<<<< HEAD
     "execution_count": 22,
=======
     "execution_count": 681,
>>>>>>> a111dda47325c356f7c89042190a97afe170c3fb
>>>>>>> 17c301b8b565049214a01aea658af63c76cab4af
     "metadata": {},
     "output_type": "execute_result"
    }
   ],
   "source": [
    "df_abnb['property_type_cat'] = df_abnb['property_type'].cat.codes\n",
    "df_abnb.head()"
   ]
  },
  {
   "cell_type": "code",
<<<<<<< HEAD
   "execution_count": 23,
=======
<<<<<<< HEAD
   "execution_count": 23,
=======
   "execution_count": 682,
>>>>>>> a111dda47325c356f7c89042190a97afe170c3fb
>>>>>>> 17c301b8b565049214a01aea658af63c76cab4af
   "metadata": {},
   "outputs": [
    {
     "data": {
      "text/plain": [
       "zipcode                   object\n",
       "property_type           category\n",
       "room_type               category\n",
       "bathrooms                float64\n",
       "bedrooms                 float64\n",
       "monthly_price            float64\n",
       "review_scores_rating     float64\n",
       "property_type_cat           int8\n",
       "dtype: object"
      ]
     },
<<<<<<< HEAD
     "execution_count": 23,
=======
<<<<<<< HEAD
     "execution_count": 23,
=======
     "execution_count": 682,
>>>>>>> a111dda47325c356f7c89042190a97afe170c3fb
>>>>>>> 17c301b8b565049214a01aea658af63c76cab4af
     "metadata": {},
     "output_type": "execute_result"
    }
   ],
   "source": [
    "df_abnb['room_type'] = df_abnb['room_type'].astype('category')\n",
    "df_abnb.dtypes"
   ]
  },
  {
   "cell_type": "code",
<<<<<<< HEAD
   "execution_count": 24,
=======
<<<<<<< HEAD
   "execution_count": 24,
=======
   "execution_count": 683,
>>>>>>> a111dda47325c356f7c89042190a97afe170c3fb
>>>>>>> 17c301b8b565049214a01aea658af63c76cab4af
   "metadata": {},
   "outputs": [
    {
     "data": {
      "text/html": [
       "<div>\n",
       "<style scoped>\n",
       "    .dataframe tbody tr th:only-of-type {\n",
       "        vertical-align: middle;\n",
       "    }\n",
       "\n",
       "    .dataframe tbody tr th {\n",
       "        vertical-align: top;\n",
       "    }\n",
       "\n",
       "    .dataframe thead th {\n",
       "        text-align: right;\n",
       "    }\n",
       "</style>\n",
       "<table border=\"1\" class=\"dataframe\">\n",
       "  <thead>\n",
       "    <tr style=\"text-align: right;\">\n",
       "      <th></th>\n",
       "      <th>zipcode</th>\n",
       "      <th>property_type</th>\n",
       "      <th>room_type</th>\n",
       "      <th>bathrooms</th>\n",
       "      <th>bedrooms</th>\n",
       "      <th>monthly_price</th>\n",
       "      <th>review_scores_rating</th>\n",
       "      <th>property_type_cat</th>\n",
       "      <th>room_type_cat</th>\n",
       "    </tr>\n",
       "  </thead>\n",
       "  <tbody>\n",
       "    <tr>\n",
       "      <th>1</th>\n",
       "      <td>98119</td>\n",
       "      <td>Apartment</td>\n",
       "      <td>Entire home/apt</td>\n",
       "      <td>1.0</td>\n",
       "      <td>1.0</td>\n",
       "      <td>3000.0</td>\n",
       "      <td>96.0</td>\n",
       "      <td>0</td>\n",
       "      <td>0</td>\n",
       "    </tr>\n",
       "    <tr>\n",
       "      <th>9</th>\n",
       "      <td>98119</td>\n",
       "      <td>Apartment</td>\n",
       "      <td>Entire home/apt</td>\n",
       "      <td>1.0</td>\n",
       "      <td>1.0</td>\n",
       "      <td>3000.0</td>\n",
       "      <td>97.0</td>\n",
       "      <td>0</td>\n",
       "      <td>0</td>\n",
       "    </tr>\n",
       "    <tr>\n",
       "      <th>11</th>\n",
       "      <td>98119</td>\n",
       "      <td>House</td>\n",
       "      <td>Entire home/apt</td>\n",
       "      <td>1.0</td>\n",
       "      <td>1.0</td>\n",
       "      <td>2000.0</td>\n",
       "      <td>97.0</td>\n",
       "      <td>7</td>\n",
       "      <td>0</td>\n",
       "    </tr>\n",
       "    <tr>\n",
       "      <th>12</th>\n",
       "      <td>98119</td>\n",
       "      <td>Apartment</td>\n",
       "      <td>Entire home/apt</td>\n",
       "      <td>1.0</td>\n",
       "      <td>2.0</td>\n",
       "      <td>5800.0</td>\n",
       "      <td>98.0</td>\n",
       "      <td>0</td>\n",
       "      <td>0</td>\n",
       "    </tr>\n",
       "    <tr>\n",
       "      <th>21</th>\n",
       "      <td>98119</td>\n",
       "      <td>House</td>\n",
       "      <td>Private room</td>\n",
       "      <td>1.5</td>\n",
       "      <td>1.0</td>\n",
       "      <td>2029.0</td>\n",
       "      <td>84.0</td>\n",
       "      <td>7</td>\n",
       "      <td>1</td>\n",
       "    </tr>\n",
       "  </tbody>\n",
       "</table>\n",
       "</div>"
      ],
      "text/plain": [
       "   zipcode property_type        room_type  bathrooms  bedrooms  monthly_price  \\\n",
       "1    98119     Apartment  Entire home/apt        1.0       1.0         3000.0   \n",
       "9    98119     Apartment  Entire home/apt        1.0       1.0         3000.0   \n",
       "11   98119         House  Entire home/apt        1.0       1.0         2000.0   \n",
       "12   98119     Apartment  Entire home/apt        1.0       2.0         5800.0   \n",
       "21   98119         House     Private room        1.5       1.0         2029.0   \n",
       "\n",
       "    review_scores_rating  property_type_cat  room_type_cat  \n",
       "1                   96.0                  0              0  \n",
       "9                   97.0                  0              0  \n",
       "11                  97.0                  7              0  \n",
       "12                  98.0                  0              0  \n",
       "21                  84.0                  7              1  "
      ]
     },
<<<<<<< HEAD
     "execution_count": 24,
=======
<<<<<<< HEAD
     "execution_count": 24,
=======
     "execution_count": 683,
>>>>>>> a111dda47325c356f7c89042190a97afe170c3fb
>>>>>>> 17c301b8b565049214a01aea658af63c76cab4af
     "metadata": {},
     "output_type": "execute_result"
    }
   ],
   "source": [
    "df_abnb['room_type_cat'] = df_abnb['room_type'].cat.codes\n",
    "df_abnb.head()"
   ]
  },
  {
   "cell_type": "code",
<<<<<<< HEAD
   "execution_count": 25,
=======
<<<<<<< HEAD
   "execution_count": 25,
=======
   "execution_count": 684,
>>>>>>> a111dda47325c356f7c89042190a97afe170c3fb
>>>>>>> 17c301b8b565049214a01aea658af63c76cab4af
   "metadata": {},
   "outputs": [],
   "source": [
    "df_abnb = df_abnb[['zipcode', 'bathrooms', 'bedrooms', 'monthly_price', 'review_scores_rating', 'property_type_cat', 'room_type_cat']]"
   ]
  },
  {
   "cell_type": "code",
<<<<<<< HEAD
   "execution_count": 26,
=======
<<<<<<< HEAD
   "execution_count": 26,
=======
   "execution_count": 685,
>>>>>>> a111dda47325c356f7c89042190a97afe170c3fb
>>>>>>> 17c301b8b565049214a01aea658af63c76cab4af
   "metadata": {},
   "outputs": [
    {
     "data": {
      "text/html": [
       "<div>\n",
       "<style scoped>\n",
       "    .dataframe tbody tr th:only-of-type {\n",
       "        vertical-align: middle;\n",
       "    }\n",
       "\n",
       "    .dataframe tbody tr th {\n",
       "        vertical-align: top;\n",
       "    }\n",
       "\n",
       "    .dataframe thead th {\n",
       "        text-align: right;\n",
       "    }\n",
       "</style>\n",
       "<table border=\"1\" class=\"dataframe\">\n",
       "  <thead>\n",
       "    <tr style=\"text-align: right;\">\n",
       "      <th></th>\n",
       "      <th>zipcode</th>\n",
       "      <th>bathrooms</th>\n",
       "      <th>bedrooms</th>\n",
       "      <th>monthly_price</th>\n",
       "      <th>review_scores_rating</th>\n",
       "      <th>property_type_cat</th>\n",
       "      <th>room_type_cat</th>\n",
       "    </tr>\n",
       "  </thead>\n",
       "  <tbody>\n",
       "    <tr>\n",
       "      <th>1</th>\n",
       "      <td>98119</td>\n",
       "      <td>1.0</td>\n",
       "      <td>1.0</td>\n",
       "      <td>3000.0</td>\n",
       "      <td>96.0</td>\n",
       "      <td>0</td>\n",
       "      <td>0</td>\n",
       "    </tr>\n",
       "    <tr>\n",
       "      <th>9</th>\n",
       "      <td>98119</td>\n",
       "      <td>1.0</td>\n",
       "      <td>1.0</td>\n",
       "      <td>3000.0</td>\n",
       "      <td>97.0</td>\n",
       "      <td>0</td>\n",
       "      <td>0</td>\n",
       "    </tr>\n",
       "    <tr>\n",
       "      <th>11</th>\n",
       "      <td>98119</td>\n",
       "      <td>1.0</td>\n",
       "      <td>1.0</td>\n",
       "      <td>2000.0</td>\n",
       "      <td>97.0</td>\n",
       "      <td>7</td>\n",
       "      <td>0</td>\n",
       "    </tr>\n",
       "    <tr>\n",
       "      <th>12</th>\n",
       "      <td>98119</td>\n",
       "      <td>1.0</td>\n",
       "      <td>2.0</td>\n",
       "      <td>5800.0</td>\n",
       "      <td>98.0</td>\n",
       "      <td>0</td>\n",
       "      <td>0</td>\n",
       "    </tr>\n",
       "    <tr>\n",
       "      <th>21</th>\n",
       "      <td>98119</td>\n",
       "      <td>1.5</td>\n",
       "      <td>1.0</td>\n",
       "      <td>2029.0</td>\n",
       "      <td>84.0</td>\n",
       "      <td>7</td>\n",
       "      <td>1</td>\n",
       "    </tr>\n",
       "  </tbody>\n",
       "</table>\n",
       "</div>"
      ],
      "text/plain": [
       "   zipcode  bathrooms  bedrooms  monthly_price  review_scores_rating  \\\n",
       "1    98119        1.0       1.0         3000.0                  96.0   \n",
       "9    98119        1.0       1.0         3000.0                  97.0   \n",
       "11   98119        1.0       1.0         2000.0                  97.0   \n",
       "12   98119        1.0       2.0         5800.0                  98.0   \n",
       "21   98119        1.5       1.0         2029.0                  84.0   \n",
       "\n",
       "    property_type_cat  room_type_cat  \n",
       "1                   0              0  \n",
       "9                   0              0  \n",
       "11                  7              0  \n",
       "12                  0              0  \n",
       "21                  7              1  "
      ]
     },
<<<<<<< HEAD
     "execution_count": 26,
=======
<<<<<<< HEAD
     "execution_count": 26,
=======
     "execution_count": 685,
>>>>>>> a111dda47325c356f7c89042190a97afe170c3fb
>>>>>>> 17c301b8b565049214a01aea658af63c76cab4af
     "metadata": {},
     "output_type": "execute_result"
    }
   ],
   "source": [
    "df_abnb.head()"
   ]
  },
  {
   "cell_type": "markdown",
   "metadata": {},
   "source": [
    "### Getting rid of outliers\n",
    "When I initially tried to get rid of outliers using a z score it was much too agressive of a technique.  I ended up using an interquartile range technique which had its drawbacks as well.  I could only do one column so I chose monthly price because I felt like it had the most extreme outliers."
   ]
  },
  {
   "cell_type": "code",
<<<<<<< HEAD
   "execution_count": 27,
=======
<<<<<<< HEAD
   "execution_count": 27,
=======
   "execution_count": 686,
>>>>>>> a111dda47325c356f7c89042190a97afe170c3fb
>>>>>>> 17c301b8b565049214a01aea658af63c76cab4af
   "metadata": {},
   "outputs": [
    {
     "data": {
      "text/html": [
       "<div>\n",
       "<style scoped>\n",
       "    .dataframe tbody tr th:only-of-type {\n",
       "        vertical-align: middle;\n",
       "    }\n",
       "\n",
       "    .dataframe tbody tr th {\n",
       "        vertical-align: top;\n",
       "    }\n",
       "\n",
       "    .dataframe thead th {\n",
       "        text-align: right;\n",
       "    }\n",
       "</style>\n",
       "<table border=\"1\" class=\"dataframe\">\n",
       "  <thead>\n",
       "    <tr style=\"text-align: right;\">\n",
       "      <th></th>\n",
       "      <th>bathrooms</th>\n",
       "      <th>bedrooms</th>\n",
       "      <th>monthly_price</th>\n",
       "      <th>review_scores_rating</th>\n",
       "      <th>property_type_cat</th>\n",
       "      <th>room_type_cat</th>\n",
       "    </tr>\n",
       "  </thead>\n",
       "  <tbody>\n",
       "    <tr>\n",
       "      <th>count</th>\n",
       "      <td>1032.000000</td>\n",
       "      <td>1032.000000</td>\n",
       "      <td>1032.000000</td>\n",
       "      <td>1032.00000</td>\n",
       "      <td>1032.000000</td>\n",
       "      <td>1032.000000</td>\n",
       "    </tr>\n",
       "    <tr>\n",
       "      <th>mean</th>\n",
       "      <td>1.228198</td>\n",
       "      <td>1.298450</td>\n",
       "      <td>2708.527132</td>\n",
       "      <td>94.05814</td>\n",
       "      <td>3.795543</td>\n",
       "      <td>0.311047</td>\n",
       "    </tr>\n",
       "    <tr>\n",
       "      <th>std</th>\n",
       "      <td>0.549675</td>\n",
       "      <td>0.844953</td>\n",
       "      <td>1791.401138</td>\n",
       "      <td>7.32656</td>\n",
       "      <td>3.564272</td>\n",
       "      <td>0.524061</td>\n",
       "    </tr>\n",
       "    <tr>\n",
       "      <th>min</th>\n",
       "      <td>0.500000</td>\n",
       "      <td>0.000000</td>\n",
       "      <td>520.000000</td>\n",
       "      <td>20.00000</td>\n",
       "      <td>0.000000</td>\n",
       "      <td>0.000000</td>\n",
       "    </tr>\n",
       "    <tr>\n",
       "      <th>25%</th>\n",
       "      <td>1.000000</td>\n",
       "      <td>1.000000</td>\n",
       "      <td>1650.000000</td>\n",
       "      <td>92.00000</td>\n",
       "      <td>0.000000</td>\n",
       "      <td>0.000000</td>\n",
       "    </tr>\n",
       "    <tr>\n",
       "      <th>50%</th>\n",
       "      <td>1.000000</td>\n",
       "      <td>1.000000</td>\n",
       "      <td>2312.500000</td>\n",
       "      <td>96.00000</td>\n",
       "      <td>7.000000</td>\n",
       "      <td>0.000000</td>\n",
       "    </tr>\n",
       "    <tr>\n",
       "      <th>75%</th>\n",
       "      <td>1.000000</td>\n",
       "      <td>2.000000</td>\n",
       "      <td>3200.000000</td>\n",
       "      <td>99.00000</td>\n",
       "      <td>7.000000</td>\n",
       "      <td>1.000000</td>\n",
       "    </tr>\n",
       "    <tr>\n",
       "      <th>max</th>\n",
       "      <td>4.500000</td>\n",
       "      <td>6.000000</td>\n",
       "      <td>19500.000000</td>\n",
       "      <td>100.00000</td>\n",
       "      <td>10.000000</td>\n",
       "      <td>2.000000</td>\n",
       "    </tr>\n",
       "  </tbody>\n",
       "</table>\n",
       "</div>"
      ],
      "text/plain": [
       "         bathrooms     bedrooms  monthly_price  review_scores_rating  \\\n",
       "count  1032.000000  1032.000000    1032.000000            1032.00000   \n",
       "mean      1.228198     1.298450    2708.527132              94.05814   \n",
       "std       0.549675     0.844953    1791.401138               7.32656   \n",
       "min       0.500000     0.000000     520.000000              20.00000   \n",
       "25%       1.000000     1.000000    1650.000000              92.00000   \n",
       "50%       1.000000     1.000000    2312.500000              96.00000   \n",
       "75%       1.000000     2.000000    3200.000000              99.00000   \n",
       "max       4.500000     6.000000   19500.000000             100.00000   \n",
       "\n",
       "       property_type_cat  room_type_cat  \n",
       "count        1032.000000    1032.000000  \n",
       "mean            3.795543       0.311047  \n",
       "std             3.564272       0.524061  \n",
       "min             0.000000       0.000000  \n",
       "25%             0.000000       0.000000  \n",
       "50%             7.000000       0.000000  \n",
       "75%             7.000000       1.000000  \n",
       "max            10.000000       2.000000  "
      ]
     },
<<<<<<< HEAD
     "execution_count": 27,
=======
<<<<<<< HEAD
     "execution_count": 27,
=======
     "execution_count": 686,
>>>>>>> a111dda47325c356f7c89042190a97afe170c3fb
>>>>>>> 17c301b8b565049214a01aea658af63c76cab4af
     "metadata": {},
     "output_type": "execute_result"
    }
   ],
   "source": [
    "df_abnb.describe()"
   ]
  },
  {
   "cell_type": "code",
<<<<<<< HEAD
   "execution_count": 28,
=======
<<<<<<< HEAD
   "execution_count": 28,
=======
   "execution_count": 687,
>>>>>>> a111dda47325c356f7c89042190a97afe170c3fb
>>>>>>> 17c301b8b565049214a01aea658af63c76cab4af
   "metadata": {},
   "outputs": [
    {
     "data": {
      "text/plain": [
       "(1650.0, 3200.0)"
      ]
     },
<<<<<<< HEAD
     "execution_count": 28,
=======
<<<<<<< HEAD
     "execution_count": 28,
=======
     "execution_count": 687,
>>>>>>> a111dda47325c356f7c89042190a97afe170c3fb
>>>>>>> 17c301b8b565049214a01aea658af63c76cab4af
     "metadata": {},
     "output_type": "execute_result"
    }
   ],
   "source": [
    "min_threshold, max_threshold = df_abnb.monthly_price.quantile([0.25, 0.75])\n",
    "min_threshold, max_threshold"
   ]
  },
  {
   "cell_type": "code",
<<<<<<< HEAD
   "execution_count": 29,
=======
<<<<<<< HEAD
   "execution_count": 29,
=======
   "execution_count": 688,
>>>>>>> a111dda47325c356f7c89042190a97afe170c3fb
>>>>>>> 17c301b8b565049214a01aea658af63c76cab4af
   "metadata": {},
   "outputs": [],
   "source": [
    "df_1 = df_abnb[(df_abnb.monthly_price < max_threshold) & (df_abnb.monthly_price > min_threshold)]"
   ]
  },
  {
   "cell_type": "code",
<<<<<<< HEAD
   "execution_count": 30,
=======
<<<<<<< HEAD
   "execution_count": 30,
=======
   "execution_count": 689,
>>>>>>> a111dda47325c356f7c89042190a97afe170c3fb
>>>>>>> 17c301b8b565049214a01aea658af63c76cab4af
   "metadata": {},
   "outputs": [
    {
     "data": {
      "text/plain": [
       "(492, 7)"
      ]
     },
<<<<<<< HEAD
     "execution_count": 30,
=======
<<<<<<< HEAD
     "execution_count": 30,
=======
     "execution_count": 689,
>>>>>>> a111dda47325c356f7c89042190a97afe170c3fb
>>>>>>> 17c301b8b565049214a01aea658af63c76cab4af
     "metadata": {},
     "output_type": "execute_result"
    }
   ],
   "source": [
    "df_1.shape"
   ]
  },
  {
   "cell_type": "code",
<<<<<<< HEAD
   "execution_count": 31,
=======
<<<<<<< HEAD
   "execution_count": 31,
=======
   "execution_count": 690,
>>>>>>> a111dda47325c356f7c89042190a97afe170c3fb
>>>>>>> 17c301b8b565049214a01aea658af63c76cab4af
   "metadata": {},
   "outputs": [],
   "source": [
    "#The only other thing that looked like it might it cause problems was the review scores rating \n",
    "#column so I got rid of anyhing below the .25 quartile range."
   ]
  },
  {
   "cell_type": "code",
<<<<<<< HEAD
   "execution_count": 32,
=======
<<<<<<< HEAD
   "execution_count": 32,
=======
   "execution_count": 691,
>>>>>>> a111dda47325c356f7c89042190a97afe170c3fb
>>>>>>> 17c301b8b565049214a01aea658af63c76cab4af
   "metadata": {},
   "outputs": [],
   "source": [
    "df_1 = df_1[df_1['review_scores_rating'] > 92]"
   ]
  },
  {
   "cell_type": "code",
<<<<<<< HEAD
   "execution_count": 33,
=======
<<<<<<< HEAD
   "execution_count": 33,
=======
   "execution_count": 692,
>>>>>>> a111dda47325c356f7c89042190a97afe170c3fb
>>>>>>> 17c301b8b565049214a01aea658af63c76cab4af
   "metadata": {},
   "outputs": [
    {
     "data": {
      "text/plain": [
       "(366, 7)"
      ]
     },
<<<<<<< HEAD
     "execution_count": 33,
=======
<<<<<<< HEAD
     "execution_count": 33,
=======
     "execution_count": 692,
>>>>>>> a111dda47325c356f7c89042190a97afe170c3fb
>>>>>>> 17c301b8b565049214a01aea658af63c76cab4af
     "metadata": {},
     "output_type": "execute_result"
    }
   ],
   "source": [
    "df_1.shape"
   ]
  },
  {
   "cell_type": "code",
<<<<<<< HEAD
   "execution_count": 34,
=======
<<<<<<< HEAD
   "execution_count": 34,
=======
   "execution_count": 693,
>>>>>>> a111dda47325c356f7c89042190a97afe170c3fb
>>>>>>> 17c301b8b565049214a01aea658af63c76cab4af
   "metadata": {},
   "outputs": [
    {
     "data": {
      "text/plain": [
       "array([[<AxesSubplot:title={'center':'bathrooms'}>,\n",
       "        <AxesSubplot:title={'center':'bedrooms'}>],\n",
       "       [<AxesSubplot:title={'center':'monthly_price'}>,\n",
       "        <AxesSubplot:title={'center':'review_scores_rating'}>],\n",
       "       [<AxesSubplot:title={'center':'property_type_cat'}>,\n",
       "        <AxesSubplot:title={'center':'room_type_cat'}>]], dtype=object)"
      ]
     },
<<<<<<< HEAD
     "execution_count": 34,
=======
<<<<<<< HEAD
     "execution_count": 34,
=======
     "execution_count": 693,
>>>>>>> a111dda47325c356f7c89042190a97afe170c3fb
>>>>>>> 17c301b8b565049214a01aea658af63c76cab4af
     "metadata": {},
     "output_type": "execute_result"
    },
    {
     "data": {
      "image/png": "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\n",
      "text/plain": [
       "<Figure size 864x720 with 6 Axes>"
      ]
     },
     "metadata": {},
     "output_type": "display_data"
    }
   ],
   "source": [
    "#looking at the distribution of each column.\n",
    "\n",
    "df_1.hist(figsize = (12,10))"
   ]
  },
  {
   "cell_type": "code",
<<<<<<< HEAD
   "execution_count": 35,
=======
<<<<<<< HEAD
   "execution_count": 35,
=======
   "execution_count": 694,
>>>>>>> a111dda47325c356f7c89042190a97afe170c3fb
>>>>>>> 17c301b8b565049214a01aea658af63c76cab4af
   "metadata": {},
   "outputs": [
    {
     "data": {
      "text/plain": [
       "zipcode                   int64\n",
       "bathrooms               float64\n",
       "bedrooms                float64\n",
       "monthly_price           float64\n",
       "review_scores_rating    float64\n",
       "property_type_cat          int8\n",
       "room_type_cat              int8\n",
       "dtype: object"
      ]
     },
<<<<<<< HEAD
     "execution_count": 35,
=======
<<<<<<< HEAD
     "execution_count": 35,
=======
     "execution_count": 694,
>>>>>>> a111dda47325c356f7c89042190a97afe170c3fb
>>>>>>> 17c301b8b565049214a01aea658af63c76cab4af
     "metadata": {},
     "output_type": "execute_result"
    }
   ],
   "source": [
    "df_abnb['zipcode'] = df_abnb['zipcode'].astype('int')\n",
    "df_abnb.dtypes"
   ]
  },
  {
   "cell_type": "code",
<<<<<<< HEAD
   "execution_count": 36,
=======
<<<<<<< HEAD
   "execution_count": 36,
=======
   "execution_count": 695,
>>>>>>> a111dda47325c356f7c89042190a97afe170c3fb
>>>>>>> 17c301b8b565049214a01aea658af63c76cab4af
   "metadata": {},
   "outputs": [
    {
     "data": {
      "text/html": [
       "<div>\n",
       "<style scoped>\n",
       "    .dataframe tbody tr th:only-of-type {\n",
       "        vertical-align: middle;\n",
       "    }\n",
       "\n",
       "    .dataframe tbody tr th {\n",
       "        vertical-align: top;\n",
       "    }\n",
       "\n",
       "    .dataframe thead th {\n",
       "        text-align: right;\n",
       "    }\n",
       "</style>\n",
       "<table border=\"1\" class=\"dataframe\">\n",
       "  <thead>\n",
       "    <tr style=\"text-align: right;\">\n",
       "      <th></th>\n",
       "      <th>zipcode</th>\n",
       "      <th>bathrooms</th>\n",
       "      <th>bedrooms</th>\n",
       "      <th>monthly_price</th>\n",
       "      <th>review_scores_rating</th>\n",
       "      <th>property_type_cat</th>\n",
       "      <th>room_type_cat</th>\n",
       "    </tr>\n",
       "  </thead>\n",
       "  <tbody>\n",
       "    <tr>\n",
       "      <th>zipcode</th>\n",
       "      <td>1.000000</td>\n",
       "      <td>0.091660</td>\n",
       "      <td>0.079374</td>\n",
       "      <td>-0.041459</td>\n",
       "      <td>0.050569</td>\n",
       "      <td>0.126911</td>\n",
       "      <td>0.020218</td>\n",
       "    </tr>\n",
       "    <tr>\n",
       "      <th>bathrooms</th>\n",
       "      <td>0.091660</td>\n",
       "      <td>1.000000</td>\n",
       "      <td>0.618600</td>\n",
       "      <td>0.520524</td>\n",
       "      <td>0.035599</td>\n",
       "      <td>0.245875</td>\n",
       "      <td>-0.127112</td>\n",
       "    </tr>\n",
       "    <tr>\n",
       "      <th>bedrooms</th>\n",
       "      <td>0.079374</td>\n",
       "      <td>0.618600</td>\n",
       "      <td>1.000000</td>\n",
       "      <td>0.584791</td>\n",
       "      <td>0.026180</td>\n",
       "      <td>0.256996</td>\n",
       "      <td>-0.209847</td>\n",
       "    </tr>\n",
       "    <tr>\n",
       "      <th>monthly_price</th>\n",
       "      <td>-0.041459</td>\n",
       "      <td>0.520524</td>\n",
       "      <td>0.584791</td>\n",
       "      <td>1.000000</td>\n",
       "      <td>0.074633</td>\n",
       "      <td>-0.032328</td>\n",
       "      <td>-0.431006</td>\n",
       "    </tr>\n",
       "    <tr>\n",
       "      <th>review_scores_rating</th>\n",
       "      <td>0.050569</td>\n",
       "      <td>0.035599</td>\n",
       "      <td>0.026180</td>\n",
       "      <td>0.074633</td>\n",
       "      <td>1.000000</td>\n",
       "      <td>0.073849</td>\n",
       "      <td>-0.023408</td>\n",
       "    </tr>\n",
       "    <tr>\n",
       "      <th>property_type_cat</th>\n",
       "      <td>0.126911</td>\n",
       "      <td>0.245875</td>\n",
       "      <td>0.256996</td>\n",
       "      <td>-0.032328</td>\n",
       "      <td>0.073849</td>\n",
       "      <td>1.000000</td>\n",
       "      <td>0.354985</td>\n",
       "    </tr>\n",
       "    <tr>\n",
       "      <th>room_type_cat</th>\n",
       "      <td>0.020218</td>\n",
       "      <td>-0.127112</td>\n",
       "      <td>-0.209847</td>\n",
       "      <td>-0.431006</td>\n",
       "      <td>-0.023408</td>\n",
       "      <td>0.354985</td>\n",
       "      <td>1.000000</td>\n",
       "    </tr>\n",
       "  </tbody>\n",
       "</table>\n",
       "</div>"
      ],
      "text/plain": [
       "                       zipcode  bathrooms  bedrooms  monthly_price  \\\n",
       "zipcode               1.000000   0.091660  0.079374      -0.041459   \n",
       "bathrooms             0.091660   1.000000  0.618600       0.520524   \n",
       "bedrooms              0.079374   0.618600  1.000000       0.584791   \n",
       "monthly_price        -0.041459   0.520524  0.584791       1.000000   \n",
       "review_scores_rating  0.050569   0.035599  0.026180       0.074633   \n",
       "property_type_cat     0.126911   0.245875  0.256996      -0.032328   \n",
       "room_type_cat         0.020218  -0.127112 -0.209847      -0.431006   \n",
       "\n",
       "                      review_scores_rating  property_type_cat  room_type_cat  \n",
       "zipcode                           0.050569           0.126911       0.020218  \n",
       "bathrooms                         0.035599           0.245875      -0.127112  \n",
       "bedrooms                          0.026180           0.256996      -0.209847  \n",
       "monthly_price                     0.074633          -0.032328      -0.431006  \n",
       "review_scores_rating              1.000000           0.073849      -0.023408  \n",
       "property_type_cat                 0.073849           1.000000       0.354985  \n",
       "room_type_cat                    -0.023408           0.354985       1.000000  "
      ]
     },
<<<<<<< HEAD
     "execution_count": 36,
=======
<<<<<<< HEAD
     "execution_count": 36,
=======
     "execution_count": 695,
>>>>>>> a111dda47325c356f7c89042190a97afe170c3fb
>>>>>>> 17c301b8b565049214a01aea658af63c76cab4af
     "metadata": {},
     "output_type": "execute_result"
    }
   ],
   "source": [
    "#looking at the correlation between all of the columns.\n",
    "\n",
    "df_abnb.corr()"
   ]
  },
  {
   "cell_type": "code",
<<<<<<< HEAD
   "execution_count": 37,
=======
<<<<<<< HEAD
   "execution_count": 37,
=======
   "execution_count": 696,
>>>>>>> a111dda47325c356f7c89042190a97afe170c3fb
>>>>>>> 17c301b8b565049214a01aea658af63c76cab4af
   "metadata": {},
   "outputs": [
    {
     "data": {
      "text/plain": [
       "<AxesSubplot:>"
      ]
     },
<<<<<<< HEAD
     "execution_count": 37,
=======
<<<<<<< HEAD
     "execution_count": 37,
=======
     "execution_count": 696,
>>>>>>> a111dda47325c356f7c89042190a97afe170c3fb
>>>>>>> 17c301b8b565049214a01aea658af63c76cab4af
     "metadata": {},
     "output_type": "execute_result"
    },
    {
     "data": {
      "image/png": "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\n",
      "text/plain": [
       "<Figure size 576x504 with 2 Axes>"
      ]
     },
     "metadata": {},
     "output_type": "display_data"
    }
   ],
   "source": [
    "#Looking at the correlation between different columns to check for multicollinearity.\n",
    "\n",
    "plt.figure(figsize = (8,7))\n",
    "sns.heatmap(df_abnb.corr(), cmap = 'RdBu')"
   ]
  },
  {
   "cell_type": "markdown",
   "metadata": {},
   "source": [
    "## KC Housing Data\n",
    "First downloading the data.  We are looking at housng data from homes which come from the King County area in Seattle.  The scenario is for an investor looking to invest in homes in this area that will turn a profit.  The data comes from open source data from the king county website as well as information on airbnbs in this area from the Airbnb website.  Unfortunately when I tried to merge the two sets of data it caused the linear model for the KC housing data to become unfavorable with low R2 values and high p values.  However after analyzing the data from Airbnb we know that the homes with high review ratings and a monthly rate within the desired interquartile range will have between 0 and 6 bedrooms, .5 and 4 baths, and will be in the same zipcodes as out KC housng data. "
   ]
  },
  {
   "cell_type": "code",
<<<<<<< HEAD
   "execution_count": 38,
=======
<<<<<<< HEAD
   "execution_count": 38,
=======
   "execution_count": 697,
>>>>>>> a111dda47325c356f7c89042190a97afe170c3fb
>>>>>>> 17c301b8b565049214a01aea658af63c76cab4af
   "metadata": {},
   "outputs": [],
   "source": [
    "df = pd.read_csv('data/kc_house_data.csv')"
   ]
  },
  {
   "cell_type": "code",
<<<<<<< HEAD
   "execution_count": 39,
=======
<<<<<<< HEAD
   "execution_count": 39,
=======
   "execution_count": 698,
>>>>>>> a111dda47325c356f7c89042190a97afe170c3fb
>>>>>>> 17c301b8b565049214a01aea658af63c76cab4af
   "metadata": {},
   "outputs": [
    {
     "data": {
      "text/html": [
       "<div>\n",
       "<style scoped>\n",
       "    .dataframe tbody tr th:only-of-type {\n",
       "        vertical-align: middle;\n",
       "    }\n",
       "\n",
       "    .dataframe tbody tr th {\n",
       "        vertical-align: top;\n",
       "    }\n",
       "\n",
       "    .dataframe thead th {\n",
       "        text-align: right;\n",
       "    }\n",
       "</style>\n",
       "<table border=\"1\" class=\"dataframe\">\n",
       "  <thead>\n",
       "    <tr style=\"text-align: right;\">\n",
       "      <th></th>\n",
       "      <th>id</th>\n",
       "      <th>date</th>\n",
       "      <th>price</th>\n",
       "      <th>bedrooms</th>\n",
       "      <th>bathrooms</th>\n",
       "      <th>sqft_living</th>\n",
       "      <th>sqft_lot</th>\n",
       "      <th>floors</th>\n",
       "      <th>waterfront</th>\n",
       "      <th>view</th>\n",
       "      <th>...</th>\n",
       "      <th>grade</th>\n",
       "      <th>sqft_above</th>\n",
       "      <th>sqft_basement</th>\n",
       "      <th>yr_built</th>\n",
       "      <th>yr_renovated</th>\n",
       "      <th>zipcode</th>\n",
       "      <th>lat</th>\n",
       "      <th>long</th>\n",
       "      <th>sqft_living15</th>\n",
       "      <th>sqft_lot15</th>\n",
       "    </tr>\n",
       "  </thead>\n",
       "  <tbody>\n",
       "    <tr>\n",
       "      <th>0</th>\n",
       "      <td>7129300520</td>\n",
       "      <td>10/13/2014</td>\n",
       "      <td>221900.0</td>\n",
       "      <td>3</td>\n",
       "      <td>1.00</td>\n",
       "      <td>1180</td>\n",
       "      <td>5650</td>\n",
       "      <td>1.0</td>\n",
       "      <td>NaN</td>\n",
       "      <td>0.0</td>\n",
       "      <td>...</td>\n",
       "      <td>7</td>\n",
       "      <td>1180</td>\n",
       "      <td>0.0</td>\n",
       "      <td>1955</td>\n",
       "      <td>0.0</td>\n",
       "      <td>98178</td>\n",
       "      <td>47.5112</td>\n",
       "      <td>-122.257</td>\n",
       "      <td>1340</td>\n",
       "      <td>5650</td>\n",
       "    </tr>\n",
       "    <tr>\n",
       "      <th>1</th>\n",
       "      <td>6414100192</td>\n",
       "      <td>12/9/2014</td>\n",
       "      <td>538000.0</td>\n",
       "      <td>3</td>\n",
       "      <td>2.25</td>\n",
       "      <td>2570</td>\n",
       "      <td>7242</td>\n",
       "      <td>2.0</td>\n",
       "      <td>0.0</td>\n",
       "      <td>0.0</td>\n",
       "      <td>...</td>\n",
       "      <td>7</td>\n",
       "      <td>2170</td>\n",
       "      <td>400.0</td>\n",
       "      <td>1951</td>\n",
       "      <td>1991.0</td>\n",
       "      <td>98125</td>\n",
       "      <td>47.7210</td>\n",
       "      <td>-122.319</td>\n",
       "      <td>1690</td>\n",
       "      <td>7639</td>\n",
       "    </tr>\n",
       "    <tr>\n",
       "      <th>2</th>\n",
       "      <td>5631500400</td>\n",
       "      <td>2/25/2015</td>\n",
       "      <td>180000.0</td>\n",
       "      <td>2</td>\n",
       "      <td>1.00</td>\n",
       "      <td>770</td>\n",
       "      <td>10000</td>\n",
       "      <td>1.0</td>\n",
       "      <td>0.0</td>\n",
       "      <td>0.0</td>\n",
       "      <td>...</td>\n",
       "      <td>6</td>\n",
       "      <td>770</td>\n",
       "      <td>0.0</td>\n",
       "      <td>1933</td>\n",
       "      <td>NaN</td>\n",
       "      <td>98028</td>\n",
       "      <td>47.7379</td>\n",
       "      <td>-122.233</td>\n",
       "      <td>2720</td>\n",
       "      <td>8062</td>\n",
       "    </tr>\n",
       "    <tr>\n",
       "      <th>3</th>\n",
       "      <td>2487200875</td>\n",
       "      <td>12/9/2014</td>\n",
       "      <td>604000.0</td>\n",
       "      <td>4</td>\n",
       "      <td>3.00</td>\n",
       "      <td>1960</td>\n",
       "      <td>5000</td>\n",
       "      <td>1.0</td>\n",
       "      <td>0.0</td>\n",
       "      <td>0.0</td>\n",
       "      <td>...</td>\n",
       "      <td>7</td>\n",
       "      <td>1050</td>\n",
       "      <td>910.0</td>\n",
       "      <td>1965</td>\n",
       "      <td>0.0</td>\n",
       "      <td>98136</td>\n",
       "      <td>47.5208</td>\n",
       "      <td>-122.393</td>\n",
       "      <td>1360</td>\n",
       "      <td>5000</td>\n",
       "    </tr>\n",
       "    <tr>\n",
       "      <th>4</th>\n",
       "      <td>1954400510</td>\n",
       "      <td>2/18/2015</td>\n",
       "      <td>510000.0</td>\n",
       "      <td>3</td>\n",
       "      <td>2.00</td>\n",
       "      <td>1680</td>\n",
       "      <td>8080</td>\n",
       "      <td>1.0</td>\n",
       "      <td>0.0</td>\n",
       "      <td>0.0</td>\n",
       "      <td>...</td>\n",
       "      <td>8</td>\n",
       "      <td>1680</td>\n",
       "      <td>0.0</td>\n",
       "      <td>1987</td>\n",
       "      <td>0.0</td>\n",
       "      <td>98074</td>\n",
       "      <td>47.6168</td>\n",
       "      <td>-122.045</td>\n",
       "      <td>1800</td>\n",
       "      <td>7503</td>\n",
       "    </tr>\n",
       "  </tbody>\n",
       "</table>\n",
       "<p>5 rows × 21 columns</p>\n",
       "</div>"
      ],
      "text/plain": [
       "           id        date     price  bedrooms  bathrooms  sqft_living  \\\n",
       "0  7129300520  10/13/2014  221900.0         3       1.00         1180   \n",
       "1  6414100192   12/9/2014  538000.0         3       2.25         2570   \n",
       "2  5631500400   2/25/2015  180000.0         2       1.00          770   \n",
       "3  2487200875   12/9/2014  604000.0         4       3.00         1960   \n",
       "4  1954400510   2/18/2015  510000.0         3       2.00         1680   \n",
       "\n",
       "   sqft_lot  floors  waterfront  view  ...  grade  sqft_above  sqft_basement  \\\n",
       "0      5650     1.0         NaN   0.0  ...      7        1180            0.0   \n",
       "1      7242     2.0         0.0   0.0  ...      7        2170          400.0   \n",
       "2     10000     1.0         0.0   0.0  ...      6         770            0.0   \n",
       "3      5000     1.0         0.0   0.0  ...      7        1050          910.0   \n",
       "4      8080     1.0         0.0   0.0  ...      8        1680            0.0   \n",
       "\n",
       "  yr_built  yr_renovated  zipcode      lat     long  sqft_living15  sqft_lot15  \n",
       "0     1955           0.0    98178  47.5112 -122.257           1340        5650  \n",
       "1     1951        1991.0    98125  47.7210 -122.319           1690        7639  \n",
       "2     1933           NaN    98028  47.7379 -122.233           2720        8062  \n",
       "3     1965           0.0    98136  47.5208 -122.393           1360        5000  \n",
       "4     1987           0.0    98074  47.6168 -122.045           1800        7503  \n",
       "\n",
       "[5 rows x 21 columns]"
      ]
     },
<<<<<<< HEAD
     "execution_count": 39,
=======
<<<<<<< HEAD
     "execution_count": 39,
=======
     "execution_count": 698,
>>>>>>> a111dda47325c356f7c89042190a97afe170c3fb
>>>>>>> 17c301b8b565049214a01aea658af63c76cab4af
     "metadata": {},
     "output_type": "execute_result"
    }
   ],
   "source": [
    "df.head()"
   ]
  },
  {
   "cell_type": "markdown",
   "metadata": {},
   "source": [
    "### Column Names and descriptions for Kings County Data Set\n",
    "* **id** - unique identified for a house\n",
    "* **dateDate** - house was sold\n",
    "* **pricePrice** -  is prediction target\n",
    "* **bedroomsNumber** -  of Bedrooms/House\n",
    "* **bathroomsNumber** -  of bathrooms/bedrooms\n",
    "* **sqft_livingsquare** -  footage of the home\n",
    "* **sqft_lotsquare** -  footage of the lot\n",
    "* **floorsTotal** -  floors (levels) in house\n",
    "* **waterfront** - House which has a view to a waterfront\n",
    "* **view** - Has been viewed\n",
    "* **condition** - How good the condition is ( Overall )\n",
    "* **grade** - overall grade given to the housing unit, based on King County grading system\n",
    "* **sqft_above** - square footage of house apart from basement\n",
    "* **sqft_basement** - square footage of the basement\n",
    "* **yr_built** - Built Year\n",
    "* **yr_renovated** - Year when house was renovated\n",
    "* **zipcode** - zip\n",
    "* **lat** - Latitude coordinate\n",
    "* **long** - Longitude coordinate\n",
    "* **sqft_living15** - The square footage of interior housing living space for the nearest 15 neighbors\n",
    "* **sqft_lot15** - The square footage of the land lots of the nearest 15 neighbors\n"
   ]
  },
  {
   "cell_type": "code",
<<<<<<< HEAD
   "execution_count": 40,
=======
<<<<<<< HEAD
   "execution_count": 40,
=======
   "execution_count": 699,
>>>>>>> a111dda47325c356f7c89042190a97afe170c3fb
>>>>>>> 17c301b8b565049214a01aea658af63c76cab4af
   "metadata": {},
   "outputs": [
    {
     "name": "stdout",
     "output_type": "stream",
     "text": [
      "<class 'pandas.core.frame.DataFrame'>\n",
      "RangeIndex: 21597 entries, 0 to 21596\n",
      "Data columns (total 21 columns):\n",
      " #   Column         Non-Null Count  Dtype  \n",
      "---  ------         --------------  -----  \n",
      " 0   id             21597 non-null  int64  \n",
      " 1   date           21597 non-null  object \n",
      " 2   price          21597 non-null  float64\n",
      " 3   bedrooms       21597 non-null  int64  \n",
      " 4   bathrooms      21597 non-null  float64\n",
      " 5   sqft_living    21597 non-null  int64  \n",
      " 6   sqft_lot       21597 non-null  int64  \n",
      " 7   floors         21597 non-null  float64\n",
      " 8   waterfront     19221 non-null  float64\n",
      " 9   view           21534 non-null  float64\n",
      " 10  condition      21597 non-null  int64  \n",
      " 11  grade          21597 non-null  int64  \n",
      " 12  sqft_above     21597 non-null  int64  \n",
      " 13  sqft_basement  21597 non-null  object \n",
      " 14  yr_built       21597 non-null  int64  \n",
      " 15  yr_renovated   17755 non-null  float64\n",
      " 16  zipcode        21597 non-null  int64  \n",
      " 17  lat            21597 non-null  float64\n",
      " 18  long           21597 non-null  float64\n",
      " 19  sqft_living15  21597 non-null  int64  \n",
      " 20  sqft_lot15     21597 non-null  int64  \n",
      "dtypes: float64(8), int64(11), object(2)\n",
      "memory usage: 3.5+ MB\n"
     ]
    }
   ],
   "source": [
    "#taking a look into data types.\n",
    "\n",
    "df.info()"
   ]
  },
  {
   "cell_type": "code",
<<<<<<< HEAD
   "execution_count": 41,
=======
<<<<<<< HEAD
   "execution_count": 41,
=======
   "execution_count": 700,
>>>>>>> a111dda47325c356f7c89042190a97afe170c3fb
>>>>>>> 17c301b8b565049214a01aea658af63c76cab4af
   "metadata": {},
   "outputs": [
    {
     "data": {
      "text/html": [
       "<div>\n",
       "<style scoped>\n",
       "    .dataframe tbody tr th:only-of-type {\n",
       "        vertical-align: middle;\n",
       "    }\n",
       "\n",
       "    .dataframe tbody tr th {\n",
       "        vertical-align: top;\n",
       "    }\n",
       "\n",
       "    .dataframe thead th {\n",
       "        text-align: right;\n",
       "    }\n",
       "</style>\n",
       "<table border=\"1\" class=\"dataframe\">\n",
       "  <thead>\n",
       "    <tr style=\"text-align: right;\">\n",
       "      <th></th>\n",
       "      <th>id</th>\n",
       "      <th>price</th>\n",
       "      <th>bedrooms</th>\n",
       "      <th>bathrooms</th>\n",
       "      <th>sqft_living</th>\n",
       "      <th>sqft_lot</th>\n",
       "      <th>floors</th>\n",
       "      <th>waterfront</th>\n",
       "      <th>view</th>\n",
       "      <th>condition</th>\n",
       "      <th>grade</th>\n",
       "      <th>sqft_above</th>\n",
       "      <th>yr_built</th>\n",
       "      <th>yr_renovated</th>\n",
       "      <th>zipcode</th>\n",
       "      <th>lat</th>\n",
       "      <th>long</th>\n",
       "      <th>sqft_living15</th>\n",
       "      <th>sqft_lot15</th>\n",
       "    </tr>\n",
       "  </thead>\n",
       "  <tbody>\n",
       "    <tr>\n",
       "      <th>count</th>\n",
       "      <td>2.159700e+04</td>\n",
       "      <td>2.159700e+04</td>\n",
       "      <td>21597.000000</td>\n",
       "      <td>21597.000000</td>\n",
       "      <td>21597.000000</td>\n",
       "      <td>2.159700e+04</td>\n",
       "      <td>21597.000000</td>\n",
       "      <td>19221.000000</td>\n",
       "      <td>21534.000000</td>\n",
       "      <td>21597.000000</td>\n",
       "      <td>21597.000000</td>\n",
       "      <td>21597.000000</td>\n",
       "      <td>21597.000000</td>\n",
       "      <td>17755.000000</td>\n",
       "      <td>21597.000000</td>\n",
       "      <td>21597.000000</td>\n",
       "      <td>21597.000000</td>\n",
       "      <td>21597.000000</td>\n",
       "      <td>21597.000000</td>\n",
       "    </tr>\n",
       "    <tr>\n",
       "      <th>mean</th>\n",
       "      <td>4.580474e+09</td>\n",
       "      <td>5.402966e+05</td>\n",
       "      <td>3.373200</td>\n",
       "      <td>2.115826</td>\n",
       "      <td>2080.321850</td>\n",
       "      <td>1.509941e+04</td>\n",
       "      <td>1.494096</td>\n",
       "      <td>0.007596</td>\n",
       "      <td>0.233863</td>\n",
       "      <td>3.409825</td>\n",
       "      <td>7.657915</td>\n",
       "      <td>1788.596842</td>\n",
       "      <td>1970.999676</td>\n",
       "      <td>83.636778</td>\n",
       "      <td>98077.951845</td>\n",
       "      <td>47.560093</td>\n",
       "      <td>-122.213982</td>\n",
       "      <td>1986.620318</td>\n",
       "      <td>12758.283512</td>\n",
       "    </tr>\n",
       "    <tr>\n",
       "      <th>std</th>\n",
       "      <td>2.876736e+09</td>\n",
       "      <td>3.673681e+05</td>\n",
       "      <td>0.926299</td>\n",
       "      <td>0.768984</td>\n",
       "      <td>918.106125</td>\n",
       "      <td>4.141264e+04</td>\n",
       "      <td>0.539683</td>\n",
       "      <td>0.086825</td>\n",
       "      <td>0.765686</td>\n",
       "      <td>0.650546</td>\n",
       "      <td>1.173200</td>\n",
       "      <td>827.759761</td>\n",
       "      <td>29.375234</td>\n",
       "      <td>399.946414</td>\n",
       "      <td>53.513072</td>\n",
       "      <td>0.138552</td>\n",
       "      <td>0.140724</td>\n",
       "      <td>685.230472</td>\n",
       "      <td>27274.441950</td>\n",
       "    </tr>\n",
       "    <tr>\n",
       "      <th>min</th>\n",
       "      <td>1.000102e+06</td>\n",
       "      <td>7.800000e+04</td>\n",
       "      <td>1.000000</td>\n",
       "      <td>0.500000</td>\n",
       "      <td>370.000000</td>\n",
       "      <td>5.200000e+02</td>\n",
       "      <td>1.000000</td>\n",
       "      <td>0.000000</td>\n",
       "      <td>0.000000</td>\n",
       "      <td>1.000000</td>\n",
       "      <td>3.000000</td>\n",
       "      <td>370.000000</td>\n",
       "      <td>1900.000000</td>\n",
       "      <td>0.000000</td>\n",
       "      <td>98001.000000</td>\n",
       "      <td>47.155900</td>\n",
       "      <td>-122.519000</td>\n",
       "      <td>399.000000</td>\n",
       "      <td>651.000000</td>\n",
       "    </tr>\n",
       "    <tr>\n",
       "      <th>25%</th>\n",
       "      <td>2.123049e+09</td>\n",
       "      <td>3.220000e+05</td>\n",
       "      <td>3.000000</td>\n",
       "      <td>1.750000</td>\n",
       "      <td>1430.000000</td>\n",
       "      <td>5.040000e+03</td>\n",
       "      <td>1.000000</td>\n",
       "      <td>0.000000</td>\n",
       "      <td>0.000000</td>\n",
       "      <td>3.000000</td>\n",
       "      <td>7.000000</td>\n",
       "      <td>1190.000000</td>\n",
       "      <td>1951.000000</td>\n",
       "      <td>0.000000</td>\n",
       "      <td>98033.000000</td>\n",
       "      <td>47.471100</td>\n",
       "      <td>-122.328000</td>\n",
       "      <td>1490.000000</td>\n",
       "      <td>5100.000000</td>\n",
       "    </tr>\n",
       "    <tr>\n",
       "      <th>50%</th>\n",
       "      <td>3.904930e+09</td>\n",
       "      <td>4.500000e+05</td>\n",
       "      <td>3.000000</td>\n",
       "      <td>2.250000</td>\n",
       "      <td>1910.000000</td>\n",
       "      <td>7.618000e+03</td>\n",
       "      <td>1.500000</td>\n",
       "      <td>0.000000</td>\n",
       "      <td>0.000000</td>\n",
       "      <td>3.000000</td>\n",
       "      <td>7.000000</td>\n",
       "      <td>1560.000000</td>\n",
       "      <td>1975.000000</td>\n",
       "      <td>0.000000</td>\n",
       "      <td>98065.000000</td>\n",
       "      <td>47.571800</td>\n",
       "      <td>-122.231000</td>\n",
       "      <td>1840.000000</td>\n",
       "      <td>7620.000000</td>\n",
       "    </tr>\n",
       "    <tr>\n",
       "      <th>75%</th>\n",
       "      <td>7.308900e+09</td>\n",
       "      <td>6.450000e+05</td>\n",
       "      <td>4.000000</td>\n",
       "      <td>2.500000</td>\n",
       "      <td>2550.000000</td>\n",
       "      <td>1.068500e+04</td>\n",
       "      <td>2.000000</td>\n",
       "      <td>0.000000</td>\n",
       "      <td>0.000000</td>\n",
       "      <td>4.000000</td>\n",
       "      <td>8.000000</td>\n",
       "      <td>2210.000000</td>\n",
       "      <td>1997.000000</td>\n",
       "      <td>0.000000</td>\n",
       "      <td>98118.000000</td>\n",
       "      <td>47.678000</td>\n",
       "      <td>-122.125000</td>\n",
       "      <td>2360.000000</td>\n",
       "      <td>10083.000000</td>\n",
       "    </tr>\n",
       "    <tr>\n",
       "      <th>max</th>\n",
       "      <td>9.900000e+09</td>\n",
       "      <td>7.700000e+06</td>\n",
       "      <td>33.000000</td>\n",
       "      <td>8.000000</td>\n",
       "      <td>13540.000000</td>\n",
       "      <td>1.651359e+06</td>\n",
       "      <td>3.500000</td>\n",
       "      <td>1.000000</td>\n",
       "      <td>4.000000</td>\n",
       "      <td>5.000000</td>\n",
       "      <td>13.000000</td>\n",
       "      <td>9410.000000</td>\n",
       "      <td>2015.000000</td>\n",
       "      <td>2015.000000</td>\n",
       "      <td>98199.000000</td>\n",
       "      <td>47.777600</td>\n",
       "      <td>-121.315000</td>\n",
       "      <td>6210.000000</td>\n",
       "      <td>871200.000000</td>\n",
       "    </tr>\n",
       "  </tbody>\n",
       "</table>\n",
       "</div>"
      ],
      "text/plain": [
       "                 id         price      bedrooms     bathrooms   sqft_living  \\\n",
       "count  2.159700e+04  2.159700e+04  21597.000000  21597.000000  21597.000000   \n",
       "mean   4.580474e+09  5.402966e+05      3.373200      2.115826   2080.321850   \n",
       "std    2.876736e+09  3.673681e+05      0.926299      0.768984    918.106125   \n",
       "min    1.000102e+06  7.800000e+04      1.000000      0.500000    370.000000   \n",
       "25%    2.123049e+09  3.220000e+05      3.000000      1.750000   1430.000000   \n",
       "50%    3.904930e+09  4.500000e+05      3.000000      2.250000   1910.000000   \n",
       "75%    7.308900e+09  6.450000e+05      4.000000      2.500000   2550.000000   \n",
       "max    9.900000e+09  7.700000e+06     33.000000      8.000000  13540.000000   \n",
       "\n",
       "           sqft_lot        floors    waterfront          view     condition  \\\n",
       "count  2.159700e+04  21597.000000  19221.000000  21534.000000  21597.000000   \n",
       "mean   1.509941e+04      1.494096      0.007596      0.233863      3.409825   \n",
       "std    4.141264e+04      0.539683      0.086825      0.765686      0.650546   \n",
       "min    5.200000e+02      1.000000      0.000000      0.000000      1.000000   \n",
       "25%    5.040000e+03      1.000000      0.000000      0.000000      3.000000   \n",
       "50%    7.618000e+03      1.500000      0.000000      0.000000      3.000000   \n",
       "75%    1.068500e+04      2.000000      0.000000      0.000000      4.000000   \n",
       "max    1.651359e+06      3.500000      1.000000      4.000000      5.000000   \n",
       "\n",
       "              grade    sqft_above      yr_built  yr_renovated       zipcode  \\\n",
       "count  21597.000000  21597.000000  21597.000000  17755.000000  21597.000000   \n",
       "mean       7.657915   1788.596842   1970.999676     83.636778  98077.951845   \n",
       "std        1.173200    827.759761     29.375234    399.946414     53.513072   \n",
       "min        3.000000    370.000000   1900.000000      0.000000  98001.000000   \n",
       "25%        7.000000   1190.000000   1951.000000      0.000000  98033.000000   \n",
       "50%        7.000000   1560.000000   1975.000000      0.000000  98065.000000   \n",
       "75%        8.000000   2210.000000   1997.000000      0.000000  98118.000000   \n",
       "max       13.000000   9410.000000   2015.000000   2015.000000  98199.000000   \n",
       "\n",
       "                lat          long  sqft_living15     sqft_lot15  \n",
       "count  21597.000000  21597.000000   21597.000000   21597.000000  \n",
       "mean      47.560093   -122.213982    1986.620318   12758.283512  \n",
       "std        0.138552      0.140724     685.230472   27274.441950  \n",
       "min       47.155900   -122.519000     399.000000     651.000000  \n",
       "25%       47.471100   -122.328000    1490.000000    5100.000000  \n",
       "50%       47.571800   -122.231000    1840.000000    7620.000000  \n",
       "75%       47.678000   -122.125000    2360.000000   10083.000000  \n",
       "max       47.777600   -121.315000    6210.000000  871200.000000  "
      ]
     },
<<<<<<< HEAD
     "execution_count": 41,
=======
<<<<<<< HEAD
     "execution_count": 41,
=======
     "execution_count": 700,
>>>>>>> a111dda47325c356f7c89042190a97afe170c3fb
>>>>>>> 17c301b8b565049214a01aea658af63c76cab4af
     "metadata": {},
     "output_type": "execute_result"
    }
   ],
   "source": [
    "#looking at the data to see if anything stands out within the interquartile ranges as well as max, min, and mean.\n",
    "\n",
    "df.describe()"
   ]
  },
  {
   "cell_type": "markdown",
   "metadata": {},
   "source": [
    "### Cleaning the data."
   ]
  },
  {
   "cell_type": "code",
<<<<<<< HEAD
   "execution_count": 42,
=======
<<<<<<< HEAD
   "execution_count": 42,
=======
   "execution_count": 701,
>>>>>>> a111dda47325c356f7c89042190a97afe170c3fb
>>>>>>> 17c301b8b565049214a01aea658af63c76cab4af
   "metadata": {},
   "outputs": [],
   "source": [
    "# First dropping date.  I am not interested in the time of year this sells as it will be a rental unit. \n",
    "#Also dropping square foot basement.  It is another object that has no use for me.\n",
    "df.drop('date', inplace = True, axis = 1)"
   ]
  },
  {
   "cell_type": "code",
<<<<<<< HEAD
   "execution_count": 43,
=======
<<<<<<< HEAD
   "execution_count": 43,
=======
   "execution_count": 702,
>>>>>>> a111dda47325c356f7c89042190a97afe170c3fb
>>>>>>> 17c301b8b565049214a01aea658af63c76cab4af
   "metadata": {},
   "outputs": [],
   "source": [
    "df.drop('sqft_basement', inplace = True, axis = 1)"
   ]
  },
  {
   "cell_type": "code",
<<<<<<< HEAD
   "execution_count": 44,
=======
<<<<<<< HEAD
   "execution_count": 44,
=======
   "execution_count": 703,
>>>>>>> a111dda47325c356f7c89042190a97afe170c3fb
>>>>>>> 17c301b8b565049214a01aea658af63c76cab4af
   "metadata": {},
   "outputs": [
    {
     "name": "stdout",
     "output_type": "stream",
     "text": [
      "<class 'pandas.core.frame.DataFrame'>\n",
      "RangeIndex: 21597 entries, 0 to 21596\n",
      "Data columns (total 19 columns):\n",
      " #   Column         Non-Null Count  Dtype  \n",
      "---  ------         --------------  -----  \n",
      " 0   id             21597 non-null  int64  \n",
      " 1   price          21597 non-null  float64\n",
      " 2   bedrooms       21597 non-null  int64  \n",
      " 3   bathrooms      21597 non-null  float64\n",
      " 4   sqft_living    21597 non-null  int64  \n",
      " 5   sqft_lot       21597 non-null  int64  \n",
      " 6   floors         21597 non-null  float64\n",
      " 7   waterfront     19221 non-null  float64\n",
      " 8   view           21534 non-null  float64\n",
      " 9   condition      21597 non-null  int64  \n",
      " 10  grade          21597 non-null  int64  \n",
      " 11  sqft_above     21597 non-null  int64  \n",
      " 12  yr_built       21597 non-null  int64  \n",
      " 13  yr_renovated   17755 non-null  float64\n",
      " 14  zipcode        21597 non-null  int64  \n",
      " 15  lat            21597 non-null  float64\n",
      " 16  long           21597 non-null  float64\n",
      " 17  sqft_living15  21597 non-null  int64  \n",
      " 18  sqft_lot15     21597 non-null  int64  \n",
      "dtypes: float64(8), int64(11)\n",
      "memory usage: 3.1 MB\n"
     ]
    }
   ],
   "source": [
    "#checking to see it worked.\n",
    "df.info()"
   ]
  },
  {
   "cell_type": "code",
<<<<<<< HEAD
   "execution_count": 45,
=======
<<<<<<< HEAD
   "execution_count": 45,
=======
   "execution_count": 704,
>>>>>>> a111dda47325c356f7c89042190a97afe170c3fb
>>>>>>> 17c301b8b565049214a01aea658af63c76cab4af
   "metadata": {},
   "outputs": [
    {
     "data": {
      "text/html": [
       "<div>\n",
       "<style scoped>\n",
       "    .dataframe tbody tr th:only-of-type {\n",
       "        vertical-align: middle;\n",
       "    }\n",
       "\n",
       "    .dataframe tbody tr th {\n",
       "        vertical-align: top;\n",
       "    }\n",
       "\n",
       "    .dataframe thead th {\n",
       "        text-align: right;\n",
       "    }\n",
       "</style>\n",
       "<table border=\"1\" class=\"dataframe\">\n",
       "  <thead>\n",
       "    <tr style=\"text-align: right;\">\n",
       "      <th></th>\n",
       "      <th>id</th>\n",
       "      <th>price</th>\n",
       "      <th>bedrooms</th>\n",
       "      <th>bathrooms</th>\n",
       "      <th>sqft_living</th>\n",
       "      <th>sqft_lot</th>\n",
       "      <th>floors</th>\n",
       "      <th>waterfront</th>\n",
       "      <th>view</th>\n",
       "      <th>condition</th>\n",
       "      <th>grade</th>\n",
       "      <th>sqft_above</th>\n",
       "      <th>yr_built</th>\n",
       "      <th>yr_renovated</th>\n",
       "      <th>zipcode</th>\n",
       "      <th>lat</th>\n",
       "      <th>long</th>\n",
       "      <th>sqft_living15</th>\n",
       "      <th>sqft_lot15</th>\n",
       "    </tr>\n",
       "  </thead>\n",
       "  <tbody>\n",
       "    <tr>\n",
       "      <th>0</th>\n",
       "      <td>7.129301e+09</td>\n",
       "      <td>221900.0</td>\n",
       "      <td>3.0</td>\n",
       "      <td>1.00</td>\n",
       "      <td>1180.0</td>\n",
       "      <td>5650.0</td>\n",
       "      <td>1.0</td>\n",
       "      <td>NaN</td>\n",
       "      <td>0.0</td>\n",
       "      <td>3.0</td>\n",
       "      <td>7.0</td>\n",
       "      <td>1180.0</td>\n",
       "      <td>1955.0</td>\n",
       "      <td>0.0</td>\n",
       "      <td>98178.0</td>\n",
       "      <td>47.5112</td>\n",
       "      <td>-122.257</td>\n",
       "      <td>1340.0</td>\n",
       "      <td>5650.0</td>\n",
       "    </tr>\n",
       "    <tr>\n",
       "      <th>1</th>\n",
       "      <td>6.414100e+09</td>\n",
       "      <td>538000.0</td>\n",
       "      <td>3.0</td>\n",
       "      <td>2.25</td>\n",
       "      <td>2570.0</td>\n",
       "      <td>7242.0</td>\n",
       "      <td>2.0</td>\n",
       "      <td>0.0</td>\n",
       "      <td>0.0</td>\n",
       "      <td>3.0</td>\n",
       "      <td>7.0</td>\n",
       "      <td>2170.0</td>\n",
       "      <td>1951.0</td>\n",
       "      <td>1991.0</td>\n",
       "      <td>98125.0</td>\n",
       "      <td>47.7210</td>\n",
       "      <td>-122.319</td>\n",
       "      <td>1690.0</td>\n",
       "      <td>7639.0</td>\n",
       "    </tr>\n",
       "    <tr>\n",
       "      <th>2</th>\n",
       "      <td>5.631500e+09</td>\n",
       "      <td>180000.0</td>\n",
       "      <td>2.0</td>\n",
       "      <td>1.00</td>\n",
       "      <td>770.0</td>\n",
       "      <td>10000.0</td>\n",
       "      <td>1.0</td>\n",
       "      <td>0.0</td>\n",
       "      <td>0.0</td>\n",
       "      <td>3.0</td>\n",
       "      <td>6.0</td>\n",
       "      <td>770.0</td>\n",
       "      <td>1933.0</td>\n",
       "      <td>NaN</td>\n",
       "      <td>98028.0</td>\n",
       "      <td>47.7379</td>\n",
       "      <td>-122.233</td>\n",
       "      <td>2720.0</td>\n",
       "      <td>8062.0</td>\n",
       "    </tr>\n",
       "    <tr>\n",
       "      <th>3</th>\n",
       "      <td>2.487201e+09</td>\n",
       "      <td>604000.0</td>\n",
       "      <td>4.0</td>\n",
       "      <td>3.00</td>\n",
       "      <td>1960.0</td>\n",
       "      <td>5000.0</td>\n",
       "      <td>1.0</td>\n",
       "      <td>0.0</td>\n",
       "      <td>0.0</td>\n",
       "      <td>5.0</td>\n",
       "      <td>7.0</td>\n",
       "      <td>1050.0</td>\n",
       "      <td>1965.0</td>\n",
       "      <td>0.0</td>\n",
       "      <td>98136.0</td>\n",
       "      <td>47.5208</td>\n",
       "      <td>-122.393</td>\n",
       "      <td>1360.0</td>\n",
       "      <td>5000.0</td>\n",
       "    </tr>\n",
       "    <tr>\n",
       "      <th>4</th>\n",
       "      <td>1.954401e+09</td>\n",
       "      <td>510000.0</td>\n",
       "      <td>3.0</td>\n",
       "      <td>2.00</td>\n",
       "      <td>1680.0</td>\n",
       "      <td>8080.0</td>\n",
       "      <td>1.0</td>\n",
       "      <td>0.0</td>\n",
       "      <td>0.0</td>\n",
       "      <td>3.0</td>\n",
       "      <td>8.0</td>\n",
       "      <td>1680.0</td>\n",
       "      <td>1987.0</td>\n",
       "      <td>0.0</td>\n",
       "      <td>98074.0</td>\n",
       "      <td>47.6168</td>\n",
       "      <td>-122.045</td>\n",
       "      <td>1800.0</td>\n",
       "      <td>7503.0</td>\n",
       "    </tr>\n",
       "    <tr>\n",
       "      <th>...</th>\n",
       "      <td>...</td>\n",
       "      <td>...</td>\n",
       "      <td>...</td>\n",
       "      <td>...</td>\n",
       "      <td>...</td>\n",
       "      <td>...</td>\n",
       "      <td>...</td>\n",
       "      <td>...</td>\n",
       "      <td>...</td>\n",
       "      <td>...</td>\n",
       "      <td>...</td>\n",
       "      <td>...</td>\n",
       "      <td>...</td>\n",
       "      <td>...</td>\n",
       "      <td>...</td>\n",
       "      <td>...</td>\n",
       "      <td>...</td>\n",
       "      <td>...</td>\n",
       "      <td>...</td>\n",
       "    </tr>\n",
       "    <tr>\n",
       "      <th>21592</th>\n",
       "      <td>2.630000e+08</td>\n",
       "      <td>360000.0</td>\n",
       "      <td>3.0</td>\n",
       "      <td>2.50</td>\n",
       "      <td>1530.0</td>\n",
       "      <td>1131.0</td>\n",
       "      <td>3.0</td>\n",
       "      <td>0.0</td>\n",
       "      <td>0.0</td>\n",
       "      <td>3.0</td>\n",
       "      <td>8.0</td>\n",
       "      <td>1530.0</td>\n",
       "      <td>2009.0</td>\n",
       "      <td>0.0</td>\n",
       "      <td>98103.0</td>\n",
       "      <td>47.6993</td>\n",
       "      <td>-122.346</td>\n",
       "      <td>1530.0</td>\n",
       "      <td>1509.0</td>\n",
       "    </tr>\n",
       "    <tr>\n",
       "      <th>21593</th>\n",
       "      <td>6.600060e+09</td>\n",
       "      <td>400000.0</td>\n",
       "      <td>4.0</td>\n",
       "      <td>2.50</td>\n",
       "      <td>2310.0</td>\n",
       "      <td>5813.0</td>\n",
       "      <td>2.0</td>\n",
       "      <td>0.0</td>\n",
       "      <td>0.0</td>\n",
       "      <td>3.0</td>\n",
       "      <td>8.0</td>\n",
       "      <td>2310.0</td>\n",
       "      <td>2014.0</td>\n",
       "      <td>0.0</td>\n",
       "      <td>98146.0</td>\n",
       "      <td>47.5107</td>\n",
       "      <td>-122.362</td>\n",
       "      <td>1830.0</td>\n",
       "      <td>7200.0</td>\n",
       "    </tr>\n",
       "    <tr>\n",
       "      <th>21594</th>\n",
       "      <td>1.523300e+09</td>\n",
       "      <td>402101.0</td>\n",
       "      <td>2.0</td>\n",
       "      <td>0.75</td>\n",
       "      <td>1020.0</td>\n",
       "      <td>1350.0</td>\n",
       "      <td>2.0</td>\n",
       "      <td>0.0</td>\n",
       "      <td>0.0</td>\n",
       "      <td>3.0</td>\n",
       "      <td>7.0</td>\n",
       "      <td>1020.0</td>\n",
       "      <td>2009.0</td>\n",
       "      <td>0.0</td>\n",
       "      <td>98144.0</td>\n",
       "      <td>47.5944</td>\n",
       "      <td>-122.299</td>\n",
       "      <td>1020.0</td>\n",
       "      <td>2007.0</td>\n",
       "    </tr>\n",
       "    <tr>\n",
       "      <th>21595</th>\n",
       "      <td>2.913101e+08</td>\n",
       "      <td>400000.0</td>\n",
       "      <td>3.0</td>\n",
       "      <td>2.50</td>\n",
       "      <td>1600.0</td>\n",
       "      <td>2388.0</td>\n",
       "      <td>2.0</td>\n",
       "      <td>NaN</td>\n",
       "      <td>0.0</td>\n",
       "      <td>3.0</td>\n",
       "      <td>8.0</td>\n",
       "      <td>1600.0</td>\n",
       "      <td>2004.0</td>\n",
       "      <td>0.0</td>\n",
       "      <td>98027.0</td>\n",
       "      <td>47.5345</td>\n",
       "      <td>-122.069</td>\n",
       "      <td>1410.0</td>\n",
       "      <td>1287.0</td>\n",
       "    </tr>\n",
       "    <tr>\n",
       "      <th>21596</th>\n",
       "      <td>1.523300e+09</td>\n",
       "      <td>325000.0</td>\n",
       "      <td>2.0</td>\n",
       "      <td>0.75</td>\n",
       "      <td>1020.0</td>\n",
       "      <td>1076.0</td>\n",
       "      <td>2.0</td>\n",
       "      <td>0.0</td>\n",
       "      <td>0.0</td>\n",
       "      <td>3.0</td>\n",
       "      <td>7.0</td>\n",
       "      <td>1020.0</td>\n",
       "      <td>2008.0</td>\n",
       "      <td>0.0</td>\n",
       "      <td>98144.0</td>\n",
       "      <td>47.5941</td>\n",
       "      <td>-122.299</td>\n",
       "      <td>1020.0</td>\n",
       "      <td>1357.0</td>\n",
       "    </tr>\n",
       "  </tbody>\n",
       "</table>\n",
       "<p>21597 rows × 19 columns</p>\n",
       "</div>"
      ],
      "text/plain": [
       "                 id     price  bedrooms  bathrooms  sqft_living  sqft_lot  \\\n",
       "0      7.129301e+09  221900.0       3.0       1.00       1180.0    5650.0   \n",
       "1      6.414100e+09  538000.0       3.0       2.25       2570.0    7242.0   \n",
       "2      5.631500e+09  180000.0       2.0       1.00        770.0   10000.0   \n",
       "3      2.487201e+09  604000.0       4.0       3.00       1960.0    5000.0   \n",
       "4      1.954401e+09  510000.0       3.0       2.00       1680.0    8080.0   \n",
       "...             ...       ...       ...        ...          ...       ...   \n",
       "21592  2.630000e+08  360000.0       3.0       2.50       1530.0    1131.0   \n",
       "21593  6.600060e+09  400000.0       4.0       2.50       2310.0    5813.0   \n",
       "21594  1.523300e+09  402101.0       2.0       0.75       1020.0    1350.0   \n",
       "21595  2.913101e+08  400000.0       3.0       2.50       1600.0    2388.0   \n",
       "21596  1.523300e+09  325000.0       2.0       0.75       1020.0    1076.0   \n",
       "\n",
       "       floors  waterfront  view  condition  grade  sqft_above  yr_built  \\\n",
       "0         1.0         NaN   0.0        3.0    7.0      1180.0    1955.0   \n",
       "1         2.0         0.0   0.0        3.0    7.0      2170.0    1951.0   \n",
       "2         1.0         0.0   0.0        3.0    6.0       770.0    1933.0   \n",
       "3         1.0         0.0   0.0        5.0    7.0      1050.0    1965.0   \n",
       "4         1.0         0.0   0.0        3.0    8.0      1680.0    1987.0   \n",
       "...       ...         ...   ...        ...    ...         ...       ...   \n",
       "21592     3.0         0.0   0.0        3.0    8.0      1530.0    2009.0   \n",
       "21593     2.0         0.0   0.0        3.0    8.0      2310.0    2014.0   \n",
       "21594     2.0         0.0   0.0        3.0    7.0      1020.0    2009.0   \n",
       "21595     2.0         NaN   0.0        3.0    8.0      1600.0    2004.0   \n",
       "21596     2.0         0.0   0.0        3.0    7.0      1020.0    2008.0   \n",
       "\n",
       "       yr_renovated  zipcode      lat     long  sqft_living15  sqft_lot15  \n",
       "0               0.0  98178.0  47.5112 -122.257         1340.0      5650.0  \n",
       "1            1991.0  98125.0  47.7210 -122.319         1690.0      7639.0  \n",
       "2               NaN  98028.0  47.7379 -122.233         2720.0      8062.0  \n",
       "3               0.0  98136.0  47.5208 -122.393         1360.0      5000.0  \n",
       "4               0.0  98074.0  47.6168 -122.045         1800.0      7503.0  \n",
       "...             ...      ...      ...      ...            ...         ...  \n",
       "21592           0.0  98103.0  47.6993 -122.346         1530.0      1509.0  \n",
       "21593           0.0  98146.0  47.5107 -122.362         1830.0      7200.0  \n",
       "21594           0.0  98144.0  47.5944 -122.299         1020.0      2007.0  \n",
       "21595           0.0  98027.0  47.5345 -122.069         1410.0      1287.0  \n",
       "21596           0.0  98144.0  47.5941 -122.299         1020.0      1357.0  \n",
       "\n",
       "[21597 rows x 19 columns]"
      ]
     },
<<<<<<< HEAD
     "execution_count": 45,
=======
<<<<<<< HEAD
     "execution_count": 45,
=======
     "execution_count": 704,
>>>>>>> a111dda47325c356f7c89042190a97afe170c3fb
>>>>>>> 17c301b8b565049214a01aea658af63c76cab4af
     "metadata": {},
     "output_type": "execute_result"
    }
   ],
   "source": [
    "#changing everything to a float so that I can use a z score multiplier on it later.\n",
    "\n",
    "df.astype('float')"
   ]
  },
  {
   "cell_type": "code",
<<<<<<< HEAD
   "execution_count": 46,
=======
<<<<<<< HEAD
   "execution_count": 46,
=======
   "execution_count": 705,
>>>>>>> a111dda47325c356f7c89042190a97afe170c3fb
>>>>>>> 17c301b8b565049214a01aea658af63c76cab4af
   "metadata": {},
   "outputs": [],
   "source": [
    "#Dropping all NaN values.\n",
    "df = df.dropna(axis = 0)"
   ]
  },
  {
   "cell_type": "code",
<<<<<<< HEAD
   "execution_count": 47,
=======
<<<<<<< HEAD
   "execution_count": 47,
=======
   "execution_count": 706,
>>>>>>> a111dda47325c356f7c89042190a97afe170c3fb
>>>>>>> 17c301b8b565049214a01aea658af63c76cab4af
   "metadata": {},
   "outputs": [
    {
     "data": {
      "text/plain": [
       "id               False\n",
       "price            False\n",
       "bedrooms         False\n",
       "bathrooms        False\n",
       "sqft_living      False\n",
       "sqft_lot         False\n",
       "floors           False\n",
       "waterfront       False\n",
       "view             False\n",
       "condition        False\n",
       "grade            False\n",
       "sqft_above       False\n",
       "yr_built         False\n",
       "yr_renovated     False\n",
       "zipcode          False\n",
       "lat              False\n",
       "long             False\n",
       "sqft_living15    False\n",
       "sqft_lot15       False\n",
       "dtype: bool"
      ]
     },
     "metadata": {},
     "output_type": "display_data"
    },
    {
     "data": {
      "text/plain": [
       "(15762, 19)"
      ]
     },
<<<<<<< HEAD
     "execution_count": 47,
=======
<<<<<<< HEAD
     "execution_count": 47,
=======
     "execution_count": 706,
>>>>>>> a111dda47325c356f7c89042190a97afe170c3fb
>>>>>>> 17c301b8b565049214a01aea658af63c76cab4af
     "metadata": {},
     "output_type": "execute_result"
    }
   ],
   "source": [
    "#check for nulls\n",
    "display(df.isnull().any())\n",
    "df.shape"
   ]
  },
  {
   "cell_type": "code",
<<<<<<< HEAD
   "execution_count": 48,
=======
<<<<<<< HEAD
   "execution_count": 48,
=======
   "execution_count": 707,
>>>>>>> a111dda47325c356f7c89042190a97afe170c3fb
>>>>>>> 17c301b8b565049214a01aea658af63c76cab4af
   "metadata": {},
   "outputs": [
    {
     "data": {
      "text/plain": [
       "id               0\n",
       "price            0\n",
       "bedrooms         0\n",
       "bathrooms        0\n",
       "sqft_living      0\n",
       "sqft_lot         0\n",
       "floors           0\n",
       "waterfront       0\n",
       "view             0\n",
       "condition        0\n",
       "grade            0\n",
       "sqft_above       0\n",
       "yr_built         0\n",
       "yr_renovated     0\n",
       "zipcode          0\n",
       "lat              0\n",
       "long             0\n",
       "sqft_living15    0\n",
       "sqft_lot15       0\n",
       "dtype: int64"
      ]
     },
<<<<<<< HEAD
     "execution_count": 48,
=======
<<<<<<< HEAD
     "execution_count": 48,
=======
     "execution_count": 707,
>>>>>>> a111dda47325c356f7c89042190a97afe170c3fb
>>>>>>> 17c301b8b565049214a01aea658af63c76cab4af
     "metadata": {},
     "output_type": "execute_result"
    }
   ],
   "source": [
    "df.isnull().sum()"
   ]
  },
  {
   "cell_type": "code",
<<<<<<< HEAD
   "execution_count": 49,
=======
<<<<<<< HEAD
   "execution_count": 49,
=======
   "execution_count": 708,
>>>>>>> a111dda47325c356f7c89042190a97afe170c3fb
>>>>>>> 17c301b8b565049214a01aea658af63c76cab4af
   "metadata": {},
   "outputs": [
    {
     "data": {
      "text/plain": [
       "(15762, 19)"
      ]
     },
<<<<<<< HEAD
     "execution_count": 49,
=======
<<<<<<< HEAD
     "execution_count": 49,
=======
     "execution_count": 708,
>>>>>>> a111dda47325c356f7c89042190a97afe170c3fb
>>>>>>> 17c301b8b565049214a01aea658af63c76cab4af
     "metadata": {},
     "output_type": "execute_result"
    }
   ],
   "source": [
    "#looking to see that the shape is smaller from dropped values.\n",
    "df.shape"
   ]
  },
  {
   "cell_type": "code",
<<<<<<< HEAD
   "execution_count": 50,
=======
<<<<<<< HEAD
   "execution_count": 50,
=======
   "execution_count": 709,
>>>>>>> a111dda47325c356f7c89042190a97afe170c3fb
>>>>>>> 17c301b8b565049214a01aea658af63c76cab4af
   "metadata": {
    "scrolled": false
   },
   "outputs": [
    {
     "data": {
      "text/html": [
       "<div>\n",
       "<style scoped>\n",
       "    .dataframe tbody tr th:only-of-type {\n",
       "        vertical-align: middle;\n",
       "    }\n",
       "\n",
       "    .dataframe tbody tr th {\n",
       "        vertical-align: top;\n",
       "    }\n",
       "\n",
       "    .dataframe thead th {\n",
       "        text-align: right;\n",
       "    }\n",
       "</style>\n",
       "<table border=\"1\" class=\"dataframe\">\n",
       "  <thead>\n",
       "    <tr style=\"text-align: right;\">\n",
       "      <th></th>\n",
       "      <th>id</th>\n",
       "      <th>price</th>\n",
       "      <th>bedrooms</th>\n",
       "      <th>bathrooms</th>\n",
       "      <th>sqft_living</th>\n",
       "      <th>sqft_lot</th>\n",
       "      <th>floors</th>\n",
       "      <th>waterfront</th>\n",
       "      <th>view</th>\n",
       "      <th>condition</th>\n",
       "      <th>grade</th>\n",
       "      <th>sqft_above</th>\n",
       "      <th>yr_built</th>\n",
       "      <th>yr_renovated</th>\n",
       "      <th>zipcode</th>\n",
       "      <th>lat</th>\n",
       "      <th>long</th>\n",
       "      <th>sqft_living15</th>\n",
       "      <th>sqft_lot15</th>\n",
       "    </tr>\n",
       "  </thead>\n",
       "  <tbody>\n",
       "    <tr>\n",
       "      <th>1</th>\n",
       "      <td>6414100192</td>\n",
       "      <td>538000.0</td>\n",
       "      <td>3</td>\n",
       "      <td>2.25</td>\n",
       "      <td>2570</td>\n",
       "      <td>7242</td>\n",
       "      <td>2.0</td>\n",
       "      <td>0.0</td>\n",
       "      <td>0.0</td>\n",
       "      <td>3</td>\n",
       "      <td>7</td>\n",
       "      <td>2170</td>\n",
       "      <td>1951</td>\n",
       "      <td>1991.0</td>\n",
       "      <td>98125</td>\n",
       "      <td>47.7210</td>\n",
       "      <td>-122.319</td>\n",
       "      <td>1690</td>\n",
       "      <td>7639</td>\n",
       "    </tr>\n",
       "    <tr>\n",
       "      <th>3</th>\n",
       "      <td>2487200875</td>\n",
       "      <td>604000.0</td>\n",
       "      <td>4</td>\n",
       "      <td>3.00</td>\n",
       "      <td>1960</td>\n",
       "      <td>5000</td>\n",
       "      <td>1.0</td>\n",
       "      <td>0.0</td>\n",
       "      <td>0.0</td>\n",
       "      <td>5</td>\n",
       "      <td>7</td>\n",
       "      <td>1050</td>\n",
       "      <td>1965</td>\n",
       "      <td>0.0</td>\n",
       "      <td>98136</td>\n",
       "      <td>47.5208</td>\n",
       "      <td>-122.393</td>\n",
       "      <td>1360</td>\n",
       "      <td>5000</td>\n",
       "    </tr>\n",
       "    <tr>\n",
       "      <th>4</th>\n",
       "      <td>1954400510</td>\n",
       "      <td>510000.0</td>\n",
       "      <td>3</td>\n",
       "      <td>2.00</td>\n",
       "      <td>1680</td>\n",
       "      <td>8080</td>\n",
       "      <td>1.0</td>\n",
       "      <td>0.0</td>\n",
       "      <td>0.0</td>\n",
       "      <td>3</td>\n",
       "      <td>8</td>\n",
       "      <td>1680</td>\n",
       "      <td>1987</td>\n",
       "      <td>0.0</td>\n",
       "      <td>98074</td>\n",
       "      <td>47.6168</td>\n",
       "      <td>-122.045</td>\n",
       "      <td>1800</td>\n",
       "      <td>7503</td>\n",
       "    </tr>\n",
       "    <tr>\n",
       "      <th>5</th>\n",
       "      <td>7237550310</td>\n",
       "      <td>1230000.0</td>\n",
       "      <td>4</td>\n",
       "      <td>4.50</td>\n",
       "      <td>5420</td>\n",
       "      <td>101930</td>\n",
       "      <td>1.0</td>\n",
       "      <td>0.0</td>\n",
       "      <td>0.0</td>\n",
       "      <td>3</td>\n",
       "      <td>11</td>\n",
       "      <td>3890</td>\n",
       "      <td>2001</td>\n",
       "      <td>0.0</td>\n",
       "      <td>98053</td>\n",
       "      <td>47.6561</td>\n",
       "      <td>-122.005</td>\n",
       "      <td>4760</td>\n",
       "      <td>101930</td>\n",
       "    </tr>\n",
       "    <tr>\n",
       "      <th>6</th>\n",
       "      <td>1321400060</td>\n",
       "      <td>257500.0</td>\n",
       "      <td>3</td>\n",
       "      <td>2.25</td>\n",
       "      <td>1715</td>\n",
       "      <td>6819</td>\n",
       "      <td>2.0</td>\n",
       "      <td>0.0</td>\n",
       "      <td>0.0</td>\n",
       "      <td>3</td>\n",
       "      <td>7</td>\n",
       "      <td>1715</td>\n",
       "      <td>1995</td>\n",
       "      <td>0.0</td>\n",
       "      <td>98003</td>\n",
       "      <td>47.3097</td>\n",
       "      <td>-122.327</td>\n",
       "      <td>2238</td>\n",
       "      <td>6819</td>\n",
       "    </tr>\n",
       "  </tbody>\n",
       "</table>\n",
       "</div>"
      ],
      "text/plain": [
       "           id      price  bedrooms  bathrooms  sqft_living  sqft_lot  floors  \\\n",
       "1  6414100192   538000.0         3       2.25         2570      7242     2.0   \n",
       "3  2487200875   604000.0         4       3.00         1960      5000     1.0   \n",
       "4  1954400510   510000.0         3       2.00         1680      8080     1.0   \n",
       "5  7237550310  1230000.0         4       4.50         5420    101930     1.0   \n",
       "6  1321400060   257500.0         3       2.25         1715      6819     2.0   \n",
       "\n",
       "   waterfront  view  condition  grade  sqft_above  yr_built  yr_renovated  \\\n",
       "1         0.0   0.0          3      7        2170      1951        1991.0   \n",
       "3         0.0   0.0          5      7        1050      1965           0.0   \n",
       "4         0.0   0.0          3      8        1680      1987           0.0   \n",
       "5         0.0   0.0          3     11        3890      2001           0.0   \n",
       "6         0.0   0.0          3      7        1715      1995           0.0   \n",
       "\n",
       "   zipcode      lat     long  sqft_living15  sqft_lot15  \n",
       "1    98125  47.7210 -122.319           1690        7639  \n",
       "3    98136  47.5208 -122.393           1360        5000  \n",
       "4    98074  47.6168 -122.045           1800        7503  \n",
       "5    98053  47.6561 -122.005           4760      101930  \n",
       "6    98003  47.3097 -122.327           2238        6819  "
      ]
     },
<<<<<<< HEAD
     "execution_count": 50,
=======
<<<<<<< HEAD
     "execution_count": 50,
=======
     "execution_count": 709,
>>>>>>> a111dda47325c356f7c89042190a97afe170c3fb
>>>>>>> 17c301b8b565049214a01aea658af63c76cab4af
     "metadata": {},
     "output_type": "execute_result"
    }
   ],
   "source": [
    "df.head()"
   ]
  },
  {
   "cell_type": "markdown",
   "metadata": {},
   "source": [
    "### Exploring the data for further cleaning:\n",
    "I am looking at histograms of all of the columns to see what looks like it is going to be categorical, continuous, and to see if any shapes are different from the normal distribution therefore requiring further attention.  Right away we can see that the price, bedrooms, bathrooms, condition, yr_renovated, ext., all have heavy skews implying that there are some outliers that would prevent us from having normally distributed data.\n"
   ]
  },
  {
   "cell_type": "code",
<<<<<<< HEAD
   "execution_count": 51,
=======
<<<<<<< HEAD
   "execution_count": 51,
=======
   "execution_count": 710,
>>>>>>> a111dda47325c356f7c89042190a97afe170c3fb
>>>>>>> 17c301b8b565049214a01aea658af63c76cab4af
   "metadata": {},
   "outputs": [
    {
     "data": {
      "text/plain": [
       "array([[<AxesSubplot:title={'center':'id'}>,\n",
       "        <AxesSubplot:title={'center':'price'}>,\n",
       "        <AxesSubplot:title={'center':'bedrooms'}>,\n",
       "        <AxesSubplot:title={'center':'bathrooms'}>],\n",
       "       [<AxesSubplot:title={'center':'sqft_living'}>,\n",
       "        <AxesSubplot:title={'center':'sqft_lot'}>,\n",
       "        <AxesSubplot:title={'center':'floors'}>,\n",
       "        <AxesSubplot:title={'center':'waterfront'}>],\n",
       "       [<AxesSubplot:title={'center':'view'}>,\n",
       "        <AxesSubplot:title={'center':'condition'}>,\n",
       "        <AxesSubplot:title={'center':'grade'}>,\n",
       "        <AxesSubplot:title={'center':'sqft_above'}>],\n",
       "       [<AxesSubplot:title={'center':'yr_built'}>,\n",
       "        <AxesSubplot:title={'center':'yr_renovated'}>,\n",
       "        <AxesSubplot:title={'center':'zipcode'}>,\n",
       "        <AxesSubplot:title={'center':'lat'}>],\n",
       "       [<AxesSubplot:title={'center':'long'}>,\n",
       "        <AxesSubplot:title={'center':'sqft_living15'}>,\n",
       "        <AxesSubplot:title={'center':'sqft_lot15'}>, <AxesSubplot:>]],\n",
       "      dtype=object)"
      ]
     },
<<<<<<< HEAD
     "execution_count": 51,
=======
<<<<<<< HEAD
     "execution_count": 51,
=======
     "execution_count": 710,
>>>>>>> a111dda47325c356f7c89042190a97afe170c3fb
>>>>>>> 17c301b8b565049214a01aea658af63c76cab4af
     "metadata": {},
     "output_type": "execute_result"
    },
    {
     "data": {
      "image/png": "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\n",
      "text/plain": [
       "<Figure size 792x1152 with 20 Axes>"
      ]
     },
     "metadata": {},
     "output_type": "display_data"
    }
   ],
   "source": [
    "df.hist(figsize = (11,16))"
   ]
  },
  {
   "cell_type": "markdown",
   "metadata": {},
   "source": [
    "#### Separating out by continuous and categorical data.\n",
    "Below is code for separating out the columns to find out what is categorical and what is quatitative.  "
   ]
  },
  {
   "cell_type": "code",
<<<<<<< HEAD
   "execution_count": 52,
=======
<<<<<<< HEAD
   "execution_count": 52,
=======
   "execution_count": 711,
>>>>>>> a111dda47325c356f7c89042190a97afe170c3fb
>>>>>>> 17c301b8b565049214a01aea658af63c76cab4af
   "metadata": {},
   "outputs": [],
   "source": [
    "conts= []\n",
    "cats= []\n",
    "for col in df.columns:\n",
    "    if (df[col].nunique() < 25):\n",
    "        cats.append(col)\n",
    "    else: \n",
    "        conts.append(col)"
   ]
  },
  {
   "cell_type": "code",
<<<<<<< HEAD
   "execution_count": 53,
=======
<<<<<<< HEAD
   "execution_count": 53,
=======
   "execution_count": 712,
>>>>>>> a111dda47325c356f7c89042190a97afe170c3fb
>>>>>>> 17c301b8b565049214a01aea658af63c76cab4af
   "metadata": {},
   "outputs": [],
   "source": [
    "df_conts = df.loc[:,conts]"
   ]
  },
  {
   "cell_type": "code",
<<<<<<< HEAD
   "execution_count": 54,
=======
<<<<<<< HEAD
   "execution_count": 54,
=======
   "execution_count": 713,
>>>>>>> a111dda47325c356f7c89042190a97afe170c3fb
>>>>>>> 17c301b8b565049214a01aea658af63c76cab4af
   "metadata": {},
   "outputs": [
    {
     "data": {
      "text/plain": [
       "array([[<AxesSubplot:title={'center':'id'}>,\n",
       "        <AxesSubplot:title={'center':'price'}>,\n",
       "        <AxesSubplot:title={'center':'bathrooms'}>,\n",
       "        <AxesSubplot:title={'center':'sqft_living'}>],\n",
       "       [<AxesSubplot:title={'center':'sqft_lot'}>,\n",
       "        <AxesSubplot:title={'center':'sqft_above'}>,\n",
       "        <AxesSubplot:title={'center':'yr_built'}>,\n",
       "        <AxesSubplot:title={'center':'yr_renovated'}>],\n",
       "       [<AxesSubplot:title={'center':'zipcode'}>,\n",
       "        <AxesSubplot:title={'center':'lat'}>,\n",
       "        <AxesSubplot:title={'center':'long'}>,\n",
       "        <AxesSubplot:title={'center':'sqft_living15'}>],\n",
       "       [<AxesSubplot:title={'center':'sqft_lot15'}>, <AxesSubplot:>,\n",
       "        <AxesSubplot:>, <AxesSubplot:>]], dtype=object)"
      ]
     },
<<<<<<< HEAD
     "execution_count": 54,
=======
<<<<<<< HEAD
     "execution_count": 54,
=======
     "execution_count": 713,
>>>>>>> a111dda47325c356f7c89042190a97afe170c3fb
>>>>>>> 17c301b8b565049214a01aea658af63c76cab4af
     "metadata": {},
     "output_type": "execute_result"
    },
    {
     "data": {
      "image/png": "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\n",
      "text/plain": [
       "<Figure size 648x864 with 16 Axes>"
      ]
     },
     "metadata": {},
     "output_type": "display_data"
    }
   ],
   "source": [
    "df_conts.hist(figsize = (9,12))"
   ]
  },
  {
   "cell_type": "code",
<<<<<<< HEAD
   "execution_count": 55,
=======
<<<<<<< HEAD
   "execution_count": 55,
=======
   "execution_count": 714,
>>>>>>> a111dda47325c356f7c89042190a97afe170c3fb
>>>>>>> 17c301b8b565049214a01aea658af63c76cab4af
   "metadata": {},
   "outputs": [],
   "source": [
    "df_cats = df.loc[:,cats]"
   ]
  },
  {
   "cell_type": "code",
<<<<<<< HEAD
   "execution_count": 56,
=======
<<<<<<< HEAD
   "execution_count": 56,
=======
   "execution_count": null,
   "metadata": {},
   "outputs": [],
   "source": []
  },
  {
   "cell_type": "code",
   "execution_count": 715,
>>>>>>> a111dda47325c356f7c89042190a97afe170c3fb
>>>>>>> 17c301b8b565049214a01aea658af63c76cab4af
   "metadata": {},
   "outputs": [
    {
     "data": {
      "text/plain": [
       "array([[<AxesSubplot:title={'center':'bedrooms'}>,\n",
       "        <AxesSubplot:title={'center':'floors'}>],\n",
       "       [<AxesSubplot:title={'center':'waterfront'}>,\n",
       "        <AxesSubplot:title={'center':'view'}>],\n",
       "       [<AxesSubplot:title={'center':'condition'}>,\n",
       "        <AxesSubplot:title={'center':'grade'}>]], dtype=object)"
      ]
     },
<<<<<<< HEAD
     "execution_count": 56,
=======
<<<<<<< HEAD
     "execution_count": 56,
=======
     "execution_count": 715,
>>>>>>> a111dda47325c356f7c89042190a97afe170c3fb
>>>>>>> 17c301b8b565049214a01aea658af63c76cab4af
     "metadata": {},
     "output_type": "execute_result"
    },
    {
     "data": {
      "image/png": "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\n",
      "text/plain": [
       "<Figure size 648x864 with 6 Axes>"
      ]
     },
     "metadata": {},
     "output_type": "display_data"
    }
   ],
   "source": [
    "df_cats.hist(figsize = (9,12))"
   ]
  },
  {
   "cell_type": "code",
<<<<<<< HEAD
   "execution_count": 57,
=======
<<<<<<< HEAD
   "execution_count": 57,
=======
   "execution_count": 716,
>>>>>>> a111dda47325c356f7c89042190a97afe170c3fb
>>>>>>> 17c301b8b565049214a01aea658af63c76cab4af
   "metadata": {},
   "outputs": [
    {
     "data": {
      "text/plain": [
       "['id',\n",
       " 'price',\n",
       " 'bathrooms',\n",
       " 'sqft_living',\n",
       " 'sqft_lot',\n",
       " 'sqft_above',\n",
       " 'yr_built',\n",
       " 'yr_renovated',\n",
       " 'zipcode',\n",
       " 'lat',\n",
       " 'long',\n",
       " 'sqft_living15',\n",
       " 'sqft_lot15']"
      ]
     },
<<<<<<< HEAD
     "execution_count": 57,
=======
<<<<<<< HEAD
     "execution_count": 57,
=======
     "execution_count": 716,
>>>>>>> a111dda47325c356f7c89042190a97afe170c3fb
>>>>>>> 17c301b8b565049214a01aea658af63c76cab4af
     "metadata": {},
     "output_type": "execute_result"
    }
   ],
   "source": [
    "list(df_conts.columns)"
   ]
  },
  {
   "cell_type": "code",
<<<<<<< HEAD
   "execution_count": 58,
=======
<<<<<<< HEAD
   "execution_count": 58,
=======
   "execution_count": 717,
>>>>>>> a111dda47325c356f7c89042190a97afe170c3fb
>>>>>>> 17c301b8b565049214a01aea658af63c76cab4af
   "metadata": {},
   "outputs": [
    {
     "data": {
      "text/plain": [
       "['bedrooms', 'floors', 'waterfront', 'view', 'condition', 'grade']"
      ]
     },
<<<<<<< HEAD
     "execution_count": 58,
=======
<<<<<<< HEAD
     "execution_count": 58,
=======
     "execution_count": 717,
>>>>>>> a111dda47325c356f7c89042190a97afe170c3fb
>>>>>>> 17c301b8b565049214a01aea658af63c76cab4af
     "metadata": {},
     "output_type": "execute_result"
    }
   ],
   "source": [
    "list(df_cats.columns)"
   ]
  },
  {
   "cell_type": "markdown",
   "metadata": {},
   "source": [
    "### Removing outliers\n",
    "I really wanted to use a z score because of the fact that it is more agressive and requires less time picking through individual columns.  This data set was large enough that I was able to use the z score method with a little additional cleaning."
   ]
  },
  {
   "cell_type": "markdown",
   "metadata": {},
   "source": [
    "#### yr_renovated\n",
    "yr_renovated is an important column for this expoloratory analysis. However because most of the homes have not been renovated they are marked with 0 and therefore it is hard to make this appear as continuous data with out splitting up the data frame. It also becomes thrown off when put into a z score. This means for the final model I think I am going to end up dropping this column and exploring the data associated with this column in separate notebooks."
   ]
  },
  {
   "cell_type": "code",
<<<<<<< HEAD
   "execution_count": 59,
=======
<<<<<<< HEAD
   "execution_count": 59,
=======
   "execution_count": null,
   "metadata": {},
   "outputs": [],
   "source": []
  },
  {
   "cell_type": "code",
   "execution_count": 718,
>>>>>>> a111dda47325c356f7c89042190a97afe170c3fb
>>>>>>> 17c301b8b565049214a01aea658af63c76cab4af
   "metadata": {},
   "outputs": [],
   "source": [
    "z_scores = stats.zscore(df)\n",
    "abs_z_scores = np.abs(z_scores)\n",
    "filtered_entries = (abs_z_scores < 3).all(axis=1)\n",
    "df = df[filtered_entries]"
   ]
  },
  {
<<<<<<< HEAD
   "cell_type": "code",
   "execution_count": 60,
   "metadata": {},
   "outputs": [
    {
     "data": {
      "text/plain": [
       "array([[<AxesSubplot:title={'center':'id'}>,\n",
       "        <AxesSubplot:title={'center':'price'}>,\n",
       "        <AxesSubplot:title={'center':'bedrooms'}>,\n",
       "        <AxesSubplot:title={'center':'bathrooms'}>],\n",
       "       [<AxesSubplot:title={'center':'sqft_living'}>,\n",
       "        <AxesSubplot:title={'center':'sqft_lot'}>,\n",
       "        <AxesSubplot:title={'center':'floors'}>,\n",
       "        <AxesSubplot:title={'center':'waterfront'}>],\n",
       "       [<AxesSubplot:title={'center':'view'}>,\n",
       "        <AxesSubplot:title={'center':'condition'}>,\n",
       "        <AxesSubplot:title={'center':'grade'}>,\n",
       "        <AxesSubplot:title={'center':'sqft_above'}>],\n",
       "       [<AxesSubplot:title={'center':'yr_built'}>,\n",
       "        <AxesSubplot:title={'center':'yr_renovated'}>,\n",
       "        <AxesSubplot:title={'center':'zipcode'}>,\n",
       "        <AxesSubplot:title={'center':'lat'}>],\n",
       "       [<AxesSubplot:title={'center':'long'}>,\n",
       "        <AxesSubplot:title={'center':'sqft_living15'}>,\n",
       "        <AxesSubplot:title={'center':'sqft_lot15'}>, <AxesSubplot:>]],\n",
       "      dtype=object)"
      ]
     },
     "execution_count": 60,
     "metadata": {},
     "output_type": "execute_result"
    },
    {
     "data": {
      "image/png": "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\n",
      "text/plain": [
       "<Figure size 864x1152 with 20 Axes>"
      ]
     },
     "metadata": {},
     "output_type": "display_data"
    }
   ],
   "source": [
    "\n",
    "df.hist(figsize = (12,16))"
   ]
  },
  {
=======
>>>>>>> a111dda47325c356f7c89042190a97afe170c3fb
   "cell_type": "markdown",
   "metadata": {},
   "source": [
    "###  Correlation and Multicollinearity."
   ]
  },
  {
   "cell_type": "code",
<<<<<<< HEAD
   "execution_count": 60,
=======
<<<<<<< HEAD
   "execution_count": 61,
=======
   "execution_count": 719,
>>>>>>> a111dda47325c356f7c89042190a97afe170c3fb
>>>>>>> 17c301b8b565049214a01aea658af63c76cab4af
   "metadata": {},
   "outputs": [
    {
     "data": {
      "text/html": [
       "<div>\n",
       "<style scoped>\n",
       "    .dataframe tbody tr th:only-of-type {\n",
       "        vertical-align: middle;\n",
       "    }\n",
       "\n",
       "    .dataframe tbody tr th {\n",
       "        vertical-align: top;\n",
       "    }\n",
       "\n",
       "    .dataframe thead th {\n",
       "        text-align: right;\n",
       "    }\n",
       "</style>\n",
       "<table border=\"1\" class=\"dataframe\">\n",
       "  <thead>\n",
       "    <tr style=\"text-align: right;\">\n",
       "      <th></th>\n",
       "      <th>id</th>\n",
       "      <th>price</th>\n",
       "      <th>bedrooms</th>\n",
       "      <th>bathrooms</th>\n",
       "      <th>sqft_living</th>\n",
       "      <th>sqft_lot</th>\n",
       "      <th>floors</th>\n",
       "      <th>waterfront</th>\n",
       "      <th>view</th>\n",
       "      <th>condition</th>\n",
       "      <th>grade</th>\n",
       "      <th>sqft_above</th>\n",
       "      <th>yr_built</th>\n",
       "      <th>yr_renovated</th>\n",
       "      <th>zipcode</th>\n",
       "      <th>lat</th>\n",
       "      <th>long</th>\n",
       "      <th>sqft_living15</th>\n",
       "      <th>sqft_lot15</th>\n",
       "    </tr>\n",
       "  </thead>\n",
       "  <tbody>\n",
       "    <tr>\n",
       "      <th>id</th>\n",
       "      <td>1.000000</td>\n",
       "      <td>0.002103</td>\n",
       "      <td>0.010158</td>\n",
       "      <td>0.029897</td>\n",
       "      <td>0.021317</td>\n",
       "      <td>-0.118189</td>\n",
       "      <td>0.032503</td>\n",
       "      <td>NaN</td>\n",
       "      <td>0.019919</td>\n",
       "      <td>-0.029400</td>\n",
       "      <td>0.033633</td>\n",
       "      <td>0.026770</td>\n",
       "      <td>0.038664</td>\n",
       "      <td>NaN</td>\n",
       "      <td>-0.019391</td>\n",
       "      <td>-0.013680</td>\n",
       "      <td>0.050120</td>\n",
       "      <td>0.022516</td>\n",
       "      <td>-0.110257</td>\n",
       "    </tr>\n",
       "    <tr>\n",
       "      <th>price</th>\n",
       "      <td>0.002103</td>\n",
       "      <td>1.000000</td>\n",
       "      <td>0.307282</td>\n",
       "      <td>0.445645</td>\n",
       "      <td>0.627371</td>\n",
       "      <td>0.099006</td>\n",
       "      <td>0.273268</td>\n",
       "      <td>NaN</td>\n",
       "      <td>0.195505</td>\n",
       "      <td>0.050880</td>\n",
       "      <td>0.636901</td>\n",
       "      <td>0.535921</td>\n",
       "      <td>0.063676</td>\n",
       "      <td>NaN</td>\n",
       "      <td>-0.040487</td>\n",
       "      <td>0.429493</td>\n",
       "      <td>0.076473</td>\n",
       "      <td>0.553979</td>\n",
       "      <td>0.091380</td>\n",
       "    </tr>\n",
       "    <tr>\n",
       "      <th>bedrooms</th>\n",
       "      <td>0.010158</td>\n",
       "      <td>0.307282</td>\n",
       "      <td>1.000000</td>\n",
       "      <td>0.491848</td>\n",
       "      <td>0.613787</td>\n",
       "      <td>0.114475</td>\n",
       "      <td>0.158953</td>\n",
       "      <td>NaN</td>\n",
       "      <td>0.048182</td>\n",
       "      <td>0.022281</td>\n",
       "      <td>0.341140</td>\n",
       "      <td>0.485935</td>\n",
       "      <td>0.176054</td>\n",
       "      <td>NaN</td>\n",
       "      <td>-0.172980</td>\n",
       "      <td>-0.039415</td>\n",
       "      <td>0.178512</td>\n",
       "      <td>0.412335</td>\n",
       "      <td>0.117993</td>\n",
       "    </tr>\n",
       "    <tr>\n",
       "      <th>bathrooms</th>\n",
       "      <td>0.029897</td>\n",
       "      <td>0.445645</td>\n",
       "      <td>0.491848</td>\n",
       "      <td>1.000000</td>\n",
       "      <td>0.709140</td>\n",
       "      <td>0.059099</td>\n",
       "      <td>0.514080</td>\n",
       "      <td>NaN</td>\n",
       "      <td>0.066472</td>\n",
       "      <td>-0.145309</td>\n",
       "      <td>0.619367</td>\n",
       "      <td>0.628483</td>\n",
       "      <td>0.582368</td>\n",
       "      <td>NaN</td>\n",
       "      <td>-0.226793</td>\n",
       "      <td>-0.001226</td>\n",
       "      <td>0.284427</td>\n",
       "      <td>0.539058</td>\n",
       "      <td>0.065158</td>\n",
       "    </tr>\n",
       "    <tr>\n",
       "      <th>sqft_living</th>\n",
       "      <td>0.021317</td>\n",
       "      <td>0.627371</td>\n",
       "      <td>0.613787</td>\n",
       "      <td>0.709140</td>\n",
       "      <td>1.000000</td>\n",
       "      <td>0.231026</td>\n",
       "      <td>0.348100</td>\n",
       "      <td>NaN</td>\n",
       "      <td>0.135294</td>\n",
       "      <td>-0.069404</td>\n",
       "      <td>0.714134</td>\n",
       "      <td>0.850045</td>\n",
       "      <td>0.365070</td>\n",
       "      <td>NaN</td>\n",
       "      <td>-0.223851</td>\n",
       "      <td>0.033990</td>\n",
       "      <td>0.312916</td>\n",
       "      <td>0.751380</td>\n",
       "      <td>0.235187</td>\n",
       "    </tr>\n",
       "    <tr>\n",
       "      <th>sqft_lot</th>\n",
       "      <td>-0.118189</td>\n",
       "      <td>0.099006</td>\n",
       "      <td>0.114475</td>\n",
       "      <td>0.059099</td>\n",
       "      <td>0.231026</td>\n",
       "      <td>1.000000</td>\n",
       "      <td>-0.105253</td>\n",
       "      <td>NaN</td>\n",
       "      <td>0.028517</td>\n",
       "      <td>0.046079</td>\n",
       "      <td>0.141615</td>\n",
       "      <td>0.205397</td>\n",
       "      <td>0.017849</td>\n",
       "      <td>NaN</td>\n",
       "      <td>-0.180536</td>\n",
       "      <td>-0.051435</td>\n",
       "      <td>0.271369</td>\n",
       "      <td>0.271223</td>\n",
       "      <td>0.817852</td>\n",
       "    </tr>\n",
       "    <tr>\n",
       "      <th>floors</th>\n",
       "      <td>0.032503</td>\n",
       "      <td>0.273268</td>\n",
       "      <td>0.158953</td>\n",
       "      <td>0.514080</td>\n",
       "      <td>0.348100</td>\n",
       "      <td>-0.105253</td>\n",
       "      <td>1.000000</td>\n",
       "      <td>NaN</td>\n",
       "      <td>-0.022001</td>\n",
       "      <td>-0.286539</td>\n",
       "      <td>0.466357</td>\n",
       "      <td>0.539260</td>\n",
       "      <td>0.531758</td>\n",
       "      <td>NaN</td>\n",
       "      <td>-0.066477</td>\n",
       "      <td>0.044664</td>\n",
       "      <td>0.156409</td>\n",
       "      <td>0.276374</td>\n",
       "      <td>-0.108478</td>\n",
       "    </tr>\n",
       "    <tr>\n",
       "      <th>waterfront</th>\n",
       "      <td>NaN</td>\n",
       "      <td>NaN</td>\n",
       "      <td>NaN</td>\n",
       "      <td>NaN</td>\n",
       "      <td>NaN</td>\n",
       "      <td>NaN</td>\n",
       "      <td>NaN</td>\n",
       "      <td>NaN</td>\n",
       "      <td>NaN</td>\n",
       "      <td>NaN</td>\n",
       "      <td>NaN</td>\n",
       "      <td>NaN</td>\n",
       "      <td>NaN</td>\n",
       "      <td>NaN</td>\n",
       "      <td>NaN</td>\n",
       "      <td>NaN</td>\n",
       "      <td>NaN</td>\n",
       "      <td>NaN</td>\n",
       "      <td>NaN</td>\n",
       "    </tr>\n",
       "    <tr>\n",
       "      <th>view</th>\n",
       "      <td>0.019919</td>\n",
       "      <td>0.195505</td>\n",
       "      <td>0.048182</td>\n",
       "      <td>0.066472</td>\n",
       "      <td>0.135294</td>\n",
       "      <td>0.028517</td>\n",
       "      <td>-0.022001</td>\n",
       "      <td>NaN</td>\n",
       "      <td>1.000000</td>\n",
       "      <td>0.040376</td>\n",
       "      <td>0.113416</td>\n",
       "      <td>0.048599</td>\n",
       "      <td>-0.063688</td>\n",
       "      <td>NaN</td>\n",
       "      <td>0.078877</td>\n",
       "      <td>0.009735</td>\n",
       "      <td>-0.070015</td>\n",
       "      <td>0.151508</td>\n",
       "      <td>0.018097</td>\n",
       "    </tr>\n",
       "    <tr>\n",
       "      <th>condition</th>\n",
       "      <td>-0.029400</td>\n",
       "      <td>0.050880</td>\n",
       "      <td>0.022281</td>\n",
       "      <td>-0.145309</td>\n",
       "      <td>-0.069404</td>\n",
       "      <td>0.046079</td>\n",
       "      <td>-0.286539</td>\n",
       "      <td>NaN</td>\n",
       "      <td>0.040376</td>\n",
       "      <td>1.000000</td>\n",
       "      <td>-0.180546</td>\n",
       "      <td>-0.181787</td>\n",
       "      <td>-0.403117</td>\n",
       "      <td>NaN</td>\n",
       "      <td>-0.001660</td>\n",
       "      <td>-0.015314</td>\n",
       "      <td>-0.101743</td>\n",
       "      <td>-0.119648</td>\n",
       "      <td>0.057708</td>\n",
       "    </tr>\n",
       "    <tr>\n",
       "      <th>grade</th>\n",
       "      <td>0.033633</td>\n",
       "      <td>0.636901</td>\n",
       "      <td>0.341140</td>\n",
       "      <td>0.619367</td>\n",
       "      <td>0.714134</td>\n",
       "      <td>0.141615</td>\n",
       "      <td>0.466357</td>\n",
       "      <td>NaN</td>\n",
       "      <td>0.113416</td>\n",
       "      <td>-0.180546</td>\n",
       "      <td>1.000000</td>\n",
       "      <td>0.717274</td>\n",
       "      <td>0.493606</td>\n",
       "      <td>NaN</td>\n",
       "      <td>-0.200667</td>\n",
       "      <td>0.104685</td>\n",
       "      <td>0.254202</td>\n",
       "      <td>0.680843</td>\n",
       "      <td>0.153650</td>\n",
       "    </tr>\n",
       "    <tr>\n",
       "      <th>sqft_above</th>\n",
       "      <td>0.026770</td>\n",
       "      <td>0.535921</td>\n",
       "      <td>0.485935</td>\n",
       "      <td>0.628483</td>\n",
       "      <td>0.850045</td>\n",
       "      <td>0.205397</td>\n",
       "      <td>0.539260</td>\n",
       "      <td>NaN</td>\n",
       "      <td>0.048599</td>\n",
       "      <td>-0.181787</td>\n",
       "      <td>0.717274</td>\n",
       "      <td>1.000000</td>\n",
       "      <td>0.470118</td>\n",
       "      <td>NaN</td>\n",
       "      <td>-0.284553</td>\n",
       "      <td>-0.019839</td>\n",
       "      <td>0.419108</td>\n",
       "      <td>0.729456</td>\n",
       "      <td>0.215106</td>\n",
       "    </tr>\n",
       "    <tr>\n",
       "      <th>yr_built</th>\n",
       "      <td>0.038664</td>\n",
       "      <td>0.063676</td>\n",
       "      <td>0.176054</td>\n",
       "      <td>0.582368</td>\n",
       "      <td>0.365070</td>\n",
       "      <td>0.017849</td>\n",
       "      <td>0.531758</td>\n",
       "      <td>NaN</td>\n",
       "      <td>-0.063688</td>\n",
       "      <td>-0.403117</td>\n",
       "      <td>0.493606</td>\n",
       "      <td>0.470118</td>\n",
       "      <td>1.000000</td>\n",
       "      <td>NaN</td>\n",
       "      <td>-0.335306</td>\n",
       "      <td>-0.149856</td>\n",
       "      <td>0.425333</td>\n",
       "      <td>0.352500</td>\n",
       "      <td>0.038188</td>\n",
       "    </tr>\n",
       "    <tr>\n",
       "      <th>yr_renovated</th>\n",
       "      <td>NaN</td>\n",
       "      <td>NaN</td>\n",
       "      <td>NaN</td>\n",
       "      <td>NaN</td>\n",
       "      <td>NaN</td>\n",
       "      <td>NaN</td>\n",
       "      <td>NaN</td>\n",
       "      <td>NaN</td>\n",
       "      <td>NaN</td>\n",
       "      <td>NaN</td>\n",
       "      <td>NaN</td>\n",
       "      <td>NaN</td>\n",
       "      <td>NaN</td>\n",
       "      <td>NaN</td>\n",
       "      <td>NaN</td>\n",
       "      <td>NaN</td>\n",
       "      <td>NaN</td>\n",
       "      <td>NaN</td>\n",
       "      <td>NaN</td>\n",
       "    </tr>\n",
       "    <tr>\n",
       "      <th>zipcode</th>\n",
       "      <td>-0.019391</td>\n",
       "      <td>-0.040487</td>\n",
       "      <td>-0.172980</td>\n",
       "      <td>-0.226793</td>\n",
       "      <td>-0.223851</td>\n",
       "      <td>-0.180536</td>\n",
       "      <td>-0.066477</td>\n",
       "      <td>NaN</td>\n",
       "      <td>0.078877</td>\n",
       "      <td>-0.001660</td>\n",
       "      <td>-0.200667</td>\n",
       "      <td>-0.284553</td>\n",
       "      <td>-0.335306</td>\n",
       "      <td>NaN</td>\n",
       "      <td>1.000000</td>\n",
       "      <td>0.279232</td>\n",
       "      <td>-0.572892</td>\n",
       "      <td>-0.306799</td>\n",
       "      <td>-0.199087</td>\n",
       "    </tr>\n",
       "    <tr>\n",
       "      <th>lat</th>\n",
       "      <td>-0.013680</td>\n",
       "      <td>0.429493</td>\n",
       "      <td>-0.039415</td>\n",
       "      <td>-0.001226</td>\n",
       "      <td>0.033990</td>\n",
       "      <td>-0.051435</td>\n",
       "      <td>0.044664</td>\n",
       "      <td>NaN</td>\n",
       "      <td>0.009735</td>\n",
       "      <td>-0.015314</td>\n",
       "      <td>0.104685</td>\n",
       "      <td>-0.019839</td>\n",
       "      <td>-0.149856</td>\n",
       "      <td>NaN</td>\n",
       "      <td>0.279232</td>\n",
       "      <td>1.000000</td>\n",
       "      <td>-0.122116</td>\n",
       "      <td>0.025301</td>\n",
       "      <td>-0.055005</td>\n",
       "    </tr>\n",
       "    <tr>\n",
       "      <th>long</th>\n",
       "      <td>0.050120</td>\n",
       "      <td>0.076473</td>\n",
       "      <td>0.178512</td>\n",
       "      <td>0.284427</td>\n",
       "      <td>0.312916</td>\n",
       "      <td>0.271369</td>\n",
       "      <td>0.156409</td>\n",
       "      <td>NaN</td>\n",
       "      <td>-0.070015</td>\n",
       "      <td>-0.101743</td>\n",
       "      <td>0.254202</td>\n",
       "      <td>0.419108</td>\n",
       "      <td>0.425333</td>\n",
       "      <td>NaN</td>\n",
       "      <td>-0.572892</td>\n",
       "      <td>-0.122116</td>\n",
       "      <td>1.000000</td>\n",
       "      <td>0.414422</td>\n",
       "      <td>0.304833</td>\n",
       "    </tr>\n",
       "    <tr>\n",
       "      <th>sqft_living15</th>\n",
       "      <td>0.022516</td>\n",
       "      <td>0.553979</td>\n",
       "      <td>0.412335</td>\n",
       "      <td>0.539058</td>\n",
       "      <td>0.751380</td>\n",
       "      <td>0.271223</td>\n",
       "      <td>0.276374</td>\n",
       "      <td>NaN</td>\n",
       "      <td>0.151508</td>\n",
       "      <td>-0.119648</td>\n",
       "      <td>0.680843</td>\n",
       "      <td>0.729456</td>\n",
       "      <td>0.352500</td>\n",
       "      <td>NaN</td>\n",
       "      <td>-0.306799</td>\n",
       "      <td>0.025301</td>\n",
       "      <td>0.414422</td>\n",
       "      <td>1.000000</td>\n",
       "      <td>0.297170</td>\n",
       "    </tr>\n",
       "    <tr>\n",
       "      <th>sqft_lot15</th>\n",
       "      <td>-0.110257</td>\n",
       "      <td>0.091380</td>\n",
       "      <td>0.117993</td>\n",
       "      <td>0.065158</td>\n",
       "      <td>0.235187</td>\n",
       "      <td>0.817852</td>\n",
       "      <td>-0.108478</td>\n",
       "      <td>NaN</td>\n",
       "      <td>0.018097</td>\n",
       "      <td>0.057708</td>\n",
       "      <td>0.153650</td>\n",
       "      <td>0.215106</td>\n",
       "      <td>0.038188</td>\n",
       "      <td>NaN</td>\n",
       "      <td>-0.199087</td>\n",
       "      <td>-0.055005</td>\n",
       "      <td>0.304833</td>\n",
       "      <td>0.297170</td>\n",
       "      <td>1.000000</td>\n",
       "    </tr>\n",
       "  </tbody>\n",
       "</table>\n",
       "</div>"
      ],
      "text/plain": [
       "                     id     price  bedrooms  bathrooms  sqft_living  sqft_lot  \\\n",
       "id             1.000000  0.002103  0.010158   0.029897     0.021317 -0.118189   \n",
       "price          0.002103  1.000000  0.307282   0.445645     0.627371  0.099006   \n",
       "bedrooms       0.010158  0.307282  1.000000   0.491848     0.613787  0.114475   \n",
       "bathrooms      0.029897  0.445645  0.491848   1.000000     0.709140  0.059099   \n",
       "sqft_living    0.021317  0.627371  0.613787   0.709140     1.000000  0.231026   \n",
       "sqft_lot      -0.118189  0.099006  0.114475   0.059099     0.231026  1.000000   \n",
       "floors         0.032503  0.273268  0.158953   0.514080     0.348100 -0.105253   \n",
       "waterfront          NaN       NaN       NaN        NaN          NaN       NaN   \n",
       "view           0.019919  0.195505  0.048182   0.066472     0.135294  0.028517   \n",
       "condition     -0.029400  0.050880  0.022281  -0.145309    -0.069404  0.046079   \n",
       "grade          0.033633  0.636901  0.341140   0.619367     0.714134  0.141615   \n",
       "sqft_above     0.026770  0.535921  0.485935   0.628483     0.850045  0.205397   \n",
       "yr_built       0.038664  0.063676  0.176054   0.582368     0.365070  0.017849   \n",
       "yr_renovated        NaN       NaN       NaN        NaN          NaN       NaN   \n",
       "zipcode       -0.019391 -0.040487 -0.172980  -0.226793    -0.223851 -0.180536   \n",
       "lat           -0.013680  0.429493 -0.039415  -0.001226     0.033990 -0.051435   \n",
       "long           0.050120  0.076473  0.178512   0.284427     0.312916  0.271369   \n",
       "sqft_living15  0.022516  0.553979  0.412335   0.539058     0.751380  0.271223   \n",
       "sqft_lot15    -0.110257  0.091380  0.117993   0.065158     0.235187  0.817852   \n",
       "\n",
       "                 floors  waterfront      view  condition     grade  \\\n",
       "id             0.032503         NaN  0.019919  -0.029400  0.033633   \n",
       "price          0.273268         NaN  0.195505   0.050880  0.636901   \n",
       "bedrooms       0.158953         NaN  0.048182   0.022281  0.341140   \n",
       "bathrooms      0.514080         NaN  0.066472  -0.145309  0.619367   \n",
       "sqft_living    0.348100         NaN  0.135294  -0.069404  0.714134   \n",
       "sqft_lot      -0.105253         NaN  0.028517   0.046079  0.141615   \n",
       "floors         1.000000         NaN -0.022001  -0.286539  0.466357   \n",
       "waterfront          NaN         NaN       NaN        NaN       NaN   \n",
       "view          -0.022001         NaN  1.000000   0.040376  0.113416   \n",
       "condition     -0.286539         NaN  0.040376   1.000000 -0.180546   \n",
       "grade          0.466357         NaN  0.113416  -0.180546  1.000000   \n",
       "sqft_above     0.539260         NaN  0.048599  -0.181787  0.717274   \n",
       "yr_built       0.531758         NaN -0.063688  -0.403117  0.493606   \n",
       "yr_renovated        NaN         NaN       NaN        NaN       NaN   \n",
       "zipcode       -0.066477         NaN  0.078877  -0.001660 -0.200667   \n",
       "lat            0.044664         NaN  0.009735  -0.015314  0.104685   \n",
       "long           0.156409         NaN -0.070015  -0.101743  0.254202   \n",
       "sqft_living15  0.276374         NaN  0.151508  -0.119648  0.680843   \n",
       "sqft_lot15    -0.108478         NaN  0.018097   0.057708  0.153650   \n",
       "\n",
       "               sqft_above  yr_built  yr_renovated   zipcode       lat  \\\n",
       "id               0.026770  0.038664           NaN -0.019391 -0.013680   \n",
       "price            0.535921  0.063676           NaN -0.040487  0.429493   \n",
       "bedrooms         0.485935  0.176054           NaN -0.172980 -0.039415   \n",
       "bathrooms        0.628483  0.582368           NaN -0.226793 -0.001226   \n",
       "sqft_living      0.850045  0.365070           NaN -0.223851  0.033990   \n",
       "sqft_lot         0.205397  0.017849           NaN -0.180536 -0.051435   \n",
       "floors           0.539260  0.531758           NaN -0.066477  0.044664   \n",
       "waterfront            NaN       NaN           NaN       NaN       NaN   \n",
       "view             0.048599 -0.063688           NaN  0.078877  0.009735   \n",
       "condition       -0.181787 -0.403117           NaN -0.001660 -0.015314   \n",
       "grade            0.717274  0.493606           NaN -0.200667  0.104685   \n",
       "sqft_above       1.000000  0.470118           NaN -0.284553 -0.019839   \n",
       "yr_built         0.470118  1.000000           NaN -0.335306 -0.149856   \n",
       "yr_renovated          NaN       NaN           NaN       NaN       NaN   \n",
       "zipcode         -0.284553 -0.335306           NaN  1.000000  0.279232   \n",
       "lat             -0.019839 -0.149856           NaN  0.279232  1.000000   \n",
       "long             0.419108  0.425333           NaN -0.572892 -0.122116   \n",
       "sqft_living15    0.729456  0.352500           NaN -0.306799  0.025301   \n",
       "sqft_lot15       0.215106  0.038188           NaN -0.199087 -0.055005   \n",
       "\n",
       "                   long  sqft_living15  sqft_lot15  \n",
       "id             0.050120       0.022516   -0.110257  \n",
       "price          0.076473       0.553979    0.091380  \n",
       "bedrooms       0.178512       0.412335    0.117993  \n",
       "bathrooms      0.284427       0.539058    0.065158  \n",
       "sqft_living    0.312916       0.751380    0.235187  \n",
       "sqft_lot       0.271369       0.271223    0.817852  \n",
       "floors         0.156409       0.276374   -0.108478  \n",
       "waterfront          NaN            NaN         NaN  \n",
       "view          -0.070015       0.151508    0.018097  \n",
       "condition     -0.101743      -0.119648    0.057708  \n",
       "grade          0.254202       0.680843    0.153650  \n",
       "sqft_above     0.419108       0.729456    0.215106  \n",
       "yr_built       0.425333       0.352500    0.038188  \n",
       "yr_renovated        NaN            NaN         NaN  \n",
       "zipcode       -0.572892      -0.306799   -0.199087  \n",
       "lat           -0.122116       0.025301   -0.055005  \n",
       "long           1.000000       0.414422    0.304833  \n",
       "sqft_living15  0.414422       1.000000    0.297170  \n",
       "sqft_lot15     0.304833       0.297170    1.000000  "
      ]
     },
<<<<<<< HEAD
     "execution_count": 60,
=======
<<<<<<< HEAD
     "execution_count": 61,
=======
     "execution_count": 719,
>>>>>>> a111dda47325c356f7c89042190a97afe170c3fb
>>>>>>> 17c301b8b565049214a01aea658af63c76cab4af
     "metadata": {},
     "output_type": "execute_result"
    }
   ],
   "source": [
    "#Checking the correlation between columns.\n",
    "#The Waterfront and yr_renovated columns ended up becoming NaN columns when passed through a correlation matrix.\n",
    "#This is due to the z score outlier removal method.  \n",
    "#It flags these columns with 0 as being outliers and therefore turns them into NaN values.\n",
    "#Since I don't feel I need these columns and I will be exploring renovation stats later I will end up dropping these.\n",
    "df.corr()"
   ]
  },
  {
   "cell_type": "code",
<<<<<<< HEAD
   "execution_count": 61,
=======
<<<<<<< HEAD
   "execution_count": 62,
=======
   "execution_count": 720,
>>>>>>> a111dda47325c356f7c89042190a97afe170c3fb
>>>>>>> 17c301b8b565049214a01aea658af63c76cab4af
   "metadata": {},
   "outputs": [
    {
     "data": {
      "text/plain": [
       "<AxesSubplot:>"
      ]
     },
<<<<<<< HEAD
     "execution_count": 61,
=======
<<<<<<< HEAD
     "execution_count": 62,
=======
     "execution_count": 720,
>>>>>>> a111dda47325c356f7c89042190a97afe170c3fb
>>>>>>> 17c301b8b565049214a01aea658af63c76cab4af
     "metadata": {},
     "output_type": "execute_result"
    },
    {
     "data": {
      "image/png": "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\n",
      "text/plain": [
       "<Figure size 576x504 with 2 Axes>"
      ]
     },
     "metadata": {},
     "output_type": "display_data"
    }
   ],
   "source": [
    "#Looking at the correlation between different columns to check for multicollinearity in a heat map.\n",
    "\n",
    "plt.figure(figsize = (8,7))\n",
    "sns.heatmap(df.corr(), cmap = 'RdBu')"
   ]
  },
  {
   "cell_type": "code",
<<<<<<< HEAD
   "execution_count": 62,
=======
<<<<<<< HEAD
   "execution_count": null,
   "metadata": {},
   "outputs": [],
   "source": []
  },
  {
   "cell_type": "code",
   "execution_count": 63,
   "metadata": {},
   "outputs": [
    {
     "name": "stdout",
     "output_type": "stream",
     "text": [
      "DATA BEFORE\n",
      "----------------------------------------------------------------------------------------------------\n"
     ]
    },
    {
     "name": "stderr",
     "output_type": "stream",
     "text": [
      "/Users/andrewozbun/opt/anaconda3/envs/learn-env/lib/python3.8/site-packages/statsmodels/regression/linear_model.py:1715: RuntimeWarning: divide by zero encountered in double_scalars\n",
      "  return 1 - self.ssr/self.centered_tss\n",
      "/Users/andrewozbun/opt/anaconda3/envs/learn-env/lib/python3.8/site-packages/statsmodels/regression/linear_model.py:1715: RuntimeWarning: invalid value encountered in double_scalars\n",
      "  return 1 - self.ssr/self.centered_tss\n"
     ]
    },
    {
     "data": {
      "text/plain": [
       "const            0.000000\n",
       "id               1.026574\n",
       "price            3.160182\n",
       "bedrooms         1.740007\n",
       "bathrooms        3.123254\n",
       "sqft_living      7.502357\n",
       "sqft_lot         3.070108\n",
       "floors           2.207445\n",
       "waterfront            NaN\n",
       "view             1.097415\n",
       "condition        1.301585\n",
       "grade            3.376855\n",
       "sqft_above       6.109861\n",
       "yr_built         2.748801\n",
       "yr_renovated          NaN\n",
       "zipcode          1.698021\n",
       "lat              1.561801\n",
       "long             1.980572\n",
       "sqft_living15    3.050122\n",
       "sqft_lot15       3.167950\n",
       "dtype: float64"
      ]
     },
     "metadata": {},
     "output_type": "display_data"
    },
    {
     "name": "stdout",
     "output_type": "stream",
     "text": [
      "DATA AFTER\n",
      "----------------------------------------------------------------------------------------------------\n"
     ]
    },
    {
=======
   "execution_count": 721,
>>>>>>> 17c301b8b565049214a01aea658af63c76cab4af
   "metadata": {},
   "outputs": [
    {
>>>>>>> a111dda47325c356f7c89042190a97afe170c3fb
     "data": {
      "text/html": [
       "<div>\n",
       "<style scoped>\n",
       "    .dataframe tbody tr th:only-of-type {\n",
       "        vertical-align: middle;\n",
       "    }\n",
       "\n",
       "    .dataframe tbody tr th {\n",
       "        vertical-align: top;\n",
       "    }\n",
       "\n",
       "    .dataframe thead th {\n",
       "        text-align: right;\n",
       "    }\n",
       "</style>\n",
       "<table border=\"1\" class=\"dataframe\">\n",
       "  <thead>\n",
       "    <tr style=\"text-align: right;\">\n",
       "      <th></th>\n",
       "      <th>id</th>\n",
       "      <th>price</th>\n",
       "      <th>bedrooms</th>\n",
       "      <th>bathrooms</th>\n",
       "      <th>sqft_living</th>\n",
       "      <th>sqft_lot</th>\n",
       "      <th>floors</th>\n",
       "      <th>waterfront</th>\n",
       "      <th>view</th>\n",
       "      <th>condition</th>\n",
       "      <th>grade</th>\n",
       "      <th>sqft_above</th>\n",
       "      <th>yr_built</th>\n",
       "      <th>yr_renovated</th>\n",
       "      <th>zipcode</th>\n",
       "      <th>lat</th>\n",
       "      <th>long</th>\n",
       "      <th>sqft_living15</th>\n",
       "      <th>sqft_lot15</th>\n",
       "      <th>neighborhoods</th>\n",
       "    </tr>\n",
       "  </thead>\n",
       "  <tbody>\n",
       "    <tr>\n",
       "      <th>3</th>\n",
       "      <td>2487200875</td>\n",
       "      <td>604000.0</td>\n",
       "      <td>4</td>\n",
       "      <td>3.00</td>\n",
       "      <td>1960</td>\n",
       "      <td>5000</td>\n",
       "      <td>1.0</td>\n",
       "      <td>0.0</td>\n",
       "      <td>0.0</td>\n",
       "      <td>5</td>\n",
       "      <td>7</td>\n",
       "      <td>1050</td>\n",
       "      <td>1965</td>\n",
       "      <td>0.0</td>\n",
       "      <td>98136</td>\n",
       "      <td>47.5208</td>\n",
       "      <td>-122.393</td>\n",
       "      <td>1360</td>\n",
       "      <td>5000</td>\n",
       "      <td>Seattle</td>\n",
       "    </tr>\n",
       "    <tr>\n",
       "      <th>4</th>\n",
       "      <td>1954400510</td>\n",
       "      <td>510000.0</td>\n",
       "      <td>3</td>\n",
       "      <td>2.00</td>\n",
       "      <td>1680</td>\n",
       "      <td>8080</td>\n",
       "      <td>1.0</td>\n",
       "      <td>0.0</td>\n",
       "      <td>0.0</td>\n",
       "      <td>3</td>\n",
       "      <td>8</td>\n",
       "      <td>1680</td>\n",
       "      <td>1987</td>\n",
       "      <td>0.0</td>\n",
       "      <td>98074</td>\n",
       "      <td>47.6168</td>\n",
       "      <td>-122.045</td>\n",
       "      <td>1800</td>\n",
       "      <td>7503</td>\n",
       "      <td>Sammammish</td>\n",
       "    </tr>\n",
       "    <tr>\n",
       "      <th>6</th>\n",
       "      <td>1321400060</td>\n",
       "      <td>257500.0</td>\n",
       "      <td>3</td>\n",
       "      <td>2.25</td>\n",
       "      <td>1715</td>\n",
       "      <td>6819</td>\n",
       "      <td>2.0</td>\n",
       "      <td>0.0</td>\n",
       "      <td>0.0</td>\n",
       "      <td>3</td>\n",
       "      <td>7</td>\n",
       "      <td>1715</td>\n",
       "      <td>1995</td>\n",
       "      <td>0.0</td>\n",
       "      <td>98003</td>\n",
       "      <td>47.3097</td>\n",
       "      <td>-122.327</td>\n",
       "      <td>2238</td>\n",
       "      <td>6819</td>\n",
       "      <td>Auburn</td>\n",
       "    </tr>\n",
       "    <tr>\n",
       "      <th>8</th>\n",
       "      <td>2414600126</td>\n",
       "      <td>229500.0</td>\n",
       "      <td>3</td>\n",
       "      <td>1.00</td>\n",
       "      <td>1780</td>\n",
       "      <td>7470</td>\n",
       "      <td>1.0</td>\n",
       "      <td>0.0</td>\n",
       "      <td>0.0</td>\n",
       "      <td>3</td>\n",
       "      <td>7</td>\n",
       "      <td>1050</td>\n",
       "      <td>1960</td>\n",
       "      <td>0.0</td>\n",
       "      <td>98146</td>\n",
       "      <td>47.5123</td>\n",
       "      <td>-122.337</td>\n",
       "      <td>1780</td>\n",
       "      <td>8113</td>\n",
       "      <td>Seattle</td>\n",
       "    </tr>\n",
       "    <tr>\n",
       "      <th>9</th>\n",
       "      <td>3793500160</td>\n",
       "      <td>323000.0</td>\n",
       "      <td>3</td>\n",
       "      <td>2.50</td>\n",
       "      <td>1890</td>\n",
       "      <td>6560</td>\n",
       "      <td>2.0</td>\n",
       "      <td>0.0</td>\n",
       "      <td>0.0</td>\n",
       "      <td>3</td>\n",
       "      <td>7</td>\n",
       "      <td>1890</td>\n",
       "      <td>2003</td>\n",
       "      <td>0.0</td>\n",
       "      <td>98038</td>\n",
       "      <td>47.3684</td>\n",
       "      <td>-122.031</td>\n",
       "      <td>2390</td>\n",
       "      <td>7570</td>\n",
       "      <td>Kirkland/Kent</td>\n",
       "    </tr>\n",
       "  </tbody>\n",
       "</table>\n",
       "</div>"
      ],
      "text/plain": [
       "           id     price  bedrooms  bathrooms  sqft_living  sqft_lot  floors  \\\n",
       "3  2487200875  604000.0         4       3.00         1960      5000     1.0   \n",
       "4  1954400510  510000.0         3       2.00         1680      8080     1.0   \n",
       "6  1321400060  257500.0         3       2.25         1715      6819     2.0   \n",
       "8  2414600126  229500.0         3       1.00         1780      7470     1.0   \n",
       "9  3793500160  323000.0         3       2.50         1890      6560     2.0   \n",
       "\n",
       "   waterfront  view  condition  grade  sqft_above  yr_built  yr_renovated  \\\n",
       "3         0.0   0.0          5      7        1050      1965           0.0   \n",
       "4         0.0   0.0          3      8        1680      1987           0.0   \n",
       "6         0.0   0.0          3      7        1715      1995           0.0   \n",
       "8         0.0   0.0          3      7        1050      1960           0.0   \n",
       "9         0.0   0.0          3      7        1890      2003           0.0   \n",
       "\n",
       "   zipcode      lat     long  sqft_living15  sqft_lot15  neighborhoods  \n",
       "3    98136  47.5208 -122.393           1360        5000        Seattle  \n",
       "4    98074  47.6168 -122.045           1800        7503     Sammammish  \n",
       "6    98003  47.3097 -122.327           2238        6819         Auburn  \n",
       "8    98146  47.5123 -122.337           1780        8113        Seattle  \n",
       "9    98038  47.3684 -122.031           2390        7570  Kirkland/Kent  "
      ]
     },
     "execution_count": 62,
     "metadata": {},
     "output_type": "execute_result"
    }
   ],
   "source": [
    "bins = [0, 98003, 98005, 98010, 98030, 98040, 98050, 98060, 98080, 98199]\n",
    "labels = ['Auburn', 'Bellvue', 'Black Diamond', 'Federal Way', 'Kirkland/Kent', 'Pacific', 'Renton', 'Sammammish', 'Seattle']\n",
    "df['neighborhoods'] = pd.cut(df['zipcode'], bins, labels = labels)\n",
    "\n",
<<<<<<< HEAD
=======
    "df.head()"
   ]
  },
  {
   "cell_type": "code",
   "execution_count": 63,
   "metadata": {},
   "outputs": [
    {
     "data": {
      "text/html": [
       "<div>\n",
       "<style scoped>\n",
       "    .dataframe tbody tr th:only-of-type {\n",
       "        vertical-align: middle;\n",
       "    }\n",
       "\n",
       "    .dataframe tbody tr th {\n",
       "        vertical-align: top;\n",
       "    }\n",
       "\n",
       "    .dataframe thead th {\n",
       "        text-align: right;\n",
       "    }\n",
       "</style>\n",
       "<table border=\"1\" class=\"dataframe\">\n",
       "  <thead>\n",
       "    <tr style=\"text-align: right;\">\n",
       "      <th></th>\n",
       "      <th>id</th>\n",
       "      <th>price</th>\n",
       "      <th>bedrooms</th>\n",
       "      <th>bathrooms</th>\n",
       "      <th>sqft_living</th>\n",
       "      <th>sqft_lot</th>\n",
       "      <th>floors</th>\n",
       "      <th>waterfront</th>\n",
       "      <th>view</th>\n",
       "      <th>condition</th>\n",
       "      <th>grade</th>\n",
       "      <th>sqft_above</th>\n",
       "      <th>yr_built</th>\n",
       "      <th>yr_renovated</th>\n",
       "      <th>zipcode</th>\n",
       "      <th>lat</th>\n",
       "      <th>long</th>\n",
       "      <th>sqft_living15</th>\n",
       "      <th>sqft_lot15</th>\n",
       "      <th>neighborhoods</th>\n",
       "    </tr>\n",
       "  </thead>\n",
       "  <tbody>\n",
       "    <tr>\n",
       "      <th>3</th>\n",
       "      <td>2487200875</td>\n",
       "      <td>604000.0</td>\n",
       "      <td>Large</td>\n",
       "      <td>3.00</td>\n",
       "      <td>1960</td>\n",
       "      <td>5000</td>\n",
       "      <td>1.0</td>\n",
       "      <td>0.0</td>\n",
       "      <td>0.0</td>\n",
       "      <td>5</td>\n",
       "      <td>7</td>\n",
       "      <td>1050</td>\n",
       "      <td>1965</td>\n",
       "      <td>0.0</td>\n",
       "      <td>98136</td>\n",
       "      <td>47.5208</td>\n",
       "      <td>-122.393</td>\n",
       "      <td>1360</td>\n",
       "      <td>5000</td>\n",
       "      <td>Seattle</td>\n",
       "    </tr>\n",
       "    <tr>\n",
       "      <th>4</th>\n",
       "      <td>1954400510</td>\n",
       "      <td>510000.0</td>\n",
       "      <td>Medium</td>\n",
       "      <td>2.00</td>\n",
       "      <td>1680</td>\n",
       "      <td>8080</td>\n",
       "      <td>1.0</td>\n",
       "      <td>0.0</td>\n",
       "      <td>0.0</td>\n",
       "      <td>3</td>\n",
       "      <td>8</td>\n",
       "      <td>1680</td>\n",
       "      <td>1987</td>\n",
       "      <td>0.0</td>\n",
       "      <td>98074</td>\n",
       "      <td>47.6168</td>\n",
       "      <td>-122.045</td>\n",
       "      <td>1800</td>\n",
       "      <td>7503</td>\n",
       "      <td>Sammammish</td>\n",
       "    </tr>\n",
       "    <tr>\n",
       "      <th>6</th>\n",
       "      <td>1321400060</td>\n",
       "      <td>257500.0</td>\n",
       "      <td>Medium</td>\n",
       "      <td>2.25</td>\n",
       "      <td>1715</td>\n",
       "      <td>6819</td>\n",
       "      <td>2.0</td>\n",
       "      <td>0.0</td>\n",
       "      <td>0.0</td>\n",
       "      <td>3</td>\n",
       "      <td>7</td>\n",
       "      <td>1715</td>\n",
       "      <td>1995</td>\n",
       "      <td>0.0</td>\n",
       "      <td>98003</td>\n",
       "      <td>47.3097</td>\n",
       "      <td>-122.327</td>\n",
       "      <td>2238</td>\n",
       "      <td>6819</td>\n",
       "      <td>Auburn</td>\n",
       "    </tr>\n",
       "    <tr>\n",
       "      <th>8</th>\n",
       "      <td>2414600126</td>\n",
       "      <td>229500.0</td>\n",
       "      <td>Medium</td>\n",
       "      <td>1.00</td>\n",
       "      <td>1780</td>\n",
       "      <td>7470</td>\n",
       "      <td>1.0</td>\n",
       "      <td>0.0</td>\n",
       "      <td>0.0</td>\n",
       "      <td>3</td>\n",
       "      <td>7</td>\n",
       "      <td>1050</td>\n",
       "      <td>1960</td>\n",
       "      <td>0.0</td>\n",
       "      <td>98146</td>\n",
       "      <td>47.5123</td>\n",
       "      <td>-122.337</td>\n",
       "      <td>1780</td>\n",
       "      <td>8113</td>\n",
       "      <td>Seattle</td>\n",
       "    </tr>\n",
       "    <tr>\n",
       "      <th>9</th>\n",
       "      <td>3793500160</td>\n",
       "      <td>323000.0</td>\n",
       "      <td>Medium</td>\n",
       "      <td>2.50</td>\n",
       "      <td>1890</td>\n",
       "      <td>6560</td>\n",
       "      <td>2.0</td>\n",
       "      <td>0.0</td>\n",
       "      <td>0.0</td>\n",
       "      <td>3</td>\n",
       "      <td>7</td>\n",
       "      <td>1890</td>\n",
       "      <td>2003</td>\n",
       "      <td>0.0</td>\n",
       "      <td>98038</td>\n",
       "      <td>47.3684</td>\n",
       "      <td>-122.031</td>\n",
       "      <td>2390</td>\n",
       "      <td>7570</td>\n",
       "      <td>Kirkland/Kent</td>\n",
       "    </tr>\n",
       "  </tbody>\n",
       "</table>\n",
       "</div>"
      ],
      "text/plain": [
       "           id     price bedrooms  bathrooms  sqft_living  sqft_lot  floors  \\\n",
       "3  2487200875  604000.0    Large       3.00         1960      5000     1.0   \n",
       "4  1954400510  510000.0   Medium       2.00         1680      8080     1.0   \n",
       "6  1321400060  257500.0   Medium       2.25         1715      6819     2.0   \n",
       "8  2414600126  229500.0   Medium       1.00         1780      7470     1.0   \n",
       "9  3793500160  323000.0   Medium       2.50         1890      6560     2.0   \n",
       "\n",
       "   waterfront  view  condition  grade  sqft_above  yr_built  yr_renovated  \\\n",
       "3         0.0   0.0          5      7        1050      1965           0.0   \n",
       "4         0.0   0.0          3      8        1680      1987           0.0   \n",
       "6         0.0   0.0          3      7        1715      1995           0.0   \n",
       "8         0.0   0.0          3      7        1050      1960           0.0   \n",
       "9         0.0   0.0          3      7        1890      2003           0.0   \n",
       "\n",
       "   zipcode      lat     long  sqft_living15  sqft_lot15  neighborhoods  \n",
       "3    98136  47.5208 -122.393           1360        5000        Seattle  \n",
       "4    98074  47.6168 -122.045           1800        7503     Sammammish  \n",
       "6    98003  47.3097 -122.327           2238        6819         Auburn  \n",
       "8    98146  47.5123 -122.337           1780        8113        Seattle  \n",
       "9    98038  47.3684 -122.031           2390        7570  Kirkland/Kent  "
      ]
     },
     "execution_count": 63,
     "metadata": {},
     "output_type": "execute_result"
    }
   ],
   "source": [
    "bins = [0, 1, 3, 4, 6]\n",
    "labels = ['Small', 'Medium', 'Large', 'Massive']\n",
    "df['bedrooms'] = pd.cut(df['bedrooms'], bins, labels = labels)\n",
    "\n",
    "df.head()"
   ]
  },
  {
   "cell_type": "code",
   "execution_count": 64,
   "metadata": {},
   "outputs": [
    {
     "data": {
      "text/html": [
       "<div>\n",
       "<style scoped>\n",
       "    .dataframe tbody tr th:only-of-type {\n",
       "        vertical-align: middle;\n",
       "    }\n",
       "\n",
       "    .dataframe tbody tr th {\n",
       "        vertical-align: top;\n",
       "    }\n",
       "\n",
       "    .dataframe thead th {\n",
       "        text-align: right;\n",
       "    }\n",
       "</style>\n",
       "<table border=\"1\" class=\"dataframe\">\n",
       "  <thead>\n",
       "    <tr style=\"text-align: right;\">\n",
       "      <th></th>\n",
       "      <th>id</th>\n",
       "      <th>price</th>\n",
       "      <th>bedrooms</th>\n",
       "      <th>bathrooms</th>\n",
       "      <th>sqft_living</th>\n",
       "      <th>sqft_lot</th>\n",
       "      <th>floors</th>\n",
       "      <th>waterfront</th>\n",
       "      <th>view</th>\n",
       "      <th>condition</th>\n",
       "      <th>grade</th>\n",
       "      <th>sqft_above</th>\n",
       "      <th>yr_built</th>\n",
       "      <th>yr_renovated</th>\n",
       "      <th>zipcode</th>\n",
       "      <th>lat</th>\n",
       "      <th>long</th>\n",
       "      <th>sqft_living15</th>\n",
       "      <th>sqft_lot15</th>\n",
       "      <th>neighborhoods</th>\n",
       "    </tr>\n",
       "  </thead>\n",
       "  <tbody>\n",
       "    <tr>\n",
       "      <th>3</th>\n",
       "      <td>2487200875</td>\n",
       "      <td>604000.0</td>\n",
       "      <td>Large</td>\n",
       "      <td>Large</td>\n",
       "      <td>1960</td>\n",
       "      <td>5000</td>\n",
       "      <td>1.0</td>\n",
       "      <td>0.0</td>\n",
       "      <td>0.0</td>\n",
       "      <td>5</td>\n",
       "      <td>7</td>\n",
       "      <td>1050</td>\n",
       "      <td>1965</td>\n",
       "      <td>0.0</td>\n",
       "      <td>98136</td>\n",
       "      <td>47.5208</td>\n",
       "      <td>-122.393</td>\n",
       "      <td>1360</td>\n",
       "      <td>5000</td>\n",
       "      <td>Seattle</td>\n",
       "    </tr>\n",
       "    <tr>\n",
       "      <th>4</th>\n",
       "      <td>1954400510</td>\n",
       "      <td>510000.0</td>\n",
       "      <td>Medium</td>\n",
       "      <td>Medium</td>\n",
       "      <td>1680</td>\n",
       "      <td>8080</td>\n",
       "      <td>1.0</td>\n",
       "      <td>0.0</td>\n",
       "      <td>0.0</td>\n",
       "      <td>3</td>\n",
       "      <td>8</td>\n",
       "      <td>1680</td>\n",
       "      <td>1987</td>\n",
       "      <td>0.0</td>\n",
       "      <td>98074</td>\n",
       "      <td>47.6168</td>\n",
       "      <td>-122.045</td>\n",
       "      <td>1800</td>\n",
       "      <td>7503</td>\n",
       "      <td>Sammammish</td>\n",
       "    </tr>\n",
       "    <tr>\n",
       "      <th>6</th>\n",
       "      <td>1321400060</td>\n",
       "      <td>257500.0</td>\n",
       "      <td>Medium</td>\n",
       "      <td>Medium</td>\n",
       "      <td>1715</td>\n",
       "      <td>6819</td>\n",
       "      <td>2.0</td>\n",
       "      <td>0.0</td>\n",
       "      <td>0.0</td>\n",
       "      <td>3</td>\n",
       "      <td>7</td>\n",
       "      <td>1715</td>\n",
       "      <td>1995</td>\n",
       "      <td>0.0</td>\n",
       "      <td>98003</td>\n",
       "      <td>47.3097</td>\n",
       "      <td>-122.327</td>\n",
       "      <td>2238</td>\n",
       "      <td>6819</td>\n",
       "      <td>Auburn</td>\n",
       "    </tr>\n",
       "    <tr>\n",
       "      <th>8</th>\n",
       "      <td>2414600126</td>\n",
       "      <td>229500.0</td>\n",
       "      <td>Medium</td>\n",
       "      <td>Small</td>\n",
       "      <td>1780</td>\n",
       "      <td>7470</td>\n",
       "      <td>1.0</td>\n",
       "      <td>0.0</td>\n",
       "      <td>0.0</td>\n",
       "      <td>3</td>\n",
       "      <td>7</td>\n",
       "      <td>1050</td>\n",
       "      <td>1960</td>\n",
       "      <td>0.0</td>\n",
       "      <td>98146</td>\n",
       "      <td>47.5123</td>\n",
       "      <td>-122.337</td>\n",
       "      <td>1780</td>\n",
       "      <td>8113</td>\n",
       "      <td>Seattle</td>\n",
       "    </tr>\n",
       "    <tr>\n",
       "      <th>9</th>\n",
       "      <td>3793500160</td>\n",
       "      <td>323000.0</td>\n",
       "      <td>Medium</td>\n",
       "      <td>Medium</td>\n",
       "      <td>1890</td>\n",
       "      <td>6560</td>\n",
       "      <td>2.0</td>\n",
       "      <td>0.0</td>\n",
       "      <td>0.0</td>\n",
       "      <td>3</td>\n",
       "      <td>7</td>\n",
       "      <td>1890</td>\n",
       "      <td>2003</td>\n",
       "      <td>0.0</td>\n",
       "      <td>98038</td>\n",
       "      <td>47.3684</td>\n",
       "      <td>-122.031</td>\n",
       "      <td>2390</td>\n",
       "      <td>7570</td>\n",
       "      <td>Kirkland/Kent</td>\n",
       "    </tr>\n",
       "  </tbody>\n",
       "</table>\n",
       "</div>"
      ],
      "text/plain": [
       "           id     price bedrooms bathrooms  sqft_living  sqft_lot  floors  \\\n",
       "3  2487200875  604000.0    Large     Large         1960      5000     1.0   \n",
       "4  1954400510  510000.0   Medium    Medium         1680      8080     1.0   \n",
       "6  1321400060  257500.0   Medium    Medium         1715      6819     2.0   \n",
       "8  2414600126  229500.0   Medium     Small         1780      7470     1.0   \n",
       "9  3793500160  323000.0   Medium    Medium         1890      6560     2.0   \n",
       "\n",
       "   waterfront  view  condition  grade  sqft_above  yr_built  yr_renovated  \\\n",
       "3         0.0   0.0          5      7        1050      1965           0.0   \n",
       "4         0.0   0.0          3      8        1680      1987           0.0   \n",
       "6         0.0   0.0          3      7        1715      1995           0.0   \n",
       "8         0.0   0.0          3      7        1050      1960           0.0   \n",
       "9         0.0   0.0          3      7        1890      2003           0.0   \n",
       "\n",
       "   zipcode      lat     long  sqft_living15  sqft_lot15  neighborhoods  \n",
       "3    98136  47.5208 -122.393           1360        5000        Seattle  \n",
       "4    98074  47.6168 -122.045           1800        7503     Sammammish  \n",
       "6    98003  47.3097 -122.327           2238        6819         Auburn  \n",
       "8    98146  47.5123 -122.337           1780        8113        Seattle  \n",
       "9    98038  47.3684 -122.031           2390        7570  Kirkland/Kent  "
      ]
     },
     "execution_count": 64,
     "metadata": {},
     "output_type": "execute_result"
    }
   ],
   "source": [
    "bins = [0, 1, 2.5, 3.5, 4.25]\n",
    "labels = ['Small', 'Medium', 'Large', 'Massive']\n",
    "df['bathrooms'] = pd.cut(df['bathrooms'], bins, labels = labels)\n",
    "\n",
    "df.head()"
   ]
  },
  {
   "cell_type": "code",
   "execution_count": 65,
   "metadata": {},
   "outputs": [],
   "source": [
    "df = pd.get_dummies(df, columns = ['floors', 'waterfront', 'view', 'condition', 'grade', 'neighborhoods', 'bedrooms', 'bathrooms'], drop_first = True)\n"
   ]
  },
  {
   "cell_type": "code",
   "execution_count": 66,
   "metadata": {},
   "outputs": [
    {
     "data": {
      "text/html": [
       "<div>\n",
       "<style scoped>\n",
       "    .dataframe tbody tr th:only-of-type {\n",
       "        vertical-align: middle;\n",
       "    }\n",
       "\n",
       "    .dataframe tbody tr th {\n",
       "        vertical-align: top;\n",
       "    }\n",
       "\n",
       "    .dataframe thead th {\n",
       "        text-align: right;\n",
       "    }\n",
       "</style>\n",
       "<table border=\"1\" class=\"dataframe\">\n",
       "  <thead>\n",
       "    <tr style=\"text-align: right;\">\n",
       "      <th></th>\n",
       "      <th>id</th>\n",
       "      <th>price</th>\n",
       "      <th>sqft_living</th>\n",
       "      <th>sqft_lot</th>\n",
       "      <th>sqft_above</th>\n",
       "      <th>yr_built</th>\n",
       "      <th>yr_renovated</th>\n",
       "      <th>zipcode</th>\n",
       "      <th>lat</th>\n",
       "      <th>long</th>\n",
       "      <th>...</th>\n",
       "      <th>neighborhoods_Pacific</th>\n",
       "      <th>neighborhoods_Renton</th>\n",
       "      <th>neighborhoods_Sammammish</th>\n",
       "      <th>neighborhoods_Seattle</th>\n",
       "      <th>bedrooms_Medium</th>\n",
       "      <th>bedrooms_Large</th>\n",
       "      <th>bedrooms_Massive</th>\n",
       "      <th>bathrooms_Medium</th>\n",
       "      <th>bathrooms_Large</th>\n",
       "      <th>bathrooms_Massive</th>\n",
       "    </tr>\n",
       "  </thead>\n",
       "  <tbody>\n",
       "    <tr>\n",
       "      <th>3</th>\n",
       "      <td>2487200875</td>\n",
       "      <td>604000.0</td>\n",
       "      <td>1960</td>\n",
       "      <td>5000</td>\n",
       "      <td>1050</td>\n",
       "      <td>1965</td>\n",
       "      <td>0.0</td>\n",
       "      <td>98136</td>\n",
       "      <td>47.5208</td>\n",
       "      <td>-122.393</td>\n",
       "      <td>...</td>\n",
       "      <td>0</td>\n",
       "      <td>0</td>\n",
       "      <td>0</td>\n",
       "      <td>1</td>\n",
       "      <td>0</td>\n",
       "      <td>1</td>\n",
       "      <td>0</td>\n",
       "      <td>0</td>\n",
       "      <td>1</td>\n",
       "      <td>0</td>\n",
       "    </tr>\n",
       "    <tr>\n",
       "      <th>4</th>\n",
       "      <td>1954400510</td>\n",
       "      <td>510000.0</td>\n",
       "      <td>1680</td>\n",
       "      <td>8080</td>\n",
       "      <td>1680</td>\n",
       "      <td>1987</td>\n",
       "      <td>0.0</td>\n",
       "      <td>98074</td>\n",
       "      <td>47.6168</td>\n",
       "      <td>-122.045</td>\n",
       "      <td>...</td>\n",
       "      <td>0</td>\n",
       "      <td>0</td>\n",
       "      <td>1</td>\n",
       "      <td>0</td>\n",
       "      <td>1</td>\n",
       "      <td>0</td>\n",
       "      <td>0</td>\n",
       "      <td>1</td>\n",
       "      <td>0</td>\n",
       "      <td>0</td>\n",
       "    </tr>\n",
       "    <tr>\n",
       "      <th>6</th>\n",
       "      <td>1321400060</td>\n",
       "      <td>257500.0</td>\n",
       "      <td>1715</td>\n",
       "      <td>6819</td>\n",
       "      <td>1715</td>\n",
       "      <td>1995</td>\n",
       "      <td>0.0</td>\n",
       "      <td>98003</td>\n",
       "      <td>47.3097</td>\n",
       "      <td>-122.327</td>\n",
       "      <td>...</td>\n",
       "      <td>0</td>\n",
       "      <td>0</td>\n",
       "      <td>0</td>\n",
       "      <td>0</td>\n",
       "      <td>1</td>\n",
       "      <td>0</td>\n",
       "      <td>0</td>\n",
       "      <td>1</td>\n",
       "      <td>0</td>\n",
       "      <td>0</td>\n",
       "    </tr>\n",
       "    <tr>\n",
       "      <th>8</th>\n",
       "      <td>2414600126</td>\n",
       "      <td>229500.0</td>\n",
       "      <td>1780</td>\n",
       "      <td>7470</td>\n",
       "      <td>1050</td>\n",
       "      <td>1960</td>\n",
       "      <td>0.0</td>\n",
       "      <td>98146</td>\n",
       "      <td>47.5123</td>\n",
       "      <td>-122.337</td>\n",
       "      <td>...</td>\n",
       "      <td>0</td>\n",
       "      <td>0</td>\n",
       "      <td>0</td>\n",
       "      <td>1</td>\n",
       "      <td>1</td>\n",
       "      <td>0</td>\n",
       "      <td>0</td>\n",
       "      <td>0</td>\n",
       "      <td>0</td>\n",
       "      <td>0</td>\n",
       "    </tr>\n",
       "    <tr>\n",
       "      <th>9</th>\n",
       "      <td>3793500160</td>\n",
       "      <td>323000.0</td>\n",
       "      <td>1890</td>\n",
       "      <td>6560</td>\n",
       "      <td>1890</td>\n",
       "      <td>2003</td>\n",
       "      <td>0.0</td>\n",
       "      <td>98038</td>\n",
       "      <td>47.3684</td>\n",
       "      <td>-122.031</td>\n",
       "      <td>...</td>\n",
       "      <td>0</td>\n",
       "      <td>0</td>\n",
       "      <td>0</td>\n",
       "      <td>0</td>\n",
       "      <td>1</td>\n",
       "      <td>0</td>\n",
       "      <td>0</td>\n",
       "      <td>1</td>\n",
       "      <td>0</td>\n",
       "      <td>0</td>\n",
       "    </tr>\n",
       "    <tr>\n",
       "      <th>...</th>\n",
       "      <td>...</td>\n",
       "      <td>...</td>\n",
       "      <td>...</td>\n",
       "      <td>...</td>\n",
       "      <td>...</td>\n",
       "      <td>...</td>\n",
       "      <td>...</td>\n",
       "      <td>...</td>\n",
       "      <td>...</td>\n",
       "      <td>...</td>\n",
       "      <td>...</td>\n",
       "      <td>...</td>\n",
       "      <td>...</td>\n",
       "      <td>...</td>\n",
       "      <td>...</td>\n",
       "      <td>...</td>\n",
       "      <td>...</td>\n",
       "      <td>...</td>\n",
       "      <td>...</td>\n",
       "      <td>...</td>\n",
       "      <td>...</td>\n",
       "    </tr>\n",
       "    <tr>\n",
       "      <th>21591</th>\n",
       "      <td>2997800021</td>\n",
       "      <td>475000.0</td>\n",
       "      <td>1310</td>\n",
       "      <td>1294</td>\n",
       "      <td>1180</td>\n",
       "      <td>2008</td>\n",
       "      <td>0.0</td>\n",
       "      <td>98116</td>\n",
       "      <td>47.5773</td>\n",
       "      <td>-122.409</td>\n",
       "      <td>...</td>\n",
       "      <td>0</td>\n",
       "      <td>0</td>\n",
       "      <td>0</td>\n",
       "      <td>1</td>\n",
       "      <td>1</td>\n",
       "      <td>0</td>\n",
       "      <td>0</td>\n",
       "      <td>1</td>\n",
       "      <td>0</td>\n",
       "      <td>0</td>\n",
       "    </tr>\n",
       "    <tr>\n",
       "      <th>21592</th>\n",
       "      <td>263000018</td>\n",
       "      <td>360000.0</td>\n",
       "      <td>1530</td>\n",
       "      <td>1131</td>\n",
       "      <td>1530</td>\n",
       "      <td>2009</td>\n",
       "      <td>0.0</td>\n",
       "      <td>98103</td>\n",
       "      <td>47.6993</td>\n",
       "      <td>-122.346</td>\n",
       "      <td>...</td>\n",
       "      <td>0</td>\n",
       "      <td>0</td>\n",
       "      <td>0</td>\n",
       "      <td>1</td>\n",
       "      <td>1</td>\n",
       "      <td>0</td>\n",
       "      <td>0</td>\n",
       "      <td>1</td>\n",
       "      <td>0</td>\n",
       "      <td>0</td>\n",
       "    </tr>\n",
       "    <tr>\n",
       "      <th>21593</th>\n",
       "      <td>6600060120</td>\n",
       "      <td>400000.0</td>\n",
       "      <td>2310</td>\n",
       "      <td>5813</td>\n",
       "      <td>2310</td>\n",
       "      <td>2014</td>\n",
       "      <td>0.0</td>\n",
       "      <td>98146</td>\n",
       "      <td>47.5107</td>\n",
       "      <td>-122.362</td>\n",
       "      <td>...</td>\n",
       "      <td>0</td>\n",
       "      <td>0</td>\n",
       "      <td>0</td>\n",
       "      <td>1</td>\n",
       "      <td>0</td>\n",
       "      <td>1</td>\n",
       "      <td>0</td>\n",
       "      <td>1</td>\n",
       "      <td>0</td>\n",
       "      <td>0</td>\n",
       "    </tr>\n",
       "    <tr>\n",
       "      <th>21594</th>\n",
       "      <td>1523300141</td>\n",
       "      <td>402101.0</td>\n",
       "      <td>1020</td>\n",
       "      <td>1350</td>\n",
       "      <td>1020</td>\n",
       "      <td>2009</td>\n",
       "      <td>0.0</td>\n",
       "      <td>98144</td>\n",
       "      <td>47.5944</td>\n",
       "      <td>-122.299</td>\n",
       "      <td>...</td>\n",
       "      <td>0</td>\n",
       "      <td>0</td>\n",
       "      <td>0</td>\n",
       "      <td>1</td>\n",
       "      <td>1</td>\n",
       "      <td>0</td>\n",
       "      <td>0</td>\n",
       "      <td>0</td>\n",
       "      <td>0</td>\n",
       "      <td>0</td>\n",
       "    </tr>\n",
       "    <tr>\n",
       "      <th>21596</th>\n",
       "      <td>1523300157</td>\n",
       "      <td>325000.0</td>\n",
       "      <td>1020</td>\n",
       "      <td>1076</td>\n",
       "      <td>1020</td>\n",
       "      <td>2008</td>\n",
       "      <td>0.0</td>\n",
       "      <td>98144</td>\n",
       "      <td>47.5941</td>\n",
       "      <td>-122.299</td>\n",
       "      <td>...</td>\n",
       "      <td>0</td>\n",
       "      <td>0</td>\n",
       "      <td>0</td>\n",
       "      <td>1</td>\n",
       "      <td>1</td>\n",
       "      <td>0</td>\n",
       "      <td>0</td>\n",
       "      <td>0</td>\n",
       "      <td>0</td>\n",
       "      <td>0</td>\n",
       "    </tr>\n",
       "  </tbody>\n",
       "</table>\n",
       "<p>13724 rows × 41 columns</p>\n",
       "</div>"
      ],
      "text/plain": [
       "               id     price  sqft_living  sqft_lot  sqft_above  yr_built  \\\n",
       "3      2487200875  604000.0         1960      5000        1050      1965   \n",
       "4      1954400510  510000.0         1680      8080        1680      1987   \n",
       "6      1321400060  257500.0         1715      6819        1715      1995   \n",
       "8      2414600126  229500.0         1780      7470        1050      1960   \n",
       "9      3793500160  323000.0         1890      6560        1890      2003   \n",
       "...           ...       ...          ...       ...         ...       ...   \n",
       "21591  2997800021  475000.0         1310      1294        1180      2008   \n",
       "21592   263000018  360000.0         1530      1131        1530      2009   \n",
       "21593  6600060120  400000.0         2310      5813        2310      2014   \n",
       "21594  1523300141  402101.0         1020      1350        1020      2009   \n",
       "21596  1523300157  325000.0         1020      1076        1020      2008   \n",
       "\n",
       "       yr_renovated  zipcode      lat     long  ...  neighborhoods_Pacific  \\\n",
       "3               0.0    98136  47.5208 -122.393  ...                      0   \n",
       "4               0.0    98074  47.6168 -122.045  ...                      0   \n",
       "6               0.0    98003  47.3097 -122.327  ...                      0   \n",
       "8               0.0    98146  47.5123 -122.337  ...                      0   \n",
       "9               0.0    98038  47.3684 -122.031  ...                      0   \n",
       "...             ...      ...      ...      ...  ...                    ...   \n",
       "21591           0.0    98116  47.5773 -122.409  ...                      0   \n",
       "21592           0.0    98103  47.6993 -122.346  ...                      0   \n",
       "21593           0.0    98146  47.5107 -122.362  ...                      0   \n",
       "21594           0.0    98144  47.5944 -122.299  ...                      0   \n",
       "21596           0.0    98144  47.5941 -122.299  ...                      0   \n",
       "\n",
       "       neighborhoods_Renton  neighborhoods_Sammammish  neighborhoods_Seattle  \\\n",
       "3                         0                         0                      1   \n",
       "4                         0                         1                      0   \n",
       "6                         0                         0                      0   \n",
       "8                         0                         0                      1   \n",
       "9                         0                         0                      0   \n",
       "...                     ...                       ...                    ...   \n",
       "21591                     0                         0                      1   \n",
       "21592                     0                         0                      1   \n",
       "21593                     0                         0                      1   \n",
       "21594                     0                         0                      1   \n",
       "21596                     0                         0                      1   \n",
       "\n",
       "       bedrooms_Medium  bedrooms_Large  bedrooms_Massive  bathrooms_Medium  \\\n",
       "3                    0               1                 0                 0   \n",
       "4                    1               0                 0                 1   \n",
       "6                    1               0                 0                 1   \n",
       "8                    1               0                 0                 0   \n",
       "9                    1               0                 0                 1   \n",
       "...                ...             ...               ...               ...   \n",
       "21591                1               0                 0                 1   \n",
       "21592                1               0                 0                 1   \n",
       "21593                0               1                 0                 1   \n",
       "21594                1               0                 0                 0   \n",
       "21596                1               0                 0                 0   \n",
       "\n",
       "       bathrooms_Large  bathrooms_Massive  \n",
       "3                    1                  0  \n",
       "4                    0                  0  \n",
       "6                    0                  0  \n",
       "8                    0                  0  \n",
       "9                    0                  0  \n",
       "...                ...                ...  \n",
       "21591                0                  0  \n",
       "21592                0                  0  \n",
       "21593                0                  0  \n",
       "21594                0                  0  \n",
       "21596                0                  0  \n",
       "\n",
       "[13724 rows x 41 columns]"
      ]
     },
     "execution_count": 66,
     "metadata": {},
     "output_type": "execute_result"
    }
   ],
   "source": [
    "df"
   ]
  },
  {
   "cell_type": "code",
   "execution_count": 67,
   "metadata": {},
   "outputs": [
    {
     "name": "stderr",
     "output_type": "stream",
     "text": [
      "/Users/andrewozbun/opt/anaconda3/envs/learn-env/lib/python3.8/site-packages/statsmodels/regression/linear_model.py:1715: RuntimeWarning: divide by zero encountered in double_scalars\n",
      "  return 1 - self.ssr/self.centered_tss\n",
      "/Users/andrewozbun/opt/anaconda3/envs/learn-env/lib/python3.8/site-packages/statsmodels/regression/linear_model.py:1715: RuntimeWarning: invalid value encountered in double_scalars\n",
      "  return 1 - self.ssr/self.centered_tss\n"
     ]
    },
    {
     "name": "stdout",
     "output_type": "stream",
     "text": [
      "DATA BEFORE\n",
      "----------------------------------------------------------------------------------------------------\n"
     ]
    },
    {
     "data": {
      "text/plain": [
       "const                           0.000000\n",
       "id                              1.037597\n",
       "price                           3.668303\n",
       "sqft_living                     7.128350\n",
       "sqft_lot                        3.095962\n",
       "sqft_above                      6.707596\n",
       "yr_built                        3.316974\n",
       "yr_renovated                         NaN\n",
       "zipcode                         8.907397\n",
       "lat                             1.816798\n",
       "long                            2.921064\n",
       "sqft_living15                   3.173214\n",
       "sqft_lot15                      3.198069\n",
       "floors_1.5                      1.343721\n",
       "floors_2.0                      2.660508\n",
       "floors_2.5                      1.054212\n",
       "floors_3.0                      1.479311\n",
       "view_1.0                        1.044626\n",
       "view_2.0                        1.087815\n",
       "condition_3                    30.945270\n",
       "condition_4                    26.683644\n",
       "condition_5                    10.911483\n",
       "grade_6                        10.125232\n",
       "grade_7                        27.820673\n",
       "grade_8                        25.366404\n",
       "grade_9                        14.332586\n",
       "grade_10                        6.693046\n",
       "grade_11                        2.171398\n",
       "neighborhoods_Bellvue           1.713486\n",
       "neighborhoods_Black Diamond     2.365237\n",
       "neighborhoods_Federal Way       4.230399\n",
       "neighborhoods_Kirkland/Kent     4.206379\n",
       "neighborhoods_Pacific           1.901592\n",
       "neighborhoods_Renton            5.468607\n",
       "neighborhoods_Sammammish        5.100185\n",
       "neighborhoods_Seattle          22.830616\n",
       "bedrooms_Medium                32.152465\n",
       "bedrooms_Large                 30.472909\n",
       "bedrooms_Massive               10.975963\n",
       "bathrooms_Medium                2.624048\n",
       "bathrooms_Large                 2.835049\n",
       "bathrooms_Massive               1.208878\n",
       "dtype: float64"
      ]
     },
     "metadata": {},
     "output_type": "display_data"
    },
    {
     "name": "stdout",
     "output_type": "stream",
     "text": [
      "DATA AFTER\n",
      "----------------------------------------------------------------------------------------------------\n"
     ]
    },
    {
     "data": {
      "text/plain": [
       "const                          2.706503e+06\n",
       "price                          3.486002e+00\n",
       "sqft_living                    4.036392e+00\n",
       "sqft_lot                       1.193165e+00\n",
       "yr_built                       2.862868e+00\n",
       "lat                            1.594427e+00\n",
       "long                           2.794146e+00\n",
       "floors_1.5                     1.255046e+00\n",
       "floors_2.5                     1.017327e+00\n",
       "floors_3.0                     1.216686e+00\n",
       "view_1.0                       1.031252e+00\n",
       "view_2.0                       1.062538e+00\n",
       "condition_4                    1.278780e+00\n",
       "condition_5                    1.238671e+00\n",
       "grade_7                        3.692903e+00\n",
       "grade_8                        4.741087e+00\n",
       "grade_9                        3.942858e+00\n",
       "grade_10                       2.630496e+00\n",
       "grade_11                       1.395331e+00\n",
       "neighborhoods_Bellvue          1.198764e+00\n",
       "neighborhoods_Black Diamond    1.369663e+00\n",
       "neighborhoods_Federal Way      1.750020e+00\n",
       "neighborhoods_Kirkland/Kent    1.572817e+00\n",
       "neighborhoods_Pacific          1.300813e+00\n",
       "neighborhoods_Renton           1.821919e+00\n",
       "neighborhoods_Sammammish       2.152462e+00\n",
       "bedrooms_Large                 1.457283e+00\n",
       "bedrooms_Massive               1.414436e+00\n",
       "bathrooms_Medium               2.562122e+00\n",
       "bathrooms_Large                2.756158e+00\n",
       "bathrooms_Massive              1.204231e+00\n",
       "dtype: float64"
      ]
     },
     "metadata": {},
     "output_type": "display_data"
    }
   ],
   "source": [
    "#Variance Inflation Factor\n",
    "#This is some code that I found that checks for the severity of multicollinearity within a regression model.\n",
    "#A variance inflation factor higher than 5 will show signs of multicollinearity and need to be dropped.\n",
    "\n",
>>>>>>> a111dda47325c356f7c89042190a97afe170c3fb
    "X1 = sm.tools.add_constant(df)\n",
    "\n",
    "series_before = pd.Series([variance_inflation_factor(X1.values, i ) for i in range(X1.shape[1])], index = X1.columns)\n",
    "\n",
    "print('DATA BEFORE')\n",
    "print('-'*100)\n",
    "display(series_before)\n",
    "\n",
    "\n",
<<<<<<< HEAD
    "#dropping columns i think will cause problems or that I don't feel like I need.\n",
    "df_1_after = df.drop(['id', 'sqft_living15', 'sqft_lot15', 'sqft_lot', 'sqft_above', 'waterfront', \"yr_renovated\"], axis = 1)\n",
=======
    "#dropping columns i think will cause problems\n",
<<<<<<< HEAD
    "df_1_after = df.drop(['id', 'sqft_living15', 'sqft_lot15', 'sqft_above', \"yr_renovated\", 'condition_3', 'floors_2.0', 'grade_6', 'zipcode', 'neighborhoods_Seattle', 'bedrooms_Medium'], axis = 1)\n",
=======
    "df_1_after = df.drop(['id', 'sqft_living15', 'sqft_lot15', 'sqft_lot', 'sqft_above', \"yr_renovated\", 'condition_3', 'floors_2.0', 'grade_6', 'zipcode', 'neighborhoods_Seattle', 'bedrooms_Medium'], axis = 1)\n",
>>>>>>> a111dda47325c356f7c89042190a97afe170c3fb
>>>>>>> 17c301b8b565049214a01aea658af63c76cab4af
    "X2 = sm.tools.add_constant(df_1_after)\n",
    "series_after = pd.Series([variance_inflation_factor(X2.values, i ) for i in range(X2.shape[1])], index = X2.columns)\n",
    "\n",
    "print('DATA AFTER')\n",
    "print('-'*100)\n",
    "display(series_after)"
   ]
  },
  {
   "cell_type": "code",
<<<<<<< HEAD
   "execution_count": 68,
=======
<<<<<<< HEAD
   "execution_count": 64,
=======
   "execution_count": 785,
>>>>>>> a111dda47325c356f7c89042190a97afe170c3fb
>>>>>>> 17c301b8b565049214a01aea658af63c76cab4af
   "metadata": {},
   "outputs": [
    {
     "data": {
      "text/plain": [
       "array([[<AxesSubplot:title={'center':'price'}>,\n",
       "        <AxesSubplot:title={'center':'sqft_living'}>,\n",
       "        <AxesSubplot:title={'center':'sqft_lot'}>,\n",
       "        <AxesSubplot:title={'center':'yr_built'}>,\n",
       "        <AxesSubplot:title={'center':'lat'}>],\n",
       "       [<AxesSubplot:title={'center':'long'}>,\n",
       "        <AxesSubplot:title={'center':'floors_1.5'}>,\n",
       "        <AxesSubplot:title={'center':'floors_2.5'}>,\n",
       "        <AxesSubplot:title={'center':'floors_3.0'}>,\n",
       "        <AxesSubplot:title={'center':'view_1.0'}>],\n",
       "       [<AxesSubplot:title={'center':'view_2.0'}>,\n",
       "        <AxesSubplot:title={'center':'condition_4'}>,\n",
       "        <AxesSubplot:title={'center':'condition_5'}>,\n",
       "        <AxesSubplot:title={'center':'grade_7'}>,\n",
       "        <AxesSubplot:title={'center':'grade_8'}>],\n",
       "       [<AxesSubplot:title={'center':'grade_9'}>,\n",
       "        <AxesSubplot:title={'center':'grade_10'}>,\n",
       "        <AxesSubplot:title={'center':'grade_11'}>,\n",
       "        <AxesSubplot:title={'center':'neighborhoods_Bellvue'}>,\n",
       "        <AxesSubplot:title={'center':'neighborhoods_Black Diamond'}>],\n",
       "       [<AxesSubplot:title={'center':'neighborhoods_Federal Way'}>,\n",
       "        <AxesSubplot:title={'center':'neighborhoods_Kirkland/Kent'}>,\n",
       "        <AxesSubplot:title={'center':'neighborhoods_Pacific'}>,\n",
       "        <AxesSubplot:title={'center':'neighborhoods_Renton'}>,\n",
       "        <AxesSubplot:title={'center':'neighborhoods_Sammammish'}>],\n",
       "       [<AxesSubplot:title={'center':'bedrooms_Large'}>,\n",
       "        <AxesSubplot:title={'center':'bedrooms_Massive'}>,\n",
       "        <AxesSubplot:title={'center':'bathrooms_Medium'}>,\n",
       "        <AxesSubplot:title={'center':'bathrooms_Large'}>,\n",
       "        <AxesSubplot:title={'center':'bathrooms_Massive'}>]], dtype=object)"
      ]
     },
<<<<<<< HEAD
     "execution_count": 68,
=======
<<<<<<< HEAD
     "execution_count": 64,
=======
     "execution_count": 785,
>>>>>>> a111dda47325c356f7c89042190a97afe170c3fb
>>>>>>> 17c301b8b565049214a01aea658af63c76cab4af
     "metadata": {},
     "output_type": "execute_result"
    },
    {
     "data": {
      "image/png": "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\n",
      "text/plain": [
       "<Figure size 792x576 with 30 Axes>"
      ]
     },
     "metadata": {},
     "output_type": "display_data"
    }
   ],
   "source": [
    "df_1_after.hist()"
   ]
  },
  {
   "cell_type": "markdown",
   "metadata": {},
   "source": [
    "### Testing and training data."
   ]
  },
  {
   "cell_type": "code",
<<<<<<< HEAD
   "execution_count": 69,
=======
<<<<<<< HEAD
   "execution_count": 65,
=======
   "execution_count": 786,
>>>>>>> a111dda47325c356f7c89042190a97afe170c3fb
>>>>>>> 17c301b8b565049214a01aea658af63c76cab4af
   "metadata": {},
   "outputs": [
    {
     "data": {
      "text/plain": [
       "LinearRegression()"
      ]
     },
<<<<<<< HEAD
     "execution_count": 69,
=======
<<<<<<< HEAD
     "execution_count": 65,
=======
     "execution_count": 786,
>>>>>>> a111dda47325c356f7c89042190a97afe170c3fb
>>>>>>> 17c301b8b565049214a01aea658af63c76cab4af
     "metadata": {},
     "output_type": "execute_result"
    }
   ],
   "source": [
    "# Setting out X and y equal to their respective columns.\n",
    "X = df_1_after.drop('price', axis = 1)\n",
    "y = df_1_after[['price']]\n",
    "\n",
    "#Split dataset into training and testing portion\n",
    "X_train, X_test, y_train, y_test = train_test_split(X, y, test_size = 0.20)\n",
    "\n",
    "#create instance of our model\n",
    "regression_model = LinearRegression()\n",
    "#fit the model\n",
    "regression_model.fit(X_train, y_train)"
   ]
  },
  {
   "cell_type": "code",
<<<<<<< HEAD
   "execution_count": 70,
=======
<<<<<<< HEAD
   "execution_count": 66,
=======
   "execution_count": 787,
>>>>>>> a111dda47325c356f7c89042190a97afe170c3fb
>>>>>>> 17c301b8b565049214a01aea658af63c76cab4af
   "metadata": {},
   "outputs": [
    {
     "data": {
      "text/plain": [
       "2745"
      ]
     },
<<<<<<< HEAD
     "execution_count": 70,
=======
<<<<<<< HEAD
     "execution_count": 66,
=======
     "execution_count": 787,
>>>>>>> a111dda47325c356f7c89042190a97afe170c3fb
>>>>>>> 17c301b8b565049214a01aea658af63c76cab4af
     "metadata": {},
     "output_type": "execute_result"
    }
   ],
   "source": [
    "len(X_test)"
   ]
  },
  {
   "cell_type": "code",
<<<<<<< HEAD
   "execution_count": 71,
=======
<<<<<<< HEAD
   "execution_count": 67,
=======
   "execution_count": 788,
>>>>>>> a111dda47325c356f7c89042190a97afe170c3fb
>>>>>>> 17c301b8b565049214a01aea658af63c76cab4af
   "metadata": {},
   "outputs": [],
   "source": [
    "y_hat_train = regression_model.predict(X_train)\n",
    "y_hat_test = regression_model.predict(X_test)"
   ]
  },
  {
   "cell_type": "code",
<<<<<<< HEAD
   "execution_count": 72,
   "metadata": {},
   "outputs": [
    {
     "data": {
      "text/plain": [
       "2745"
      ]
     },
     "execution_count": 72,
     "metadata": {},
     "output_type": "execute_result"
    }
   ],
   "source": [
    "len(y_hat_test)"
   ]
  },
  {
   "cell_type": "code",
   "execution_count": 73,
=======
<<<<<<< HEAD
   "execution_count": 68,
=======
   "execution_count": 789,
>>>>>>> a111dda47325c356f7c89042190a97afe170c3fb
>>>>>>> 17c301b8b565049214a01aea658af63c76cab4af
   "metadata": {},
   "outputs": [],
   "source": [
    "mse_train = mean_squared_error(y_train, y_hat_train)\n",
    "mse_test = mean_squared_error(y_test, y_hat_test)"
   ]
  },
  {
   "cell_type": "code",
<<<<<<< HEAD
   "execution_count": 74,
=======
<<<<<<< HEAD
   "execution_count": 69,
=======
   "execution_count": 790,
>>>>>>> a111dda47325c356f7c89042190a97afe170c3fb
>>>>>>> 17c301b8b565049214a01aea658af63c76cab4af
   "metadata": {},
   "outputs": [
    {
     "name": "stdout",
     "output_type": "stream",
     "text": [
<<<<<<< HEAD
      "Train MSE: 15770380501.046839\n",
      "Test MSE: 15368880442.236185\n"
=======
<<<<<<< HEAD
      "Train MSE: 17632246190.229126\n",
      "Test MSE: 17556089410.925255\n"
=======
      "Train MSE: 15501897379.688229\n",
      "Test MSE: 16592296400.872969\n"
>>>>>>> a111dda47325c356f7c89042190a97afe170c3fb
>>>>>>> 17c301b8b565049214a01aea658af63c76cab4af
     ]
    }
   ],
   "source": [
    "print('Train MSE:', mse_train)\n",
    "print('Test MSE:', mse_test)"
   ]
  },
  {
   "cell_type": "code",
<<<<<<< HEAD
   "execution_count": 75,
=======
<<<<<<< HEAD
   "execution_count": 70,
=======
   "execution_count": 791,
>>>>>>> a111dda47325c356f7c89042190a97afe170c3fb
>>>>>>> 17c301b8b565049214a01aea658af63c76cab4af
   "metadata": {},
   "outputs": [
    {
     "name": "stdout",
     "output_type": "stream",
     "text": [
<<<<<<< HEAD
      "RMSE Train: 125580.17558932953\n",
      "RMSE Test: 123971.28878186346\n"
=======
<<<<<<< HEAD
      "RMSE Train: 132786.46840031978\n",
      "RMSE Test: 132499.39400210575\n"
=======
      "RMSE Train: 124506.61580690493\n",
      "RMSE Test: 128811.08803543649\n"
>>>>>>> a111dda47325c356f7c89042190a97afe170c3fb
>>>>>>> 17c301b8b565049214a01aea658af63c76cab4af
     ]
    }
   ],
   "source": [
    "print('RMSE Train:', np.sqrt(mse_train))\n",
    "print('RMSE Test:', np.sqrt(mse_test))"
   ]
  },
  {
   "cell_type": "markdown",
   "metadata": {},
   "source": [
    "### Fitting the model and final exploration to look for abnormalities."
   ]
  },
  {
   "cell_type": "code",
<<<<<<< HEAD
   "execution_count": null,
   "metadata": {},
   "outputs": [],
   "source": []
  },
  {
   "cell_type": "code",
   "execution_count": 76,
=======
<<<<<<< HEAD
   "execution_count": 71,
=======
   "execution_count": 792,
>>>>>>> a111dda47325c356f7c89042190a97afe170c3fb
>>>>>>> 17c301b8b565049214a01aea658af63c76cab4af
   "metadata": {},
   "outputs": [
    {
     "data": {
      "text/plain": [
<<<<<<< HEAD
       "0.7236348884996825"
      ]
     },
     "execution_count": 76,
=======
<<<<<<< HEAD
       "0.6838298737685697"
      ]
     },
     "execution_count": 71,
=======
       "0.7161418257161241"
      ]
     },
     "execution_count": 792,
>>>>>>> a111dda47325c356f7c89042190a97afe170c3fb
>>>>>>> 17c301b8b565049214a01aea658af63c76cab4af
     "metadata": {},
     "output_type": "execute_result"
    }
   ],
   "source": [
    "r2_score(y_test, y_hat_test)"
   ]
  },
  {
   "cell_type": "code",
<<<<<<< HEAD
   "execution_count": 77,
=======
<<<<<<< HEAD
   "execution_count": 72,
=======
   "execution_count": 793,
>>>>>>> a111dda47325c356f7c89042190a97afe170c3fb
>>>>>>> 17c301b8b565049214a01aea658af63c76cab4af
   "metadata": {},
   "outputs": [
    {
     "name": "stdout",
     "output_type": "stream",
     "text": [
<<<<<<< HEAD
      "The intercept for our model is -1.697e+07\n",
=======
<<<<<<< HEAD
      "The intercept for our model is -2.278e+05\n",
      "----------------------------------------------------------------------------------------------------\n",
      "The Coefficient for bedrooms is -1.7e+04\n",
      "The Coefficient for bathrooms is 2.8e+04\n",
      "The Coefficient for sqft_living is 1.2e+02\n",
      "The Coefficient for floors is 3.2e+04\n",
      "The Coefficient for view is 4.5e+04\n",
      "The Coefficient for condition is 2.7e+04\n",
      "The Coefficient for grade is 9.1e+04\n",
      "The Coefficient for yr_built is -2.1e+03\n",
      "The Coefficient for zipcode is -3.4e+02\n",
      "The Coefficient for lat is 5.7e+05\n",
      "The Coefficient for long is -8.4e+04\n"
=======
      "The intercept for our model is -1.855e+07\n",
>>>>>>> 17c301b8b565049214a01aea658af63c76cab4af
      "----------------------------------------------------------------------------------------------------\n",
      "The Coefficient for sqft_living is 1.1e+02\n",
      "The Coefficient for sqft_lot is -0.54\n",
      "The Coefficient for yr_built is -1.3e+03\n",
      "The Coefficient for lat is 5.4e+05\n",
      "The Coefficient for long is 4.9e+04\n",
      "The Coefficient for floors_1.5 is 2.4e+04\n",
      "The Coefficient for floors_2.5 is 1.1e+05\n",
      "The Coefficient for floors_3.0 is 2.2e+04\n",
      "The Coefficient for view_1.0 is 1.1e+05\n",
      "The Coefficient for view_2.0 is 8.5e+04\n",
      "The Coefficient for condition_4 is 2.1e+04\n",
      "The Coefficient for condition_5 is 5.8e+04\n",
      "The Coefficient for grade_7 is 5.6e+04\n",
      "The Coefficient for grade_8 is 1.4e+05\n",
      "The Coefficient for grade_9 is 2.8e+05\n",
      "The Coefficient for grade_10 is 3.7e+05\n",
      "The Coefficient for grade_11 is 4.8e+05\n",
      "The Coefficient for neighborhoods_Bellvue is 2.6e+05\n",
      "The Coefficient for neighborhoods_Black Diamond is 4.5e+04\n",
      "The Coefficient for neighborhoods_Federal Way is -4.8e+04\n",
      "The Coefficient for neighborhoods_Kirkland/Kent is 1.1e+04\n",
      "The Coefficient for neighborhoods_Pacific is -4.4e+04\n",
      "The Coefficient for neighborhoods_Renton is -3e+04\n",
      "The Coefficient for neighborhoods_Sammammish is -3.6e+04\n",
      "The Coefficient for bedrooms_Large is -1.3e+04\n",
      "The Coefficient for bedrooms_Massive is -2.9e+04\n",
      "The Coefficient for bathrooms_Medium is 1.3e+04\n",
      "The Coefficient for bathrooms_Large is 4e+04\n",
<<<<<<< HEAD
      "The Coefficient for bathrooms_Massive is 1.5e+05\n"
=======
      "The Coefficient for bathrooms_Massive is 1.6e+05\n"
>>>>>>> a111dda47325c356f7c89042190a97afe170c3fb
>>>>>>> 17c301b8b565049214a01aea658af63c76cab4af
     ]
    }
   ],
   "source": [
    "#Exploring the intercept and coefficient\n",
    "\n",
    "intercept = regression_model.intercept_[0]\n",
    "coef = regression_model.coef_[0][0]\n",
    "\n",
    "print('The intercept for our model is {:.4}'.format(intercept))\n",
    "print('-'*100)\n",
    "\n",
    "#Loop through the dictionary and print the coeffcient data\n",
    "#so, for instance, for each unit in bathroom, there is a .00028% rise in price.\n",
    "for coef in zip(X.columns, regression_model.coef_[0]):\n",
    "    print('The Coefficient for {} is {:.2}'.format(coef[0], coef[1]))"
   ]
  },
  {
   "cell_type": "markdown",
   "metadata": {},
   "source": [
    "#### Fitting the final model."
   ]
  },
  {
   "cell_type": "code",
<<<<<<< HEAD
   "execution_count": 78,
=======
<<<<<<< HEAD
   "execution_count": 73,
=======
   "execution_count": 794,
>>>>>>> a111dda47325c356f7c89042190a97afe170c3fb
>>>>>>> 17c301b8b565049214a01aea658af63c76cab4af
   "metadata": {},
   "outputs": [],
   "source": [
    "X_1 = sm.add_constant(X)\n",
    "model = sm.OLS(y, X_1)\n",
    "est = model.fit()"
   ]
  },
  {
   "cell_type": "markdown",
   "metadata": {},
   "source": [
    "#### Homoscedasticity Checks:"
   ]
  },
  {
   "cell_type": "code",
<<<<<<< HEAD
   "execution_count": 79,
=======
<<<<<<< HEAD
   "execution_count": 77,
=======
   "execution_count": 795,
>>>>>>> a111dda47325c356f7c89042190a97afe170c3fb
>>>>>>> 17c301b8b565049214a01aea658af63c76cab4af
   "metadata": {},
   "outputs": [
    {
     "name": "stdout",
     "output_type": "stream",
     "text": [
      "0.0 0.0\n"
     ]
    }
   ],
   "source": [
    "#Homoscedasticity checks using breusch pagan test:\n",
    "#My null hypothesis is that all error vaiances are equal.\n",
    "#Since my p value is incredibly low i can reject the null and therefore there is no homoscedasticity.\n",
    "_, pval, _, f_pval = diag.het_breuschpagan(est.resid, est.model.exog)\n",
    "print(pval, f_pval)"
   ]
  },
  {
   "cell_type": "code",
<<<<<<< HEAD
   "execution_count": 80,
=======
<<<<<<< HEAD
   "execution_count": 75,
=======
   "execution_count": 796,
>>>>>>> a111dda47325c356f7c89042190a97afe170c3fb
>>>>>>> 17c301b8b565049214a01aea658af63c76cab4af
   "metadata": {},
   "outputs": [
    {
     "data": {
      "image/png": "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\n",
      "text/plain": [
       "<Figure size 792x576 with 1 Axes>"
      ]
     },
     "metadata": {},
     "output_type": "display_data"
    },
    {
     "name": "stdout",
     "output_type": "stream",
     "text": [
      "Mean: -1.3565532040666366e-08\n"
     ]
    }
   ],
   "source": [
    "#check for the normality of the residuals\n",
    "sm.qqplot(est.resid, line = 's')\n",
    "pylab.show()\n",
    "\n",
    "#check that the mean of the residuals is approx. 0\n",
    "mean_residuals = sum(est.resid) / len(est.resid)\n",
    "print(\"Mean:\", mean_residuals)"
   ]
  },
  {
   "cell_type": "code",
<<<<<<< HEAD
   "execution_count": 81,
=======
<<<<<<< HEAD
   "execution_count": 76,
=======
   "execution_count": 797,
>>>>>>> a111dda47325c356f7c89042190a97afe170c3fb
>>>>>>> 17c301b8b565049214a01aea658af63c76cab4af
   "metadata": {},
   "outputs": [
    {
     "name": "stdout",
     "output_type": "stream",
     "text": [
      "                            OLS Regression Results                            \n",
      "==============================================================================\n",
<<<<<<< HEAD
      "Dep. Variable:                  price   R-squared:                       0.678\n",
      "Model:                            OLS   Adj. R-squared:                  0.677\n",
      "Method:                 Least Squares   F-statistic:                     2622.\n",
      "Date:                Tue, 19 Jan 2021   Prob (F-statistic):               0.00\n",
      "Time:                        09:39:15   Log-Likelihood:            -1.8136e+05\n",
      "No. Observations:               13724   AIC:                         3.627e+05\n",
      "Df Residuals:                   13712   BIC:                         3.628e+05\n",
      "Df Model:                          11                                         \n",
=======
      "Dep. Variable:                  price   R-squared:                       0.713\n",
      "Model:                            OLS   Adj. R-squared:                  0.713\n",
      "Method:                 Least Squares   F-statistic:                     1174.\n",
      "Date:                Thu, 21 Jan 2021   Prob (F-statistic):               0.00\n",
      "Time:                        10:52:50   Log-Likelihood:            -1.8056e+05\n",
      "No. Observations:               13724   AIC:                         3.612e+05\n",
<<<<<<< HEAD
      "Df Residuals:                   13694   BIC:                         3.614e+05\n",
      "Df Model:                          29                                         \n",
=======
      "Df Residuals:                   13695   BIC:                         3.614e+05\n",
      "Df Model:                          28                                         \n",
>>>>>>> a111dda47325c356f7c89042190a97afe170c3fb
>>>>>>> 17c301b8b565049214a01aea658af63c76cab4af
      "Covariance Type:            nonrobust                                         \n",
      "===============================================================================================\n",
      "                                  coef    std err          t      P>|t|      [0.025      0.975]\n",
      "-----------------------------------------------------------------------------------------------\n",
      "const                       -1.766e+07   1.75e+06    -10.070      0.000   -2.11e+07   -1.42e+07\n",
      "sqft_living                   111.8008      2.714     41.197      0.000     106.481     117.120\n",
      "sqft_lot                       -0.5411      0.101     -5.361      0.000      -0.739      -0.343\n",
      "yr_built                    -1363.1876     61.461    -22.180      0.000   -1483.659   -1242.716\n",
      "lat                          5.438e+05   8448.352     64.371      0.000    5.27e+05     5.6e+05\n",
      "long                         4.406e+04   1.39e+04      3.169      0.002    1.68e+04    7.13e+04\n",
      "floors_1.5                   2.352e+04   4294.545      5.477      0.000    1.51e+04    3.19e+04\n",
      "floors_2.5                   9.316e+04   1.52e+04      6.114      0.000    6.33e+04    1.23e+05\n",
      "floors_3.0                   2.346e+04   7005.037      3.349      0.001    9726.583    3.72e+04\n",
      "view_1.0                     1.002e+05   8938.528     11.214      0.000    8.27e+04    1.18e+05\n",
      "view_2.0                     7.869e+04   5679.399     13.855      0.000    6.76e+04    8.98e+04\n",
      "condition_4                  1.957e+04   2721.405      7.190      0.000    1.42e+04    2.49e+04\n",
      "condition_5                  5.899e+04   4311.792     13.681      0.000    5.05e+04    6.74e+04\n",
      "grade_7                      5.675e+04   4114.432     13.793      0.000    4.87e+04    6.48e+04\n",
      "grade_8                      1.449e+05   4979.430     29.103      0.000    1.35e+05    1.55e+05\n",
      "grade_9                       2.77e+05   6261.445     44.235      0.000    2.65e+05    2.89e+05\n",
      "grade_10                     3.653e+05   8271.011     44.163      0.000    3.49e+05    3.81e+05\n",
      "grade_11                     4.892e+05   1.44e+04     33.930      0.000    4.61e+05    5.17e+05\n",
      "neighborhoods_Bellvue        2.639e+05   8308.952     31.767      0.000    2.48e+05     2.8e+05\n",
      "neighborhoods_Black Diamond  4.592e+04   6131.528      7.490      0.000    3.39e+04    5.79e+04\n",
      "neighborhoods_Federal Way   -4.539e+04   4306.817    -10.539      0.000   -5.38e+04   -3.69e+04\n",
      "neighborhoods_Kirkland/Kent  1.494e+04   4297.742      3.477      0.001    6517.538    2.34e+04\n",
      "neighborhoods_Pacific       -4.429e+04   7325.687     -6.045      0.000   -5.86e+04   -2.99e+04\n",
      "neighborhoods_Renton        -2.903e+04   4341.119     -6.687      0.000   -3.75e+04   -2.05e+04\n",
      "neighborhoods_Sammammish    -3.668e+04   5934.148     -6.181      0.000   -4.83e+04    -2.5e+04\n",
      "bedrooms_Large              -1.312e+04   2771.460     -4.735      0.000   -1.86e+04   -7689.039\n",
      "bedrooms_Massive            -2.833e+04   4766.832     -5.944      0.000   -3.77e+04    -1.9e+04\n",
      "bathrooms_Medium             1.287e+04   3646.565      3.528      0.000    5719.134       2e+04\n",
      "bathrooms_Large              4.165e+04   5252.757      7.929      0.000    3.14e+04    5.19e+04\n",
      "bathrooms_Massive            1.542e+05   1.34e+04     11.501      0.000    1.28e+05    1.81e+05\n",
      "==============================================================================\n",
      "Omnibus:                     3028.168   Durbin-Watson:                   1.984\n",
      "Prob(Omnibus):                  0.000   Jarque-Bera (JB):            12502.881\n",
      "Skew:                           1.038   Prob(JB):                         0.00\n",
      "Kurtosis:                       7.190   Cond. No.                     2.52e+07\n",
      "==============================================================================\n",
      "\n",
      "Notes:\n",
      "[1] Standard Errors assume that the covariance matrix of the errors is correctly specified.\n",
      "[2] The condition number is large, 2.52e+07. This might indicate that there are\n",
      "strong multicollinearity or other numerical problems.\n"
     ]
    }
   ],
   "source": [
    "print(est.summary())"
   ]
  },
  {
   "cell_type": "code",
   "execution_count": null,
   "metadata": {},
   "outputs": [],
   "source": []
  }
 ],
 "metadata": {
  "kernelspec": {
   "display_name": "Python 3",
   "language": "python",
   "name": "python3"
  },
  "language_info": {
   "codemirror_mode": {
    "name": "ipython",
    "version": 3
   },
   "file_extension": ".py",
   "mimetype": "text/x-python",
   "name": "python",
   "nbconvert_exporter": "python",
   "pygments_lexer": "ipython3",
   "version": "3.8.5"
  }
 },
 "nbformat": 4,
 "nbformat_minor": 4
}
