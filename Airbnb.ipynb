{
 "cells": [
  {
   "cell_type": "markdown",
   "metadata": {},
   "source": [
    "# KC County Housing v. Airbnb data sets.\n",
    "First importing the libraries."
   ]
  },
  {
   "cell_type": "code",
   "execution_count": 1,
   "metadata": {},
   "outputs": [],
   "source": [
    "import pandas as pd\n",
    "import numpy as np\n",
    "import pylab\n",
    "import math\n",
    "import os"
   ]
  },
  {
   "cell_type": "code",
   "execution_count": 2,
   "metadata": {},
   "outputs": [],
   "source": [
    "import matplotlib.pyplot as plt\n",
    "import seaborn as sns"
   ]
  },
  {
   "cell_type": "code",
   "execution_count": 3,
   "metadata": {},
   "outputs": [],
   "source": [
    "from scipy import stats"
   ]
  },
  {
   "cell_type": "code",
   "execution_count": 4,
   "metadata": {},
   "outputs": [],
   "source": [
    "import statsmodels.api as sm\n",
    "from statsmodels.formula.api import ols\n",
    "from statsmodels.stats import diagnostic as diag\n",
    "from statsmodels.stats.outliers_influence import variance_inflation_factor"
   ]
  },
  {
   "cell_type": "code",
   "execution_count": 5,
   "metadata": {},
   "outputs": [],
   "source": [
    "from sklearn.model_selection import train_test_split\n",
    "from sklearn.linear_model import LinearRegression\n",
    "from sklearn.metrics import mean_squared_error, r2_score, mean_absolute_error\n",
    "from sklearn.model_selection import train_test_split\n",
    "%matplotlib inline"
   ]
  },
  {
   "cell_type": "markdown",
   "metadata": {},
   "source": [
    "## Airbnb data set\n",
    "This data set was pulled from kaggle.  It is titled the 'Seattle Airbnb' on kaggle.  It happend to be the same zip codes as the KC county data set.  "
   ]
  },
  {
   "cell_type": "code",
   "execution_count": 6,
   "metadata": {},
   "outputs": [],
   "source": [
    "df1 = pd.read_csv('data/listings.csv')"
   ]
  },
  {
   "cell_type": "code",
   "execution_count": 7,
   "metadata": {},
   "outputs": [
    {
     "data": {
      "text/plain": [
       "(3818, 20)"
      ]
     },
     "execution_count": 7,
     "metadata": {},
     "output_type": "execute_result"
    }
   ],
   "source": [
    "df1.shape"
   ]
  },
  {
   "cell_type": "markdown",
   "metadata": {},
   "source": [
    "### Data Cleaning\n",
    "Standard getting rid of null values.   The unique part about cleaning this data set is that it originally came with over 150 columns off of the kaggle website.  Most of those columns were also useless for traditional data analysis with paragraph long entries such as reviews.  I chopped off most of the excess columns when I saved it to an excel file on the local drive.  "
   ]
  },
  {
   "cell_type": "code",
   "execution_count": 8,
   "metadata": {},
   "outputs": [],
   "source": [
    "df1.dropna(inplace = True)"
   ]
  },
  {
   "cell_type": "code",
   "execution_count": 9,
   "metadata": {},
   "outputs": [
    {
     "data": {
      "text/html": [
       "<div>\n",
       "<style scoped>\n",
       "    .dataframe tbody tr th:only-of-type {\n",
       "        vertical-align: middle;\n",
       "    }\n",
       "\n",
       "    .dataframe tbody tr th {\n",
       "        vertical-align: top;\n",
       "    }\n",
       "\n",
       "    .dataframe thead th {\n",
       "        text-align: right;\n",
       "    }\n",
       "</style>\n",
       "<table border=\"1\" class=\"dataframe\">\n",
       "  <thead>\n",
       "    <tr style=\"text-align: right;\">\n",
       "      <th></th>\n",
       "      <th>id</th>\n",
       "      <th>host_is_superhost</th>\n",
       "      <th>zipcode</th>\n",
       "      <th>property_type</th>\n",
       "      <th>room_type</th>\n",
       "      <th>accommodates</th>\n",
       "      <th>bathrooms</th>\n",
       "      <th>bedrooms</th>\n",
       "      <th>beds</th>\n",
       "      <th>weekly_price</th>\n",
       "      <th>monthly_price</th>\n",
       "      <th>cleaning_fee</th>\n",
       "      <th>guests_included</th>\n",
       "      <th>review_scores_rating</th>\n",
       "      <th>review_scores_accuracy</th>\n",
       "      <th>review_scores_cleanliness</th>\n",
       "      <th>review_scores_checkin</th>\n",
       "      <th>review_scores_communication</th>\n",
       "      <th>review_scores_location</th>\n",
       "      <th>review_scores_value</th>\n",
       "    </tr>\n",
       "  </thead>\n",
       "  <tbody>\n",
       "    <tr>\n",
       "      <th>1</th>\n",
       "      <td>953595</td>\n",
       "      <td>t</td>\n",
       "      <td>98119</td>\n",
       "      <td>Apartment</td>\n",
       "      <td>Entire home/apt</td>\n",
       "      <td>4</td>\n",
       "      <td>1.0</td>\n",
       "      <td>1.0</td>\n",
       "      <td>1.0</td>\n",
       "      <td>$1,000.00</td>\n",
       "      <td>$3,000.00</td>\n",
       "      <td>$40.00</td>\n",
       "      <td>1</td>\n",
       "      <td>96.0</td>\n",
       "      <td>10.0</td>\n",
       "      <td>10.0</td>\n",
       "      <td>10.0</td>\n",
       "      <td>10.0</td>\n",
       "      <td>10.0</td>\n",
       "      <td>10.0</td>\n",
       "    </tr>\n",
       "    <tr>\n",
       "      <th>9</th>\n",
       "      <td>2493658</td>\n",
       "      <td>t</td>\n",
       "      <td>98119</td>\n",
       "      <td>Apartment</td>\n",
       "      <td>Entire home/apt</td>\n",
       "      <td>4</td>\n",
       "      <td>1.0</td>\n",
       "      <td>1.0</td>\n",
       "      <td>1.0</td>\n",
       "      <td>$1,000.00</td>\n",
       "      <td>$3,000.00</td>\n",
       "      <td>$40.00</td>\n",
       "      <td>1</td>\n",
       "      <td>97.0</td>\n",
       "      <td>10.0</td>\n",
       "      <td>10.0</td>\n",
       "      <td>10.0</td>\n",
       "      <td>10.0</td>\n",
       "      <td>10.0</td>\n",
       "      <td>9.0</td>\n",
       "    </tr>\n",
       "    <tr>\n",
       "      <th>11</th>\n",
       "      <td>4454295</td>\n",
       "      <td>f</td>\n",
       "      <td>98119</td>\n",
       "      <td>House</td>\n",
       "      <td>Entire home/apt</td>\n",
       "      <td>2</td>\n",
       "      <td>1.0</td>\n",
       "      <td>1.0</td>\n",
       "      <td>1.0</td>\n",
       "      <td>$800.00</td>\n",
       "      <td>$2,000.00</td>\n",
       "      <td>$150.00</td>\n",
       "      <td>1</td>\n",
       "      <td>97.0</td>\n",
       "      <td>10.0</td>\n",
       "      <td>10.0</td>\n",
       "      <td>9.0</td>\n",
       "      <td>10.0</td>\n",
       "      <td>10.0</td>\n",
       "      <td>9.0</td>\n",
       "    </tr>\n",
       "    <tr>\n",
       "      <th>12</th>\n",
       "      <td>3883392</td>\n",
       "      <td>t</td>\n",
       "      <td>98119</td>\n",
       "      <td>Apartment</td>\n",
       "      <td>Entire home/apt</td>\n",
       "      <td>4</td>\n",
       "      <td>1.0</td>\n",
       "      <td>2.0</td>\n",
       "      <td>3.0</td>\n",
       "      <td>$1,575.00</td>\n",
       "      <td>$5,800.00</td>\n",
       "      <td>$95.00</td>\n",
       "      <td>1</td>\n",
       "      <td>98.0</td>\n",
       "      <td>10.0</td>\n",
       "      <td>10.0</td>\n",
       "      <td>10.0</td>\n",
       "      <td>10.0</td>\n",
       "      <td>10.0</td>\n",
       "      <td>10.0</td>\n",
       "    </tr>\n",
       "    <tr>\n",
       "      <th>21</th>\n",
       "      <td>4125779</td>\n",
       "      <td>f</td>\n",
       "      <td>98119</td>\n",
       "      <td>House</td>\n",
       "      <td>Private room</td>\n",
       "      <td>3</td>\n",
       "      <td>1.5</td>\n",
       "      <td>1.0</td>\n",
       "      <td>2.0</td>\n",
       "      <td>$568.00</td>\n",
       "      <td>$2,029.00</td>\n",
       "      <td>$15.00</td>\n",
       "      <td>1</td>\n",
       "      <td>84.0</td>\n",
       "      <td>9.0</td>\n",
       "      <td>9.0</td>\n",
       "      <td>9.0</td>\n",
       "      <td>9.0</td>\n",
       "      <td>10.0</td>\n",
       "      <td>8.0</td>\n",
       "    </tr>\n",
       "  </tbody>\n",
       "</table>\n",
       "</div>"
      ],
      "text/plain": [
       "         id host_is_superhost zipcode property_type        room_type  \\\n",
       "1    953595                 t   98119     Apartment  Entire home/apt   \n",
       "9   2493658                 t   98119     Apartment  Entire home/apt   \n",
       "11  4454295                 f   98119         House  Entire home/apt   \n",
       "12  3883392                 t   98119     Apartment  Entire home/apt   \n",
       "21  4125779                 f   98119         House     Private room   \n",
       "\n",
       "    accommodates  bathrooms  bedrooms  beds weekly_price monthly_price  \\\n",
       "1              4        1.0       1.0   1.0   $1,000.00     $3,000.00    \n",
       "9              4        1.0       1.0   1.0   $1,000.00     $3,000.00    \n",
       "11             2        1.0       1.0   1.0     $800.00     $2,000.00    \n",
       "12             4        1.0       2.0   3.0   $1,575.00     $5,800.00    \n",
       "21             3        1.5       1.0   2.0     $568.00     $2,029.00    \n",
       "\n",
       "   cleaning_fee  guests_included  review_scores_rating  \\\n",
       "1       $40.00                 1                  96.0   \n",
       "9       $40.00                 1                  97.0   \n",
       "11     $150.00                 1                  97.0   \n",
       "12      $95.00                 1                  98.0   \n",
       "21      $15.00                 1                  84.0   \n",
       "\n",
       "    review_scores_accuracy  review_scores_cleanliness  review_scores_checkin  \\\n",
       "1                     10.0                       10.0                   10.0   \n",
       "9                     10.0                       10.0                   10.0   \n",
       "11                    10.0                       10.0                    9.0   \n",
       "12                    10.0                       10.0                   10.0   \n",
       "21                     9.0                        9.0                    9.0   \n",
       "\n",
       "    review_scores_communication  review_scores_location  review_scores_value  \n",
       "1                          10.0                    10.0                 10.0  \n",
       "9                          10.0                    10.0                  9.0  \n",
       "11                         10.0                    10.0                  9.0  \n",
       "12                         10.0                    10.0                 10.0  \n",
       "21                          9.0                    10.0                  8.0  "
      ]
     },
     "execution_count": 9,
     "metadata": {},
     "output_type": "execute_result"
    }
   ],
   "source": [
    "df1.head()"
   ]
  },
  {
   "cell_type": "code",
   "execution_count": 10,
   "metadata": {},
   "outputs": [
    {
     "data": {
      "text/plain": [
       "id                             False\n",
       "host_is_superhost              False\n",
       "zipcode                        False\n",
       "property_type                  False\n",
       "room_type                      False\n",
       "accommodates                   False\n",
       "bathrooms                      False\n",
       "bedrooms                       False\n",
       "beds                           False\n",
       "weekly_price                   False\n",
       "monthly_price                  False\n",
       "cleaning_fee                   False\n",
       "guests_included                False\n",
       "review_scores_rating           False\n",
       "review_scores_accuracy         False\n",
       "review_scores_cleanliness      False\n",
       "review_scores_checkin          False\n",
       "review_scores_communication    False\n",
       "review_scores_location         False\n",
       "review_scores_value            False\n",
       "dtype: bool"
      ]
     },
     "metadata": {},
     "output_type": "display_data"
    },
    {
     "data": {
      "text/plain": [
       "(1032, 20)"
      ]
     },
     "execution_count": 10,
     "metadata": {},
     "output_type": "execute_result"
    }
   ],
   "source": [
    "display(df1.isnull().any())\n",
    "df1.shape"
   ]
  },
  {
   "cell_type": "markdown",
   "metadata": {},
   "source": [
    "After getting rid of all of the null values I am filtering the data down to the columns I think will be applicable along with the KC data set.  "
   ]
  },
  {
   "cell_type": "code",
   "execution_count": 11,
   "metadata": {},
   "outputs": [],
   "source": [
    "df_abnb = df1.filter(['zipcode', 'property_type', 'room_type', 'bathrooms', 'bedrooms', 'monthly_price', 'review_scores_rating'], axis=1)"
   ]
  },
  {
   "cell_type": "code",
   "execution_count": 12,
   "metadata": {},
   "outputs": [
    {
     "data": {
      "text/html": [
       "<div>\n",
       "<style scoped>\n",
       "    .dataframe tbody tr th:only-of-type {\n",
       "        vertical-align: middle;\n",
       "    }\n",
       "\n",
       "    .dataframe tbody tr th {\n",
       "        vertical-align: top;\n",
       "    }\n",
       "\n",
       "    .dataframe thead th {\n",
       "        text-align: right;\n",
       "    }\n",
       "</style>\n",
       "<table border=\"1\" class=\"dataframe\">\n",
       "  <thead>\n",
       "    <tr style=\"text-align: right;\">\n",
       "      <th></th>\n",
       "      <th>bathrooms</th>\n",
       "      <th>bedrooms</th>\n",
       "      <th>review_scores_rating</th>\n",
       "    </tr>\n",
       "  </thead>\n",
       "  <tbody>\n",
       "    <tr>\n",
       "      <th>count</th>\n",
       "      <td>1032.000000</td>\n",
       "      <td>1032.000000</td>\n",
       "      <td>1032.00000</td>\n",
       "    </tr>\n",
       "    <tr>\n",
       "      <th>mean</th>\n",
       "      <td>1.228198</td>\n",
       "      <td>1.298450</td>\n",
       "      <td>94.05814</td>\n",
       "    </tr>\n",
       "    <tr>\n",
       "      <th>std</th>\n",
       "      <td>0.549675</td>\n",
       "      <td>0.844953</td>\n",
       "      <td>7.32656</td>\n",
       "    </tr>\n",
       "    <tr>\n",
       "      <th>min</th>\n",
       "      <td>0.500000</td>\n",
       "      <td>0.000000</td>\n",
       "      <td>20.00000</td>\n",
       "    </tr>\n",
       "    <tr>\n",
       "      <th>25%</th>\n",
       "      <td>1.000000</td>\n",
       "      <td>1.000000</td>\n",
       "      <td>92.00000</td>\n",
       "    </tr>\n",
       "    <tr>\n",
       "      <th>50%</th>\n",
       "      <td>1.000000</td>\n",
       "      <td>1.000000</td>\n",
       "      <td>96.00000</td>\n",
       "    </tr>\n",
       "    <tr>\n",
       "      <th>75%</th>\n",
       "      <td>1.000000</td>\n",
       "      <td>2.000000</td>\n",
       "      <td>99.00000</td>\n",
       "    </tr>\n",
       "    <tr>\n",
       "      <th>max</th>\n",
       "      <td>4.500000</td>\n",
       "      <td>6.000000</td>\n",
       "      <td>100.00000</td>\n",
       "    </tr>\n",
       "  </tbody>\n",
       "</table>\n",
       "</div>"
      ],
      "text/plain": [
       "         bathrooms     bedrooms  review_scores_rating\n",
       "count  1032.000000  1032.000000            1032.00000\n",
       "mean      1.228198     1.298450              94.05814\n",
       "std       0.549675     0.844953               7.32656\n",
       "min       0.500000     0.000000              20.00000\n",
       "25%       1.000000     1.000000              92.00000\n",
       "50%       1.000000     1.000000              96.00000\n",
       "75%       1.000000     2.000000              99.00000\n",
       "max       4.500000     6.000000             100.00000"
      ]
     },
     "execution_count": 12,
     "metadata": {},
     "output_type": "execute_result"
    }
   ],
   "source": [
    "#I am doing a df.describe to discover what pandas thinks is continuous\n",
    "df_abnb.describe()"
   ]
  },
  {
   "cell_type": "code",
   "execution_count": 13,
   "metadata": {},
   "outputs": [],
   "source": [
    "#Because of the extra characters like dollar sighns and commas I need to strip these numbers to get just plain integer values.\n",
    "\n",
    "def column_conversion(df, col):\n",
    "    df[col] = df[col].str.replace(\"$\",\"\").str.replace(\",\",\"\").str.replace(\".\",\"\").astype('int')\n",
    "    return df"
   ]
  },
  {
   "cell_type": "code",
   "execution_count": 14,
   "metadata": {},
   "outputs": [],
   "source": [
    "column_to_convert = ['monthly_price']\n",
    "\n",
    "for col in column_to_convert:\n",
    "    df_abnb = column_conversion(df_abnb, col)"
   ]
  },
  {
   "cell_type": "code",
   "execution_count": 15,
   "metadata": {},
   "outputs": [],
   "source": [
    "df_abnb['monthly_price'] = df_abnb['monthly_price'].div(100).round(2)"
   ]
  },
  {
   "cell_type": "code",
   "execution_count": 16,
   "metadata": {},
   "outputs": [
    {
     "data": {
      "text/html": [
       "<div>\n",
       "<style scoped>\n",
       "    .dataframe tbody tr th:only-of-type {\n",
       "        vertical-align: middle;\n",
       "    }\n",
       "\n",
       "    .dataframe tbody tr th {\n",
       "        vertical-align: top;\n",
       "    }\n",
       "\n",
       "    .dataframe thead th {\n",
       "        text-align: right;\n",
       "    }\n",
       "</style>\n",
       "<table border=\"1\" class=\"dataframe\">\n",
       "  <thead>\n",
       "    <tr style=\"text-align: right;\">\n",
       "      <th></th>\n",
       "      <th>zipcode</th>\n",
       "      <th>property_type</th>\n",
       "      <th>room_type</th>\n",
       "      <th>bathrooms</th>\n",
       "      <th>bedrooms</th>\n",
       "      <th>monthly_price</th>\n",
       "      <th>review_scores_rating</th>\n",
       "    </tr>\n",
       "  </thead>\n",
       "  <tbody>\n",
       "    <tr>\n",
       "      <th>1</th>\n",
       "      <td>98119</td>\n",
       "      <td>Apartment</td>\n",
       "      <td>Entire home/apt</td>\n",
       "      <td>1.0</td>\n",
       "      <td>1.0</td>\n",
       "      <td>3000.0</td>\n",
       "      <td>96.0</td>\n",
       "    </tr>\n",
       "    <tr>\n",
       "      <th>9</th>\n",
       "      <td>98119</td>\n",
       "      <td>Apartment</td>\n",
       "      <td>Entire home/apt</td>\n",
       "      <td>1.0</td>\n",
       "      <td>1.0</td>\n",
       "      <td>3000.0</td>\n",
       "      <td>97.0</td>\n",
       "    </tr>\n",
       "    <tr>\n",
       "      <th>11</th>\n",
       "      <td>98119</td>\n",
       "      <td>House</td>\n",
       "      <td>Entire home/apt</td>\n",
       "      <td>1.0</td>\n",
       "      <td>1.0</td>\n",
       "      <td>2000.0</td>\n",
       "      <td>97.0</td>\n",
       "    </tr>\n",
       "    <tr>\n",
       "      <th>12</th>\n",
       "      <td>98119</td>\n",
       "      <td>Apartment</td>\n",
       "      <td>Entire home/apt</td>\n",
       "      <td>1.0</td>\n",
       "      <td>2.0</td>\n",
       "      <td>5800.0</td>\n",
       "      <td>98.0</td>\n",
       "    </tr>\n",
       "    <tr>\n",
       "      <th>21</th>\n",
       "      <td>98119</td>\n",
       "      <td>House</td>\n",
       "      <td>Private room</td>\n",
       "      <td>1.5</td>\n",
       "      <td>1.0</td>\n",
       "      <td>2029.0</td>\n",
       "      <td>84.0</td>\n",
       "    </tr>\n",
       "  </tbody>\n",
       "</table>\n",
       "</div>"
      ],
      "text/plain": [
       "   zipcode property_type        room_type  bathrooms  bedrooms  monthly_price  \\\n",
       "1    98119     Apartment  Entire home/apt        1.0       1.0         3000.0   \n",
       "9    98119     Apartment  Entire home/apt        1.0       1.0         3000.0   \n",
       "11   98119         House  Entire home/apt        1.0       1.0         2000.0   \n",
       "12   98119     Apartment  Entire home/apt        1.0       2.0         5800.0   \n",
       "21   98119         House     Private room        1.5       1.0         2029.0   \n",
       "\n",
       "    review_scores_rating  \n",
       "1                   96.0  \n",
       "9                   97.0  \n",
       "11                  97.0  \n",
       "12                  98.0  \n",
       "21                  84.0  "
      ]
     },
     "execution_count": 16,
     "metadata": {},
     "output_type": "execute_result"
    }
   ],
   "source": [
    "df_abnb.head()"
   ]
  },
  {
   "cell_type": "markdown",
   "metadata": {},
   "source": [
    "### Exploring the Data\n",
    "Taking a look at deeper at the categorical variables.  I first looked at some boxplot data associated with type of home and how much it rents for a month.  I was surprised to find that, excluding outliers, townhomes and condominiums tend to rent for the most.  After that I created new columns that transform the categorical columns into numeric columns making the data set easier to put into a regression model."
   ]
  },
  {
   "cell_type": "code",
   "execution_count": 17,
   "metadata": {},
   "outputs": [
    {
     "name": "stdout",
     "output_type": "stream",
     "text": [
      "['Entire home/apt' 'Private room' 'Shared room']\n"
     ]
    }
   ],
   "source": [
    "#Looking at all the unique types of categories for my two categorical columns\n",
    "\n",
    "print(df_abnb['room_type'].unique())"
   ]
  },
  {
   "cell_type": "code",
   "execution_count": 18,
   "metadata": {},
   "outputs": [
    {
     "name": "stdout",
     "output_type": "stream",
     "text": [
      "['Apartment' 'House' 'Condominium' 'Bungalow' 'Townhouse' 'Other' 'Cabin'\n",
      " 'Loft' 'Bed & Breakfast' 'Chalet' 'Camper/RV']\n"
     ]
    }
   ],
   "source": [
    "print(df_abnb['property_type'].unique())"
   ]
  },
  {
   "cell_type": "code",
   "execution_count": 19,
   "metadata": {},
   "outputs": [],
   "source": [
    "sns.set(rc={'figure.figsize':(11,8)}, font_scale=1.5, style='whitegrid')"
   ]
  },
  {
   "cell_type": "code",
   "execution_count": 20,
   "metadata": {},
   "outputs": [
    {
     "data": {
      "text/plain": [
       "[Text(0, 0, 'Apartment'),\n",
       " Text(1, 0, 'House'),\n",
       " Text(2, 0, 'Condominium'),\n",
       " Text(3, 0, 'Bungalow'),\n",
       " Text(4, 0, 'Townhouse'),\n",
       " Text(5, 0, 'Other'),\n",
       " Text(6, 0, 'Cabin'),\n",
       " Text(7, 0, 'Loft'),\n",
       " Text(8, 0, 'Bed & Breakfast'),\n",
       " Text(9, 0, 'Chalet'),\n",
       " Text(10, 0, 'Camper/RV')]"
      ]
     },
     "execution_count": 20,
     "metadata": {},
     "output_type": "execute_result"
    },
    {
     "data": {
      "image/png": "[encoded data removed]",
      "text/plain": [
       "<Figure size 792x576 with 1 Axes>"
      ]
     },
     "metadata": {},
     "output_type": "display_data"
    }
   ],
   "source": [
    "ax = sns.boxplot(x=\"property_type\", y=\"monthly_price\", data=df_abnb)\n",
    "ax.set_xticklabels(ax.get_xticklabels(), rotation=30)"
   ]
  },
  {
   "cell_type": "code",
   "execution_count": 21,
   "metadata": {},
   "outputs": [
    {
     "data": {
      "text/plain": [
       "zipcode                   object\n",
       "property_type           category\n",
       "room_type                 object\n",
       "bathrooms                float64\n",
       "bedrooms                 float64\n",
       "monthly_price            float64\n",
       "review_scores_rating     float64\n",
       "dtype: object"
      ]
     },
     "execution_count": 21,
     "metadata": {},
     "output_type": "execute_result"
    }
   ],
   "source": [
    "#Below is all of the code for how I transformed the columns into numeric values.\n",
    "df_abnb['property_type'] = df_abnb['property_type'].astype('category')\n",
    "df_abnb.dtypes"
   ]
  },
  {
   "cell_type": "code",
   "execution_count": 22,
   "metadata": {},
   "outputs": [
    {
     "data": {
      "text/html": [
       "<div>\n",
       "<style scoped>\n",
       "    .dataframe tbody tr th:only-of-type {\n",
       "        vertical-align: middle;\n",
       "    }\n",
       "\n",
       "    .dataframe tbody tr th {\n",
       "        vertical-align: top;\n",
       "    }\n",
       "\n",
       "    .dataframe thead th {\n",
       "        text-align: right;\n",
       "    }\n",
       "</style>\n",
       "<table border=\"1\" class=\"dataframe\">\n",
       "  <thead>\n",
       "    <tr style=\"text-align: right;\">\n",
       "      <th></th>\n",
       "      <th>zipcode</th>\n",
       "      <th>property_type</th>\n",
       "      <th>room_type</th>\n",
       "      <th>bathrooms</th>\n",
       "      <th>bedrooms</th>\n",
       "      <th>monthly_price</th>\n",
       "      <th>review_scores_rating</th>\n",
       "      <th>property_type_cat</th>\n",
       "    </tr>\n",
       "  </thead>\n",
       "  <tbody>\n",
       "    <tr>\n",
       "      <th>1</th>\n",
       "      <td>98119</td>\n",
       "      <td>Apartment</td>\n",
       "      <td>Entire home/apt</td>\n",
       "      <td>1.0</td>\n",
       "      <td>1.0</td>\n",
       "      <td>3000.0</td>\n",
       "      <td>96.0</td>\n",
       "      <td>0</td>\n",
       "    </tr>\n",
       "    <tr>\n",
       "      <th>9</th>\n",
       "      <td>98119</td>\n",
       "      <td>Apartment</td>\n",
       "      <td>Entire home/apt</td>\n",
       "      <td>1.0</td>\n",
       "      <td>1.0</td>\n",
       "      <td>3000.0</td>\n",
       "      <td>97.0</td>\n",
       "      <td>0</td>\n",
       "    </tr>\n",
       "    <tr>\n",
       "      <th>11</th>\n",
       "      <td>98119</td>\n",
       "      <td>House</td>\n",
       "      <td>Entire home/apt</td>\n",
       "      <td>1.0</td>\n",
       "      <td>1.0</td>\n",
       "      <td>2000.0</td>\n",
       "      <td>97.0</td>\n",
       "      <td>7</td>\n",
       "    </tr>\n",
       "    <tr>\n",
       "      <th>12</th>\n",
       "      <td>98119</td>\n",
       "      <td>Apartment</td>\n",
       "      <td>Entire home/apt</td>\n",
       "      <td>1.0</td>\n",
       "      <td>2.0</td>\n",
       "      <td>5800.0</td>\n",
       "      <td>98.0</td>\n",
       "      <td>0</td>\n",
       "    </tr>\n",
       "    <tr>\n",
       "      <th>21</th>\n",
       "      <td>98119</td>\n",
       "      <td>House</td>\n",
       "      <td>Private room</td>\n",
       "      <td>1.5</td>\n",
       "      <td>1.0</td>\n",
       "      <td>2029.0</td>\n",
       "      <td>84.0</td>\n",
       "      <td>7</td>\n",
       "    </tr>\n",
       "  </tbody>\n",
       "</table>\n",
       "</div>"
      ],
      "text/plain": [
       "   zipcode property_type        room_type  bathrooms  bedrooms  monthly_price  \\\n",
       "1    98119     Apartment  Entire home/apt        1.0       1.0         3000.0   \n",
       "9    98119     Apartment  Entire home/apt        1.0       1.0         3000.0   \n",
       "11   98119         House  Entire home/apt        1.0       1.0         2000.0   \n",
       "12   98119     Apartment  Entire home/apt        1.0       2.0         5800.0   \n",
       "21   98119         House     Private room        1.5       1.0         2029.0   \n",
       "\n",
       "    review_scores_rating  property_type_cat  \n",
       "1                   96.0                  0  \n",
       "9                   97.0                  0  \n",
       "11                  97.0                  7  \n",
       "12                  98.0                  0  \n",
       "21                  84.0                  7  "
      ]
     },
     "execution_count": 22,
     "metadata": {},
     "output_type": "execute_result"
    }
   ],
   "source": [
    "df_abnb['property_type_cat'] = df_abnb['property_type'].cat.codes\n",
    "df_abnb.head()"
   ]
  },
  {
   "cell_type": "code",
   "execution_count": 23,
   "metadata": {},
   "outputs": [
    {
     "data": {
      "text/plain": [
       "zipcode                   object\n",
       "property_type           category\n",
       "room_type               category\n",
       "bathrooms                float64\n",
       "bedrooms                 float64\n",
       "monthly_price            float64\n",
       "review_scores_rating     float64\n",
       "property_type_cat           int8\n",
       "dtype: object"
      ]
     },
     "execution_count": 23,
     "metadata": {},
     "output_type": "execute_result"
    }
   ],
   "source": [
    "df_abnb['room_type'] = df_abnb['room_type'].astype('category')\n",
    "df_abnb.dtypes"
   ]
  },
  {
   "cell_type": "code",
   "execution_count": 24,
   "metadata": {},
   "outputs": [
    {
     "data": {
      "text/html": [
       "<div>\n",
       "<style scoped>\n",
       "    .dataframe tbody tr th:only-of-type {\n",
       "        vertical-align: middle;\n",
       "    }\n",
       "\n",
       "    .dataframe tbody tr th {\n",
       "        vertical-align: top;\n",
       "    }\n",
       "\n",
       "    .dataframe thead th {\n",
       "        text-align: right;\n",
       "    }\n",
       "</style>\n",
       "<table border=\"1\" class=\"dataframe\">\n",
       "  <thead>\n",
       "    <tr style=\"text-align: right;\">\n",
       "      <th></th>\n",
       "      <th>zipcode</th>\n",
       "      <th>property_type</th>\n",
       "      <th>room_type</th>\n",
       "      <th>bathrooms</th>\n",
       "      <th>bedrooms</th>\n",
       "      <th>monthly_price</th>\n",
       "      <th>review_scores_rating</th>\n",
       "      <th>property_type_cat</th>\n",
       "      <th>room_type_cat</th>\n",
       "    </tr>\n",
       "  </thead>\n",
       "  <tbody>\n",
       "    <tr>\n",
       "      <th>1</th>\n",
       "      <td>98119</td>\n",
       "      <td>Apartment</td>\n",
       "      <td>Entire home/apt</td>\n",
       "      <td>1.0</td>\n",
       "      <td>1.0</td>\n",
       "      <td>3000.0</td>\n",
       "      <td>96.0</td>\n",
       "      <td>0</td>\n",
       "      <td>0</td>\n",
       "    </tr>\n",
       "    <tr>\n",
       "      <th>9</th>\n",
       "      <td>98119</td>\n",
       "      <td>Apartment</td>\n",
       "      <td>Entire home/apt</td>\n",
       "      <td>1.0</td>\n",
       "      <td>1.0</td>\n",
       "      <td>3000.0</td>\n",
       "      <td>97.0</td>\n",
       "      <td>0</td>\n",
       "      <td>0</td>\n",
       "    </tr>\n",
       "    <tr>\n",
       "      <th>11</th>\n",
       "      <td>98119</td>\n",
       "      <td>House</td>\n",
       "      <td>Entire home/apt</td>\n",
       "      <td>1.0</td>\n",
       "      <td>1.0</td>\n",
       "      <td>2000.0</td>\n",
       "      <td>97.0</td>\n",
       "      <td>7</td>\n",
       "      <td>0</td>\n",
       "    </tr>\n",
       "    <tr>\n",
       "      <th>12</th>\n",
       "      <td>98119</td>\n",
       "      <td>Apartment</td>\n",
       "      <td>Entire home/apt</td>\n",
       "      <td>1.0</td>\n",
       "      <td>2.0</td>\n",
       "      <td>5800.0</td>\n",
       "      <td>98.0</td>\n",
       "      <td>0</td>\n",
       "      <td>0</td>\n",
       "    </tr>\n",
       "    <tr>\n",
       "      <th>21</th>\n",
       "      <td>98119</td>\n",
       "      <td>House</td>\n",
       "      <td>Private room</td>\n",
       "      <td>1.5</td>\n",
       "      <td>1.0</td>\n",
       "      <td>2029.0</td>\n",
       "      <td>84.0</td>\n",
       "      <td>7</td>\n",
       "      <td>1</td>\n",
       "    </tr>\n",
       "  </tbody>\n",
       "</table>\n",
       "</div>"
      ],
      "text/plain": [
       "   zipcode property_type        room_type  bathrooms  bedrooms  monthly_price  \\\n",
       "1    98119     Apartment  Entire home/apt        1.0       1.0         3000.0   \n",
       "9    98119     Apartment  Entire home/apt        1.0       1.0         3000.0   \n",
       "11   98119         House  Entire home/apt        1.0       1.0         2000.0   \n",
       "12   98119     Apartment  Entire home/apt        1.0       2.0         5800.0   \n",
       "21   98119         House     Private room        1.5       1.0         2029.0   \n",
       "\n",
       "    review_scores_rating  property_type_cat  room_type_cat  \n",
       "1                   96.0                  0              0  \n",
       "9                   97.0                  0              0  \n",
       "11                  97.0                  7              0  \n",
       "12                  98.0                  0              0  \n",
       "21                  84.0                  7              1  "
      ]
     },
     "execution_count": 24,
     "metadata": {},
     "output_type": "execute_result"
    }
   ],
   "source": [
    "df_abnb['room_type_cat'] = df_abnb['room_type'].cat.codes\n",
    "df_abnb.head()"
   ]
  },
  {
   "cell_type": "code",
   "execution_count": 25,
   "metadata": {},
   "outputs": [],
   "source": [
    "df_abnb = df_abnb[['zipcode', 'bathrooms', 'bedrooms', 'monthly_price', 'review_scores_rating', 'property_type_cat', 'room_type_cat']]"
   ]
  },
  {
   "cell_type": "code",
   "execution_count": 26,
   "metadata": {},
   "outputs": [
    {
     "data": {
      "text/html": [
       "<div>\n",
       "<style scoped>\n",
       "    .dataframe tbody tr th:only-of-type {\n",
       "        vertical-align: middle;\n",
       "    }\n",
       "\n",
       "    .dataframe tbody tr th {\n",
       "        vertical-align: top;\n",
       "    }\n",
       "\n",
       "    .dataframe thead th {\n",
       "        text-align: right;\n",
       "    }\n",
       "</style>\n",
       "<table border=\"1\" class=\"dataframe\">\n",
       "  <thead>\n",
       "    <tr style=\"text-align: right;\">\n",
       "      <th></th>\n",
       "      <th>zipcode</th>\n",
       "      <th>bathrooms</th>\n",
       "      <th>bedrooms</th>\n",
       "      <th>monthly_price</th>\n",
       "      <th>review_scores_rating</th>\n",
       "      <th>property_type_cat</th>\n",
       "      <th>room_type_cat</th>\n",
       "    </tr>\n",
       "  </thead>\n",
       "  <tbody>\n",
       "    <tr>\n",
       "      <th>1</th>\n",
       "      <td>98119</td>\n",
       "      <td>1.0</td>\n",
       "      <td>1.0</td>\n",
       "      <td>3000.0</td>\n",
       "      <td>96.0</td>\n",
       "      <td>0</td>\n",
       "      <td>0</td>\n",
       "    </tr>\n",
       "    <tr>\n",
       "      <th>9</th>\n",
       "      <td>98119</td>\n",
       "      <td>1.0</td>\n",
       "      <td>1.0</td>\n",
       "      <td>3000.0</td>\n",
       "      <td>97.0</td>\n",
       "      <td>0</td>\n",
       "      <td>0</td>\n",
       "    </tr>\n",
       "    <tr>\n",
       "      <th>11</th>\n",
       "      <td>98119</td>\n",
       "      <td>1.0</td>\n",
       "      <td>1.0</td>\n",
       "      <td>2000.0</td>\n",
       "      <td>97.0</td>\n",
       "      <td>7</td>\n",
       "      <td>0</td>\n",
       "    </tr>\n",
       "    <tr>\n",
       "      <th>12</th>\n",
       "      <td>98119</td>\n",
       "      <td>1.0</td>\n",
       "      <td>2.0</td>\n",
       "      <td>5800.0</td>\n",
       "      <td>98.0</td>\n",
       "      <td>0</td>\n",
       "      <td>0</td>\n",
       "    </tr>\n",
       "    <tr>\n",
       "      <th>21</th>\n",
       "      <td>98119</td>\n",
       "      <td>1.5</td>\n",
       "      <td>1.0</td>\n",
       "      <td>2029.0</td>\n",
       "      <td>84.0</td>\n",
       "      <td>7</td>\n",
       "      <td>1</td>\n",
       "    </tr>\n",
       "  </tbody>\n",
       "</table>\n",
       "</div>"
      ],
      "text/plain": [
       "   zipcode  bathrooms  bedrooms  monthly_price  review_scores_rating  \\\n",
       "1    98119        1.0       1.0         3000.0                  96.0   \n",
       "9    98119        1.0       1.0         3000.0                  97.0   \n",
       "11   98119        1.0       1.0         2000.0                  97.0   \n",
       "12   98119        1.0       2.0         5800.0                  98.0   \n",
       "21   98119        1.5       1.0         2029.0                  84.0   \n",
       "\n",
       "    property_type_cat  room_type_cat  \n",
       "1                   0              0  \n",
       "9                   0              0  \n",
       "11                  7              0  \n",
       "12                  0              0  \n",
       "21                  7              1  "
      ]
     },
     "execution_count": 26,
     "metadata": {},
     "output_type": "execute_result"
    }
   ],
   "source": [
    "df_abnb.head()"
   ]
  },
  {
   "cell_type": "markdown",
   "metadata": {},
   "source": [
    "### Getting rid of outliers\n",
    "When I initially tried to get rid of outliers using a z score it was much too agressive of a technique.  I ended up using an interquartile range technique which had its drawbacks as well.  I could only do one column so I chose monthly price because I felt like it had the most extreme outliers."
   ]
  },
  {
   "cell_type": "code",
   "execution_count": 27,
   "metadata": {},
   "outputs": [
    {
     "data": {
      "text/html": [
       "<div>\n",
       "<style scoped>\n",
       "    .dataframe tbody tr th:only-of-type {\n",
       "        vertical-align: middle;\n",
       "    }\n",
       "\n",
       "    .dataframe tbody tr th {\n",
       "        vertical-align: top;\n",
       "    }\n",
       "\n",
       "    .dataframe thead th {\n",
       "        text-align: right;\n",
       "    }\n",
       "</style>\n",
       "<table border=\"1\" class=\"dataframe\">\n",
       "  <thead>\n",
       "    <tr style=\"text-align: right;\">\n",
       "      <th></th>\n",
       "      <th>bathrooms</th>\n",
       "      <th>bedrooms</th>\n",
       "      <th>monthly_price</th>\n",
       "      <th>review_scores_rating</th>\n",
       "      <th>property_type_cat</th>\n",
       "      <th>room_type_cat</th>\n",
       "    </tr>\n",
       "  </thead>\n",
       "  <tbody>\n",
       "    <tr>\n",
       "      <th>count</th>\n",
       "      <td>1032.000000</td>\n",
       "      <td>1032.000000</td>\n",
       "      <td>1032.000000</td>\n",
       "      <td>1032.00000</td>\n",
       "      <td>1032.000000</td>\n",
       "      <td>1032.000000</td>\n",
       "    </tr>\n",
       "    <tr>\n",
       "      <th>mean</th>\n",
       "      <td>1.228198</td>\n",
       "      <td>1.298450</td>\n",
       "      <td>2708.527132</td>\n",
       "      <td>94.05814</td>\n",
       "      <td>3.795543</td>\n",
       "      <td>0.311047</td>\n",
       "    </tr>\n",
       "    <tr>\n",
       "      <th>std</th>\n",
       "      <td>0.549675</td>\n",
       "      <td>0.844953</td>\n",
       "      <td>1791.401138</td>\n",
       "      <td>7.32656</td>\n",
       "      <td>3.564272</td>\n",
       "      <td>0.524061</td>\n",
       "    </tr>\n",
       "    <tr>\n",
       "      <th>min</th>\n",
       "      <td>0.500000</td>\n",
       "      <td>0.000000</td>\n",
       "      <td>520.000000</td>\n",
       "      <td>20.00000</td>\n",
       "      <td>0.000000</td>\n",
       "      <td>0.000000</td>\n",
       "    </tr>\n",
       "    <tr>\n",
       "      <th>25%</th>\n",
       "      <td>1.000000</td>\n",
       "      <td>1.000000</td>\n",
       "      <td>1650.000000</td>\n",
       "      <td>92.00000</td>\n",
       "      <td>0.000000</td>\n",
       "      <td>0.000000</td>\n",
       "    </tr>\n",
       "    <tr>\n",
       "      <th>50%</th>\n",
       "      <td>1.000000</td>\n",
       "      <td>1.000000</td>\n",
       "      <td>2312.500000</td>\n",
       "      <td>96.00000</td>\n",
       "      <td>7.000000</td>\n",
       "      <td>0.000000</td>\n",
       "    </tr>\n",
       "    <tr>\n",
       "      <th>75%</th>\n",
       "      <td>1.000000</td>\n",
       "      <td>2.000000</td>\n",
       "      <td>3200.000000</td>\n",
       "      <td>99.00000</td>\n",
       "      <td>7.000000</td>\n",
       "      <td>1.000000</td>\n",
       "    </tr>\n",
       "    <tr>\n",
       "      <th>max</th>\n",
       "      <td>4.500000</td>\n",
       "      <td>6.000000</td>\n",
       "      <td>19500.000000</td>\n",
       "      <td>100.00000</td>\n",
       "      <td>10.000000</td>\n",
       "      <td>2.000000</td>\n",
       "    </tr>\n",
       "  </tbody>\n",
       "</table>\n",
       "</div>"
      ],
      "text/plain": [
       "         bathrooms     bedrooms  monthly_price  review_scores_rating  \\\n",
       "count  1032.000000  1032.000000    1032.000000            1032.00000   \n",
       "mean      1.228198     1.298450    2708.527132              94.05814   \n",
       "std       0.549675     0.844953    1791.401138               7.32656   \n",
       "min       0.500000     0.000000     520.000000              20.00000   \n",
       "25%       1.000000     1.000000    1650.000000              92.00000   \n",
       "50%       1.000000     1.000000    2312.500000              96.00000   \n",
       "75%       1.000000     2.000000    3200.000000              99.00000   \n",
       "max       4.500000     6.000000   19500.000000             100.00000   \n",
       "\n",
       "       property_type_cat  room_type_cat  \n",
       "count        1032.000000    1032.000000  \n",
       "mean            3.795543       0.311047  \n",
       "std             3.564272       0.524061  \n",
       "min             0.000000       0.000000  \n",
       "25%             0.000000       0.000000  \n",
       "50%             7.000000       0.000000  \n",
       "75%             7.000000       1.000000  \n",
       "max            10.000000       2.000000  "
      ]
     },
     "execution_count": 27,
     "metadata": {},
     "output_type": "execute_result"
    }
   ],
   "source": [
    "df_abnb.describe()"
   ]
  },
  {
   "cell_type": "code",
   "execution_count": 28,
   "metadata": {},
   "outputs": [
    {
     "data": {
      "text/plain": [
       "(1650.0, 3200.0)"
      ]
     },
     "execution_count": 28,
     "metadata": {},
     "output_type": "execute_result"
    }
   ],
   "source": [
    "min_threshold, max_threshold = df_abnb.monthly_price.quantile([0.25, 0.75])\n",
    "min_threshold, max_threshold"
   ]
  },
  {
   "cell_type": "code",
   "execution_count": 29,
   "metadata": {},
   "outputs": [],
   "source": [
    "df_1 = df_abnb[(df_abnb.monthly_price < max_threshold) & (df_abnb.monthly_price > min_threshold)]"
   ]
  },
  {
   "cell_type": "code",
   "execution_count": 30,
   "metadata": {},
   "outputs": [
    {
     "data": {
      "text/plain": [
       "(492, 7)"
      ]
     },
     "execution_count": 30,
     "metadata": {},
     "output_type": "execute_result"
    }
   ],
   "source": [
    "df_1.shape"
   ]
  },
  {
   "cell_type": "code",
   "execution_count": 31,
   "metadata": {},
   "outputs": [],
   "source": [
    "#The only other thing that looked like it might it cause problems was the review scores rating \n",
    "#column so I got rid of anyhing below the .25 quartile range."
   ]
  },
  {
   "cell_type": "code",
   "execution_count": 32,
   "metadata": {},
   "outputs": [],
   "source": [
    "df_1 = df_1[df_1['review_scores_rating'] > 92]"
   ]
  },
  {
   "cell_type": "code",
   "execution_count": 33,
   "metadata": {},
   "outputs": [
    {
     "data": {
      "text/plain": [
       "(366, 7)"
      ]
     },
     "execution_count": 33,
     "metadata": {},
     "output_type": "execute_result"
    }
   ],
   "source": [
    "df_1.shape"
   ]
  },
  {
   "cell_type": "code",
   "execution_count": 34,
   "metadata": {},
   "outputs": [
    {
     "data": {
      "text/plain": [
       "array([[<AxesSubplot:title={'center':'bathrooms'}>,\n",
       "        <AxesSubplot:title={'center':'bedrooms'}>],\n",
       "       [<AxesSubplot:title={'center':'monthly_price'}>,\n",
       "        <AxesSubplot:title={'center':'review_scores_rating'}>],\n",
       "       [<AxesSubplot:title={'center':'property_type_cat'}>,\n",
       "        <AxesSubplot:title={'center':'room_type_cat'}>]], dtype=object)"
      ]
     },
     "execution_count": 34,
     "metadata": {},
     "output_type": "execute_result"
    },
    {
     "data": {
      "image/png": "[encoded data removed]",
      "text/plain": [
       "<Figure size 864x720 with 6 Axes>"
      ]
     },
     "metadata": {},
     "output_type": "display_data"
    }
   ],
   "source": [
    "#looking at the distribution of each column.\n",
    "\n",
    "df_1.hist(figsize = (12,10))"
   ]
  },
  {
   "cell_type": "code",
   "execution_count": 35,
   "metadata": {},
   "outputs": [
    {
     "data": {
      "text/plain": [
       "zipcode                   int64\n",
       "bathrooms               float64\n",
       "bedrooms                float64\n",
       "monthly_price           float64\n",
       "review_scores_rating    float64\n",
       "property_type_cat          int8\n",
       "room_type_cat              int8\n",
       "dtype: object"
      ]
     },
     "execution_count": 35,
     "metadata": {},
     "output_type": "execute_result"
    }
   ],
   "source": [
    "df_abnb['zipcode'] = df_abnb['zipcode'].astype('int')\n",
    "df_abnb.dtypes"
   ]
  },
  {
   "cell_type": "code",
   "execution_count": 36,
   "metadata": {},
   "outputs": [
    {
     "data": {
      "text/html": [
       "<div>\n",
       "<style scoped>\n",
       "    .dataframe tbody tr th:only-of-type {\n",
       "        vertical-align: middle;\n",
       "    }\n",
       "\n",
       "    .dataframe tbody tr th {\n",
       "        vertical-align: top;\n",
       "    }\n",
       "\n",
       "    .dataframe thead th {\n",
       "        text-align: right;\n",
       "    }\n",
       "</style>\n",
       "<table border=\"1\" class=\"dataframe\">\n",
       "  <thead>\n",
       "    <tr style=\"text-align: right;\">\n",
       "      <th></th>\n",
       "      <th>zipcode</th>\n",
       "      <th>bathrooms</th>\n",
       "      <th>bedrooms</th>\n",
       "      <th>monthly_price</th>\n",
       "      <th>review_scores_rating</th>\n",
       "      <th>property_type_cat</th>\n",
       "      <th>room_type_cat</th>\n",
       "    </tr>\n",
       "  </thead>\n",
       "  <tbody>\n",
       "    <tr>\n",
       "      <th>zipcode</th>\n",
       "      <td>1.000000</td>\n",
       "      <td>0.091660</td>\n",
       "      <td>0.079374</td>\n",
       "      <td>-0.041459</td>\n",
       "      <td>0.050569</td>\n",
       "      <td>0.126911</td>\n",
       "      <td>0.020218</td>\n",
       "    </tr>\n",
       "    <tr>\n",
       "      <th>bathrooms</th>\n",
       "      <td>0.091660</td>\n",
       "      <td>1.000000</td>\n",
       "      <td>0.618600</td>\n",
       "      <td>0.520524</td>\n",
       "      <td>0.035599</td>\n",
       "      <td>0.245875</td>\n",
       "      <td>-0.127112</td>\n",
       "    </tr>\n",
       "    <tr>\n",
       "      <th>bedrooms</th>\n",
       "      <td>0.079374</td>\n",
       "      <td>0.618600</td>\n",
       "      <td>1.000000</td>\n",
       "      <td>0.584791</td>\n",
       "      <td>0.026180</td>\n",
       "      <td>0.256996</td>\n",
       "      <td>-0.209847</td>\n",
       "    </tr>\n",
       "    <tr>\n",
       "      <th>monthly_price</th>\n",
       "      <td>-0.041459</td>\n",
       "      <td>0.520524</td>\n",
       "      <td>0.584791</td>\n",
       "      <td>1.000000</td>\n",
       "      <td>0.074633</td>\n",
       "      <td>-0.032328</td>\n",
       "      <td>-0.431006</td>\n",
       "    </tr>\n",
       "    <tr>\n",
       "      <th>review_scores_rating</th>\n",
       "      <td>0.050569</td>\n",
       "      <td>0.035599</td>\n",
       "      <td>0.026180</td>\n",
       "      <td>0.074633</td>\n",
       "      <td>1.000000</td>\n",
       "      <td>0.073849</td>\n",
       "      <td>-0.023408</td>\n",
       "    </tr>\n",
       "    <tr>\n",
       "      <th>property_type_cat</th>\n",
       "      <td>0.126911</td>\n",
       "      <td>0.245875</td>\n",
       "      <td>0.256996</td>\n",
       "      <td>-0.032328</td>\n",
       "      <td>0.073849</td>\n",
       "      <td>1.000000</td>\n",
       "      <td>0.354985</td>\n",
       "    </tr>\n",
       "    <tr>\n",
       "      <th>room_type_cat</th>\n",
       "      <td>0.020218</td>\n",
       "      <td>-0.127112</td>\n",
       "      <td>-0.209847</td>\n",
       "      <td>-0.431006</td>\n",
       "      <td>-0.023408</td>\n",
       "      <td>0.354985</td>\n",
       "      <td>1.000000</td>\n",
       "    </tr>\n",
       "  </tbody>\n",
       "</table>\n",
       "</div>"
      ],
      "text/plain": [
       "                       zipcode  bathrooms  bedrooms  monthly_price  \\\n",
       "zipcode               1.000000   0.091660  0.079374      -0.041459   \n",
       "bathrooms             0.091660   1.000000  0.618600       0.520524   \n",
       "bedrooms              0.079374   0.618600  1.000000       0.584791   \n",
       "monthly_price        -0.041459   0.520524  0.584791       1.000000   \n",
       "review_scores_rating  0.050569   0.035599  0.026180       0.074633   \n",
       "property_type_cat     0.126911   0.245875  0.256996      -0.032328   \n",
       "room_type_cat         0.020218  -0.127112 -0.209847      -0.431006   \n",
       "\n",
       "                      review_scores_rating  property_type_cat  room_type_cat  \n",
       "zipcode                           0.050569           0.126911       0.020218  \n",
       "bathrooms                         0.035599           0.245875      -0.127112  \n",
       "bedrooms                          0.026180           0.256996      -0.209847  \n",
       "monthly_price                     0.074633          -0.032328      -0.431006  \n",
       "review_scores_rating              1.000000           0.073849      -0.023408  \n",
       "property_type_cat                 0.073849           1.000000       0.354985  \n",
       "room_type_cat                    -0.023408           0.354985       1.000000  "
      ]
     },
     "execution_count": 36,
     "metadata": {},
     "output_type": "execute_result"
    }
   ],
   "source": [
    "#looking at the correlation between all of the columns.\n",
    "\n",
    "df_abnb.corr()"
   ]
  },
  {
   "cell_type": "code",
   "execution_count": 37,
   "metadata": {},
   "outputs": [
    {
     "data": {
      "text/plain": [
       "<AxesSubplot:>"
      ]
     },
     "execution_count": 37,
     "metadata": {},
     "output_type": "execute_result"
    },
    {
     "data": {
      "image/png": "[encoded data removed]",
      "text/plain": [
       "<Figure size 576x504 with 2 Axes>"
      ]
     },
     "metadata": {},
     "output_type": "display_data"
    }
   ],
   "source": [
    "#Looking at the correlation between different columns to check for multicollinearity.\n",
    "\n",
    "plt.figure(figsize = (8,7))\n",
    "sns.heatmap(df_abnb.corr(), cmap = 'RdBu')"
   ]
  },
  {
   "cell_type": "code",
   "execution_count": null,
   "metadata": {},
   "outputs": [],
   "source": []
  },
  {
   "cell_type": "markdown",
   "metadata": {},
   "source": [
    "## KC Housing Data\n",
    "First downloading the data.  We are looking at housng data from homes which come from the King County area in Seattle.  The scenario is for an investor looking to invest in homes in this area that will turn a profit.  The data comes from open source data from the king county website as well as information on airbnbs in this area from the Airbnb website.  Unfortunately when I tried to merge the two sets of data it caused the linear model for the KC housing data to become unfavorable with low R2 values and high p values.  However after analyzing the data from Airbnb we know that the homes with high review ratings and a monthly rate within the desired interquartile range will have between 0 and 6 bedrooms, .5 and 4 baths, and will be in the same zipcodes as out KC housng data. "
   ]
  },
  {
   "cell_type": "code",
   "execution_count": 38,
   "metadata": {},
   "outputs": [],
   "source": [
    "df = pd.read_csv('data/kc_house_data.csv')"
   ]
  },
  {
   "cell_type": "code",
   "execution_count": 39,
   "metadata": {},
   "outputs": [
    {
     "data": {
      "text/html": [
       "<div>\n",
       "<style scoped>\n",
       "    .dataframe tbody tr th:only-of-type {\n",
       "        vertical-align: middle;\n",
       "    }\n",
       "\n",
       "    .dataframe tbody tr th {\n",
       "        vertical-align: top;\n",
       "    }\n",
       "\n",
       "    .dataframe thead th {\n",
       "        text-align: right;\n",
       "    }\n",
       "</style>\n",
       "<table border=\"1\" class=\"dataframe\">\n",
       "  <thead>\n",
       "    <tr style=\"text-align: right;\">\n",
       "      <th></th>\n",
       "      <th>id</th>\n",
       "      <th>date</th>\n",
       "      <th>price</th>\n",
       "      <th>bedrooms</th>\n",
       "      <th>bathrooms</th>\n",
       "      <th>sqft_living</th>\n",
       "      <th>sqft_lot</th>\n",
       "      <th>floors</th>\n",
       "      <th>waterfront</th>\n",
       "      <th>view</th>\n",
       "      <th>...</th>\n",
       "      <th>grade</th>\n",
       "      <th>sqft_above</th>\n",
       "      <th>sqft_basement</th>\n",
       "      <th>yr_built</th>\n",
       "      <th>yr_renovated</th>\n",
       "      <th>zipcode</th>\n",
       "      <th>lat</th>\n",
       "      <th>long</th>\n",
       "      <th>sqft_living15</th>\n",
       "      <th>sqft_lot15</th>\n",
       "    </tr>\n",
       "  </thead>\n",
       "  <tbody>\n",
       "    <tr>\n",
       "      <th>0</th>\n",
       "      <td>7129300520</td>\n",
       "      <td>10/13/2014</td>\n",
       "      <td>221900.0</td>\n",
       "      <td>3</td>\n",
       "      <td>1.00</td>\n",
       "      <td>1180</td>\n",
       "      <td>5650</td>\n",
       "      <td>1.0</td>\n",
       "      <td>NaN</td>\n",
       "      <td>0.0</td>\n",
       "      <td>...</td>\n",
       "      <td>7</td>\n",
       "      <td>1180</td>\n",
       "      <td>0.0</td>\n",
       "      <td>1955</td>\n",
       "      <td>0.0</td>\n",
       "      <td>98178</td>\n",
       "      <td>47.5112</td>\n",
       "      <td>-122.257</td>\n",
       "      <td>1340</td>\n",
       "      <td>5650</td>\n",
       "    </tr>\n",
       "    <tr>\n",
       "      <th>1</th>\n",
       "      <td>6414100192</td>\n",
       "      <td>12/9/2014</td>\n",
       "      <td>538000.0</td>\n",
       "      <td>3</td>\n",
       "      <td>2.25</td>\n",
       "      <td>2570</td>\n",
       "      <td>7242</td>\n",
       "      <td>2.0</td>\n",
       "      <td>0.0</td>\n",
       "      <td>0.0</td>\n",
       "      <td>...</td>\n",
       "      <td>7</td>\n",
       "      <td>2170</td>\n",
       "      <td>400.0</td>\n",
       "      <td>1951</td>\n",
       "      <td>1991.0</td>\n",
       "      <td>98125</td>\n",
       "      <td>47.7210</td>\n",
       "      <td>-122.319</td>\n",
       "      <td>1690</td>\n",
       "      <td>7639</td>\n",
       "    </tr>\n",
       "    <tr>\n",
       "      <th>2</th>\n",
       "      <td>5631500400</td>\n",
       "      <td>2/25/2015</td>\n",
       "      <td>180000.0</td>\n",
       "      <td>2</td>\n",
       "      <td>1.00</td>\n",
       "      <td>770</td>\n",
       "      <td>10000</td>\n",
       "      <td>1.0</td>\n",
       "      <td>0.0</td>\n",
       "      <td>0.0</td>\n",
       "      <td>...</td>\n",
       "      <td>6</td>\n",
       "      <td>770</td>\n",
       "      <td>0.0</td>\n",
       "      <td>1933</td>\n",
       "      <td>NaN</td>\n",
       "      <td>98028</td>\n",
       "      <td>47.7379</td>\n",
       "      <td>-122.233</td>\n",
       "      <td>2720</td>\n",
       "      <td>8062</td>\n",
       "    </tr>\n",
       "    <tr>\n",
       "      <th>3</th>\n",
       "      <td>2487200875</td>\n",
       "      <td>12/9/2014</td>\n",
       "      <td>604000.0</td>\n",
       "      <td>4</td>\n",
       "      <td>3.00</td>\n",
       "      <td>1960</td>\n",
       "      <td>5000</td>\n",
       "      <td>1.0</td>\n",
       "      <td>0.0</td>\n",
       "      <td>0.0</td>\n",
       "      <td>...</td>\n",
       "      <td>7</td>\n",
       "      <td>1050</td>\n",
       "      <td>910.0</td>\n",
       "      <td>1965</td>\n",
       "      <td>0.0</td>\n",
       "      <td>98136</td>\n",
       "      <td>47.5208</td>\n",
       "      <td>-122.393</td>\n",
       "      <td>1360</td>\n",
       "      <td>5000</td>\n",
       "    </tr>\n",
       "    <tr>\n",
       "      <th>4</th>\n",
       "      <td>1954400510</td>\n",
       "      <td>2/18/2015</td>\n",
       "      <td>510000.0</td>\n",
       "      <td>3</td>\n",
       "      <td>2.00</td>\n",
       "      <td>1680</td>\n",
       "      <td>8080</td>\n",
       "      <td>1.0</td>\n",
       "      <td>0.0</td>\n",
       "      <td>0.0</td>\n",
       "      <td>...</td>\n",
       "      <td>8</td>\n",
       "      <td>1680</td>\n",
       "      <td>0.0</td>\n",
       "      <td>1987</td>\n",
       "      <td>0.0</td>\n",
       "      <td>98074</td>\n",
       "      <td>47.6168</td>\n",
       "      <td>-122.045</td>\n",
       "      <td>1800</td>\n",
       "      <td>7503</td>\n",
       "    </tr>\n",
       "  </tbody>\n",
       "</table>\n",
       "<p>5 rows × 21 columns</p>\n",
       "</div>"
      ],
      "text/plain": [
       "           id        date     price  bedrooms  bathrooms  sqft_living  \\\n",
       "0  7129300520  10/13/2014  221900.0         3       1.00         1180   \n",
       "1  6414100192   12/9/2014  538000.0         3       2.25         2570   \n",
       "2  5631500400   2/25/2015  180000.0         2       1.00          770   \n",
       "3  2487200875   12/9/2014  604000.0         4       3.00         1960   \n",
       "4  1954400510   2/18/2015  510000.0         3       2.00         1680   \n",
       "\n",
       "   sqft_lot  floors  waterfront  view  ...  grade  sqft_above  sqft_basement  \\\n",
       "0      5650     1.0         NaN   0.0  ...      7        1180            0.0   \n",
       "1      7242     2.0         0.0   0.0  ...      7        2170          400.0   \n",
       "2     10000     1.0         0.0   0.0  ...      6         770            0.0   \n",
       "3      5000     1.0         0.0   0.0  ...      7        1050          910.0   \n",
       "4      8080     1.0         0.0   0.0  ...      8        1680            0.0   \n",
       "\n",
       "  yr_built  yr_renovated  zipcode      lat     long  sqft_living15  sqft_lot15  \n",
       "0     1955           0.0    98178  47.5112 -122.257           1340        5650  \n",
       "1     1951        1991.0    98125  47.7210 -122.319           1690        7639  \n",
       "2     1933           NaN    98028  47.7379 -122.233           2720        8062  \n",
       "3     1965           0.0    98136  47.5208 -122.393           1360        5000  \n",
       "4     1987           0.0    98074  47.6168 -122.045           1800        7503  \n",
       "\n",
       "[5 rows x 21 columns]"
      ]
     },
     "execution_count": 39,
     "metadata": {},
     "output_type": "execute_result"
    }
   ],
   "source": [
    "df.head()"
   ]
  },
  {
   "cell_type": "markdown",
   "metadata": {},
   "source": [
    "### Column Names and descriptions for Kings County Data Set\n",
    "* **id** - unique identified for a house\n",
    "* **dateDate** - house was sold\n",
    "* **pricePrice** -  is prediction target\n",
    "* **bedroomsNumber** -  of Bedrooms/House\n",
    "* **bathroomsNumber** -  of bathrooms/bedrooms\n",
    "* **sqft_livingsquare** -  footage of the home\n",
    "* **sqft_lotsquare** -  footage of the lot\n",
    "* **floorsTotal** -  floors (levels) in house\n",
    "* **waterfront** - House which has a view to a waterfront\n",
    "* **view** - Has been viewed\n",
    "* **condition** - How good the condition is ( Overall )\n",
    "* **grade** - overall grade given to the housing unit, based on King County grading system\n",
    "* **sqft_above** - square footage of house apart from basement\n",
    "* **sqft_basement** - square footage of the basement\n",
    "* **yr_built** - Built Year\n",
    "* **yr_renovated** - Year when house was renovated\n",
    "* **zipcode** - zip\n",
    "* **lat** - Latitude coordinate\n",
    "* **long** - Longitude coordinate\n",
    "* **sqft_living15** - The square footage of interior housing living space for the nearest 15 neighbors\n",
    "* **sqft_lot15** - The square footage of the land lots of the nearest 15 neighbors\n"
   ]
  },
  {
   "cell_type": "code",
   "execution_count": 40,
   "metadata": {},
   "outputs": [
    {
     "name": "stdout",
     "output_type": "stream",
     "text": [
      "<class 'pandas.core.frame.DataFrame'>\n",
      "RangeIndex: 21597 entries, 0 to 21596\n",
      "Data columns (total 21 columns):\n",
      " #   Column         Non-Null Count  Dtype  \n",
      "---  ------         --------------  -----  \n",
      " 0   id             21597 non-null  int64  \n",
      " 1   date           21597 non-null  object \n",
      " 2   price          21597 non-null  float64\n",
      " 3   bedrooms       21597 non-null  int64  \n",
      " 4   bathrooms      21597 non-null  float64\n",
      " 5   sqft_living    21597 non-null  int64  \n",
      " 6   sqft_lot       21597 non-null  int64  \n",
      " 7   floors         21597 non-null  float64\n",
      " 8   waterfront     19221 non-null  float64\n",
      " 9   view           21534 non-null  float64\n",
      " 10  condition      21597 non-null  int64  \n",
      " 11  grade          21597 non-null  int64  \n",
      " 12  sqft_above     21597 non-null  int64  \n",
      " 13  sqft_basement  21597 non-null  object \n",
      " 14  yr_built       21597 non-null  int64  \n",
      " 15  yr_renovated   17755 non-null  float64\n",
      " 16  zipcode        21597 non-null  int64  \n",
      " 17  lat            21597 non-null  float64\n",
      " 18  long           21597 non-null  float64\n",
      " 19  sqft_living15  21597 non-null  int64  \n",
      " 20  sqft_lot15     21597 non-null  int64  \n",
      "dtypes: float64(8), int64(11), object(2)\n",
      "memory usage: 3.5+ MB\n"
     ]
    }
   ],
   "source": [
    "#taking a look into data types.\n",
    "\n",
    "df.info()"
   ]
  },
  {
   "cell_type": "code",
   "execution_count": 41,
   "metadata": {},
   "outputs": [
    {
     "data": {
      "text/html": [
       "<div>\n",
       "<style scoped>\n",
       "    .dataframe tbody tr th:only-of-type {\n",
       "        vertical-align: middle;\n",
       "    }\n",
       "\n",
       "    .dataframe tbody tr th {\n",
       "        vertical-align: top;\n",
       "    }\n",
       "\n",
       "    .dataframe thead th {\n",
       "        text-align: right;\n",
       "    }\n",
       "</style>\n",
       "<table border=\"1\" class=\"dataframe\">\n",
       "  <thead>\n",
       "    <tr style=\"text-align: right;\">\n",
       "      <th></th>\n",
       "      <th>id</th>\n",
       "      <th>price</th>\n",
       "      <th>bedrooms</th>\n",
       "      <th>bathrooms</th>\n",
       "      <th>sqft_living</th>\n",
       "      <th>sqft_lot</th>\n",
       "      <th>floors</th>\n",
       "      <th>waterfront</th>\n",
       "      <th>view</th>\n",
       "      <th>condition</th>\n",
       "      <th>grade</th>\n",
       "      <th>sqft_above</th>\n",
       "      <th>yr_built</th>\n",
       "      <th>yr_renovated</th>\n",
       "      <th>zipcode</th>\n",
       "      <th>lat</th>\n",
       "      <th>long</th>\n",
       "      <th>sqft_living15</th>\n",
       "      <th>sqft_lot15</th>\n",
       "    </tr>\n",
       "  </thead>\n",
       "  <tbody>\n",
       "    <tr>\n",
       "      <th>count</th>\n",
       "      <td>2.159700e+04</td>\n",
       "      <td>2.159700e+04</td>\n",
       "      <td>21597.000000</td>\n",
       "      <td>21597.000000</td>\n",
       "      <td>21597.000000</td>\n",
       "      <td>2.159700e+04</td>\n",
       "      <td>21597.000000</td>\n",
       "      <td>19221.000000</td>\n",
       "      <td>21534.000000</td>\n",
       "      <td>21597.000000</td>\n",
       "      <td>21597.000000</td>\n",
       "      <td>21597.000000</td>\n",
       "      <td>21597.000000</td>\n",
       "      <td>17755.000000</td>\n",
       "      <td>21597.000000</td>\n",
       "      <td>21597.000000</td>\n",
       "      <td>21597.000000</td>\n",
       "      <td>21597.000000</td>\n",
       "      <td>21597.000000</td>\n",
       "    </tr>\n",
       "    <tr>\n",
       "      <th>mean</th>\n",
       "      <td>4.580474e+09</td>\n",
       "      <td>5.402966e+05</td>\n",
       "      <td>3.373200</td>\n",
       "      <td>2.115826</td>\n",
       "      <td>2080.321850</td>\n",
       "      <td>1.509941e+04</td>\n",
       "      <td>1.494096</td>\n",
       "      <td>0.007596</td>\n",
       "      <td>0.233863</td>\n",
       "      <td>3.409825</td>\n",
       "      <td>7.657915</td>\n",
       "      <td>1788.596842</td>\n",
       "      <td>1970.999676</td>\n",
       "      <td>83.636778</td>\n",
       "      <td>98077.951845</td>\n",
       "      <td>47.560093</td>\n",
       "      <td>-122.213982</td>\n",
       "      <td>1986.620318</td>\n",
       "      <td>12758.283512</td>\n",
       "    </tr>\n",
       "    <tr>\n",
       "      <th>std</th>\n",
       "      <td>2.876736e+09</td>\n",
       "      <td>3.673681e+05</td>\n",
       "      <td>0.926299</td>\n",
       "      <td>0.768984</td>\n",
       "      <td>918.106125</td>\n",
       "      <td>4.141264e+04</td>\n",
       "      <td>0.539683</td>\n",
       "      <td>0.086825</td>\n",
       "      <td>0.765686</td>\n",
       "      <td>0.650546</td>\n",
       "      <td>1.173200</td>\n",
       "      <td>827.759761</td>\n",
       "      <td>29.375234</td>\n",
       "      <td>399.946414</td>\n",
       "      <td>53.513072</td>\n",
       "      <td>0.138552</td>\n",
       "      <td>0.140724</td>\n",
       "      <td>685.230472</td>\n",
       "      <td>27274.441950</td>\n",
       "    </tr>\n",
       "    <tr>\n",
       "      <th>min</th>\n",
       "      <td>1.000102e+06</td>\n",
       "      <td>7.800000e+04</td>\n",
       "      <td>1.000000</td>\n",
       "      <td>0.500000</td>\n",
       "      <td>370.000000</td>\n",
       "      <td>5.200000e+02</td>\n",
       "      <td>1.000000</td>\n",
       "      <td>0.000000</td>\n",
       "      <td>0.000000</td>\n",
       "      <td>1.000000</td>\n",
       "      <td>3.000000</td>\n",
       "      <td>370.000000</td>\n",
       "      <td>1900.000000</td>\n",
       "      <td>0.000000</td>\n",
       "      <td>98001.000000</td>\n",
       "      <td>47.155900</td>\n",
       "      <td>-122.519000</td>\n",
       "      <td>399.000000</td>\n",
       "      <td>651.000000</td>\n",
       "    </tr>\n",
       "    <tr>\n",
       "      <th>25%</th>\n",
       "      <td>2.123049e+09</td>\n",
       "      <td>3.220000e+05</td>\n",
       "      <td>3.000000</td>\n",
       "      <td>1.750000</td>\n",
       "      <td>1430.000000</td>\n",
       "      <td>5.040000e+03</td>\n",
       "      <td>1.000000</td>\n",
       "      <td>0.000000</td>\n",
       "      <td>0.000000</td>\n",
       "      <td>3.000000</td>\n",
       "      <td>7.000000</td>\n",
       "      <td>1190.000000</td>\n",
       "      <td>1951.000000</td>\n",
       "      <td>0.000000</td>\n",
       "      <td>98033.000000</td>\n",
       "      <td>47.471100</td>\n",
       "      <td>-122.328000</td>\n",
       "      <td>1490.000000</td>\n",
       "      <td>5100.000000</td>\n",
       "    </tr>\n",
       "    <tr>\n",
       "      <th>50%</th>\n",
       "      <td>3.904930e+09</td>\n",
       "      <td>4.500000e+05</td>\n",
       "      <td>3.000000</td>\n",
       "      <td>2.250000</td>\n",
       "      <td>1910.000000</td>\n",
       "      <td>7.618000e+03</td>\n",
       "      <td>1.500000</td>\n",
       "      <td>0.000000</td>\n",
       "      <td>0.000000</td>\n",
       "      <td>3.000000</td>\n",
       "      <td>7.000000</td>\n",
       "      <td>1560.000000</td>\n",
       "      <td>1975.000000</td>\n",
       "      <td>0.000000</td>\n",
       "      <td>98065.000000</td>\n",
       "      <td>47.571800</td>\n",
       "      <td>-122.231000</td>\n",
       "      <td>1840.000000</td>\n",
       "      <td>7620.000000</td>\n",
       "    </tr>\n",
       "    <tr>\n",
       "      <th>75%</th>\n",
       "      <td>7.308900e+09</td>\n",
       "      <td>6.450000e+05</td>\n",
       "      <td>4.000000</td>\n",
       "      <td>2.500000</td>\n",
       "      <td>2550.000000</td>\n",
       "      <td>1.068500e+04</td>\n",
       "      <td>2.000000</td>\n",
       "      <td>0.000000</td>\n",
       "      <td>0.000000</td>\n",
       "      <td>4.000000</td>\n",
       "      <td>8.000000</td>\n",
       "      <td>2210.000000</td>\n",
       "      <td>1997.000000</td>\n",
       "      <td>0.000000</td>\n",
       "      <td>98118.000000</td>\n",
       "      <td>47.678000</td>\n",
       "      <td>-122.125000</td>\n",
       "      <td>2360.000000</td>\n",
       "      <td>10083.000000</td>\n",
       "    </tr>\n",
       "    <tr>\n",
       "      <th>max</th>\n",
       "      <td>9.900000e+09</td>\n",
       "      <td>7.700000e+06</td>\n",
       "      <td>33.000000</td>\n",
       "      <td>8.000000</td>\n",
       "      <td>13540.000000</td>\n",
       "      <td>1.651359e+06</td>\n",
       "      <td>3.500000</td>\n",
       "      <td>1.000000</td>\n",
       "      <td>4.000000</td>\n",
       "      <td>5.000000</td>\n",
       "      <td>13.000000</td>\n",
       "      <td>9410.000000</td>\n",
       "      <td>2015.000000</td>\n",
       "      <td>2015.000000</td>\n",
       "      <td>98199.000000</td>\n",
       "      <td>47.777600</td>\n",
       "      <td>-121.315000</td>\n",
       "      <td>6210.000000</td>\n",
       "      <td>871200.000000</td>\n",
       "    </tr>\n",
       "  </tbody>\n",
       "</table>\n",
       "</div>"
      ],
      "text/plain": [
       "                 id         price      bedrooms     bathrooms   sqft_living  \\\n",
       "count  2.159700e+04  2.159700e+04  21597.000000  21597.000000  21597.000000   \n",
       "mean   4.580474e+09  5.402966e+05      3.373200      2.115826   2080.321850   \n",
       "std    2.876736e+09  3.673681e+05      0.926299      0.768984    918.106125   \n",
       "min    1.000102e+06  7.800000e+04      1.000000      0.500000    370.000000   \n",
       "25%    2.123049e+09  3.220000e+05      3.000000      1.750000   1430.000000   \n",
       "50%    3.904930e+09  4.500000e+05      3.000000      2.250000   1910.000000   \n",
       "75%    7.308900e+09  6.450000e+05      4.000000      2.500000   2550.000000   \n",
       "max    9.900000e+09  7.700000e+06     33.000000      8.000000  13540.000000   \n",
       "\n",
       "           sqft_lot        floors    waterfront          view     condition  \\\n",
       "count  2.159700e+04  21597.000000  19221.000000  21534.000000  21597.000000   \n",
       "mean   1.509941e+04      1.494096      0.007596      0.233863      3.409825   \n",
       "std    4.141264e+04      0.539683      0.086825      0.765686      0.650546   \n",
       "min    5.200000e+02      1.000000      0.000000      0.000000      1.000000   \n",
       "25%    5.040000e+03      1.000000      0.000000      0.000000      3.000000   \n",
       "50%    7.618000e+03      1.500000      0.000000      0.000000      3.000000   \n",
       "75%    1.068500e+04      2.000000      0.000000      0.000000      4.000000   \n",
       "max    1.651359e+06      3.500000      1.000000      4.000000      5.000000   \n",
       "\n",
       "              grade    sqft_above      yr_built  yr_renovated       zipcode  \\\n",
       "count  21597.000000  21597.000000  21597.000000  17755.000000  21597.000000   \n",
       "mean       7.657915   1788.596842   1970.999676     83.636778  98077.951845   \n",
       "std        1.173200    827.759761     29.375234    399.946414     53.513072   \n",
       "min        3.000000    370.000000   1900.000000      0.000000  98001.000000   \n",
       "25%        7.000000   1190.000000   1951.000000      0.000000  98033.000000   \n",
       "50%        7.000000   1560.000000   1975.000000      0.000000  98065.000000   \n",
       "75%        8.000000   2210.000000   1997.000000      0.000000  98118.000000   \n",
       "max       13.000000   9410.000000   2015.000000   2015.000000  98199.000000   \n",
       "\n",
       "                lat          long  sqft_living15     sqft_lot15  \n",
       "count  21597.000000  21597.000000   21597.000000   21597.000000  \n",
       "mean      47.560093   -122.213982    1986.620318   12758.283512  \n",
       "std        0.138552      0.140724     685.230472   27274.441950  \n",
       "min       47.155900   -122.519000     399.000000     651.000000  \n",
       "25%       47.471100   -122.328000    1490.000000    5100.000000  \n",
       "50%       47.571800   -122.231000    1840.000000    7620.000000  \n",
       "75%       47.678000   -122.125000    2360.000000   10083.000000  \n",
       "max       47.777600   -121.315000    6210.000000  871200.000000  "
      ]
     },
     "execution_count": 41,
     "metadata": {},
     "output_type": "execute_result"
    }
   ],
   "source": [
    "#looking at the data to see if anything stands out within the interquartile ranges as well as max, min, and mean.\n",
    "\n",
    "df.describe()"
   ]
  },
  {
   "cell_type": "markdown",
   "metadata": {},
   "source": [
    "### Cleaning the data."
   ]
  },
  {
   "cell_type": "code",
   "execution_count": 42,
   "metadata": {},
   "outputs": [],
   "source": [
    "# First dropping date.  I am not interested in the time of year this sells as it will be a rental unit. \n",
    "#Also dropping square foot basement.  It is another object that has no use for me.\n",
    "df.drop('date', inplace = True, axis = 1)"
   ]
  },
  {
   "cell_type": "code",
   "execution_count": 43,
   "metadata": {},
   "outputs": [],
   "source": [
    "df.drop('sqft_basement', inplace = True, axis = 1)"
   ]
  },
  {
   "cell_type": "code",
   "execution_count": 44,
   "metadata": {},
   "outputs": [
    {
     "name": "stdout",
     "output_type": "stream",
     "text": [
      "<class 'pandas.core.frame.DataFrame'>\n",
      "RangeIndex: 21597 entries, 0 to 21596\n",
      "Data columns (total 19 columns):\n",
      " #   Column         Non-Null Count  Dtype  \n",
      "---  ------         --------------  -----  \n",
      " 0   id             21597 non-null  int64  \n",
      " 1   price          21597 non-null  float64\n",
      " 2   bedrooms       21597 non-null  int64  \n",
      " 3   bathrooms      21597 non-null  float64\n",
      " 4   sqft_living    21597 non-null  int64  \n",
      " 5   sqft_lot       21597 non-null  int64  \n",
      " 6   floors         21597 non-null  float64\n",
      " 7   waterfront     19221 non-null  float64\n",
      " 8   view           21534 non-null  float64\n",
      " 9   condition      21597 non-null  int64  \n",
      " 10  grade          21597 non-null  int64  \n",
      " 11  sqft_above     21597 non-null  int64  \n",
      " 12  yr_built       21597 non-null  int64  \n",
      " 13  yr_renovated   17755 non-null  float64\n",
      " 14  zipcode        21597 non-null  int64  \n",
      " 15  lat            21597 non-null  float64\n",
      " 16  long           21597 non-null  float64\n",
      " 17  sqft_living15  21597 non-null  int64  \n",
      " 18  sqft_lot15     21597 non-null  int64  \n",
      "dtypes: float64(8), int64(11)\n",
      "memory usage: 3.1 MB\n"
     ]
    }
   ],
   "source": [
    "#checking to see it worked.\n",
    "df.info()"
   ]
  },
  {
   "cell_type": "code",
   "execution_count": 45,
   "metadata": {},
   "outputs": [
    {
     "data": {
      "text/html": [
       "<div>\n",
       "<style scoped>\n",
       "    .dataframe tbody tr th:only-of-type {\n",
       "        vertical-align: middle;\n",
       "    }\n",
       "\n",
       "    .dataframe tbody tr th {\n",
       "        vertical-align: top;\n",
       "    }\n",
       "\n",
       "    .dataframe thead th {\n",
       "        text-align: right;\n",
       "    }\n",
       "</style>\n",
       "<table border=\"1\" class=\"dataframe\">\n",
       "  <thead>\n",
       "    <tr style=\"text-align: right;\">\n",
       "      <th></th>\n",
       "      <th>id</th>\n",
       "      <th>price</th>\n",
       "      <th>bedrooms</th>\n",
       "      <th>bathrooms</th>\n",
       "      <th>sqft_living</th>\n",
       "      <th>sqft_lot</th>\n",
       "      <th>floors</th>\n",
       "      <th>waterfront</th>\n",
       "      <th>view</th>\n",
       "      <th>condition</th>\n",
       "      <th>grade</th>\n",
       "      <th>sqft_above</th>\n",
       "      <th>yr_built</th>\n",
       "      <th>yr_renovated</th>\n",
       "      <th>zipcode</th>\n",
       "      <th>lat</th>\n",
       "      <th>long</th>\n",
       "      <th>sqft_living15</th>\n",
       "      <th>sqft_lot15</th>\n",
       "    </tr>\n",
       "  </thead>\n",
       "  <tbody>\n",
       "    <tr>\n",
       "      <th>0</th>\n",
       "      <td>7.129301e+09</td>\n",
       "      <td>221900.0</td>\n",
       "      <td>3.0</td>\n",
       "      <td>1.00</td>\n",
       "      <td>1180.0</td>\n",
       "      <td>5650.0</td>\n",
       "      <td>1.0</td>\n",
       "      <td>NaN</td>\n",
       "      <td>0.0</td>\n",
       "      <td>3.0</td>\n",
       "      <td>7.0</td>\n",
       "      <td>1180.0</td>\n",
       "      <td>1955.0</td>\n",
       "      <td>0.0</td>\n",
       "      <td>98178.0</td>\n",
       "      <td>47.5112</td>\n",
       "      <td>-122.257</td>\n",
       "      <td>1340.0</td>\n",
       "      <td>5650.0</td>\n",
       "    </tr>\n",
       "    <tr>\n",
       "      <th>1</th>\n",
       "      <td>6.414100e+09</td>\n",
       "      <td>538000.0</td>\n",
       "      <td>3.0</td>\n",
       "      <td>2.25</td>\n",
       "      <td>2570.0</td>\n",
       "      <td>7242.0</td>\n",
       "      <td>2.0</td>\n",
       "      <td>0.0</td>\n",
       "      <td>0.0</td>\n",
       "      <td>3.0</td>\n",
       "      <td>7.0</td>\n",
       "      <td>2170.0</td>\n",
       "      <td>1951.0</td>\n",
       "      <td>1991.0</td>\n",
       "      <td>98125.0</td>\n",
       "      <td>47.7210</td>\n",
       "      <td>-122.319</td>\n",
       "      <td>1690.0</td>\n",
       "      <td>7639.0</td>\n",
       "    </tr>\n",
       "    <tr>\n",
       "      <th>2</th>\n",
       "      <td>5.631500e+09</td>\n",
       "      <td>180000.0</td>\n",
       "      <td>2.0</td>\n",
       "      <td>1.00</td>\n",
       "      <td>770.0</td>\n",
       "      <td>10000.0</td>\n",
       "      <td>1.0</td>\n",
       "      <td>0.0</td>\n",
       "      <td>0.0</td>\n",
       "      <td>3.0</td>\n",
       "      <td>6.0</td>\n",
       "      <td>770.0</td>\n",
       "      <td>1933.0</td>\n",
       "      <td>NaN</td>\n",
       "      <td>98028.0</td>\n",
       "      <td>47.7379</td>\n",
       "      <td>-122.233</td>\n",
       "      <td>2720.0</td>\n",
       "      <td>8062.0</td>\n",
       "    </tr>\n",
       "    <tr>\n",
       "      <th>3</th>\n",
       "      <td>2.487201e+09</td>\n",
       "      <td>604000.0</td>\n",
       "      <td>4.0</td>\n",
       "      <td>3.00</td>\n",
       "      <td>1960.0</td>\n",
       "      <td>5000.0</td>\n",
       "      <td>1.0</td>\n",
       "      <td>0.0</td>\n",
       "      <td>0.0</td>\n",
       "      <td>5.0</td>\n",
       "      <td>7.0</td>\n",
       "      <td>1050.0</td>\n",
       "      <td>1965.0</td>\n",
       "      <td>0.0</td>\n",
       "      <td>98136.0</td>\n",
       "      <td>47.5208</td>\n",
       "      <td>-122.393</td>\n",
       "      <td>1360.0</td>\n",
       "      <td>5000.0</td>\n",
       "    </tr>\n",
       "    <tr>\n",
       "      <th>4</th>\n",
       "      <td>1.954401e+09</td>\n",
       "      <td>510000.0</td>\n",
       "      <td>3.0</td>\n",
       "      <td>2.00</td>\n",
       "      <td>1680.0</td>\n",
       "      <td>8080.0</td>\n",
       "      <td>1.0</td>\n",
       "      <td>0.0</td>\n",
       "      <td>0.0</td>\n",
       "      <td>3.0</td>\n",
       "      <td>8.0</td>\n",
       "      <td>1680.0</td>\n",
       "      <td>1987.0</td>\n",
       "      <td>0.0</td>\n",
       "      <td>98074.0</td>\n",
       "      <td>47.6168</td>\n",
       "      <td>-122.045</td>\n",
       "      <td>1800.0</td>\n",
       "      <td>7503.0</td>\n",
       "    </tr>\n",
       "    <tr>\n",
       "      <th>...</th>\n",
       "      <td>...</td>\n",
       "      <td>...</td>\n",
       "      <td>...</td>\n",
       "      <td>...</td>\n",
       "      <td>...</td>\n",
       "      <td>...</td>\n",
       "      <td>...</td>\n",
       "      <td>...</td>\n",
       "      <td>...</td>\n",
       "      <td>...</td>\n",
       "      <td>...</td>\n",
       "      <td>...</td>\n",
       "      <td>...</td>\n",
       "      <td>...</td>\n",
       "      <td>...</td>\n",
       "      <td>...</td>\n",
       "      <td>...</td>\n",
       "      <td>...</td>\n",
       "      <td>...</td>\n",
       "    </tr>\n",
       "    <tr>\n",
       "      <th>21592</th>\n",
       "      <td>2.630000e+08</td>\n",
       "      <td>360000.0</td>\n",
       "      <td>3.0</td>\n",
       "      <td>2.50</td>\n",
       "      <td>1530.0</td>\n",
       "      <td>1131.0</td>\n",
       "      <td>3.0</td>\n",
       "      <td>0.0</td>\n",
       "      <td>0.0</td>\n",
       "      <td>3.0</td>\n",
       "      <td>8.0</td>\n",
       "      <td>1530.0</td>\n",
       "      <td>2009.0</td>\n",
       "      <td>0.0</td>\n",
       "      <td>98103.0</td>\n",
       "      <td>47.6993</td>\n",
       "      <td>-122.346</td>\n",
       "      <td>1530.0</td>\n",
       "      <td>1509.0</td>\n",
       "    </tr>\n",
       "    <tr>\n",
       "      <th>21593</th>\n",
       "      <td>6.600060e+09</td>\n",
       "      <td>400000.0</td>\n",
       "      <td>4.0</td>\n",
       "      <td>2.50</td>\n",
       "      <td>2310.0</td>\n",
       "      <td>5813.0</td>\n",
       "      <td>2.0</td>\n",
       "      <td>0.0</td>\n",
       "      <td>0.0</td>\n",
       "      <td>3.0</td>\n",
       "      <td>8.0</td>\n",
       "      <td>2310.0</td>\n",
       "      <td>2014.0</td>\n",
       "      <td>0.0</td>\n",
       "      <td>98146.0</td>\n",
       "      <td>47.5107</td>\n",
       "      <td>-122.362</td>\n",
       "      <td>1830.0</td>\n",
       "      <td>7200.0</td>\n",
       "    </tr>\n",
       "    <tr>\n",
       "      <th>21594</th>\n",
       "      <td>1.523300e+09</td>\n",
       "      <td>402101.0</td>\n",
       "      <td>2.0</td>\n",
       "      <td>0.75</td>\n",
       "      <td>1020.0</td>\n",
       "      <td>1350.0</td>\n",
       "      <td>2.0</td>\n",
       "      <td>0.0</td>\n",
       "      <td>0.0</td>\n",
       "      <td>3.0</td>\n",
       "      <td>7.0</td>\n",
       "      <td>1020.0</td>\n",
       "      <td>2009.0</td>\n",
       "      <td>0.0</td>\n",
       "      <td>98144.0</td>\n",
       "      <td>47.5944</td>\n",
       "      <td>-122.299</td>\n",
       "      <td>1020.0</td>\n",
       "      <td>2007.0</td>\n",
       "    </tr>\n",
       "    <tr>\n",
       "      <th>21595</th>\n",
       "      <td>2.913101e+08</td>\n",
       "      <td>400000.0</td>\n",
       "      <td>3.0</td>\n",
       "      <td>2.50</td>\n",
       "      <td>1600.0</td>\n",
       "      <td>2388.0</td>\n",
       "      <td>2.0</td>\n",
       "      <td>NaN</td>\n",
       "      <td>0.0</td>\n",
       "      <td>3.0</td>\n",
       "      <td>8.0</td>\n",
       "      <td>1600.0</td>\n",
       "      <td>2004.0</td>\n",
       "      <td>0.0</td>\n",
       "      <td>98027.0</td>\n",
       "      <td>47.5345</td>\n",
       "      <td>-122.069</td>\n",
       "      <td>1410.0</td>\n",
       "      <td>1287.0</td>\n",
       "    </tr>\n",
       "    <tr>\n",
       "      <th>21596</th>\n",
       "      <td>1.523300e+09</td>\n",
       "      <td>325000.0</td>\n",
       "      <td>2.0</td>\n",
       "      <td>0.75</td>\n",
       "      <td>1020.0</td>\n",
       "      <td>1076.0</td>\n",
       "      <td>2.0</td>\n",
       "      <td>0.0</td>\n",
       "      <td>0.0</td>\n",
       "      <td>3.0</td>\n",
       "      <td>7.0</td>\n",
       "      <td>1020.0</td>\n",
       "      <td>2008.0</td>\n",
       "      <td>0.0</td>\n",
       "      <td>98144.0</td>\n",
       "      <td>47.5941</td>\n",
       "      <td>-122.299</td>\n",
       "      <td>1020.0</td>\n",
       "      <td>1357.0</td>\n",
       "    </tr>\n",
       "  </tbody>\n",
       "</table>\n",
       "<p>21597 rows × 19 columns</p>\n",
       "</div>"
      ],
      "text/plain": [
       "                 id     price  bedrooms  bathrooms  sqft_living  sqft_lot  \\\n",
       "0      7.129301e+09  221900.0       3.0       1.00       1180.0    5650.0   \n",
       "1      6.414100e+09  538000.0       3.0       2.25       2570.0    7242.0   \n",
       "2      5.631500e+09  180000.0       2.0       1.00        770.0   10000.0   \n",
       "3      2.487201e+09  604000.0       4.0       3.00       1960.0    5000.0   \n",
       "4      1.954401e+09  510000.0       3.0       2.00       1680.0    8080.0   \n",
       "...             ...       ...       ...        ...          ...       ...   \n",
       "21592  2.630000e+08  360000.0       3.0       2.50       1530.0    1131.0   \n",
       "21593  6.600060e+09  400000.0       4.0       2.50       2310.0    5813.0   \n",
       "21594  1.523300e+09  402101.0       2.0       0.75       1020.0    1350.0   \n",
       "21595  2.913101e+08  400000.0       3.0       2.50       1600.0    2388.0   \n",
       "21596  1.523300e+09  325000.0       2.0       0.75       1020.0    1076.0   \n",
       "\n",
       "       floors  waterfront  view  condition  grade  sqft_above  yr_built  \\\n",
       "0         1.0         NaN   0.0        3.0    7.0      1180.0    1955.0   \n",
       "1         2.0         0.0   0.0        3.0    7.0      2170.0    1951.0   \n",
       "2         1.0         0.0   0.0        3.0    6.0       770.0    1933.0   \n",
       "3         1.0         0.0   0.0        5.0    7.0      1050.0    1965.0   \n",
       "4         1.0         0.0   0.0        3.0    8.0      1680.0    1987.0   \n",
       "...       ...         ...   ...        ...    ...         ...       ...   \n",
       "21592     3.0         0.0   0.0        3.0    8.0      1530.0    2009.0   \n",
       "21593     2.0         0.0   0.0        3.0    8.0      2310.0    2014.0   \n",
       "21594     2.0         0.0   0.0        3.0    7.0      1020.0    2009.0   \n",
       "21595     2.0         NaN   0.0        3.0    8.0      1600.0    2004.0   \n",
       "21596     2.0         0.0   0.0        3.0    7.0      1020.0    2008.0   \n",
       "\n",
       "       yr_renovated  zipcode      lat     long  sqft_living15  sqft_lot15  \n",
       "0               0.0  98178.0  47.5112 -122.257         1340.0      5650.0  \n",
       "1            1991.0  98125.0  47.7210 -122.319         1690.0      7639.0  \n",
       "2               NaN  98028.0  47.7379 -122.233         2720.0      8062.0  \n",
       "3               0.0  98136.0  47.5208 -122.393         1360.0      5000.0  \n",
       "4               0.0  98074.0  47.6168 -122.045         1800.0      7503.0  \n",
       "...             ...      ...      ...      ...            ...         ...  \n",
       "21592           0.0  98103.0  47.6993 -122.346         1530.0      1509.0  \n",
       "21593           0.0  98146.0  47.5107 -122.362         1830.0      7200.0  \n",
       "21594           0.0  98144.0  47.5944 -122.299         1020.0      2007.0  \n",
       "21595           0.0  98027.0  47.5345 -122.069         1410.0      1287.0  \n",
       "21596           0.0  98144.0  47.5941 -122.299         1020.0      1357.0  \n",
       "\n",
       "[21597 rows x 19 columns]"
      ]
     },
     "execution_count": 45,
     "metadata": {},
     "output_type": "execute_result"
    }
   ],
   "source": [
    "#changing everything to a float so that I can use a z score multiplier on it later.\n",
    "\n",
    "df.astype('float')"
   ]
  },
  {
   "cell_type": "code",
   "execution_count": 46,
   "metadata": {},
   "outputs": [],
   "source": [
    "#Dropping all NaN values.\n",
    "df = df.dropna(axis = 0)"
   ]
  },
  {
   "cell_type": "code",
   "execution_count": 47,
   "metadata": {},
   "outputs": [
    {
     "data": {
      "text/plain": [
       "id               False\n",
       "price            False\n",
       "bedrooms         False\n",
       "bathrooms        False\n",
       "sqft_living      False\n",
       "sqft_lot         False\n",
       "floors           False\n",
       "waterfront       False\n",
       "view             False\n",
       "condition        False\n",
       "grade            False\n",
       "sqft_above       False\n",
       "yr_built         False\n",
       "yr_renovated     False\n",
       "zipcode          False\n",
       "lat              False\n",
       "long             False\n",
       "sqft_living15    False\n",
       "sqft_lot15       False\n",
       "dtype: bool"
      ]
     },
     "metadata": {},
     "output_type": "display_data"
    },
    {
     "data": {
      "text/plain": [
       "(15762, 19)"
      ]
     },
     "execution_count": 47,
     "metadata": {},
     "output_type": "execute_result"
    }
   ],
   "source": [
    "#check for nulls\n",
    "display(df.isnull().any())\n",
    "df.shape"
   ]
  },
  {
   "cell_type": "code",
   "execution_count": 48,
   "metadata": {},
   "outputs": [
    {
     "data": {
      "text/plain": [
       "id               0\n",
       "price            0\n",
       "bedrooms         0\n",
       "bathrooms        0\n",
       "sqft_living      0\n",
       "sqft_lot         0\n",
       "floors           0\n",
       "waterfront       0\n",
       "view             0\n",
       "condition        0\n",
       "grade            0\n",
       "sqft_above       0\n",
       "yr_built         0\n",
       "yr_renovated     0\n",
       "zipcode          0\n",
       "lat              0\n",
       "long             0\n",
       "sqft_living15    0\n",
       "sqft_lot15       0\n",
       "dtype: int64"
      ]
     },
     "execution_count": 48,
     "metadata": {},
     "output_type": "execute_result"
    }
   ],
   "source": [
    "df.isnull().sum()"
   ]
  },
  {
   "cell_type": "code",
   "execution_count": 49,
   "metadata": {},
   "outputs": [
    {
     "data": {
      "text/plain": [
       "(15762, 19)"
      ]
     },
     "execution_count": 49,
     "metadata": {},
     "output_type": "execute_result"
    }
   ],
   "source": [
    "#looking to see that the shape is smaller from dropped values.\n",
    "df.shape"
   ]
  },
  {
   "cell_type": "code",
   "execution_count": 50,
   "metadata": {
    "scrolled": false
   },
   "outputs": [
    {
     "data": {
      "text/html": [
       "<div>\n",
       "<style scoped>\n",
       "    .dataframe tbody tr th:only-of-type {\n",
       "        vertical-align: middle;\n",
       "    }\n",
       "\n",
       "    .dataframe tbody tr th {\n",
       "        vertical-align: top;\n",
       "    }\n",
       "\n",
       "    .dataframe thead th {\n",
       "        text-align: right;\n",
       "    }\n",
       "</style>\n",
       "<table border=\"1\" class=\"dataframe\">\n",
       "  <thead>\n",
       "    <tr style=\"text-align: right;\">\n",
       "      <th></th>\n",
       "      <th>id</th>\n",
       "      <th>price</th>\n",
       "      <th>bedrooms</th>\n",
       "      <th>bathrooms</th>\n",
       "      <th>sqft_living</th>\n",
       "      <th>sqft_lot</th>\n",
       "      <th>floors</th>\n",
       "      <th>waterfront</th>\n",
       "      <th>view</th>\n",
       "      <th>condition</th>\n",
       "      <th>grade</th>\n",
       "      <th>sqft_above</th>\n",
       "      <th>yr_built</th>\n",
       "      <th>yr_renovated</th>\n",
       "      <th>zipcode</th>\n",
       "      <th>lat</th>\n",
       "      <th>long</th>\n",
       "      <th>sqft_living15</th>\n",
       "      <th>sqft_lot15</th>\n",
       "    </tr>\n",
       "  </thead>\n",
       "  <tbody>\n",
       "    <tr>\n",
       "      <th>1</th>\n",
       "      <td>6414100192</td>\n",
       "      <td>538000.0</td>\n",
       "      <td>3</td>\n",
       "      <td>2.25</td>\n",
       "      <td>2570</td>\n",
       "      <td>7242</td>\n",
       "      <td>2.0</td>\n",
       "      <td>0.0</td>\n",
       "      <td>0.0</td>\n",
       "      <td>3</td>\n",
       "      <td>7</td>\n",
       "      <td>2170</td>\n",
       "      <td>1951</td>\n",
       "      <td>1991.0</td>\n",
       "      <td>98125</td>\n",
       "      <td>47.7210</td>\n",
       "      <td>-122.319</td>\n",
       "      <td>1690</td>\n",
       "      <td>7639</td>\n",
       "    </tr>\n",
       "    <tr>\n",
       "      <th>3</th>\n",
       "      <td>2487200875</td>\n",
       "      <td>604000.0</td>\n",
       "      <td>4</td>\n",
       "      <td>3.00</td>\n",
       "      <td>1960</td>\n",
       "      <td>5000</td>\n",
       "      <td>1.0</td>\n",
       "      <td>0.0</td>\n",
       "      <td>0.0</td>\n",
       "      <td>5</td>\n",
       "      <td>7</td>\n",
       "      <td>1050</td>\n",
       "      <td>1965</td>\n",
       "      <td>0.0</td>\n",
       "      <td>98136</td>\n",
       "      <td>47.5208</td>\n",
       "      <td>-122.393</td>\n",
       "      <td>1360</td>\n",
       "      <td>5000</td>\n",
       "    </tr>\n",
       "    <tr>\n",
       "      <th>4</th>\n",
       "      <td>1954400510</td>\n",
       "      <td>510000.0</td>\n",
       "      <td>3</td>\n",
       "      <td>2.00</td>\n",
       "      <td>1680</td>\n",
       "      <td>8080</td>\n",
       "      <td>1.0</td>\n",
       "      <td>0.0</td>\n",
       "      <td>0.0</td>\n",
       "      <td>3</td>\n",
       "      <td>8</td>\n",
       "      <td>1680</td>\n",
       "      <td>1987</td>\n",
       "      <td>0.0</td>\n",
       "      <td>98074</td>\n",
       "      <td>47.6168</td>\n",
       "      <td>-122.045</td>\n",
       "      <td>1800</td>\n",
       "      <td>7503</td>\n",
       "    </tr>\n",
       "    <tr>\n",
       "      <th>5</th>\n",
       "      <td>7237550310</td>\n",
       "      <td>1230000.0</td>\n",
       "      <td>4</td>\n",
       "      <td>4.50</td>\n",
       "      <td>5420</td>\n",
       "      <td>101930</td>\n",
       "      <td>1.0</td>\n",
       "      <td>0.0</td>\n",
       "      <td>0.0</td>\n",
       "      <td>3</td>\n",
       "      <td>11</td>\n",
       "      <td>3890</td>\n",
       "      <td>2001</td>\n",
       "      <td>0.0</td>\n",
       "      <td>98053</td>\n",
       "      <td>47.6561</td>\n",
       "      <td>-122.005</td>\n",
       "      <td>4760</td>\n",
       "      <td>101930</td>\n",
       "    </tr>\n",
       "    <tr>\n",
       "      <th>6</th>\n",
       "      <td>1321400060</td>\n",
       "      <td>257500.0</td>\n",
       "      <td>3</td>\n",
       "      <td>2.25</td>\n",
       "      <td>1715</td>\n",
       "      <td>6819</td>\n",
       "      <td>2.0</td>\n",
       "      <td>0.0</td>\n",
       "      <td>0.0</td>\n",
       "      <td>3</td>\n",
       "      <td>7</td>\n",
       "      <td>1715</td>\n",
       "      <td>1995</td>\n",
       "      <td>0.0</td>\n",
       "      <td>98003</td>\n",
       "      <td>47.3097</td>\n",
       "      <td>-122.327</td>\n",
       "      <td>2238</td>\n",
       "      <td>6819</td>\n",
       "    </tr>\n",
       "  </tbody>\n",
       "</table>\n",
       "</div>"
      ],
      "text/plain": [
       "           id      price  bedrooms  bathrooms  sqft_living  sqft_lot  floors  \\\n",
       "1  6414100192   538000.0         3       2.25         2570      7242     2.0   \n",
       "3  2487200875   604000.0         4       3.00         1960      5000     1.0   \n",
       "4  1954400510   510000.0         3       2.00         1680      8080     1.0   \n",
       "5  7237550310  1230000.0         4       4.50         5420    101930     1.0   \n",
       "6  1321400060   257500.0         3       2.25         1715      6819     2.0   \n",
       "\n",
       "   waterfront  view  condition  grade  sqft_above  yr_built  yr_renovated  \\\n",
       "1         0.0   0.0          3      7        2170      1951        1991.0   \n",
       "3         0.0   0.0          5      7        1050      1965           0.0   \n",
       "4         0.0   0.0          3      8        1680      1987           0.0   \n",
       "5         0.0   0.0          3     11        3890      2001           0.0   \n",
       "6         0.0   0.0          3      7        1715      1995           0.0   \n",
       "\n",
       "   zipcode      lat     long  sqft_living15  sqft_lot15  \n",
       "1    98125  47.7210 -122.319           1690        7639  \n",
       "3    98136  47.5208 -122.393           1360        5000  \n",
       "4    98074  47.6168 -122.045           1800        7503  \n",
       "5    98053  47.6561 -122.005           4760      101930  \n",
       "6    98003  47.3097 -122.327           2238        6819  "
      ]
     },
     "execution_count": 50,
     "metadata": {},
     "output_type": "execute_result"
    }
   ],
   "source": [
    "df.head()"
   ]
  },
  {
   "cell_type": "markdown",
   "metadata": {},
   "source": [
    "### Exploring the data for further cleaning:\n",
    "I am looking at histograms of all of the columns to see what looks like it is going to be categorical, continuous, and to see if any shapes are different from the normal distribution therefore requiring further attention.  Right away we can see that the price, bedrooms, bathrooms, condition, yr_renovated, ext., all have heavy skews implying that there are some outliers that would prevent us from having normally distributed data.\n"
   ]
  },
  {
   "cell_type": "code",
   "execution_count": 51,
   "metadata": {},
   "outputs": [
    {
     "data": {
      "text/plain": [
       "array([[<AxesSubplot:title={'center':'id'}>,\n",
       "        <AxesSubplot:title={'center':'price'}>,\n",
       "        <AxesSubplot:title={'center':'bedrooms'}>,\n",
       "        <AxesSubplot:title={'center':'bathrooms'}>],\n",
       "       [<AxesSubplot:title={'center':'sqft_living'}>,\n",
       "        <AxesSubplot:title={'center':'sqft_lot'}>,\n",
       "        <AxesSubplot:title={'center':'floors'}>,\n",
       "        <AxesSubplot:title={'center':'waterfront'}>],\n",
       "       [<AxesSubplot:title={'center':'view'}>,\n",
       "        <AxesSubplot:title={'center':'condition'}>,\n",
       "        <AxesSubplot:title={'center':'grade'}>,\n",
       "        <AxesSubplot:title={'center':'sqft_above'}>],\n",
       "       [<AxesSubplot:title={'center':'yr_built'}>,\n",
       "        <AxesSubplot:title={'center':'yr_renovated'}>,\n",
       "        <AxesSubplot:title={'center':'zipcode'}>,\n",
       "        <AxesSubplot:title={'center':'lat'}>],\n",
       "       [<AxesSubplot:title={'center':'long'}>,\n",
       "        <AxesSubplot:title={'center':'sqft_living15'}>,\n",
       "        <AxesSubplot:title={'center':'sqft_lot15'}>, <AxesSubplot:>]],\n",
       "      dtype=object)"
      ]
     },
     "execution_count": 51,
     "metadata": {},
     "output_type": "execute_result"
    },
    {
     "data": {
      "image/png": "[encoded data removed]",
      "text/plain": [
       "<Figure size 792x1152 with 20 Axes>"
      ]
     },
     "metadata": {},
     "output_type": "display_data"
    }
   ],
   "source": [
    "df.hist(figsize = (11,16))"
   ]
  },
  {
   "cell_type": "markdown",
   "metadata": {},
   "source": [
    "#### Separating out by continuous and categorical data.\n",
    "Below is code for separating out the columns to find out what is categorical and what is quatitative.  "
   ]
  },
  {
   "cell_type": "code",
   "execution_count": 52,
   "metadata": {},
   "outputs": [],
   "source": [
    "conts= []\n",
    "cats= []\n",
    "for col in df.columns:\n",
    "    if (df[col].nunique() < 25):\n",
    "        cats.append(col)\n",
    "    else: \n",
    "        conts.append(col)"
   ]
  },
  {
   "cell_type": "code",
   "execution_count": 53,
   "metadata": {},
   "outputs": [],
   "source": [
    "df_conts = df.loc[:,conts]"
   ]
  },
  {
   "cell_type": "code",
   "execution_count": 54,
   "metadata": {},
   "outputs": [
    {
     "data": {
      "text/plain": [
       "array([[<AxesSubplot:title={'center':'id'}>,\n",
       "        <AxesSubplot:title={'center':'price'}>,\n",
       "        <AxesSubplot:title={'center':'bathrooms'}>,\n",
       "        <AxesSubplot:title={'center':'sqft_living'}>],\n",
       "       [<AxesSubplot:title={'center':'sqft_lot'}>,\n",
       "        <AxesSubplot:title={'center':'sqft_above'}>,\n",
       "        <AxesSubplot:title={'center':'yr_built'}>,\n",
       "        <AxesSubplot:title={'center':'yr_renovated'}>],\n",
       "       [<AxesSubplot:title={'center':'zipcode'}>,\n",
       "        <AxesSubplot:title={'center':'lat'}>,\n",
       "        <AxesSubplot:title={'center':'long'}>,\n",
       "        <AxesSubplot:title={'center':'sqft_living15'}>],\n",
       "       [<AxesSubplot:title={'center':'sqft_lot15'}>, <AxesSubplot:>,\n",
       "        <AxesSubplot:>, <AxesSubplot:>]], dtype=object)"
      ]
     },
     "execution_count": 54,
     "metadata": {},
     "output_type": "execute_result"
    },
    {
     "data": {
      "image/png": "[encoded data removed]",
      "text/plain": [
       "<Figure size 648x864 with 16 Axes>"
      ]
     },
     "metadata": {},
     "output_type": "display_data"
    }
   ],
   "source": [
    "df_conts.hist(figsize = (9,12))"
   ]
  },
  {
   "cell_type": "code",
   "execution_count": 55,
   "metadata": {},
   "outputs": [],
   "source": [
    "df_cats = df.loc[:,cats]"
   ]
  },
  {
   "cell_type": "code",
   "execution_count": 56,
   "metadata": {},
   "outputs": [
    {
     "data": {
      "text/plain": [
       "array([[<AxesSubplot:title={'center':'bedrooms'}>,\n",
       "        <AxesSubplot:title={'center':'floors'}>],\n",
       "       [<AxesSubplot:title={'center':'waterfront'}>,\n",
       "        <AxesSubplot:title={'center':'view'}>],\n",
       "       [<AxesSubplot:title={'center':'condition'}>,\n",
       "        <AxesSubplot:title={'center':'grade'}>]], dtype=object)"
      ]
     },
     "execution_count": 56,
     "metadata": {},
     "output_type": "execute_result"
    },
    {
     "data": {
      "image/png": "[encoded data removed]",
      "text/plain": [
       "<Figure size 648x864 with 6 Axes>"
      ]
     },
     "metadata": {},
     "output_type": "display_data"
    }
   ],
   "source": [
    "df_cats.hist(figsize = (9,12))"
   ]
  },
  {
   "cell_type": "code",
   "execution_count": 57,
   "metadata": {},
   "outputs": [
    {
     "data": {
      "text/plain": [
       "['id',\n",
       " 'price',\n",
       " 'bathrooms',\n",
       " 'sqft_living',\n",
       " 'sqft_lot',\n",
       " 'sqft_above',\n",
       " 'yr_built',\n",
       " 'yr_renovated',\n",
       " 'zipcode',\n",
       " 'lat',\n",
       " 'long',\n",
       " 'sqft_living15',\n",
       " 'sqft_lot15']"
      ]
     },
     "execution_count": 57,
     "metadata": {},
     "output_type": "execute_result"
    }
   ],
   "source": [
    "list(df_conts.columns)"
   ]
  },
  {
   "cell_type": "code",
   "execution_count": 58,
   "metadata": {},
   "outputs": [
    {
     "data": {
      "text/plain": [
       "['bedrooms', 'floors', 'waterfront', 'view', 'condition', 'grade']"
      ]
     },
     "execution_count": 58,
     "metadata": {},
     "output_type": "execute_result"
    }
   ],
   "source": [
    "list(df_cats.columns)"
   ]
  },
  {
   "cell_type": "markdown",
   "metadata": {},
   "source": [
    "### Removing outliers\n",
    "I really wanted to use a z score because of the fact that it is more agressive and requires less time picking through individual columns.  This data set was large enough that I was able to use the z score method with a little additional cleaning."
   ]
  },
  {
   "cell_type": "markdown",
   "metadata": {},
   "source": [
    "#### yr_renovated\n",
    "yr_renovated is an important column for this expoloratory analysis. However because most of the homes have not been renovated they are marked with 0 and therefore it is hard to make this appear as continuous data with out splitting up the data frame. It also becomes thrown off when put into a z score. This means for the final model I think I am going to end up dropping this column and exploring the data associated with this column in separate notebooks."
   ]
  },
  {
   "cell_type": "code",
   "execution_count": 59,
   "metadata": {},
   "outputs": [],
   "source": [
    "z_scores = stats.zscore(df)\n",
    "abs_z_scores = np.abs(z_scores)\n",
    "filtered_entries = (abs_z_scores < 3).all(axis=1)\n",
    "df = df[filtered_entries]"
   ]
  },
  {
   "cell_type": "code",
   "execution_count": 60,
   "metadata": {},
   "outputs": [
    {
     "data": {
      "text/plain": [
       "array([[<AxesSubplot:title={'center':'id'}>,\n",
       "        <AxesSubplot:title={'center':'price'}>,\n",
       "        <AxesSubplot:title={'center':'bedrooms'}>,\n",
       "        <AxesSubplot:title={'center':'bathrooms'}>],\n",
       "       [<AxesSubplot:title={'center':'sqft_living'}>,\n",
       "        <AxesSubplot:title={'center':'sqft_lot'}>,\n",
       "        <AxesSubplot:title={'center':'floors'}>,\n",
       "        <AxesSubplot:title={'center':'waterfront'}>],\n",
       "       [<AxesSubplot:title={'center':'view'}>,\n",
       "        <AxesSubplot:title={'center':'condition'}>,\n",
       "        <AxesSubplot:title={'center':'grade'}>,\n",
       "        <AxesSubplot:title={'center':'sqft_above'}>],\n",
       "       [<AxesSubplot:title={'center':'yr_built'}>,\n",
       "        <AxesSubplot:title={'center':'yr_renovated'}>,\n",
       "        <AxesSubplot:title={'center':'zipcode'}>,\n",
       "        <AxesSubplot:title={'center':'lat'}>],\n",
       "       [<AxesSubplot:title={'center':'long'}>,\n",
       "        <AxesSubplot:title={'center':'sqft_living15'}>,\n",
       "        <AxesSubplot:title={'center':'sqft_lot15'}>, <AxesSubplot:>]],\n",
       "      dtype=object)"
      ]
     },
     "execution_count": 60,
     "metadata": {},
     "output_type": "execute_result"
    },
    {
     "data": {
      "image/png": "[encoded data removed]",
      "text/plain": [
       "<Figure size 864x1152 with 20 Axes>"
      ]
     },
     "metadata": {},
     "output_type": "display_data"
    }
   ],
   "source": [
    "\n",
    "df.hist(figsize = (12,16))"
   ]
  },
  {
   "cell_type": "markdown",
   "metadata": {},
   "source": [
    "###  Correlation and Multicollinearity."
   ]
  },
  {
   "cell_type": "code",
   "execution_count": 61,
   "metadata": {},
   "outputs": [
    {
     "data": {
      "text/html": [
       "<div>\n",
       "<style scoped>\n",
       "    .dataframe tbody tr th:only-of-type {\n",
       "        vertical-align: middle;\n",
       "    }\n",
       "\n",
       "    .dataframe tbody tr th {\n",
       "        vertical-align: top;\n",
       "    }\n",
       "\n",
       "    .dataframe thead th {\n",
       "        text-align: right;\n",
       "    }\n",
       "</style>\n",
       "<table border=\"1\" class=\"dataframe\">\n",
       "  <thead>\n",
       "    <tr style=\"text-align: right;\">\n",
       "      <th></th>\n",
       "      <th>id</th>\n",
       "      <th>price</th>\n",
       "      <th>bedrooms</th>\n",
       "      <th>bathrooms</th>\n",
       "      <th>sqft_living</th>\n",
       "      <th>sqft_lot</th>\n",
       "      <th>floors</th>\n",
       "      <th>waterfront</th>\n",
       "      <th>view</th>\n",
       "      <th>condition</th>\n",
       "      <th>grade</th>\n",
       "      <th>sqft_above</th>\n",
       "      <th>yr_built</th>\n",
       "      <th>yr_renovated</th>\n",
       "      <th>zipcode</th>\n",
       "      <th>lat</th>\n",
       "      <th>long</th>\n",
       "      <th>sqft_living15</th>\n",
       "      <th>sqft_lot15</th>\n",
       "    </tr>\n",
       "  </thead>\n",
       "  <tbody>\n",
       "    <tr>\n",
       "      <th>id</th>\n",
       "      <td>1.000000</td>\n",
       "      <td>0.002103</td>\n",
       "      <td>0.010158</td>\n",
       "      <td>0.029897</td>\n",
       "      <td>0.021317</td>\n",
       "      <td>-0.118189</td>\n",
       "      <td>0.032503</td>\n",
       "      <td>NaN</td>\n",
       "      <td>0.019919</td>\n",
       "      <td>-0.029400</td>\n",
       "      <td>0.033633</td>\n",
       "      <td>0.026770</td>\n",
       "      <td>0.038664</td>\n",
       "      <td>NaN</td>\n",
       "      <td>-0.019391</td>\n",
       "      <td>-0.013680</td>\n",
       "      <td>0.050120</td>\n",
       "      <td>0.022516</td>\n",
       "      <td>-0.110257</td>\n",
       "    </tr>\n",
       "    <tr>\n",
       "      <th>price</th>\n",
       "      <td>0.002103</td>\n",
       "      <td>1.000000</td>\n",
       "      <td>0.307282</td>\n",
       "      <td>0.445645</td>\n",
       "      <td>0.627371</td>\n",
       "      <td>0.099006</td>\n",
       "      <td>0.273268</td>\n",
       "      <td>NaN</td>\n",
       "      <td>0.195505</td>\n",
       "      <td>0.050880</td>\n",
       "      <td>0.636901</td>\n",
       "      <td>0.535921</td>\n",
       "      <td>0.063676</td>\n",
       "      <td>NaN</td>\n",
       "      <td>-0.040487</td>\n",
       "      <td>0.429493</td>\n",
       "      <td>0.076473</td>\n",
       "      <td>0.553979</td>\n",
       "      <td>0.091380</td>\n",
       "    </tr>\n",
       "    <tr>\n",
       "      <th>bedrooms</th>\n",
       "      <td>0.010158</td>\n",
       "      <td>0.307282</td>\n",
       "      <td>1.000000</td>\n",
       "      <td>0.491848</td>\n",
       "      <td>0.613787</td>\n",
       "      <td>0.114475</td>\n",
       "      <td>0.158953</td>\n",
       "      <td>NaN</td>\n",
       "      <td>0.048182</td>\n",
       "      <td>0.022281</td>\n",
       "      <td>0.341140</td>\n",
       "      <td>0.485935</td>\n",
       "      <td>0.176054</td>\n",
       "      <td>NaN</td>\n",
       "      <td>-0.172980</td>\n",
       "      <td>-0.039415</td>\n",
       "      <td>0.178512</td>\n",
       "      <td>0.412335</td>\n",
       "      <td>0.117993</td>\n",
       "    </tr>\n",
       "    <tr>\n",
       "      <th>bathrooms</th>\n",
       "      <td>0.029897</td>\n",
       "      <td>0.445645</td>\n",
       "      <td>0.491848</td>\n",
       "      <td>1.000000</td>\n",
       "      <td>0.709140</td>\n",
       "      <td>0.059099</td>\n",
       "      <td>0.514080</td>\n",
       "      <td>NaN</td>\n",
       "      <td>0.066472</td>\n",
       "      <td>-0.145309</td>\n",
       "      <td>0.619367</td>\n",
       "      <td>0.628483</td>\n",
       "      <td>0.582368</td>\n",
       "      <td>NaN</td>\n",
       "      <td>-0.226793</td>\n",
       "      <td>-0.001226</td>\n",
       "      <td>0.284427</td>\n",
       "      <td>0.539058</td>\n",
       "      <td>0.065158</td>\n",
       "    </tr>\n",
       "    <tr>\n",
       "      <th>sqft_living</th>\n",
       "      <td>0.021317</td>\n",
       "      <td>0.627371</td>\n",
       "      <td>0.613787</td>\n",
       "      <td>0.709140</td>\n",
       "      <td>1.000000</td>\n",
       "      <td>0.231026</td>\n",
       "      <td>0.348100</td>\n",
       "      <td>NaN</td>\n",
       "      <td>0.135294</td>\n",
       "      <td>-0.069404</td>\n",
       "      <td>0.714134</td>\n",
       "      <td>0.850045</td>\n",
       "      <td>0.365070</td>\n",
       "      <td>NaN</td>\n",
       "      <td>-0.223851</td>\n",
       "      <td>0.033990</td>\n",
       "      <td>0.312916</td>\n",
       "      <td>0.751380</td>\n",
       "      <td>0.235187</td>\n",
       "    </tr>\n",
       "    <tr>\n",
       "      <th>sqft_lot</th>\n",
       "      <td>-0.118189</td>\n",
       "      <td>0.099006</td>\n",
       "      <td>0.114475</td>\n",
       "      <td>0.059099</td>\n",
       "      <td>0.231026</td>\n",
       "      <td>1.000000</td>\n",
       "      <td>-0.105253</td>\n",
       "      <td>NaN</td>\n",
       "      <td>0.028517</td>\n",
       "      <td>0.046079</td>\n",
       "      <td>0.141615</td>\n",
       "      <td>0.205397</td>\n",
       "      <td>0.017849</td>\n",
       "      <td>NaN</td>\n",
       "      <td>-0.180536</td>\n",
       "      <td>-0.051435</td>\n",
       "      <td>0.271369</td>\n",
       "      <td>0.271223</td>\n",
       "      <td>0.817852</td>\n",
       "    </tr>\n",
       "    <tr>\n",
       "      <th>floors</th>\n",
       "      <td>0.032503</td>\n",
       "      <td>0.273268</td>\n",
       "      <td>0.158953</td>\n",
       "      <td>0.514080</td>\n",
       "      <td>0.348100</td>\n",
       "      <td>-0.105253</td>\n",
       "      <td>1.000000</td>\n",
       "      <td>NaN</td>\n",
       "      <td>-0.022001</td>\n",
       "      <td>-0.286539</td>\n",
       "      <td>0.466357</td>\n",
       "      <td>0.539260</td>\n",
       "      <td>0.531758</td>\n",
       "      <td>NaN</td>\n",
       "      <td>-0.066477</td>\n",
       "      <td>0.044664</td>\n",
       "      <td>0.156409</td>\n",
       "      <td>0.276374</td>\n",
       "      <td>-0.108478</td>\n",
       "    </tr>\n",
       "    <tr>\n",
       "      <th>waterfront</th>\n",
       "      <td>NaN</td>\n",
       "      <td>NaN</td>\n",
       "      <td>NaN</td>\n",
       "      <td>NaN</td>\n",
       "      <td>NaN</td>\n",
       "      <td>NaN</td>\n",
       "      <td>NaN</td>\n",
       "      <td>NaN</td>\n",
       "      <td>NaN</td>\n",
       "      <td>NaN</td>\n",
       "      <td>NaN</td>\n",
       "      <td>NaN</td>\n",
       "      <td>NaN</td>\n",
       "      <td>NaN</td>\n",
       "      <td>NaN</td>\n",
       "      <td>NaN</td>\n",
       "      <td>NaN</td>\n",
       "      <td>NaN</td>\n",
       "      <td>NaN</td>\n",
       "    </tr>\n",
       "    <tr>\n",
       "      <th>view</th>\n",
       "      <td>0.019919</td>\n",
       "      <td>0.195505</td>\n",
       "      <td>0.048182</td>\n",
       "      <td>0.066472</td>\n",
       "      <td>0.135294</td>\n",
       "      <td>0.028517</td>\n",
       "      <td>-0.022001</td>\n",
       "      <td>NaN</td>\n",
       "      <td>1.000000</td>\n",
       "      <td>0.040376</td>\n",
       "      <td>0.113416</td>\n",
       "      <td>0.048599</td>\n",
       "      <td>-0.063688</td>\n",
       "      <td>NaN</td>\n",
       "      <td>0.078877</td>\n",
       "      <td>0.009735</td>\n",
       "      <td>-0.070015</td>\n",
       "      <td>0.151508</td>\n",
       "      <td>0.018097</td>\n",
       "    </tr>\n",
       "    <tr>\n",
       "      <th>condition</th>\n",
       "      <td>-0.029400</td>\n",
       "      <td>0.050880</td>\n",
       "      <td>0.022281</td>\n",
       "      <td>-0.145309</td>\n",
       "      <td>-0.069404</td>\n",
       "      <td>0.046079</td>\n",
       "      <td>-0.286539</td>\n",
       "      <td>NaN</td>\n",
       "      <td>0.040376</td>\n",
       "      <td>1.000000</td>\n",
       "      <td>-0.180546</td>\n",
       "      <td>-0.181787</td>\n",
       "      <td>-0.403117</td>\n",
       "      <td>NaN</td>\n",
       "      <td>-0.001660</td>\n",
       "      <td>-0.015314</td>\n",
       "      <td>-0.101743</td>\n",
       "      <td>-0.119648</td>\n",
       "      <td>0.057708</td>\n",
       "    </tr>\n",
       "    <tr>\n",
       "      <th>grade</th>\n",
       "      <td>0.033633</td>\n",
       "      <td>0.636901</td>\n",
       "      <td>0.341140</td>\n",
       "      <td>0.619367</td>\n",
       "      <td>0.714134</td>\n",
       "      <td>0.141615</td>\n",
       "      <td>0.466357</td>\n",
       "      <td>NaN</td>\n",
       "      <td>0.113416</td>\n",
       "      <td>-0.180546</td>\n",
       "      <td>1.000000</td>\n",
       "      <td>0.717274</td>\n",
       "      <td>0.493606</td>\n",
       "      <td>NaN</td>\n",
       "      <td>-0.200667</td>\n",
       "      <td>0.104685</td>\n",
       "      <td>0.254202</td>\n",
       "      <td>0.680843</td>\n",
       "      <td>0.153650</td>\n",
       "    </tr>\n",
       "    <tr>\n",
       "      <th>sqft_above</th>\n",
       "      <td>0.026770</td>\n",
       "      <td>0.535921</td>\n",
       "      <td>0.485935</td>\n",
       "      <td>0.628483</td>\n",
       "      <td>0.850045</td>\n",
       "      <td>0.205397</td>\n",
       "      <td>0.539260</td>\n",
       "      <td>NaN</td>\n",
       "      <td>0.048599</td>\n",
       "      <td>-0.181787</td>\n",
       "      <td>0.717274</td>\n",
       "      <td>1.000000</td>\n",
       "      <td>0.470118</td>\n",
       "      <td>NaN</td>\n",
       "      <td>-0.284553</td>\n",
       "      <td>-0.019839</td>\n",
       "      <td>0.419108</td>\n",
       "      <td>0.729456</td>\n",
       "      <td>0.215106</td>\n",
       "    </tr>\n",
       "    <tr>\n",
       "      <th>yr_built</th>\n",
       "      <td>0.038664</td>\n",
       "      <td>0.063676</td>\n",
       "      <td>0.176054</td>\n",
       "      <td>0.582368</td>\n",
       "      <td>0.365070</td>\n",
       "      <td>0.017849</td>\n",
       "      <td>0.531758</td>\n",
       "      <td>NaN</td>\n",
       "      <td>-0.063688</td>\n",
       "      <td>-0.403117</td>\n",
       "      <td>0.493606</td>\n",
       "      <td>0.470118</td>\n",
       "      <td>1.000000</td>\n",
       "      <td>NaN</td>\n",
       "      <td>-0.335306</td>\n",
       "      <td>-0.149856</td>\n",
       "      <td>0.425333</td>\n",
       "      <td>0.352500</td>\n",
       "      <td>0.038188</td>\n",
       "    </tr>\n",
       "    <tr>\n",
       "      <th>yr_renovated</th>\n",
       "      <td>NaN</td>\n",
       "      <td>NaN</td>\n",
       "      <td>NaN</td>\n",
       "      <td>NaN</td>\n",
       "      <td>NaN</td>\n",
       "      <td>NaN</td>\n",
       "      <td>NaN</td>\n",
       "      <td>NaN</td>\n",
       "      <td>NaN</td>\n",
       "      <td>NaN</td>\n",
       "      <td>NaN</td>\n",
       "      <td>NaN</td>\n",
       "      <td>NaN</td>\n",
       "      <td>NaN</td>\n",
       "      <td>NaN</td>\n",
       "      <td>NaN</td>\n",
       "      <td>NaN</td>\n",
       "      <td>NaN</td>\n",
       "      <td>NaN</td>\n",
       "    </tr>\n",
       "    <tr>\n",
       "      <th>zipcode</th>\n",
       "      <td>-0.019391</td>\n",
       "      <td>-0.040487</td>\n",
       "      <td>-0.172980</td>\n",
       "      <td>-0.226793</td>\n",
       "      <td>-0.223851</td>\n",
       "      <td>-0.180536</td>\n",
       "      <td>-0.066477</td>\n",
       "      <td>NaN</td>\n",
       "      <td>0.078877</td>\n",
       "      <td>-0.001660</td>\n",
       "      <td>-0.200667</td>\n",
       "      <td>-0.284553</td>\n",
       "      <td>-0.335306</td>\n",
       "      <td>NaN</td>\n",
       "      <td>1.000000</td>\n",
       "      <td>0.279232</td>\n",
       "      <td>-0.572892</td>\n",
       "      <td>-0.306799</td>\n",
       "      <td>-0.199087</td>\n",
       "    </tr>\n",
       "    <tr>\n",
       "      <th>lat</th>\n",
       "      <td>-0.013680</td>\n",
       "      <td>0.429493</td>\n",
       "      <td>-0.039415</td>\n",
       "      <td>-0.001226</td>\n",
       "      <td>0.033990</td>\n",
       "      <td>-0.051435</td>\n",
       "      <td>0.044664</td>\n",
       "      <td>NaN</td>\n",
       "      <td>0.009735</td>\n",
       "      <td>-0.015314</td>\n",
       "      <td>0.104685</td>\n",
       "      <td>-0.019839</td>\n",
       "      <td>-0.149856</td>\n",
       "      <td>NaN</td>\n",
       "      <td>0.279232</td>\n",
       "      <td>1.000000</td>\n",
       "      <td>-0.122116</td>\n",
       "      <td>0.025301</td>\n",
       "      <td>-0.055005</td>\n",
       "    </tr>\n",
       "    <tr>\n",
       "      <th>long</th>\n",
       "      <td>0.050120</td>\n",
       "      <td>0.076473</td>\n",
       "      <td>0.178512</td>\n",
       "      <td>0.284427</td>\n",
       "      <td>0.312916</td>\n",
       "      <td>0.271369</td>\n",
       "      <td>0.156409</td>\n",
       "      <td>NaN</td>\n",
       "      <td>-0.070015</td>\n",
       "      <td>-0.101743</td>\n",
       "      <td>0.254202</td>\n",
       "      <td>0.419108</td>\n",
       "      <td>0.425333</td>\n",
       "      <td>NaN</td>\n",
       "      <td>-0.572892</td>\n",
       "      <td>-0.122116</td>\n",
       "      <td>1.000000</td>\n",
       "      <td>0.414422</td>\n",
       "      <td>0.304833</td>\n",
       "    </tr>\n",
       "    <tr>\n",
       "      <th>sqft_living15</th>\n",
       "      <td>0.022516</td>\n",
       "      <td>0.553979</td>\n",
       "      <td>0.412335</td>\n",
       "      <td>0.539058</td>\n",
       "      <td>0.751380</td>\n",
       "      <td>0.271223</td>\n",
       "      <td>0.276374</td>\n",
       "      <td>NaN</td>\n",
       "      <td>0.151508</td>\n",
       "      <td>-0.119648</td>\n",
       "      <td>0.680843</td>\n",
       "      <td>0.729456</td>\n",
       "      <td>0.352500</td>\n",
       "      <td>NaN</td>\n",
       "      <td>-0.306799</td>\n",
       "      <td>0.025301</td>\n",
       "      <td>0.414422</td>\n",
       "      <td>1.000000</td>\n",
       "      <td>0.297170</td>\n",
       "    </tr>\n",
       "    <tr>\n",
       "      <th>sqft_lot15</th>\n",
       "      <td>-0.110257</td>\n",
       "      <td>0.091380</td>\n",
       "      <td>0.117993</td>\n",
       "      <td>0.065158</td>\n",
       "      <td>0.235187</td>\n",
       "      <td>0.817852</td>\n",
       "      <td>-0.108478</td>\n",
       "      <td>NaN</td>\n",
       "      <td>0.018097</td>\n",
       "      <td>0.057708</td>\n",
       "      <td>0.153650</td>\n",
       "      <td>0.215106</td>\n",
       "      <td>0.038188</td>\n",
       "      <td>NaN</td>\n",
       "      <td>-0.199087</td>\n",
       "      <td>-0.055005</td>\n",
       "      <td>0.304833</td>\n",
       "      <td>0.297170</td>\n",
       "      <td>1.000000</td>\n",
       "    </tr>\n",
       "  </tbody>\n",
       "</table>\n",
       "</div>"
      ],
      "text/plain": [
       "                     id     price  bedrooms  bathrooms  sqft_living  sqft_lot  \\\n",
       "id             1.000000  0.002103  0.010158   0.029897     0.021317 -0.118189   \n",
       "price          0.002103  1.000000  0.307282   0.445645     0.627371  0.099006   \n",
       "bedrooms       0.010158  0.307282  1.000000   0.491848     0.613787  0.114475   \n",
       "bathrooms      0.029897  0.445645  0.491848   1.000000     0.709140  0.059099   \n",
       "sqft_living    0.021317  0.627371  0.613787   0.709140     1.000000  0.231026   \n",
       "sqft_lot      -0.118189  0.099006  0.114475   0.059099     0.231026  1.000000   \n",
       "floors         0.032503  0.273268  0.158953   0.514080     0.348100 -0.105253   \n",
       "waterfront          NaN       NaN       NaN        NaN          NaN       NaN   \n",
       "view           0.019919  0.195505  0.048182   0.066472     0.135294  0.028517   \n",
       "condition     -0.029400  0.050880  0.022281  -0.145309    -0.069404  0.046079   \n",
       "grade          0.033633  0.636901  0.341140   0.619367     0.714134  0.141615   \n",
       "sqft_above     0.026770  0.535921  0.485935   0.628483     0.850045  0.205397   \n",
       "yr_built       0.038664  0.063676  0.176054   0.582368     0.365070  0.017849   \n",
       "yr_renovated        NaN       NaN       NaN        NaN          NaN       NaN   \n",
       "zipcode       -0.019391 -0.040487 -0.172980  -0.226793    -0.223851 -0.180536   \n",
       "lat           -0.013680  0.429493 -0.039415  -0.001226     0.033990 -0.051435   \n",
       "long           0.050120  0.076473  0.178512   0.284427     0.312916  0.271369   \n",
       "sqft_living15  0.022516  0.553979  0.412335   0.539058     0.751380  0.271223   \n",
       "sqft_lot15    -0.110257  0.091380  0.117993   0.065158     0.235187  0.817852   \n",
       "\n",
       "                 floors  waterfront      view  condition     grade  \\\n",
       "id             0.032503         NaN  0.019919  -0.029400  0.033633   \n",
       "price          0.273268         NaN  0.195505   0.050880  0.636901   \n",
       "bedrooms       0.158953         NaN  0.048182   0.022281  0.341140   \n",
       "bathrooms      0.514080         NaN  0.066472  -0.145309  0.619367   \n",
       "sqft_living    0.348100         NaN  0.135294  -0.069404  0.714134   \n",
       "sqft_lot      -0.105253         NaN  0.028517   0.046079  0.141615   \n",
       "floors         1.000000         NaN -0.022001  -0.286539  0.466357   \n",
       "waterfront          NaN         NaN       NaN        NaN       NaN   \n",
       "view          -0.022001         NaN  1.000000   0.040376  0.113416   \n",
       "condition     -0.286539         NaN  0.040376   1.000000 -0.180546   \n",
       "grade          0.466357         NaN  0.113416  -0.180546  1.000000   \n",
       "sqft_above     0.539260         NaN  0.048599  -0.181787  0.717274   \n",
       "yr_built       0.531758         NaN -0.063688  -0.403117  0.493606   \n",
       "yr_renovated        NaN         NaN       NaN        NaN       NaN   \n",
       "zipcode       -0.066477         NaN  0.078877  -0.001660 -0.200667   \n",
       "lat            0.044664         NaN  0.009735  -0.015314  0.104685   \n",
       "long           0.156409         NaN -0.070015  -0.101743  0.254202   \n",
       "sqft_living15  0.276374         NaN  0.151508  -0.119648  0.680843   \n",
       "sqft_lot15    -0.108478         NaN  0.018097   0.057708  0.153650   \n",
       "\n",
       "               sqft_above  yr_built  yr_renovated   zipcode       lat  \\\n",
       "id               0.026770  0.038664           NaN -0.019391 -0.013680   \n",
       "price            0.535921  0.063676           NaN -0.040487  0.429493   \n",
       "bedrooms         0.485935  0.176054           NaN -0.172980 -0.039415   \n",
       "bathrooms        0.628483  0.582368           NaN -0.226793 -0.001226   \n",
       "sqft_living      0.850045  0.365070           NaN -0.223851  0.033990   \n",
       "sqft_lot         0.205397  0.017849           NaN -0.180536 -0.051435   \n",
       "floors           0.539260  0.531758           NaN -0.066477  0.044664   \n",
       "waterfront            NaN       NaN           NaN       NaN       NaN   \n",
       "view             0.048599 -0.063688           NaN  0.078877  0.009735   \n",
       "condition       -0.181787 -0.403117           NaN -0.001660 -0.015314   \n",
       "grade            0.717274  0.493606           NaN -0.200667  0.104685   \n",
       "sqft_above       1.000000  0.470118           NaN -0.284553 -0.019839   \n",
       "yr_built         0.470118  1.000000           NaN -0.335306 -0.149856   \n",
       "yr_renovated          NaN       NaN           NaN       NaN       NaN   \n",
       "zipcode         -0.284553 -0.335306           NaN  1.000000  0.279232   \n",
       "lat             -0.019839 -0.149856           NaN  0.279232  1.000000   \n",
       "long             0.419108  0.425333           NaN -0.572892 -0.122116   \n",
       "sqft_living15    0.729456  0.352500           NaN -0.306799  0.025301   \n",
       "sqft_lot15       0.215106  0.038188           NaN -0.199087 -0.055005   \n",
       "\n",
       "                   long  sqft_living15  sqft_lot15  \n",
       "id             0.050120       0.022516   -0.110257  \n",
       "price          0.076473       0.553979    0.091380  \n",
       "bedrooms       0.178512       0.412335    0.117993  \n",
       "bathrooms      0.284427       0.539058    0.065158  \n",
       "sqft_living    0.312916       0.751380    0.235187  \n",
       "sqft_lot       0.271369       0.271223    0.817852  \n",
       "floors         0.156409       0.276374   -0.108478  \n",
       "waterfront          NaN            NaN         NaN  \n",
       "view          -0.070015       0.151508    0.018097  \n",
       "condition     -0.101743      -0.119648    0.057708  \n",
       "grade          0.254202       0.680843    0.153650  \n",
       "sqft_above     0.419108       0.729456    0.215106  \n",
       "yr_built       0.425333       0.352500    0.038188  \n",
       "yr_renovated        NaN            NaN         NaN  \n",
       "zipcode       -0.572892      -0.306799   -0.199087  \n",
       "lat           -0.122116       0.025301   -0.055005  \n",
       "long           1.000000       0.414422    0.304833  \n",
       "sqft_living15  0.414422       1.000000    0.297170  \n",
       "sqft_lot15     0.304833       0.297170    1.000000  "
      ]
     },
     "execution_count": 61,
     "metadata": {},
     "output_type": "execute_result"
    }
   ],
   "source": [
    "#Checking the correlation between columns.\n",
    "#The Waterfront and yr_renovated columns ended up becoming NaN columns when passed through a correlation matrix.\n",
    "#This is due to the z score outlier removal method.  \n",
    "#It flags these columns with 0 as being outliers and therefore turns them into NaN values.\n",
    "#Since I don't feel I need these columns and I will be exploring renovation stats later I will end up dropping these.\n",
    "df.corr()"
   ]
  },
  {
   "cell_type": "code",
   "execution_count": 62,
   "metadata": {},
   "outputs": [
    {
     "data": {
      "text/plain": [
       "<AxesSubplot:>"
      ]
     },
     "execution_count": 62,
     "metadata": {},
     "output_type": "execute_result"
    },
    {
     "data": {
      "image/png": "[encoded data removed]",
      "text/plain": [
       "<Figure size 576x504 with 2 Axes>"
      ]
     },
     "metadata": {},
     "output_type": "display_data"
    }
   ],
   "source": [
    "#Looking at the correlation between different columns to check for multicollinearity in a heat map.\n",
    "\n",
    "plt.figure(figsize = (8,7))\n",
    "sns.heatmap(df.corr(), cmap = 'RdBu')"
   ]
  },
  {
   "cell_type": "code",
   "execution_count": null,
   "metadata": {},
   "outputs": [],
   "source": []
  },
  {
   "cell_type": "code",
   "execution_count": 63,
   "metadata": {},
   "outputs": [
    {
     "name": "stdout",
     "output_type": "stream",
     "text": [
      "DATA BEFORE\n",
      "----------------------------------------------------------------------------------------------------\n"
     ]
    },
    {
     "name": "stderr",
     "output_type": "stream",
     "text": [
      "/Users/andrewozbun/opt/anaconda3/envs/learn-env/lib/python3.8/site-packages/statsmodels/regression/linear_model.py:1715: RuntimeWarning: divide by zero encountered in double_scalars\n",
      "  return 1 - self.ssr/self.centered_tss\n",
      "/Users/andrewozbun/opt/anaconda3/envs/learn-env/lib/python3.8/site-packages/statsmodels/regression/linear_model.py:1715: RuntimeWarning: invalid value encountered in double_scalars\n",
      "  return 1 - self.ssr/self.centered_tss\n"
     ]
    },
    {
     "data": {
      "text/plain": [
       "const            0.000000\n",
       "id               1.026574\n",
       "price            3.160182\n",
       "bedrooms         1.740007\n",
       "bathrooms        3.123254\n",
       "sqft_living      7.502357\n",
       "sqft_lot         3.070108\n",
       "floors           2.207445\n",
       "waterfront            NaN\n",
       "view             1.097415\n",
       "condition        1.301585\n",
       "grade            3.376855\n",
       "sqft_above       6.109861\n",
       "yr_built         2.748801\n",
       "yr_renovated          NaN\n",
       "zipcode          1.698021\n",
       "lat              1.561801\n",
       "long             1.980572\n",
       "sqft_living15    3.050122\n",
       "sqft_lot15       3.167950\n",
       "dtype: float64"
      ]
     },
     "metadata": {},
     "output_type": "display_data"
    },
    {
     "name": "stdout",
     "output_type": "stream",
     "text": [
      "DATA AFTER\n",
      "----------------------------------------------------------------------------------------------------\n"
     ]
    },
    {
     "data": {
      "text/plain": [
       "const          4.286794e+06\n",
       "price          3.103108e+00\n",
       "bedrooms       1.736432e+00\n",
       "bathrooms      2.968691e+00\n",
       "sqft_living    4.096470e+00\n",
       "floors         1.676381e+00\n",
       "view           1.075744e+00\n",
       "condition      1.278979e+00\n",
       "grade          3.117545e+00\n",
       "yr_built       2.737764e+00\n",
       "zipcode        1.687841e+00\n",
       "lat            1.539215e+00\n",
       "long           1.717929e+00\n",
       "dtype: float64"
      ]
     },
     "metadata": {},
     "output_type": "display_data"
    }
   ],
   "source": [
    "#Variance Inflation Factor\n",
    "#This is some code that I found that checks for the severity of multicollinearity within a regression model.\n",
    "#A variance inflation factor higher than 5 will show signs of multicollinearity and need to be dropped.\n",
    "\n",
    "X1 = sm.tools.add_constant(df)\n",
    "\n",
    "series_before = pd.Series([variance_inflation_factor(X1.values, i ) for i in range(X1.shape[1])], index = X1.columns)\n",
    "\n",
    "print('DATA BEFORE')\n",
    "print('-'*100)\n",
    "display(series_before)\n",
    "\n",
    "\n",
    "#dropping columns i think will cause problems or that I don't feel like I need.\n",
    "df_1_after = df.drop(['id', 'sqft_living15', 'sqft_lot15', 'sqft_lot', 'sqft_above', 'waterfront', \"yr_renovated\"], axis = 1)\n",
    "X2 = sm.tools.add_constant(df_1_after)\n",
    "series_after = pd.Series([variance_inflation_factor(X2.values, i ) for i in range(X2.shape[1])], index = X2.columns)\n",
    "\n",
    "print('DATA AFTER')\n",
    "print('-'*100)\n",
    "display(series_after)"
   ]
  },
  {
   "cell_type": "code",
   "execution_count": 64,
   "metadata": {},
   "outputs": [
    {
     "data": {
      "text/plain": [
       "array([[<AxesSubplot:title={'center':'price'}>,\n",
       "        <AxesSubplot:title={'center':'bedrooms'}>,\n",
       "        <AxesSubplot:title={'center':'bathrooms'}>],\n",
       "       [<AxesSubplot:title={'center':'sqft_living'}>,\n",
       "        <AxesSubplot:title={'center':'floors'}>,\n",
       "        <AxesSubplot:title={'center':'view'}>],\n",
       "       [<AxesSubplot:title={'center':'condition'}>,\n",
       "        <AxesSubplot:title={'center':'grade'}>,\n",
       "        <AxesSubplot:title={'center':'yr_built'}>],\n",
       "       [<AxesSubplot:title={'center':'zipcode'}>,\n",
       "        <AxesSubplot:title={'center':'lat'}>,\n",
       "        <AxesSubplot:title={'center':'long'}>]], dtype=object)"
      ]
     },
     "execution_count": 64,
     "metadata": {},
     "output_type": "execute_result"
    },
    {
     "data": {
      "image/png": "[encoded data removed]",
      "text/plain": [
       "<Figure size 792x576 with 12 Axes>"
      ]
     },
     "metadata": {},
     "output_type": "display_data"
    }
   ],
   "source": [
    "df_1_after.hist()"
   ]
  },
  {
   "cell_type": "markdown",
   "metadata": {},
   "source": [
    "### Testing and training data."
   ]
  },
  {
   "cell_type": "code",
   "execution_count": 65,
   "metadata": {},
   "outputs": [
    {
     "data": {
      "text/plain": [
       "LinearRegression()"
      ]
     },
     "execution_count": 65,
     "metadata": {},
     "output_type": "execute_result"
    }
   ],
   "source": [
    "# Setting out X and y equal to their respective columns.\n",
    "X = df_1_after.drop('price', axis = 1)\n",
    "y = df_1_after[['price']]\n",
    "\n",
    "#Split dataset into training and testing portion\n",
    "X_train, X_test, y_train, y_test = train_test_split(X, y, test_size = 0.20)\n",
    "\n",
    "#create instance of our model\n",
    "regression_model = LinearRegression()\n",
    "#fit the model\n",
    "regression_model.fit(X_train, y_train)"
   ]
  },
  {
   "cell_type": "code",
   "execution_count": 66,
   "metadata": {},
   "outputs": [
    {
     "data": {
      "text/plain": [
       "2745"
      ]
     },
     "execution_count": 66,
     "metadata": {},
     "output_type": "execute_result"
    }
   ],
   "source": [
    "len(X_test)"
   ]
  },
  {
   "cell_type": "code",
   "execution_count": 67,
   "metadata": {},
   "outputs": [],
   "source": [
    "y_hat_train = regression_model.predict(X_train)\n",
    "y_hat_test = regression_model.predict(X_test)"
   ]
  },
  {
   "cell_type": "code",
   "execution_count": 68,
   "metadata": {},
   "outputs": [],
   "source": [
    "mse_train = mean_squared_error(y_train, y_hat_train)\n",
    "mse_test = mean_squared_error(y_test, y_hat_test)"
   ]
  },
  {
   "cell_type": "code",
   "execution_count": 69,
   "metadata": {},
   "outputs": [
    {
     "name": "stdout",
     "output_type": "stream",
     "text": [
      "Train MSE: 17632246190.229126\n",
      "Test MSE: 17556089410.925255\n"
     ]
    }
   ],
   "source": [
    "print('Train MSE:', mse_train)\n",
    "print('Test MSE:', mse_test)"
   ]
  },
  {
   "cell_type": "code",
   "execution_count": 70,
   "metadata": {},
   "outputs": [
    {
     "name": "stdout",
     "output_type": "stream",
     "text": [
      "RMSE Train: 132786.46840031978\n",
      "RMSE Test: 132499.39400210575\n"
     ]
    }
   ],
   "source": [
    "print('RMSE Train:', np.sqrt(mse_train))\n",
    "print('RMSE Test:', np.sqrt(mse_test))"
   ]
  },
  {
   "cell_type": "markdown",
   "metadata": {},
   "source": [
    "### Fitting the model and final exploration to look for abnormalities."
   ]
  },
  {
   "cell_type": "code",
   "execution_count": 71,
   "metadata": {},
   "outputs": [
    {
     "data": {
      "text/plain": [
       "0.6838298737685697"
      ]
     },
     "execution_count": 71,
     "metadata": {},
     "output_type": "execute_result"
    }
   ],
   "source": [
    "r2_score(y_test, y_hat_test)"
   ]
  },
  {
   "cell_type": "code",
   "execution_count": 72,
   "metadata": {},
   "outputs": [
    {
     "name": "stdout",
     "output_type": "stream",
     "text": [
      "The intercept for our model is -2.278e+05\n",
      "----------------------------------------------------------------------------------------------------\n",
      "The Coefficient for bedrooms is -1.7e+04\n",
      "The Coefficient for bathrooms is 2.8e+04\n",
      "The Coefficient for sqft_living is 1.2e+02\n",
      "The Coefficient for floors is 3.2e+04\n",
      "The Coefficient for view is 4.5e+04\n",
      "The Coefficient for condition is 2.7e+04\n",
      "The Coefficient for grade is 9.1e+04\n",
      "The Coefficient for yr_built is -2.1e+03\n",
      "The Coefficient for zipcode is -3.4e+02\n",
      "The Coefficient for lat is 5.7e+05\n",
      "The Coefficient for long is -8.4e+04\n"
     ]
    }
   ],
   "source": [
    "#Exploring the intercept and coefficient\n",
    "\n",
    "intercept = regression_model.intercept_[0]\n",
    "coef = regression_model.coef_[0][0]\n",
    "\n",
    "print('The intercept for our model is {:.4}'.format(intercept))\n",
    "print('-'*100)\n",
    "\n",
    "#Loop through the dictionary and print the coeffcient data\n",
    "#so, for instance, for each unit in bathroom, there is a .00028% rise in price.\n",
    "for coef in zip(X.columns, regression_model.coef_[0]):\n",
    "    print('The Coefficient for {} is {:.2}'.format(coef[0], coef[1]))"
   ]
  },
  {
   "cell_type": "markdown",
   "metadata": {},
   "source": [
    "#### Fitting the final model."
   ]
  },
  {
   "cell_type": "code",
   "execution_count": 73,
   "metadata": {},
   "outputs": [],
   "source": [
    "X_1 = sm.add_constant(X)\n",
    "model = sm.OLS(y, X_1)\n",
    "est = model.fit()"
   ]
  },
  {
   "cell_type": "markdown",
   "metadata": {},
   "source": [
    "#### Homoscedasticity Checks:"
   ]
  },
  {
   "cell_type": "code",
   "execution_count": 77,
   "metadata": {},
   "outputs": [
    {
     "name": "stdout",
     "output_type": "stream",
     "text": [
      "6.346580891035239e-278 1.458394525370844e-292\n"
     ]
    }
   ],
   "source": [
    "#Homoscedasticity checks using breusch pagan test:\n",
    "#My null hypothesis is that all error vaiances are equal.\n",
    "#Since my p value is incredibly low i can reject the null and therefore there is no homoscedasticity.\n",
    "_, pval, _, f_pval = diag.het_breuschpagan(est.resid, est.model.exog)\n",
    "print(pval, f_pval)"
   ]
  },
  {
   "cell_type": "code",
   "execution_count": 75,
   "metadata": {},
   "outputs": [
    {
     "data": {
      "image/png": "[encoded data removed]",
      "text/plain": [
       "<Figure size 792x576 with 1 Axes>"
      ]
     },
     "metadata": {},
     "output_type": "display_data"
    },
    {
     "name": "stdout",
     "output_type": "stream",
     "text": [
      "Mean: -3.044645097600722e-07\n"
     ]
    }
   ],
   "source": [
    "#check for the normality of the residuals\n",
    "sm.qqplot(est.resid, line = 's')\n",
    "pylab.show()\n",
    "\n",
    "#check that the mean of the residuals is approx. 0\n",
    "mean_residuals = sum(est.resid) / len(est.resid)\n",
    "print(\"Mean:\", mean_residuals)"
   ]
  },
  {
   "cell_type": "code",
   "execution_count": 76,
   "metadata": {},
   "outputs": [
    {
     "name": "stdout",
     "output_type": "stream",
     "text": [
      "                            OLS Regression Results                            \n",
      "==============================================================================\n",
      "Dep. Variable:                  price   R-squared:                       0.678\n",
      "Model:                            OLS   Adj. R-squared:                  0.677\n",
      "Method:                 Least Squares   F-statistic:                     2622.\n",
      "Date:                Tue, 19 Jan 2021   Prob (F-statistic):               0.00\n",
      "Time:                        09:39:15   Log-Likelihood:            -1.8136e+05\n",
      "No. Observations:               13724   AIC:                         3.627e+05\n",
      "Df Residuals:                   13712   BIC:                         3.628e+05\n",
      "Df Model:                          11                                         \n",
      "Covariance Type:            nonrobust                                         \n",
      "===============================================================================\n",
      "                  coef    std err          t      P>|t|      [0.025      0.975]\n",
      "-------------------------------------------------------------------------------\n",
      "const        2.058e+06   2.35e+06      0.877      0.380   -2.54e+06    6.66e+06\n",
      "bedrooms    -1.604e+04   1749.711     -9.170      0.000   -1.95e+04   -1.26e+04\n",
      "bathrooms    2.783e+04   2832.578      9.826      0.000    2.23e+04    3.34e+04\n",
      "sqft_living   114.2970      2.911     39.268      0.000     108.592     120.002\n",
      "floors       3.327e+04   2707.182     12.288      0.000     2.8e+04    3.86e+04\n",
      "view         4.604e+04   2902.024     15.865      0.000    4.04e+04    5.17e+04\n",
      "condition    2.622e+04   1955.880     13.407      0.000    2.24e+04    3.01e+04\n",
      "grade        9.213e+04   1777.784     51.822      0.000    8.86e+04    9.56e+04\n",
      "yr_built    -2190.6357     62.035    -35.313      0.000   -2312.233   -2069.038\n",
      "zipcode      -357.9786     27.488    -13.023      0.000    -411.859    -304.098\n",
      "lat          5.778e+05   8737.474     66.133      0.000    5.61e+05    5.95e+05\n",
      "long        -7.614e+04   1.15e+04     -6.601      0.000   -9.87e+04   -5.35e+04\n",
      "==============================================================================\n",
      "Omnibus:                     3694.139   Durbin-Watson:                   1.976\n",
      "Prob(Omnibus):                  0.000   Jarque-Bera (JB):            16629.730\n",
      "Skew:                           1.247   Prob(JB):                         0.00\n",
      "Kurtosis:                       7.781   Cond. No.                     2.03e+08\n",
      "==============================================================================\n",
      "\n",
      "Notes:\n",
      "[1] Standard Errors assume that the covariance matrix of the errors is correctly specified.\n",
      "[2] The condition number is large, 2.03e+08. This might indicate that there are\n",
      "strong multicollinearity or other numerical problems.\n"
     ]
    }
   ],
   "source": [
    "print(est.summary())"
   ]
  },
  {
   "cell_type": "code",
   "execution_count": null,
   "metadata": {},
   "outputs": [],
   "source": []
  }
 ],
 "metadata": {
  "kernelspec": {
   "display_name": "Python 3",
   "language": "python",
   "name": "python3"
  },
  "language_info": {
   "codemirror_mode": {
    "name": "ipython",
    "version": 3
   },
   "file_extension": ".py",
   "mimetype": "text/x-python",
   "name": "python",
   "nbconvert_exporter": "python",
   "pygments_lexer": "ipython3",
   "version": "3.8.5"
  }
 },
 "nbformat": 4,
 "nbformat_minor": 4
}
